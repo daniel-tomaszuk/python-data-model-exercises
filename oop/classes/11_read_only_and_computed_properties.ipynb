{
 "cells": [
  {
   "cell_type": "code",
   "execution_count": 1,
   "id": "85509806-ad2d-41c6-8396-8e6645c4588f",
   "metadata": {},
   "outputs": [],
   "source": [
    "from math import pi\n",
    "\n",
    "class Circle:\n",
    "\n",
    "    def __init__(self, radius: int | float):\n",
    "        self._radius = radius\n",
    "        self._area = None\n",
    "\n",
    "    @property\n",
    "    def radius(self):\n",
    "        return self._radius\n",
    "\n",
    "    @radius.setter\n",
    "    def radius(self, value):\n",
    "        self._radius = value\n",
    "        self._area = None\n",
    "\n",
    "    @property\n",
    "    def area(self) -> int | float:\n",
    "        if self._area:\n",
    "            print(\"returning area from `cache`\")\n",
    "            return self._area\n",
    "\n",
    "        print(\"calculating the area\")\n",
    "        self._area = pi * (self.radius ** 2)  # uses the radius getter\n",
    "        return self._area\n",
    "\n"
   ]
  },
  {
   "cell_type": "code",
   "execution_count": 2,
   "id": "93be20b0-e657-44ae-9033-235c10009bd8",
   "metadata": {},
   "outputs": [
    {
     "name": "stdout",
     "output_type": "stream",
     "text": [
      "calculating the area\n"
     ]
    },
    {
     "data": {
      "text/plain": [
       "3.141592653589793"
      ]
     },
     "execution_count": 2,
     "metadata": {},
     "output_type": "execute_result"
    }
   ],
   "source": [
    "c = Circle(1)\n",
    "c.area"
   ]
  },
  {
   "cell_type": "code",
   "execution_count": 3,
   "id": "976e273e-d2ca-4680-b970-0cde8ae169ba",
   "metadata": {},
   "outputs": [
    {
     "name": "stdout",
     "output_type": "stream",
     "text": [
      "returning area from `cache`\n"
     ]
    },
    {
     "data": {
      "text/plain": [
       "3.141592653589793"
      ]
     },
     "execution_count": 3,
     "metadata": {},
     "output_type": "execute_result"
    }
   ],
   "source": [
    "c.area"
   ]
  },
  {
   "cell_type": "code",
   "execution_count": 4,
   "id": "a31a57e0-127b-4830-ba42-a5c14503b47b",
   "metadata": {},
   "outputs": [
    {
     "data": {
      "text/plain": [
       "{'_radius': 3, '_area': None}"
      ]
     },
     "execution_count": 4,
     "metadata": {},
     "output_type": "execute_result"
    }
   ],
   "source": [
    "c.radius = 3\n",
    "c.__dict__"
   ]
  },
  {
   "cell_type": "code",
   "execution_count": 5,
   "id": "a77d53d1-9069-42cf-98b1-0a974e516131",
   "metadata": {},
   "outputs": [
    {
     "name": "stdout",
     "output_type": "stream",
     "text": [
      "calculating the area\n"
     ]
    },
    {
     "data": {
      "text/plain": [
       "{'_radius': 3, '_area': 28.274333882308138}"
      ]
     },
     "execution_count": 5,
     "metadata": {},
     "output_type": "execute_result"
    }
   ],
   "source": [
    "c.area\n",
    "c.__dict__"
   ]
  },
  {
   "cell_type": "code",
   "execution_count": 17,
   "id": "b5af2730-66d2-4034-9d31-fd8323ed88b4",
   "metadata": {},
   "outputs": [],
   "source": [
    "import urllib\n",
    "from time import perf_counter\n",
    "\n",
    "class WebPage:\n",
    "    def __init__(self, url):\n",
    "        self._url = url\n",
    "\n",
    "        # calculated properties\n",
    "        self._page = None\n",
    "        self._load_time_seconds = None\n",
    "        self._page_size = None\n",
    "\n",
    "    @property\n",
    "    def url(self):\n",
    "        return self._url\n",
    "\n",
    "    @url.setter\n",
    "    def url(self, value):\n",
    "        self._url = value\n",
    "        self._page = None\n",
    "        self._load_time_seconds = None\n",
    "        self._page_size = None\n",
    "\n",
    "    @property\n",
    "    def page(self):\n",
    "        if self._page:\n",
    "            return self._page\n",
    "\n",
    "        self.download_page()\n",
    "        return self._page\n",
    "\n",
    "    @property\n",
    "    def page_size(self):\n",
    "        if self._page_size:\n",
    "            return self._page_size\n",
    "\n",
    "        self.download_page()\n",
    "        return self._page_size\n",
    "\n",
    "    @property\n",
    "    def load_time(self):\n",
    "        if self._load_time_seconds:\n",
    "            return self._load_time_seconds\n",
    "        \n",
    "        self.download_page()\n",
    "        return self._load_time_seconds\n",
    "\n",
    "\n",
    "    def download_page(self):\n",
    "        self._page = None\n",
    "        self._page_size = None\n",
    "        self._load_time_seconds = None\n",
    "\n",
    "        start_time = perf_counter()\n",
    "        with urllib.request.urlopen(self.url) as f:\n",
    "            self._page = f.read()\n",
    "        end_time = perf_counter()\n",
    "\n",
    "        self._page_size = len(self._page)\n",
    "        self._load_time_seconds = end_time - start_time\n"
   ]
  },
  {
   "cell_type": "code",
   "execution_count": 21,
   "id": "2404753d-881e-44f9-b823-e6eabba8dc29",
   "metadata": {},
   "outputs": [
    {
     "name": "stdout",
     "output_type": "stream",
     "text": [
      "https://www.google.com size=20_491 time=0.12 seconds\n",
      "https://www.python.org size=50_968 time=0.18 seconds\n",
      "https://www.yahoo.com size=1_658_719 time=0.66 seconds\n"
     ]
    }
   ],
   "source": [
    "urls = [\"https://www.google.com\", \"https://www.python.org\", \"https://www.yahoo.com\"]\n",
    "for url in urls:\n",
    "    page = WebPage(url)\n",
    "    print(f\"{url} size={format(page.page_size, \"_\")} time={page.load_time:.2f} seconds\")"
   ]
  },
  {
   "cell_type": "code",
   "execution_count": null,
   "id": "575c3dc7-0f70-40fe-84c0-076223479811",
   "metadata": {},
   "outputs": [],
   "source": []
  },
  {
   "cell_type": "code",
   "execution_count": null,
   "id": "fce942d4-2d52-4c4d-9cc0-f91b3d83ad8e",
   "metadata": {},
   "outputs": [],
   "source": []
  }
 ],
 "metadata": {
  "kernelspec": {
   "display_name": "Python 3 (ipykernel)",
   "language": "python",
   "name": "python3"
  },
  "language_info": {
   "codemirror_mode": {
    "name": "ipython",
    "version": 3
   },
   "file_extension": ".py",
   "mimetype": "text/x-python",
   "name": "python",
   "nbconvert_exporter": "python",
   "pygments_lexer": "ipython3",
   "version": "3.12.3"
  }
 },
 "nbformat": 4,
 "nbformat_minor": 5
}
