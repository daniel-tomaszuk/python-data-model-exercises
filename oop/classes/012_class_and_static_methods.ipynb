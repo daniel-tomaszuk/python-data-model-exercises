{
 "cells": [
  {
   "cell_type": "code",
   "execution_count": 1,
   "id": "8dd1c04b-5d5a-4ae7-9a30-ba9514b1e906",
   "metadata": {},
   "outputs": [],
   "source": [
    "class Person:\n",
    "    def hello(arg: str = \"default\"):\n",
    "        print(f\"Hello, with `{arg}`\")\n",
    "\n",
    "\n",
    "class MyClass:\n",
    "\n",
    "    @staticmethod\n",
    "    def hello():\n",
    "        print(\"Hello from MyClass.hello()\")\n",
    "\n",
    "    def instance_hello(self):\n",
    "        print(f\"Hello from MyClass.instance_hello(), with {self}\")\n",
    "\n",
    "    @classmethod\n",
    "    def class_hello(cls):\n",
    "        print(f\"Hello from MyClass.class_hello(), with {cls}\")\n"
   ]
  },
  {
   "cell_type": "code",
   "execution_count": 2,
   "id": "8cb1dd06-085f-457a-b3a5-c4407a75bcf2",
   "metadata": {},
   "outputs": [
    {
     "name": "stdout",
     "output_type": "stream",
     "text": [
      "Hello, with `default`\n"
     ]
    }
   ],
   "source": [
    "Person.hello()"
   ]
  },
  {
   "cell_type": "code",
   "execution_count": 3,
   "id": "2a41352f-119c-451e-a893-127014419b00",
   "metadata": {},
   "outputs": [
    {
     "name": "stdout",
     "output_type": "stream",
     "text": [
      "Hello, with `<__main__.Person object at 0x10ed44440>`\n"
     ]
    },
    {
     "data": {
      "text/plain": [
       "('0x10ed44440', None)"
      ]
     },
     "execution_count": 3,
     "metadata": {},
     "output_type": "execute_result"
    }
   ],
   "source": [
    "p = Person()\n",
    "hex(id(p)), p.hello()\n"
   ]
  },
  {
   "cell_type": "code",
   "execution_count": 4,
   "id": "c1905142-a0f0-4141-9b2f-ebead3cc62bc",
   "metadata": {},
   "outputs": [
    {
     "name": "stdout",
     "output_type": "stream",
     "text": [
      "Hello from MyClass.hello()\n"
     ]
    },
    {
     "data": {
      "text/plain": [
       "(<function __main__.MyClass.hello()>, None)"
      ]
     },
     "execution_count": 4,
     "metadata": {},
     "output_type": "execute_result"
    }
   ],
   "source": [
    "my_class = MyClass()\n",
    "my_class.hello, my_class.hello()"
   ]
  },
  {
   "cell_type": "code",
   "execution_count": 5,
   "id": "dc475f94-c332-4574-bf84-9e8fca1f736c",
   "metadata": {},
   "outputs": [
    {
     "name": "stdout",
     "output_type": "stream",
     "text": [
      "Hello from MyClass.instance_hello(), with <__main__.MyClass object at 0x10f1dbcb0>\n"
     ]
    },
    {
     "data": {
      "text/plain": [
       "(<bound method MyClass.instance_hello of <__main__.MyClass object at 0x10f1dbcb0>>,\n",
       " None)"
      ]
     },
     "execution_count": 5,
     "metadata": {},
     "output_type": "execute_result"
    }
   ],
   "source": [
    "my_class.instance_hello, my_class.instance_hello()"
   ]
  },
  {
   "cell_type": "code",
   "execution_count": 6,
   "id": "a3a7a10b-37ff-4274-9abf-066fa53f080b",
   "metadata": {},
   "outputs": [
    {
     "name": "stdout",
     "output_type": "stream",
     "text": [
      "Hello from MyClass.class_hello(), with <class '__main__.MyClass'>\n"
     ]
    },
    {
     "data": {
      "text/plain": [
       "(<bound method MyClass.class_hello of <class '__main__.MyClass'>>, None)"
      ]
     },
     "execution_count": 6,
     "metadata": {},
     "output_type": "execute_result"
    }
   ],
   "source": [
    "my_class.class_hello, my_class.class_hello()"
   ]
  },
  {
   "cell_type": "code",
   "execution_count": 7,
   "id": "860d2db2-cb0d-489b-ac88-70ea0d502e6a",
   "metadata": {},
   "outputs": [],
   "source": [
    "from datetime import datetime, timezone, timedelta\n",
    "\n",
    "class Timer:\n",
    "    tz = timezone.utc\n",
    "    \n",
    "    @classmethod\n",
    "    def set_tz(cls, offset, name):\n",
    "        cls.tz = timezone(timedelta(hours=offset), name)\n",
    "\n",
    "    @staticmethod\n",
    "    def current_dt_utc():\n",
    "        return datetime.now(timezone.utc)\n",
    "\n",
    "    @classmethod\n",
    "    def current_dt(cls):\n",
    "        return datetime.now(cls.tz)\n"
   ]
  },
  {
   "cell_type": "code",
   "execution_count": 8,
   "id": "548b86fe-7541-41ca-b0ce-5f99d1c72874",
   "metadata": {},
   "outputs": [
    {
     "data": {
      "text/plain": [
       "datetime.timezone(datetime.timedelta(days=-1, seconds=61200), 'MST')"
      ]
     },
     "execution_count": 8,
     "metadata": {},
     "output_type": "execute_result"
    }
   ],
   "source": [
    "Timer.set_tz(-7, \"MST\")\n",
    "Timer.tz\n"
   ]
  },
  {
   "cell_type": "code",
   "execution_count": 9,
   "id": "12aa09d2-f6c1-42f2-bcc8-77bdf3483bb2",
   "metadata": {},
   "outputs": [],
   "source": [
    "t1 = Timer()\n",
    "t2 = Timer()"
   ]
  },
  {
   "cell_type": "code",
   "execution_count": 10,
   "id": "7b89af49-979c-44b2-a97b-3eda928dfd16",
   "metadata": {},
   "outputs": [
    {
     "data": {
      "text/plain": [
       "(datetime.timezone(datetime.timedelta(days=-1, seconds=61200), 'MST'),\n",
       " datetime.timezone(datetime.timedelta(days=-1, seconds=61200), 'MST'))"
      ]
     },
     "execution_count": 10,
     "metadata": {},
     "output_type": "execute_result"
    }
   ],
   "source": [
    "t1.tz, t2.tz"
   ]
  },
  {
   "cell_type": "code",
   "execution_count": 11,
   "id": "ac333337-0fc5-4067-ba9d-1bcdbbb1d5d0",
   "metadata": {},
   "outputs": [
    {
     "data": {
      "text/plain": [
       "(datetime.timezone(datetime.timedelta(seconds=7200), 'CET'),\n",
       " datetime.timezone(datetime.timedelta(seconds=7200), 'CET'))"
      ]
     },
     "execution_count": 11,
     "metadata": {},
     "output_type": "execute_result"
    }
   ],
   "source": [
    "Timer.set_tz(2, \"CET\")\n",
    "t1.tz, t2.tz"
   ]
  },
  {
   "cell_type": "code",
   "execution_count": 12,
   "id": "5c253b73-1bd8-4630-be23-1acbfa54de68",
   "metadata": {},
   "outputs": [
    {
     "data": {
      "text/plain": [
       "(datetime.datetime(2024, 6, 19, 16, 18, 8, 1425, tzinfo=datetime.timezone.utc),\n",
       " datetime.datetime(2024, 6, 19, 16, 18, 8, 1431, tzinfo=datetime.timezone.utc),\n",
       " datetime.datetime(2024, 6, 19, 16, 18, 8, 1432, tzinfo=datetime.timezone.utc))"
      ]
     },
     "execution_count": 12,
     "metadata": {},
     "output_type": "execute_result"
    }
   ],
   "source": [
    "Timer.current_dt_utc(), t1.current_dt_utc(), t2.current_dt_utc()"
   ]
  },
  {
   "cell_type": "code",
   "execution_count": 14,
   "id": "1134b365-ace2-450a-8183-65e9fab53572",
   "metadata": {},
   "outputs": [
    {
     "data": {
      "text/plain": [
       "(datetime.datetime(2024, 6, 19, 18, 18, 34, 401032, tzinfo=datetime.timezone(datetime.timedelta(seconds=7200), 'CET')),\n",
       " datetime.datetime(2024, 6, 19, 18, 18, 34, 401039, tzinfo=datetime.timezone(datetime.timedelta(seconds=7200), 'CET')),\n",
       " datetime.datetime(2024, 6, 19, 18, 18, 34, 401040, tzinfo=datetime.timezone(datetime.timedelta(seconds=7200), 'CET')))"
      ]
     },
     "execution_count": 14,
     "metadata": {},
     "output_type": "execute_result"
    }
   ],
   "source": [
    "Timer.current_dt(), t1.current_dt(), t2.current_dt()"
   ]
  },
  {
   "cell_type": "code",
   "execution_count": 15,
   "id": "11ca1f9f-2946-4451-9869-096e124e4139",
   "metadata": {},
   "outputs": [],
   "source": [
    "class TimerError(Exception):\n",
    "    \"\"\"A custom exception used for Timer class\"\"\""
   ]
  },
  {
   "cell_type": "code",
   "execution_count": 25,
   "id": "2348f199-85cc-4747-b63e-6a8231b83775",
   "metadata": {},
   "outputs": [],
   "source": [
    "class Timer:\n",
    "    tz = timezone.utc\n",
    "    \n",
    "    @classmethod\n",
    "    def set_tz(cls, offset, name):\n",
    "        cls.tz = timezone(timedelta(hours=offset), name)\n",
    "\n",
    "    @staticmethod\n",
    "    def current_dt_utc():\n",
    "        return datetime.now(timezone.utc)\n",
    "\n",
    "    @classmethod\n",
    "    def current_dt(cls):\n",
    "        return datetime.now(cls.tz)\n",
    "\n",
    "    def start(self):\n",
    "        self._time_start = self.current_dt_utc()\n",
    "        self._time_end = None\n",
    "\n",
    "    def stop(self):\n",
    "        if not getattr(self, \"_time_start\", None) or not self._time_start:\n",
    "            raise TimeError(\"Timer must be started before it can be stopped.\")\n",
    "\n",
    "        self._time_end = self.current_dt_utc()\n",
    "\n",
    "    @property\n",
    "    def start_time(self):\n",
    "        \"\"\"Timer `start_time` given in the Timer timezone.\"\"\" \n",
    "        if not getattr(self, \"_time_start\", None) or not self._time_start:\n",
    "            raise TimeError(\"Timer has not been started.\")\n",
    "        return self._time_start.astimezone(self.tz)\n",
    "\n",
    "    @property\n",
    "    def end_time(self):\n",
    "        \"\"\"Timer `end_time` given in the Timer timezone.\"\"\"\n",
    "        if not getattr(self, \"_time_end\", None) or not self._time_end:\n",
    "            raise TimeError(\"Timer has not been stopped.\")\n",
    "        return self._time_end.astimezone(self.tz)\n",
    "\n",
    "    @property\n",
    "    def elapsed(self):\n",
    "        \"\"\"Returns timedelta of how much time elapsed from time start\"\"\"\n",
    "        if not getattr(self, \"_time_start\", None) or not self._time_start:\n",
    "            raise TimeError(\"Timer must be started before an elapsed time can be calculated.\")\n",
    "\n",
    "        if not getattr(self, \"_time_end\", None) or not self._time_end:\n",
    "            # you don't have to stop the Timer to check elapsed time\n",
    "            elapsed_time = self.current_dt_uct() - self._start_time\n",
    "        else:\n",
    "            elapsed_time = self._time_end - self._time_start\n",
    "\n",
    "        return elapsed_time\n"
   ]
  },
  {
   "cell_type": "code",
   "execution_count": 26,
   "id": "a88d626b-dda7-4566-8c09-ed54be7a4994",
   "metadata": {},
   "outputs": [
    {
     "name": "stdout",
     "output_type": "stream",
     "text": [
      "Start time 2024-06-19 16:48:06.743129+00:00\n",
      "End time 2024-06-19 16:48:07.746208+00:00\n",
      "Elapsed 0:00:01.003079\n"
     ]
    }
   ],
   "source": [
    "from time import sleep\n",
    "\n",
    "t1 = Timer()\n",
    "t1.start()\n",
    "sleep(1)\n",
    "t1.stop()\n",
    "print(f\"Start time {t1.start_time}\")\n",
    "print(f\"End time {t1.end_time}\")\n",
    "print(f\"Elapsed {t1.elapsed}\")\n"
   ]
  },
  {
   "cell_type": "code",
   "execution_count": 27,
   "id": "44bd9dfe-aa48-4db0-b655-0449450c0a5b",
   "metadata": {},
   "outputs": [
    {
     "name": "stdout",
     "output_type": "stream",
     "text": [
      "Start time 2024-06-19 16:49:16.058764+00:00\n",
      "End time 2024-06-19 16:49:19.063582+00:00\n",
      "Elapsed 0:00:03.004818\n"
     ]
    }
   ],
   "source": [
    "t2 = Timer()\n",
    "t2.start()\n",
    "sleep(3)\n",
    "t2.stop()\n",
    "print(f\"Start time {t2.start_time}\")\n",
    "print(f\"End time {t2.end_time}\")\n",
    "print(f\"Elapsed {t2.elapsed}\")"
   ]
  },
  {
   "cell_type": "code",
   "execution_count": 28,
   "id": "9401932b-ab32-4148-ad75-0650e75db601",
   "metadata": {},
   "outputs": [],
   "source": [
    "Timer.set_tz(2, \"CET\")"
   ]
  },
  {
   "cell_type": "code",
   "execution_count": 30,
   "id": "23c47770-fe0d-4c72-89a4-fd468b9c9c52",
   "metadata": {},
   "outputs": [
    {
     "name": "stdout",
     "output_type": "stream",
     "text": [
      "Start time 2024-06-19 18:49:16.058764+02:00\n",
      "End time 2024-06-19 18:49:19.063582+02:00\n",
      "Elapsed 0:00:03.004818\n"
     ]
    }
   ],
   "source": [
    "# now it's with offset - every instance uses new timezone\n",
    "print(f\"Start time {t2.start_time}\")\n",
    "print(f\"End time {t2.end_time}\")\n",
    "print(f\"Elapsed {t2.elapsed}\")"
   ]
  },
  {
   "cell_type": "code",
   "execution_count": 31,
   "id": "93c49ae9-be38-4bd2-bb77-19303d2b5084",
   "metadata": {},
   "outputs": [
    {
     "name": "stdout",
     "output_type": "stream",
     "text": [
      "Start time 2024-06-19 18:48:06.743129+02:00\n",
      "End time 2024-06-19 18:48:07.746208+02:00\n",
      "Elapsed 0:00:01.003079\n"
     ]
    }
   ],
   "source": [
    "# now it's with offset - every instance uses new timezone\n",
    "print(f\"Start time {t1.start_time}\")\n",
    "print(f\"End time {t1.end_time}\")\n",
    "print(f\"Elapsed {t1.elapsed}\")"
   ]
  },
  {
   "cell_type": "code",
   "execution_count": null,
   "id": "3f49a62c-85e1-4e4e-b736-9c2672d8cec4",
   "metadata": {},
   "outputs": [],
   "source": []
  }
 ],
 "metadata": {
  "kernelspec": {
   "display_name": "Python 3 (ipykernel)",
   "language": "python",
   "name": "python3"
  },
  "language_info": {
   "codemirror_mode": {
    "name": "ipython",
    "version": 3
   },
   "file_extension": ".py",
   "mimetype": "text/x-python",
   "name": "python",
   "nbconvert_exporter": "python",
   "pygments_lexer": "ipython3",
   "version": "3.12.3"
  }
 },
 "nbformat": 4,
 "nbformat_minor": 5
}
