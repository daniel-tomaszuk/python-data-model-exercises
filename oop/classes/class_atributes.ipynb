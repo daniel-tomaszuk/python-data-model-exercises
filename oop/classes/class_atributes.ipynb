{
 "cells": [
  {
   "cell_type": "code",
   "execution_count": 27,
   "id": "ad53ad1d-be4e-4b7e-87f7-81dc0c6daea7",
   "metadata": {},
   "outputs": [],
   "source": [
    "class Person:\n",
    "    pass\n",
    "\n",
    "\n",
    "class Program:\n",
    "    language = \"Python\"\n",
    "    version = \"3.12\"\n",
    "\n",
    "    def __repr__(self):\n",
    "        return f\"<{self.__class__.__name__} lang={self.language} ver={self.version}> @ {id(self)}\"\n"
   ]
  },
  {
   "cell_type": "code",
   "execution_count": 28,
   "id": "cf64ed84-0b94-4199-8349-2afe304f2e0c",
   "metadata": {},
   "outputs": [
    {
     "data": {
      "text/plain": [
       "type"
      ]
     },
     "execution_count": 28,
     "metadata": {},
     "output_type": "execute_result"
    }
   ],
   "source": [
    "type(Program)"
   ]
  },
  {
   "cell_type": "code",
   "execution_count": 29,
   "id": "32e71cdb-e01b-4ed9-955c-b8503ae7f670",
   "metadata": {},
   "outputs": [
    {
     "data": {
      "text/plain": [
       "'Python'"
      ]
     },
     "execution_count": 29,
     "metadata": {},
     "output_type": "execute_result"
    }
   ],
   "source": [
    "Program.language"
   ]
  },
  {
   "cell_type": "code",
   "execution_count": 30,
   "id": "2ae29f70-19c8-45da-bd14-4e81e5e25aff",
   "metadata": {},
   "outputs": [
    {
     "data": {
      "text/plain": [
       "mappingproxy({'__module__': '__main__',\n",
       "              'language': 'Python',\n",
       "              'version': '3.12',\n",
       "              '__repr__': <function __main__.Program.__repr__(self)>,\n",
       "              '__dict__': <attribute '__dict__' of 'Program' objects>,\n",
       "              '__weakref__': <attribute '__weakref__' of 'Program' objects>,\n",
       "              '__doc__': None})"
      ]
     },
     "execution_count": 30,
     "metadata": {},
     "output_type": "execute_result"
    }
   ],
   "source": [
    "Program.__dict__"
   ]
  },
  {
   "cell_type": "code",
   "execution_count": 31,
   "id": "b8aca10e-d1da-485d-82ad-88809a143f3d",
   "metadata": {},
   "outputs": [
    {
     "data": {
      "text/plain": [
       "<Program lang=Python ver=3.12> @ 4359543056"
      ]
     },
     "execution_count": 31,
     "metadata": {},
     "output_type": "execute_result"
    }
   ],
   "source": [
    "instance_1 = Program()\n",
    "instance_1"
   ]
  },
  {
   "cell_type": "code",
   "execution_count": 32,
   "id": "8232f1db-5c17-4307-9702-2f82c558d882",
   "metadata": {},
   "outputs": [],
   "source": [
    "Program.version = \"3.13\""
   ]
  },
  {
   "cell_type": "code",
   "execution_count": 33,
   "id": "e3e88775-ffbe-4860-b854-0011bc534bd5",
   "metadata": {},
   "outputs": [
    {
     "data": {
      "text/plain": [
       "<Program lang=Python ver=3.13> @ 4359544256"
      ]
     },
     "execution_count": 33,
     "metadata": {},
     "output_type": "execute_result"
    }
   ],
   "source": [
    "instance_2 = Program()\n",
    "instance_2"
   ]
  },
  {
   "cell_type": "code",
   "execution_count": 34,
   "id": "5dc55967-c0fe-41a1-b53e-0e08e0073a6c",
   "metadata": {},
   "outputs": [
    {
     "data": {
      "text/plain": [
       "<Program lang=Python ver=3.13> @ 4359543056"
      ]
     },
     "execution_count": 34,
     "metadata": {},
     "output_type": "execute_result"
    }
   ],
   "source": [
    "instance_1  # version got updated!"
   ]
  },
  {
   "cell_type": "code",
   "execution_count": 35,
   "id": "a37c9697-2ddb-467b-b2f4-edde3c316e78",
   "metadata": {},
   "outputs": [],
   "source": [
    "setattr(Program, \"version\", \"3.11\")"
   ]
  },
  {
   "cell_type": "code",
   "execution_count": 36,
   "id": "cdd3fdba-ceb0-415f-9af4-f1a8bed64775",
   "metadata": {},
   "outputs": [
    {
     "data": {
      "text/plain": [
       "<Program lang=Python ver=3.11> @ 4359543056"
      ]
     },
     "execution_count": 36,
     "metadata": {},
     "output_type": "execute_result"
    }
   ],
   "source": [
    "instance_1"
   ]
  },
  {
   "cell_type": "code",
   "execution_count": 37,
   "id": "efe80fdc-45dc-4beb-986d-457dbee72860",
   "metadata": {},
   "outputs": [
    {
     "data": {
      "text/plain": [
       "<Program lang=Python ver=3.11> @ 4359544256"
      ]
     },
     "execution_count": 37,
     "metadata": {},
     "output_type": "execute_result"
    }
   ],
   "source": [
    "instance_2"
   ]
  },
  {
   "cell_type": "code",
   "execution_count": 38,
   "id": "d10569eb-be59-4067-b2d9-df07963bcee9",
   "metadata": {},
   "outputs": [
    {
     "data": {
      "text/plain": [
       "'No such attr'"
      ]
     },
     "execution_count": 38,
     "metadata": {},
     "output_type": "execute_result"
    }
   ],
   "source": [
    "getattr(Program, \"test\", \"No such attr\")"
   ]
  },
  {
   "cell_type": "code",
   "execution_count": 39,
   "id": "08feccbe-cd1f-4a32-a2ec-6b3630a46dab",
   "metadata": {},
   "outputs": [
    {
     "data": {
      "text/plain": [
       "mappingproxy({'__module__': '__main__',\n",
       "              'language': 'Python',\n",
       "              'version': '3.11',\n",
       "              '__repr__': <function __main__.Program.__repr__(self)>,\n",
       "              '__dict__': <attribute '__dict__' of 'Program' objects>,\n",
       "              '__weakref__': <attribute '__weakref__' of 'Program' objects>,\n",
       "              '__doc__': None,\n",
       "              'y': 'test'})"
      ]
     },
     "execution_count": 39,
     "metadata": {},
     "output_type": "execute_result"
    }
   ],
   "source": [
    "Program.y = \"test\"\n",
    "Program.__dict__"
   ]
  },
  {
   "cell_type": "code",
   "execution_count": 40,
   "id": "118b4322-f404-486a-9eef-f3c9655c6fb6",
   "metadata": {},
   "outputs": [],
   "source": [
    "delattr(Program, \"y\")"
   ]
  },
  {
   "cell_type": "code",
   "execution_count": 41,
   "id": "e91846a9-f61c-4c4f-87ec-8f1a12c72d4d",
   "metadata": {},
   "outputs": [
    {
     "data": {
      "text/plain": [
       "mappingproxy({'__module__': '__main__',\n",
       "              'language': 'Python',\n",
       "              'version': '3.11',\n",
       "              '__repr__': <function __main__.Program.__repr__(self)>,\n",
       "              '__dict__': <attribute '__dict__' of 'Program' objects>,\n",
       "              '__weakref__': <attribute '__weakref__' of 'Program' objects>,\n",
       "              '__doc__': None})"
      ]
     },
     "execution_count": 41,
     "metadata": {},
     "output_type": "execute_result"
    }
   ],
   "source": [
    "Program.__dict__"
   ]
  },
  {
   "cell_type": "code",
   "execution_count": 50,
   "id": "1e866ff0-bf0c-4722-a74f-c1d10389d97d",
   "metadata": {},
   "outputs": [
    {
     "data": {
      "text/plain": [
       "mappingproxy({'__module__': '__main__',\n",
       "              'language': 'Python',\n",
       "              'version': '3.11',\n",
       "              '__repr__': <function __main__.Program.__repr__(self)>,\n",
       "              '__dict__': <attribute '__dict__' of 'Program' objects>,\n",
       "              '__weakref__': <attribute '__weakref__' of 'Program' objects>,\n",
       "              '__doc__': None,\n",
       "              'y': 'added again'})"
      ]
     },
     "execution_count": 50,
     "metadata": {},
     "output_type": "execute_result"
    }
   ],
   "source": [
    "Program.y = \"added again\"\n",
    "Program.__dict__"
   ]
  },
  {
   "cell_type": "code",
   "execution_count": 51,
   "id": "1aeaca8c-fa18-4244-bb89-0f20b8addf23",
   "metadata": {},
   "outputs": [
    {
     "data": {
      "text/plain": [
       "mappingproxy({'__module__': '__main__',\n",
       "              'language': 'Python',\n",
       "              'version': '3.11',\n",
       "              '__repr__': <function __main__.Program.__repr__(self)>,\n",
       "              '__dict__': <attribute '__dict__' of 'Program' objects>,\n",
       "              '__weakref__': <attribute '__weakref__' of 'Program' objects>,\n",
       "              '__doc__': None})"
      ]
     },
     "execution_count": 51,
     "metadata": {},
     "output_type": "execute_result"
    }
   ],
   "source": [
    "del Program.y\n",
    "Program.__dict__"
   ]
  },
  {
   "cell_type": "code",
   "execution_count": 54,
   "id": "475fbae5-0dbf-48ef-a048-070aeeec2d6b",
   "metadata": {},
   "outputs": [
    {
     "ename": "TypeError",
     "evalue": "'mappingproxy' object does not support item assignment",
     "output_type": "error",
     "traceback": [
      "\u001b[0;31m---------------------------------------------------------------------------\u001b[0m",
      "\u001b[0;31mTypeError\u001b[0m                                 Traceback (most recent call last)",
      "Cell \u001b[0;32mIn[54], line 1\u001b[0m\n\u001b[0;32m----> 1\u001b[0m \u001b[43mProgram\u001b[49m\u001b[38;5;241;43m.\u001b[39;49m\u001b[38;5;18;43m__dict__\u001b[39;49m\u001b[43m[\u001b[49m\u001b[38;5;124;43m\"\u001b[39;49m\u001b[38;5;124;43mtest\u001b[39;49m\u001b[38;5;124;43m\"\u001b[39;49m\u001b[43m]\u001b[49m \u001b[38;5;241m=\u001b[39m \u001b[38;5;124m\"\u001b[39m\u001b[38;5;124mtest\u001b[39m\u001b[38;5;124m\"\u001b[39m \u001b[38;5;66;03m# mapping proxy can not be set directly, can be done with setattr\u001b[39;00m\n",
      "\u001b[0;31mTypeError\u001b[0m: 'mappingproxy' object does not support item assignment"
     ]
    }
   ],
   "source": [
    "Program.__dict__[\"test\"] = \"test\" # mapping proxy can not be set directly, can be done with setattr"
   ]
  },
  {
   "cell_type": "code",
   "execution_count": null,
   "id": "e5024b40-4114-4bd0-91fb-4f9964e8124e",
   "metadata": {},
   "outputs": [],
   "source": []
  }
 ],
 "metadata": {
  "kernelspec": {
   "display_name": "Python 3 (ipykernel)",
   "language": "python",
   "name": "python3"
  },
  "language_info": {
   "codemirror_mode": {
    "name": "ipython",
    "version": 3
   },
   "file_extension": ".py",
   "mimetype": "text/x-python",
   "name": "python",
   "nbconvert_exporter": "python",
   "pygments_lexer": "ipython3",
   "version": "3.12.3"
  }
 },
 "nbformat": 4,
 "nbformat_minor": 5
}
