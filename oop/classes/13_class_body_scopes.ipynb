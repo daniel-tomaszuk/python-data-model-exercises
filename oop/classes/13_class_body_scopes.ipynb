{
 "cells": [
  {
   "cell_type": "code",
   "execution_count": 1,
   "id": "6e539c43-484b-4eb2-97e6-c044808af4ea",
   "metadata": {},
   "outputs": [],
   "source": [
    "CONST_VALUE = \"MODULE_SCOPE_CONST_VALUE\"\n",
    "\n",
    "class Scope:\n",
    "    CONST_VALUE = \"CLASS_SCOPE_CONST_VALUE\"\n",
    "\n",
    "    def instance_method(self):\n",
    "        # class functions / methods are using scope that the class is in, not the class internal scope\n",
    "        # they are not nested within the class scope!\n",
    "        # BUG WARNING: if the same symbol is defined on the class level scope, then this scope level symbols one will be used!!\n",
    "        print(f\"Hello from {self}. Const value is: `{CONST_VALUE}`\")\n",
    "\n",
    "        # this will work - access through instance\n",
    "        print(f\"Hello from {self}. Const value is: `{self.CONST_VALUE}`\")\n"
   ]
  },
  {
   "cell_type": "code",
   "execution_count": 2,
   "id": "c47d4fc8-e375-4c7b-89c4-ab41ec5f4398",
   "metadata": {},
   "outputs": [
    {
     "name": "stdout",
     "output_type": "stream",
     "text": [
      "Hello from <__main__.Scope object at 0x106a07080>. Const value is: `MODULE_SCOPE_CONST_VALUE`\n",
      "Hello from <__main__.Scope object at 0x106a07080>. Const value is: `CLASS_SCOPE_CONST_VALUE`\n"
     ]
    }
   ],
   "source": [
    "s1 = Scope()\n",
    "s1.instance_method()"
   ]
  },
  {
   "cell_type": "code",
   "execution_count": 3,
   "id": "3ea41a97-a780-4bb2-bcfd-0dfa16d4fc50",
   "metadata": {},
   "outputs": [],
   "source": [
    "class Language:\n",
    "    MAJOR = 3\n",
    "    MINOR = 12\n",
    "    REVISION = 4\n",
    "    FULL = \"{}.{}.{}\".format(MAJOR, MINOR, REVISION)\n",
    "    "
   ]
  },
  {
   "cell_type": "code",
   "execution_count": 4,
   "id": "cc375a5f-f971-45a8-a7e6-1d195c83e9a5",
   "metadata": {},
   "outputs": [
    {
     "data": {
      "text/plain": [
       "'3.12.4'"
      ]
     },
     "execution_count": 4,
     "metadata": {},
     "output_type": "execute_result"
    }
   ],
   "source": [
    "Language.FULL  # class attrubutes are present inside the class scope and can be used there"
   ]
  },
  {
   "cell_type": "code",
   "execution_count": 5,
   "id": "0d21f653-41ea-4e68-b7e2-77361e683506",
   "metadata": {},
   "outputs": [],
   "source": [
    "class Language:\n",
    "    MAJOR = 3\n",
    "    MINOR = 12\n",
    "    REVISION = 4\n",
    "\n",
    "    @property\n",
    "    def version(self) -> str:\n",
    "        return \"{}.{}.{}\".format(self.MAJOR, self.MINOR, self.REVISION)\n",
    "\n",
    "    @classmethod\n",
    "    def cls_version(cls) -> str:\n",
    "        return \"{}.{}.{}\".format(cls.MAJOR, cls.MINOR, cls.REVISION)\n",
    "\n",
    "    @staticmethod\n",
    "    def static_version():\n",
    "        # this works because class function / method scope is on the module level, so the same level as class\n",
    "        # it's possible to access the class `Language` inside the function\n",
    "        return \"{}.{}.{}\".format(Language.MAJOR, Language.MINOR, Language.REVISION)\n"
   ]
  },
  {
   "cell_type": "code",
   "execution_count": 6,
   "id": "609a31e0-53ae-436f-a5a7-bbf0d64cf8fe",
   "metadata": {},
   "outputs": [
    {
     "data": {
      "text/plain": [
       "('3.12.4', '3.12.4', '3.12.4', '3.12.4')"
      ]
     },
     "execution_count": 6,
     "metadata": {},
     "output_type": "execute_result"
    }
   ],
   "source": [
    "lang = Language()\n",
    "lang.version, Language.cls_version(), lang.cls_version(), lang.static_version()"
   ]
  },
  {
   "cell_type": "code",
   "execution_count": 7,
   "id": "5c453a9a-6a14-4a1d-bb23-fab1938d7c8f",
   "metadata": {},
   "outputs": [
    {
     "data": {
      "text/plain": [
       "'3.12.4'"
      ]
     },
     "execution_count": 7,
     "metadata": {},
     "output_type": "execute_result"
    }
   ],
   "source": [
    "class Language:\n",
    "    MAJOR = 3\n",
    "    MINOR = 12\n",
    "    REVISION = 4\n",
    "\n",
    "def full_version():\n",
    "    return \"{}.{}.{}\".format(Language.MAJOR, Language.MINOR, Language.REVISION)\n",
    "\n",
    "full_version()"
   ]
  },
  {
   "cell_type": "code",
   "execution_count": 8,
   "id": "24144d97-ba17-4309-bbc0-ae44b03add0d",
   "metadata": {},
   "outputs": [],
   "source": [
    "class Language:\n",
    "    MAJOR = 3\n",
    "    MINOR = 12\n",
    "    REVISION = 4\n",
    "\n",
    "    version = full_version\n"
   ]
  },
  {
   "cell_type": "code",
   "execution_count": 9,
   "id": "430f5053-a329-4f79-a083-8c6d08359707",
   "metadata": {},
   "outputs": [
    {
     "data": {
      "text/plain": [
       "True"
      ]
     },
     "execution_count": 9,
     "metadata": {},
     "output_type": "execute_result"
    }
   ],
   "source": [
    "Language.version is full_version  # same object"
   ]
  },
  {
   "cell_type": "code",
   "execution_count": 10,
   "id": "4f8a3441-7613-4d9a-b672-46eb243eeece",
   "metadata": {},
   "outputs": [],
   "source": [
    "MAJOR = 0\n",
    "MINOR = 0\n",
    "REVISION = 1\n",
    "\n",
    "def gen_class() -> \"Language\":\n",
    "    MAJOR = 0\n",
    "    MINOR = 4\n",
    "    REVISION = 2\n",
    "\n",
    "    class Language:\n",
    "        MAJOR = 3\n",
    "        MINOR = 7\n",
    "        REVISION = 4\n",
    "\n",
    "        @classmethod\n",
    "        def version(cls) -> str:\n",
    "            return \"{}.{}.{}\".format(MAJOR, MINOR, REVISION)\n",
    "    \n",
    "    return Language\n"
   ]
  },
  {
   "cell_type": "code",
   "execution_count": 11,
   "id": "3e2763fa-9d94-422a-978a-80e4840b833a",
   "metadata": {},
   "outputs": [],
   "source": [
    "my_class = gen_class()"
   ]
  },
  {
   "cell_type": "code",
   "execution_count": 12,
   "id": "b7cec068-c5ff-475e-9ca0-b38bf83cf1cd",
   "metadata": {},
   "outputs": [
    {
     "data": {
      "text/plain": [
       "'0.4.2'"
      ]
     },
     "execution_count": 12,
     "metadata": {},
     "output_type": "execute_result"
    }
   ],
   "source": [
    "my_class.version()  # uses gen_class function scope symbols"
   ]
  },
  {
   "cell_type": "code",
   "execution_count": 13,
   "id": "f136def9-b54a-4d4f-8c9d-032227e94e8a",
   "metadata": {},
   "outputs": [],
   "source": [
    "MAJOR = 0\n",
    "MINOR = 0\n",
    "REVISION = 1\n",
    "\n",
    "def gen_class() -> \"Language\":\n",
    "    # MAJOR = 0\n",
    "    # MINOR = 4\n",
    "    # REVISION = 2\n",
    "\n",
    "    class Language:\n",
    "        MAJOR = 3\n",
    "        MINOR = 7\n",
    "        REVISION = 4\n",
    "\n",
    "        @classmethod\n",
    "        def version(cls) -> str:\n",
    "            return \"{}.{}.{}\".format(MAJOR, MINOR, REVISION)\n",
    "    \n",
    "    return Language"
   ]
  },
  {
   "cell_type": "code",
   "execution_count": 14,
   "id": "6efd2e50-fd4f-4c44-87a8-7769e729222e",
   "metadata": {},
   "outputs": [],
   "source": [
    "my_class = gen_class()"
   ]
  },
  {
   "cell_type": "code",
   "execution_count": 15,
   "id": "64de116d-2463-474a-a4ed-894721d81653",
   "metadata": {},
   "outputs": [
    {
     "data": {
      "text/plain": [
       "'0.0.1'"
      ]
     },
     "execution_count": 15,
     "metadata": {},
     "output_type": "execute_result"
    }
   ],
   "source": [
    "my_class.version()  # uses symbols from module level"
   ]
  },
  {
   "cell_type": "code",
   "execution_count": 16,
   "id": "944cdff9-cd0b-4fc7-8d93-6f95a36e7ab1",
   "metadata": {},
   "outputs": [
    {
     "data": {
      "text/plain": [
       "ClosureVars(nonlocals={}, globals={'MAJOR': 0, 'MINOR': 0, 'REVISION': 1}, builtins={'format': <built-in function format>}, unbound=set())"
      ]
     },
     "execution_count": 16,
     "metadata": {},
     "output_type": "execute_result"
    }
   ],
   "source": [
    "import inspect\n",
    "inspect.getclosurevars(my_class.version)"
   ]
  },
  {
   "cell_type": "code",
   "execution_count": 17,
   "id": "f240bac2-a97b-4a8d-a46e-47a7a4b4cae8",
   "metadata": {},
   "outputs": [],
   "source": [
    "name = \"Guido\"\n",
    "\n",
    "class MyClass:\n",
    "    name = \"Raymond\"\n",
    "    list_1 = [name] * 2\n",
    "    list_2 = [name for i in range(2)]  # this is a function!! It won't use class internal scope\n"
   ]
  },
  {
   "cell_type": "code",
   "execution_count": 18,
   "id": "324af93e-c8c3-46ed-95aa-65b497f50be8",
   "metadata": {},
   "outputs": [
    {
     "data": {
      "text/plain": [
       "(['Raymond', 'Raymond'], ['Guido', 'Guido'])"
      ]
     },
     "execution_count": 18,
     "metadata": {},
     "output_type": "execute_result"
    }
   ],
   "source": [
    "MyClass.list_1, MyClass.list_2  # !!"
   ]
  },
  {
   "cell_type": "code",
   "execution_count": null,
   "id": "7479c90a-22ce-4062-a88e-520768ca8e0d",
   "metadata": {},
   "outputs": [],
   "source": []
  }
 ],
 "metadata": {
  "kernelspec": {
   "display_name": "Python 3 (ipykernel)",
   "language": "python",
   "name": "python3"
  },
  "language_info": {
   "codemirror_mode": {
    "name": "ipython",
    "version": 3
   },
   "file_extension": ".py",
   "mimetype": "text/x-python",
   "name": "python",
   "nbconvert_exporter": "python",
   "pygments_lexer": "ipython3",
   "version": "3.12.3"
  }
 },
 "nbformat": 4,
 "nbformat_minor": 5
}
