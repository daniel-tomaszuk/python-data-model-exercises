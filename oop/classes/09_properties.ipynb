{
 "cells": [
  {
   "cell_type": "code",
   "execution_count": 1,
   "id": "8ff6240e-96c4-49d4-bf51-44d88509782c",
   "metadata": {},
   "outputs": [],
   "source": [
    "class Person:\n",
    "    def __init__(self, name: str):\n",
    "        self.name = name\n"
   ]
  },
  {
   "cell_type": "code",
   "execution_count": 2,
   "id": "0af06122-cca9-46fc-9038-b89b2838495c",
   "metadata": {},
   "outputs": [
    {
     "data": {
      "text/plain": [
       "{'name': 'Alex'}"
      ]
     },
     "execution_count": 2,
     "metadata": {},
     "output_type": "execute_result"
    }
   ],
   "source": [
    "p1 = Person(\"Alex\")\n",
    "p1.__dict__"
   ]
  },
  {
   "cell_type": "code",
   "execution_count": 3,
   "id": "a51b047c-095e-4e26-8b0f-c5724b6b3253",
   "metadata": {},
   "outputs": [
    {
     "data": {
      "text/plain": [
       "{'name': 100}"
      ]
     },
     "execution_count": 3,
     "metadata": {},
     "output_type": "execute_result"
    }
   ],
   "source": [
    "p1.name = 100  # doesn't make sense\n",
    "p1.__dict__"
   ]
  },
  {
   "cell_type": "code",
   "execution_count": 4,
   "id": "db079d17-d4f4-4b9f-9f57-e92366f8e93f",
   "metadata": {},
   "outputs": [],
   "source": [
    "import typing as t\n",
    "\n",
    "\n",
    "class Person:\n",
    "    def __init__(self, name: str):\n",
    "        self.set_name(name)\n",
    "\n",
    "    def get_name(self) -> str:\n",
    "        return self._name\n",
    "\n",
    "    def set_name(self, value: t.Any) -> None:\n",
    "        if isinstance(value, str) and len(value.strip()) > 0:\n",
    "            self._name = value.strip()\n",
    "        else:\n",
    "            raise ValueError(\"name must be a non-empty string\")\n"
   ]
  },
  {
   "cell_type": "code",
   "execution_count": 5,
   "id": "26f74af2-1b22-4bce-9ae5-9d61be8eb372",
   "metadata": {},
   "outputs": [],
   "source": [
    "p2 = Person(\"Bob\")"
   ]
  },
  {
   "cell_type": "code",
   "execution_count": 6,
   "id": "9863a57e-2afb-4379-becb-6994664d2e7e",
   "metadata": {},
   "outputs": [
    {
     "ename": "ValueError",
     "evalue": "name must be a non-empty string",
     "output_type": "error",
     "traceback": [
      "\u001b[0;31m---------------------------------------------------------------------------\u001b[0m",
      "\u001b[0;31mValueError\u001b[0m                                Traceback (most recent call last)",
      "Cell \u001b[0;32mIn[6], line 1\u001b[0m\n\u001b[0;32m----> 1\u001b[0m \u001b[43mPerson\u001b[49m\u001b[43m(\u001b[49m\u001b[38;5;241;43m100\u001b[39;49m\u001b[43m)\u001b[49m\n",
      "Cell \u001b[0;32mIn[4], line 6\u001b[0m, in \u001b[0;36mPerson.__init__\u001b[0;34m(self, name)\u001b[0m\n\u001b[1;32m      5\u001b[0m \u001b[38;5;28;01mdef\u001b[39;00m \u001b[38;5;21m__init__\u001b[39m(\u001b[38;5;28mself\u001b[39m, name: \u001b[38;5;28mstr\u001b[39m):\n\u001b[0;32m----> 6\u001b[0m     \u001b[38;5;28;43mself\u001b[39;49m\u001b[38;5;241;43m.\u001b[39;49m\u001b[43mset_name\u001b[49m\u001b[43m(\u001b[49m\u001b[43mname\u001b[49m\u001b[43m)\u001b[49m\n",
      "Cell \u001b[0;32mIn[4], line 15\u001b[0m, in \u001b[0;36mPerson.set_name\u001b[0;34m(self, value)\u001b[0m\n\u001b[1;32m     13\u001b[0m     \u001b[38;5;28mself\u001b[39m\u001b[38;5;241m.\u001b[39m_name \u001b[38;5;241m=\u001b[39m value\u001b[38;5;241m.\u001b[39mstrip()\n\u001b[1;32m     14\u001b[0m \u001b[38;5;28;01melse\u001b[39;00m:\n\u001b[0;32m---> 15\u001b[0m     \u001b[38;5;28;01mraise\u001b[39;00m \u001b[38;5;167;01mValueError\u001b[39;00m(\u001b[38;5;124m\"\u001b[39m\u001b[38;5;124mname must be a non-empty string\u001b[39m\u001b[38;5;124m\"\u001b[39m)\n",
      "\u001b[0;31mValueError\u001b[0m: name must be a non-empty string"
     ]
    }
   ],
   "source": [
    "Person(100)"
   ]
  },
  {
   "cell_type": "code",
   "execution_count": 7,
   "id": "bb7bac29-caff-4bb4-9719-dde5471057bc",
   "metadata": {},
   "outputs": [
    {
     "ename": "ValueError",
     "evalue": "name must be a non-empty string",
     "output_type": "error",
     "traceback": [
      "\u001b[0;31m---------------------------------------------------------------------------\u001b[0m",
      "\u001b[0;31mValueError\u001b[0m                                Traceback (most recent call last)",
      "Cell \u001b[0;32mIn[7], line 1\u001b[0m\n\u001b[0;32m----> 1\u001b[0m \u001b[43mPerson\u001b[49m\u001b[43m(\u001b[49m\u001b[38;5;124;43m\"\u001b[39;49m\u001b[38;5;124;43m\"\u001b[39;49m\u001b[43m)\u001b[49m\n",
      "Cell \u001b[0;32mIn[4], line 6\u001b[0m, in \u001b[0;36mPerson.__init__\u001b[0;34m(self, name)\u001b[0m\n\u001b[1;32m      5\u001b[0m \u001b[38;5;28;01mdef\u001b[39;00m \u001b[38;5;21m__init__\u001b[39m(\u001b[38;5;28mself\u001b[39m, name: \u001b[38;5;28mstr\u001b[39m):\n\u001b[0;32m----> 6\u001b[0m     \u001b[38;5;28;43mself\u001b[39;49m\u001b[38;5;241;43m.\u001b[39;49m\u001b[43mset_name\u001b[49m\u001b[43m(\u001b[49m\u001b[43mname\u001b[49m\u001b[43m)\u001b[49m\n",
      "Cell \u001b[0;32mIn[4], line 15\u001b[0m, in \u001b[0;36mPerson.set_name\u001b[0;34m(self, value)\u001b[0m\n\u001b[1;32m     13\u001b[0m     \u001b[38;5;28mself\u001b[39m\u001b[38;5;241m.\u001b[39m_name \u001b[38;5;241m=\u001b[39m value\u001b[38;5;241m.\u001b[39mstrip()\n\u001b[1;32m     14\u001b[0m \u001b[38;5;28;01melse\u001b[39;00m:\n\u001b[0;32m---> 15\u001b[0m     \u001b[38;5;28;01mraise\u001b[39;00m \u001b[38;5;167;01mValueError\u001b[39;00m(\u001b[38;5;124m\"\u001b[39m\u001b[38;5;124mname must be a non-empty string\u001b[39m\u001b[38;5;124m\"\u001b[39m)\n",
      "\u001b[0;31mValueError\u001b[0m: name must be a non-empty string"
     ]
    }
   ],
   "source": [
    "Person(\"\")"
   ]
  },
  {
   "cell_type": "code",
   "execution_count": 8,
   "id": "6df39856-a379-407f-a29a-b5f4d69f6c0f",
   "metadata": {},
   "outputs": [
    {
     "data": {
      "text/plain": [
       "{'_name': 'Bob', 'name': 'test'}"
      ]
     },
     "execution_count": 8,
     "metadata": {},
     "output_type": "execute_result"
    }
   ],
   "source": [
    "p2.name = \"test\"  # `name` is created in the namespace, which is not ideal\n",
    "p2.__dict__"
   ]
  },
  {
   "cell_type": "code",
   "execution_count": 9,
   "id": "7a34879e-8322-43b7-a6fe-c38f14e7120c",
   "metadata": {},
   "outputs": [
    {
     "data": {
      "text/plain": [
       "property"
      ]
     },
     "execution_count": 9,
     "metadata": {},
     "output_type": "execute_result"
    }
   ],
   "source": [
    "type(property())"
   ]
  },
  {
   "cell_type": "code",
   "execution_count": 10,
   "id": "3e28016d-8387-44d4-854f-8919be343cf9",
   "metadata": {},
   "outputs": [],
   "source": [
    "class Person:\n",
    "    def __init__(self, name: str):\n",
    "        self._name = name\n",
    "\n",
    "    def get_name(self) -> str:\n",
    "        print(\"getter called\")\n",
    "        return self._name\n",
    "\n",
    "    def set_name(self, value: t.Any) -> None:\n",
    "        print(\"setter called\")\n",
    "        if isinstance(value, str) and len(value.strip()) > 0:\n",
    "            self._name = value.strip()\n",
    "        else:\n",
    "            raise ValueError(\"name must be a non-empty string\")\n",
    "\n",
    "    def del_name(self) -> None:\n",
    "        print(\"deleter is called\")\n",
    "        del self._name\n",
    "\n",
    "    name = property(fget=get_name, fset=set_name, fdel=del_name, doc=\"My usefull doc string\")  # creates instance of a propery object\n"
   ]
  },
  {
   "cell_type": "code",
   "execution_count": 11,
   "id": "a63b6543-afde-49a5-870b-0e992fff9f26",
   "metadata": {},
   "outputs": [
    {
     "data": {
      "text/plain": [
       "{'_name': 'Alex'}"
      ]
     },
     "execution_count": 11,
     "metadata": {},
     "output_type": "execute_result"
    }
   ],
   "source": [
    "p = Person(\"Alex\")\n",
    "p.__dict__"
   ]
  },
  {
   "cell_type": "code",
   "execution_count": 12,
   "id": "d212cd4f-1093-4c10-b91b-400d3000b839",
   "metadata": {},
   "outputs": [
    {
     "name": "stdout",
     "output_type": "stream",
     "text": [
      "getter called\n"
     ]
    },
    {
     "data": {
      "text/plain": [
       "'Alex'"
      ]
     },
     "execution_count": 12,
     "metadata": {},
     "output_type": "execute_result"
    }
   ],
   "source": [
    "p.name  # it works! `name` is handled as a property "
   ]
  },
  {
   "cell_type": "code",
   "execution_count": 13,
   "id": "451d02f9-c650-42a8-a2ee-2b8445a0c5c2",
   "metadata": {},
   "outputs": [
    {
     "name": "stdout",
     "output_type": "stream",
     "text": [
      "setter called\n",
      "getter called\n"
     ]
    },
    {
     "data": {
      "text/plain": [
       "({'_name': 'Bob'}, 'Bob')"
      ]
     },
     "execution_count": 13,
     "metadata": {},
     "output_type": "execute_result"
    }
   ],
   "source": [
    "p.name = \"Bob\"\n",
    "p.__dict__, p.name"
   ]
  },
  {
   "cell_type": "code",
   "execution_count": 14,
   "id": "2797c972-7a33-420f-9a80-ae16eed0ef65",
   "metadata": {},
   "outputs": [
    {
     "name": "stdout",
     "output_type": "stream",
     "text": [
      "setter called\n"
     ]
    },
    {
     "ename": "ValueError",
     "evalue": "name must be a non-empty string",
     "output_type": "error",
     "traceback": [
      "\u001b[0;31m---------------------------------------------------------------------------\u001b[0m",
      "\u001b[0;31mValueError\u001b[0m                                Traceback (most recent call last)",
      "Cell \u001b[0;32mIn[14], line 1\u001b[0m\n\u001b[0;32m----> 1\u001b[0m \u001b[43mp\u001b[49m\u001b[38;5;241;43m.\u001b[39;49m\u001b[43mname\u001b[49m \u001b[38;5;241m=\u001b[39m \u001b[38;5;241m100\u001b[39m\n",
      "Cell \u001b[0;32mIn[10], line 14\u001b[0m, in \u001b[0;36mPerson.set_name\u001b[0;34m(self, value)\u001b[0m\n\u001b[1;32m     12\u001b[0m     \u001b[38;5;28mself\u001b[39m\u001b[38;5;241m.\u001b[39m_name \u001b[38;5;241m=\u001b[39m value\u001b[38;5;241m.\u001b[39mstrip()\n\u001b[1;32m     13\u001b[0m \u001b[38;5;28;01melse\u001b[39;00m:\n\u001b[0;32m---> 14\u001b[0m     \u001b[38;5;28;01mraise\u001b[39;00m \u001b[38;5;167;01mValueError\u001b[39;00m(\u001b[38;5;124m\"\u001b[39m\u001b[38;5;124mname must be a non-empty string\u001b[39m\u001b[38;5;124m\"\u001b[39m)\n",
      "\u001b[0;31mValueError\u001b[0m: name must be a non-empty string"
     ]
    }
   ],
   "source": [
    "p.name = 100"
   ]
  },
  {
   "cell_type": "code",
   "execution_count": 15,
   "id": "a153cda0-1011-42c6-8b17-f13d7a37a5dd",
   "metadata": {},
   "outputs": [
    {
     "data": {
      "text/plain": [
       "mappingproxy({'__module__': '__main__',\n",
       "              '__init__': <function __main__.Person.__init__(self, name: str)>,\n",
       "              'get_name': <function __main__.Person.get_name(self) -> str>,\n",
       "              'set_name': <function __main__.Person.set_name(self, value: Any) -> None>,\n",
       "              'del_name': <function __main__.Person.del_name(self) -> None>,\n",
       "              'name': <property at 0x1078afe70>,\n",
       "              '__dict__': <attribute '__dict__' of 'Person' objects>,\n",
       "              '__weakref__': <attribute '__weakref__' of 'Person' objects>,\n",
       "              '__doc__': None})"
      ]
     },
     "execution_count": 15,
     "metadata": {},
     "output_type": "execute_result"
    }
   ],
   "source": [
    "Person.__dict__"
   ]
  },
  {
   "cell_type": "code",
   "execution_count": 16,
   "id": "ebc73b22-1410-4ea4-b309-bc92adb0b19c",
   "metadata": {},
   "outputs": [
    {
     "name": "stdout",
     "output_type": "stream",
     "text": [
      "getter called\n"
     ]
    },
    {
     "data": {
      "text/plain": [
       "('Alex', 'Alex')"
      ]
     },
     "execution_count": 16,
     "metadata": {},
     "output_type": "execute_result"
    }
   ],
   "source": [
    "p = Person(\"Alex\")\n",
    "p.__dict__[\"_name\"], p.name"
   ]
  },
  {
   "cell_type": "code",
   "execution_count": 17,
   "id": "a24e98fc-c6ff-4dd7-a3c9-1003d7f34a1d",
   "metadata": {},
   "outputs": [
    {
     "name": "stdout",
     "output_type": "stream",
     "text": [
      "getter called\n"
     ]
    },
    {
     "data": {
      "text/plain": [
       "({'_name': 'Alex', 'name': 'John'}, 'Alex')"
      ]
     },
     "execution_count": 17,
     "metadata": {},
     "output_type": "execute_result"
    }
   ],
   "source": [
    "p.__dict__[\"name\"] = \"John\"\n",
    "p.__dict__, p.name  # `name` is still `Alex` and not `John`"
   ]
  },
  {
   "cell_type": "code",
   "execution_count": 18,
   "id": "ed02251f-eea4-4650-a94c-3816e42625c6",
   "metadata": {},
   "outputs": [
    {
     "name": "stdout",
     "output_type": "stream",
     "text": [
      "deleter is called\n"
     ]
    },
    {
     "data": {
      "text/plain": [
       "{'name': 'John'}"
      ]
     },
     "execution_count": 18,
     "metadata": {},
     "output_type": "execute_result"
    }
   ],
   "source": [
    "del p.name\n",
    "p.__dict__"
   ]
  },
  {
   "cell_type": "code",
   "execution_count": 19,
   "id": "4a3178d5-66e6-45a6-bf31-55b01bdc9d60",
   "metadata": {},
   "outputs": [
    {
     "name": "stdout",
     "output_type": "stream",
     "text": [
      "getter called\n"
     ]
    },
    {
     "ename": "AttributeError",
     "evalue": "'Person' object has no attribute '_name'",
     "output_type": "error",
     "traceback": [
      "\u001b[0;31m---------------------------------------------------------------------------\u001b[0m",
      "\u001b[0;31mAttributeError\u001b[0m                            Traceback (most recent call last)",
      "Cell \u001b[0;32mIn[19], line 1\u001b[0m\n\u001b[0;32m----> 1\u001b[0m \u001b[43mp\u001b[49m\u001b[38;5;241;43m.\u001b[39;49m\u001b[43mname\u001b[49m  \u001b[38;5;66;03m# getter is called, but `_name` is already removed for the instance\u001b[39;00m\n",
      "Cell \u001b[0;32mIn[10], line 7\u001b[0m, in \u001b[0;36mPerson.get_name\u001b[0;34m(self)\u001b[0m\n\u001b[1;32m      5\u001b[0m \u001b[38;5;28;01mdef\u001b[39;00m \u001b[38;5;21mget_name\u001b[39m(\u001b[38;5;28mself\u001b[39m) \u001b[38;5;241m-\u001b[39m\u001b[38;5;241m>\u001b[39m \u001b[38;5;28mstr\u001b[39m:\n\u001b[1;32m      6\u001b[0m     \u001b[38;5;28mprint\u001b[39m(\u001b[38;5;124m\"\u001b[39m\u001b[38;5;124mgetter called\u001b[39m\u001b[38;5;124m\"\u001b[39m)\n\u001b[0;32m----> 7\u001b[0m     \u001b[38;5;28;01mreturn\u001b[39;00m \u001b[38;5;28;43mself\u001b[39;49m\u001b[38;5;241;43m.\u001b[39;49m\u001b[43m_name\u001b[49m\n",
      "\u001b[0;31mAttributeError\u001b[0m: 'Person' object has no attribute '_name'"
     ]
    }
   ],
   "source": [
    "p.name  # getter is called, but `_name` is already removed for the instance"
   ]
  },
  {
   "cell_type": "code",
   "execution_count": 20,
   "id": "f7b1d0aa-8957-40c0-8616-26ff378b8b83",
   "metadata": {},
   "outputs": [
    {
     "name": "stdout",
     "output_type": "stream",
     "text": [
      "setter called\n"
     ]
    },
    {
     "data": {
      "text/plain": [
       "{'name': 'John', '_name': 'Bob'}"
      ]
     },
     "execution_count": 20,
     "metadata": {},
     "output_type": "execute_result"
    }
   ],
   "source": [
    "p.name = \"Bob\"\n",
    "p.__dict__"
   ]
  },
  {
   "cell_type": "code",
   "execution_count": 21,
   "id": "54c5f183-aafb-4d1e-94d9-59c111a28e02",
   "metadata": {},
   "outputs": [
    {
     "name": "stdout",
     "output_type": "stream",
     "text": [
      "Help on class Person in module __main__:\n",
      "\n",
      "class Person(builtins.object)\n",
      " |  Person(name: str)\n",
      " |\n",
      " |  Methods defined here:\n",
      " |\n",
      " |  __init__(self, name: str)\n",
      " |      Initialize self.  See help(type(self)) for accurate signature.\n",
      " |\n",
      " |  del_name(self) -> None\n",
      " |\n",
      " |  get_name(self) -> str\n",
      " |\n",
      " |  set_name(self, value: Any) -> None\n",
      " |\n",
      " |  ----------------------------------------------------------------------\n",
      " |  Data descriptors defined here:\n",
      " |\n",
      " |  __dict__\n",
      " |      dictionary for instance variables\n",
      " |\n",
      " |  __weakref__\n",
      " |      list of weak references to the object\n",
      " |\n",
      " |  name\n",
      " |      My usefull doc string\n",
      "\n"
     ]
    }
   ],
   "source": [
    "help(Person)"
   ]
  },
  {
   "cell_type": "code",
   "execution_count": null,
   "id": "e8fb376e-2a89-41bb-9a66-9c8c6a0facff",
   "metadata": {},
   "outputs": [],
   "source": []
  },
  {
   "cell_type": "code",
   "execution_count": null,
   "id": "a6e36888-7807-4665-a95b-a16c2ebd9ea0",
   "metadata": {},
   "outputs": [],
   "source": []
  }
 ],
 "metadata": {
  "kernelspec": {
   "display_name": "Python 3 (ipykernel)",
   "language": "python",
   "name": "python3"
  },
  "language_info": {
   "codemirror_mode": {
    "name": "ipython",
    "version": 3
   },
   "file_extension": ".py",
   "mimetype": "text/x-python",
   "name": "python",
   "nbconvert_exporter": "python",
   "pygments_lexer": "ipython3",
   "version": "3.12.3"
  }
 },
 "nbformat": 4,
 "nbformat_minor": 5
}
