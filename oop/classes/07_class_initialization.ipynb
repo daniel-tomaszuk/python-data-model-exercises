{
 "cells": [
  {
   "cell_type": "code",
   "execution_count": 1,
   "id": "06584c6f-603b-4034-acd6-8846ba1fb766",
   "metadata": {},
   "outputs": [],
   "source": [
    "class Person:\n",
    "    def __init__(self, name: str = \"\"):\n",
    "        self.name = name\n",
    "        print(f\"__init__ called for {self}\")\n",
    "\n",
    "    def __repr__(self) -> str:\n",
    "        return f\"<{self.__class__.__name__} name={self.name}> @ {hex(id(self))}\"\n",
    "\n",
    "    def manual_init(self, *args):\n",
    "        arg = args[0] or None\n",
    "        if arg:\n",
    "            setattr(self, str(arg), arg)\n",
    "        "
   ]
  },
  {
   "cell_type": "code",
   "execution_count": 2,
   "id": "755a1e47-0af7-4e87-845d-ab7460378bca",
   "metadata": {},
   "outputs": [
    {
     "name": "stdout",
     "output_type": "stream",
     "text": [
      "__init__ called for <Person name=Bob> @ 0x10c011ac0\n"
     ]
    },
    {
     "data": {
      "text/plain": [
       "(<Person name=Bob> @ 0x10c011ac0, {'name': 'Bob'})"
      ]
     },
     "execution_count": 2,
     "metadata": {},
     "output_type": "execute_result"
    }
   ],
   "source": [
    "p = Person(name=\"Bob\")\n",
    "p, p.__dict__"
   ]
  },
  {
   "cell_type": "code",
   "execution_count": 3,
   "id": "6c33de06-832a-4dcb-bc6a-80942c47772c",
   "metadata": {},
   "outputs": [
    {
     "name": "stdout",
     "output_type": "stream",
     "text": [
      "__init__ called for <Person name=> @ 0x10c02cd40\n"
     ]
    },
    {
     "data": {
      "text/plain": [
       "{'name': ''}"
      ]
     },
     "execution_count": 3,
     "metadata": {},
     "output_type": "execute_result"
    }
   ],
   "source": [
    "p2 = Person()\n",
    "p2.__dict__"
   ]
  },
  {
   "cell_type": "code",
   "execution_count": 4,
   "id": "a274f9fc-5cab-478c-9286-cab594caca03",
   "metadata": {},
   "outputs": [
    {
     "data": {
      "text/plain": [
       "{'name': '', 'test': 'test'}"
      ]
     },
     "execution_count": 4,
     "metadata": {},
     "output_type": "execute_result"
    }
   ],
   "source": [
    "p2.manual_init(\"test\")\n",
    "p2.__dict__"
   ]
  },
  {
   "cell_type": "code",
   "execution_count": null,
   "id": "7fea434f-cbf9-4160-908c-65008969ca5e",
   "metadata": {},
   "outputs": [],
   "source": []
  }
 ],
 "metadata": {
  "kernelspec": {
   "display_name": "Python 3 (ipykernel)",
   "language": "python",
   "name": "python3"
  },
  "language_info": {
   "codemirror_mode": {
    "name": "ipython",
    "version": 3
   },
   "file_extension": ".py",
   "mimetype": "text/x-python",
   "name": "python",
   "nbconvert_exporter": "python",
   "pygments_lexer": "ipython3",
   "version": "3.12.3"
  }
 },
 "nbformat": 4,
 "nbformat_minor": 5
}
