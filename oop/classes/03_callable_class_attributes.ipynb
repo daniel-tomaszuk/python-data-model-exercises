{
 "cells": [
  {
   "cell_type": "code",
   "execution_count": 2,
   "id": "13440682-243a-4095-8f57-d4d79fcf2676",
   "metadata": {},
   "outputs": [],
   "source": [
    "class Program:\n",
    "    lang = \"Python\"\n",
    "\n",
    "    def say_hello():\n",
    "        print(f\"Hi from {Program.lang}\")\n"
   ]
  },
  {
   "cell_type": "code",
   "execution_count": 3,
   "id": "efb097ba-49b1-44ba-b4ad-9504e6ccf028",
   "metadata": {},
   "outputs": [
    {
     "data": {
      "text/plain": [
       "mappingproxy({'__module__': '__main__',\n",
       "              'lang': 'Python',\n",
       "              'say_hello': <function __main__.Program.say_hello()>,\n",
       "              '__dict__': <attribute '__dict__' of 'Program' objects>,\n",
       "              '__weakref__': <attribute '__weakref__' of 'Program' objects>,\n",
       "              '__doc__': None})"
      ]
     },
     "execution_count": 3,
     "metadata": {},
     "output_type": "execute_result"
    }
   ],
   "source": [
    "Program.__dict__"
   ]
  },
  {
   "cell_type": "code",
   "execution_count": 4,
   "id": "e192965f-b658-4196-8304-6af26c3e1844",
   "metadata": {},
   "outputs": [
    {
     "name": "stdout",
     "output_type": "stream",
     "text": [
      "Hi from Python\n"
     ]
    }
   ],
   "source": [
    "Program.say_hello()"
   ]
  },
  {
   "cell_type": "code",
   "execution_count": 7,
   "id": "3bdddf91-3667-4f8c-af26-c34c3c1a7c86",
   "metadata": {},
   "outputs": [
    {
     "name": "stdout",
     "output_type": "stream",
     "text": [
      "Hi from Python\n"
     ]
    }
   ],
   "source": [
    "f = Program.say_hello\n",
    "f()"
   ]
  },
  {
   "cell_type": "code",
   "execution_count": 8,
   "id": "a49af656-ae5b-4f15-bba6-eaefae51dcc5",
   "metadata": {},
   "outputs": [
    {
     "name": "stdout",
     "output_type": "stream",
     "text": [
      "Hi from Python\n"
     ]
    }
   ],
   "source": [
    "Program.__dict__[\"say_hello\"]()"
   ]
  },
  {
   "cell_type": "code",
   "execution_count": 9,
   "id": "bb304b57-ff94-4f2b-9817-60e9d3161894",
   "metadata": {},
   "outputs": [
    {
     "data": {
      "text/plain": [
       "<function __main__.Program.say_hello()>"
      ]
     },
     "execution_count": 9,
     "metadata": {},
     "output_type": "execute_result"
    }
   ],
   "source": [
    "getattr(Program, \"say_hello\")"
   ]
  },
  {
   "cell_type": "code",
   "execution_count": null,
   "id": "c1c304fc-cbb9-4d19-a2d6-4404576aa1f2",
   "metadata": {},
   "outputs": [],
   "source": []
  }
 ],
 "metadata": {
  "kernelspec": {
   "display_name": "Python 3 (ipykernel)",
   "language": "python",
   "name": "python3"
  },
  "language_info": {
   "codemirror_mode": {
    "name": "ipython",
    "version": 3
   },
   "file_extension": ".py",
   "mimetype": "text/x-python",
   "name": "python",
   "nbconvert_exporter": "python",
   "pygments_lexer": "ipython3",
   "version": "3.12.3"
  }
 },
 "nbformat": 4,
 "nbformat_minor": 5
}
