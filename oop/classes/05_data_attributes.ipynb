{
 "cells": [
  {
   "cell_type": "code",
   "execution_count": 1,
   "id": "337e8ae0-33fa-4f41-abf4-9213cf29033f",
   "metadata": {},
   "outputs": [],
   "source": [
    "class BankAccount:\n",
    "    apr = 1.2\n",
    "    "
   ]
  },
  {
   "cell_type": "code",
   "execution_count": 2,
   "id": "bcd093a4-66b1-4957-a890-e120515f7aa3",
   "metadata": {},
   "outputs": [
    {
     "data": {
      "text/plain": [
       "mappingproxy({'__module__': '__main__',\n",
       "              'apr': 1.2,\n",
       "              '__dict__': <attribute '__dict__' of 'BankAccount' objects>,\n",
       "              '__weakref__': <attribute '__weakref__' of 'BankAccount' objects>,\n",
       "              '__doc__': None})"
      ]
     },
     "execution_count": 2,
     "metadata": {},
     "output_type": "execute_result"
    }
   ],
   "source": [
    "BankAccount.__dict__"
   ]
  },
  {
   "cell_type": "code",
   "execution_count": 4,
   "id": "96cd99b5-fdd1-4066-bfee-22bd274aba10",
   "metadata": {},
   "outputs": [],
   "source": [
    "acc_1 = BankAccount()\n",
    "acc_2 = BankAccount()"
   ]
  },
  {
   "cell_type": "code",
   "execution_count": 5,
   "id": "987a3bf5-ae64-444e-a591-bd179cb08f63",
   "metadata": {},
   "outputs": [
    {
     "data": {
      "text/plain": [
       "({}, {})"
      ]
     },
     "execution_count": 5,
     "metadata": {},
     "output_type": "execute_result"
    }
   ],
   "source": [
    "acc_1.__dict__, acc_2.__dict__"
   ]
  },
  {
   "cell_type": "code",
   "execution_count": 8,
   "id": "42ff3dba-8008-49b1-909e-264c67a39911",
   "metadata": {},
   "outputs": [
    {
     "data": {
      "text/plain": [
       "(1.2, 1.2)"
      ]
     },
     "execution_count": 8,
     "metadata": {},
     "output_type": "execute_result"
    }
   ],
   "source": [
    "acc_1.apr, acc_2.apr"
   ]
  },
  {
   "cell_type": "code",
   "execution_count": 12,
   "id": "288c32b5-7e85-46e2-b12f-0d585b3fbb85",
   "metadata": {},
   "outputs": [
    {
     "data": {
      "text/plain": [
       "('savings', 'savings')"
      ]
     },
     "execution_count": 12,
     "metadata": {},
     "output_type": "execute_result"
    }
   ],
   "source": [
    "BankAccount.account_type = \"savings\"\n",
    "acc_1.account_type, acc_2.account_type  # instances check parent namespace if key is not in their namespace"
   ]
  },
  {
   "cell_type": "code",
   "execution_count": 14,
   "id": "cc1126ff-a674-4624-9b9c-6f8616d694e5",
   "metadata": {},
   "outputs": [
    {
     "data": {
      "text/plain": [
       "({'apr': 0}, {})"
      ]
     },
     "execution_count": 14,
     "metadata": {},
     "output_type": "execute_result"
    }
   ],
   "source": [
    "acc_1.apr = 0\n",
    "acc_1.__dict__, acc_2.__dict__"
   ]
  },
  {
   "cell_type": "code",
   "execution_count": 15,
   "id": "c3c293ee-3768-438e-96e8-1bdb32a50b04",
   "metadata": {},
   "outputs": [
    {
     "data": {
      "text/plain": [
       "(0, 1.2)"
      ]
     },
     "execution_count": 15,
     "metadata": {},
     "output_type": "execute_result"
    }
   ],
   "source": [
    "acc_1.apr, acc_2.apr"
   ]
  },
  {
   "cell_type": "code",
   "execution_count": 17,
   "id": "9bc759ba-8a81-426c-b3ba-9576f6780433",
   "metadata": {},
   "outputs": [
    {
     "data": {
      "text/plain": [
       "(mappingproxy, dict)"
      ]
     },
     "execution_count": 17,
     "metadata": {},
     "output_type": "execute_result"
    }
   ],
   "source": [
    "type(BankAccount.__dict__), type(acc_1.__dict__)  # dict can be mutated directly, mappingproxy only with setattr"
   ]
  },
  {
   "cell_type": "code",
   "execution_count": 18,
   "id": "d65a88bc-7b22-4878-83f5-3350cb939125",
   "metadata": {},
   "outputs": [
    {
     "data": {
      "text/plain": [
       "{'apr': 0, 'test': 'test'}"
      ]
     },
     "execution_count": 18,
     "metadata": {},
     "output_type": "execute_result"
    }
   ],
   "source": [
    "acc_1.__dict__[\"test\"] = \"test\"\n",
    "acc_1.__dict__"
   ]
  },
  {
   "cell_type": "code",
   "execution_count": null,
   "id": "5c0b0bae-6290-4ddb-8977-9b222cf35e53",
   "metadata": {},
   "outputs": [],
   "source": []
  }
 ],
 "metadata": {
  "kernelspec": {
   "display_name": "Python 3 (ipykernel)",
   "language": "python",
   "name": "python3"
  },
  "language_info": {
   "codemirror_mode": {
    "name": "ipython",
    "version": 3
   },
   "file_extension": ".py",
   "mimetype": "text/x-python",
   "name": "python",
   "nbconvert_exporter": "python",
   "pygments_lexer": "ipython3",
   "version": "3.12.3"
  }
 },
 "nbformat": 4,
 "nbformat_minor": 5
}
