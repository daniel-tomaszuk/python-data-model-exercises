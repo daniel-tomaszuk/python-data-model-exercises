{
 "cells": [
  {
   "cell_type": "code",
   "execution_count": 1,
   "id": "6a2f3005-47a1-49fe-bc2c-1970a1949662",
   "metadata": {},
   "outputs": [],
   "source": [
    "class Person:\n",
    "    pass\n"
   ]
  },
  {
   "cell_type": "code",
   "execution_count": 2,
   "id": "1d4b5902-4048-485f-8653-fc6dd9b4d29a",
   "metadata": {},
   "outputs": [],
   "source": [
    "p1 = Person()\n",
    "p2 = Person()\n",
    "\n",
    "p1.name = \"Alex\""
   ]
  },
  {
   "cell_type": "code",
   "execution_count": 3,
   "id": "b29ef551-ed9e-4cef-883c-e12791309eba",
   "metadata": {},
   "outputs": [
    {
     "data": {
      "text/plain": [
       "({'name': 'Alex'}, {})"
      ]
     },
     "execution_count": 3,
     "metadata": {},
     "output_type": "execute_result"
    }
   ],
   "source": [
    "p1.__dict__, p2.__dict__"
   ]
  },
  {
   "cell_type": "code",
   "execution_count": 4,
   "id": "ad9371f7-6648-46c0-83d7-0067fc5a15a0",
   "metadata": {},
   "outputs": [],
   "source": [
    "p1.say_hello = lambda: \"Hello\""
   ]
  },
  {
   "cell_type": "code",
   "execution_count": 5,
   "id": "9419f8a8-eb8a-4cf4-9a03-6bed2a5739bc",
   "metadata": {},
   "outputs": [
    {
     "data": {
      "text/plain": [
       "({'name': 'Alex', 'say_hello': <function __main__.<lambda>()>}, 'Hello')"
      ]
     },
     "execution_count": 5,
     "metadata": {},
     "output_type": "execute_result"
    }
   ],
   "source": [
    "p1.__dict__, p1.say_hello()  # say_hello is not a method! it's just a function not bounded to any object"
   ]
  },
  {
   "cell_type": "code",
   "execution_count": 6,
   "id": "6692ed1f-904f-49e9-aa0c-bd3f893db91b",
   "metadata": {},
   "outputs": [],
   "source": [
    "# is it possible to create a method bounded to a specific instance only? -> YES!\n",
    "from types import MethodType\n",
    "\n",
    "class Person:\n",
    "    def __init__(self, name: str):\n",
    "        self.name = name"
   ]
  },
  {
   "cell_type": "code",
   "execution_count": 7,
   "id": "ef977826-aa1e-4bfc-a958-7e332a7319dc",
   "metadata": {},
   "outputs": [
    {
     "data": {
      "text/plain": [
       "({'name': 'Eric'}, {'name': 'Alex'})"
      ]
     },
     "execution_count": 7,
     "metadata": {},
     "output_type": "execute_result"
    }
   ],
   "source": [
    "p1 = Person(\"Eric\")\n",
    "p2 = Person(\"Alex\")\n",
    "p1.__dict__, p2.__dict__"
   ]
  },
  {
   "cell_type": "code",
   "execution_count": 8,
   "id": "fdc6d687-abb1-40dd-bc3e-887d7a9a2c4e",
   "metadata": {},
   "outputs": [],
   "source": [
    "def say_hello(self):\n",
    "    return f\"{self.name} says hello!\""
   ]
  },
  {
   "cell_type": "code",
   "execution_count": 9,
   "id": "94f11e80-66b4-4457-8f7d-ec31e5b82ee2",
   "metadata": {},
   "outputs": [
    {
     "data": {
      "text/plain": [
       "'Alex says hello!'"
      ]
     },
     "execution_count": 9,
     "metadata": {},
     "output_type": "execute_result"
    }
   ],
   "source": [
    "say_hello(p2)  # it's not a method, just a function call"
   ]
  },
  {
   "cell_type": "code",
   "execution_count": 10,
   "id": "79920597-5110-4fde-b491-d87532f334fe",
   "metadata": {},
   "outputs": [
    {
     "data": {
      "text/plain": [
       "({'name': 'Eric',\n",
       "  'say_hello': <bound method say_hello of <__main__.Person object at 0x10d744950>>},\n",
       " 'Eric says hello!')"
      ]
     },
     "execution_count": 10,
     "metadata": {},
     "output_type": "execute_result"
    }
   ],
   "source": [
    "p1.say_hello = MethodType(say_hello, p1)  # this creates a method! (function bound to an object)\n",
    "p1.__dict__, p1.say_hello()"
   ]
  },
  {
   "cell_type": "code",
   "execution_count": 11,
   "id": "3f288c4d-6f27-4287-a23f-6dfa255b4e51",
   "metadata": {},
   "outputs": [],
   "source": [
    "from types import MethodType\n",
    "\n",
    "class Person:\n",
    "    def __init__(self, name: str):\n",
    "        self.name = name\n",
    "\n",
    "    def register_do_work(self, function):\n",
    "        self._do_work = MethodType(function, self)  # creates instance method, each function can be different per instance\n",
    "\n",
    "    def do_work(self):\n",
    "        do_work_method = getattr(self, \"_do_work\", None)\n",
    "        if do_work_method:\n",
    "            return do_work_method()\n",
    "        raise AttributeError(\"You must first register a `do_work` method\")"
   ]
  },
  {
   "cell_type": "code",
   "execution_count": 12,
   "id": "2bcc0bc6-8c89-4a4a-b6dc-a9f2280da65a",
   "metadata": {},
   "outputs": [
    {
     "ename": "AttributeError",
     "evalue": "You must first register a `do_work` method",
     "output_type": "error",
     "traceback": [
      "\u001b[0;31m---------------------------------------------------------------------------\u001b[0m",
      "\u001b[0;31mAttributeError\u001b[0m                            Traceback (most recent call last)",
      "Cell \u001b[0;32mIn[12], line 3\u001b[0m\n\u001b[1;32m      1\u001b[0m math_teacher \u001b[38;5;241m=\u001b[39m Person(\u001b[38;5;124m\"\u001b[39m\u001b[38;5;124mEric\u001b[39m\u001b[38;5;124m\"\u001b[39m)\n\u001b[1;32m      2\u001b[0m eng_teacher \u001b[38;5;241m=\u001b[39m Person(\u001b[38;5;124m\"\u001b[39m\u001b[38;5;124mJohn\u001b[39m\u001b[38;5;124m\"\u001b[39m)\n\u001b[0;32m----> 3\u001b[0m \u001b[43mmath_teacher\u001b[49m\u001b[38;5;241;43m.\u001b[39;49m\u001b[43mdo_work\u001b[49m\u001b[43m(\u001b[49m\u001b[43m)\u001b[49m  \u001b[38;5;66;03m# not registered yet!\u001b[39;00m\n",
      "Cell \u001b[0;32mIn[11], line 14\u001b[0m, in \u001b[0;36mPerson.do_work\u001b[0;34m(self)\u001b[0m\n\u001b[1;32m     12\u001b[0m \u001b[38;5;28;01mif\u001b[39;00m do_work_method:\n\u001b[1;32m     13\u001b[0m     \u001b[38;5;28;01mreturn\u001b[39;00m do_work_method()\n\u001b[0;32m---> 14\u001b[0m \u001b[38;5;28;01mraise\u001b[39;00m \u001b[38;5;167;01mAttributeError\u001b[39;00m(\u001b[38;5;124m\"\u001b[39m\u001b[38;5;124mYou must first register a `do_work` method\u001b[39m\u001b[38;5;124m\"\u001b[39m)\n",
      "\u001b[0;31mAttributeError\u001b[0m: You must first register a `do_work` method"
     ]
    }
   ],
   "source": [
    "math_teacher = Person(\"Eric\")\n",
    "eng_teacher = Person(\"John\")\n",
    "math_teacher.do_work()  # not registered yet!"
   ]
  },
  {
   "cell_type": "code",
   "execution_count": 15,
   "id": "24ea1c30-6254-4404-9c91-3d2d55fb17cf",
   "metadata": {},
   "outputs": [
    {
     "data": {
      "text/plain": [
       "({'name': 'Eric',\n",
       "  '_do_work': <bound method work_math of <__main__.Person object at 0x10d720890>>},\n",
       " 'Eric will teach integrals today!')"
      ]
     },
     "execution_count": 15,
     "metadata": {},
     "output_type": "execute_result"
    }
   ],
   "source": [
    "def work_math(self):\n",
    "    return f\"{self.name} will teach integrals today!\"\n",
    "\n",
    "math_teacher.register_do_work(work_math)\n",
    "math_teacher.__dict__, math_teacher.do_work()"
   ]
  },
  {
   "cell_type": "code",
   "execution_count": 17,
   "id": "78e45d29-2787-4feb-8874-f10cc7b3a60d",
   "metadata": {},
   "outputs": [
    {
     "data": {
      "text/plain": [
       "({'name': 'John',\n",
       "  '_do_work': <bound method work_english of <__main__.Person object at 0x10d722900>>},\n",
       " 'John will read Hamlet today!')"
      ]
     },
     "execution_count": 17,
     "metadata": {},
     "output_type": "execute_result"
    }
   ],
   "source": [
    "def work_english(self):\n",
    "    return f\"{self.name} will read Hamlet today!\"\n",
    "\n",
    "eng_teacher.register_do_work(work_english)\n",
    "eng_teacher.__dict__, eng_teacher.do_work()"
   ]
  },
  {
   "cell_type": "code",
   "execution_count": null,
   "id": "9f3d59ec-407b-4916-bc15-b900e46b0cd9",
   "metadata": {},
   "outputs": [],
   "source": []
  }
 ],
 "metadata": {
  "kernelspec": {
   "display_name": "Python 3 (ipykernel)",
   "language": "python",
   "name": "python3"
  },
  "language_info": {
   "codemirror_mode": {
    "name": "ipython",
    "version": 3
   },
   "file_extension": ".py",
   "mimetype": "text/x-python",
   "name": "python",
   "nbconvert_exporter": "python",
   "pygments_lexer": "ipython3",
   "version": "3.12.3"
  }
 },
 "nbformat": 4,
 "nbformat_minor": 5
}
