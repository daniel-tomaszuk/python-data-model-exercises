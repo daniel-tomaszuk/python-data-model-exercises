{
 "cells": [
  {
   "cell_type": "code",
   "execution_count": 1,
   "id": "d741b378-dc7c-4202-8e0b-3e9684d7cf4c",
   "metadata": {},
   "outputs": [],
   "source": [
    "class Person:\n",
    "\n",
    "    def say_hello(self = None):  # pass instance or None by defauly\n",
    "        print(f\"Hello from {self}\")\n",
    "\n",
    "    def set_name(self, new_name):\n",
    "        self.name = new_name\n",
    "        print(f\"New name {new_name} set!\")"
   ]
  },
  {
   "cell_type": "code",
   "execution_count": 2,
   "id": "0fafba85-8d62-438e-90cf-1a870bb5af0b",
   "metadata": {},
   "outputs": [
    {
     "data": {
      "text/plain": [
       "<function __main__.Person.say_hello(self=None)>"
      ]
     },
     "execution_count": 2,
     "metadata": {},
     "output_type": "execute_result"
    }
   ],
   "source": [
    "Person.say_hello"
   ]
  },
  {
   "cell_type": "code",
   "execution_count": 3,
   "id": "7ded4d77-d485-480c-80bc-de678a89e407",
   "metadata": {},
   "outputs": [
    {
     "name": "stdout",
     "output_type": "stream",
     "text": [
      "Hello from None\n"
     ]
    }
   ],
   "source": [
    "Person.say_hello()"
   ]
  },
  {
   "cell_type": "code",
   "execution_count": 4,
   "id": "21d862a9-2dd9-41a5-9eb7-c0b8033e98f9",
   "metadata": {},
   "outputs": [
    {
     "data": {
      "text/plain": [
       "'0x10b45b7d0'"
      ]
     },
     "execution_count": 4,
     "metadata": {},
     "output_type": "execute_result"
    }
   ],
   "source": [
    "p = Person()\n",
    "hex(id(p))"
   ]
  },
  {
   "cell_type": "code",
   "execution_count": 5,
   "id": "20780e82-f071-40f9-9c04-ead539ff202c",
   "metadata": {},
   "outputs": [
    {
     "data": {
      "text/plain": [
       "(<bound method Person.say_hello of <__main__.Person object at 0x10b45b7d0>>,\n",
       " \"the_type: <class 'method'>\",\n",
       " <__main__.Person at 0x10b45b7d0>)"
      ]
     },
     "execution_count": 5,
     "metadata": {},
     "output_type": "execute_result"
    }
   ],
   "source": [
    "p.say_hello, f\"the_type: {type(p.say_hello)}\", p.say_hello.__self__"
   ]
  },
  {
   "cell_type": "code",
   "execution_count": 6,
   "id": "724e44f4-23dc-4e7b-b2d8-12eda2e940fb",
   "metadata": {},
   "outputs": [
    {
     "data": {
      "text/plain": [
       "False"
      ]
     },
     "execution_count": 6,
     "metadata": {},
     "output_type": "execute_result"
    }
   ],
   "source": [
    "type(p.say_hello) is type(Person.say_hello)"
   ]
  },
  {
   "cell_type": "code",
   "execution_count": 7,
   "id": "4d86fb6f-acd9-475c-bc55-14eb8704bc43",
   "metadata": {},
   "outputs": [
    {
     "name": "stdout",
     "output_type": "stream",
     "text": [
      "Hello from <__main__.Person object at 0x10b45b7d0>\n"
     ]
    }
   ],
   "source": [
    "p.say_hello()"
   ]
  },
  {
   "cell_type": "code",
   "execution_count": 8,
   "id": "faee44f1-8916-44cb-9b82-6a9f1c551e80",
   "metadata": {},
   "outputs": [
    {
     "name": "stdout",
     "output_type": "stream",
     "text": [
      "New name John set!\n"
     ]
    }
   ],
   "source": [
    "p.set_name(\"John\")"
   ]
  },
  {
   "cell_type": "code",
   "execution_count": 9,
   "id": "014298ca-50e7-450d-8bec-6e3dacb29655",
   "metadata": {},
   "outputs": [
    {
     "data": {
      "text/plain": [
       "{'name': 'John'}"
      ]
     },
     "execution_count": 9,
     "metadata": {},
     "output_type": "execute_result"
    }
   ],
   "source": [
    "p.__dict__"
   ]
  },
  {
   "cell_type": "code",
   "execution_count": 10,
   "id": "6a9eec91-c3ad-4ffd-93b8-a8b3c3ec1614",
   "metadata": {},
   "outputs": [
    {
     "name": "stdout",
     "output_type": "stream",
     "text": [
      "New name Alex set!\n"
     ]
    }
   ],
   "source": [
    "Person.set_name(p, \"Alex\")"
   ]
  },
  {
   "cell_type": "code",
   "execution_count": 11,
   "id": "7e747250-9498-40a7-809a-8e2bb2e3b9f9",
   "metadata": {},
   "outputs": [
    {
     "data": {
      "text/plain": [
       "{'name': 'Alex'}"
      ]
     },
     "execution_count": 11,
     "metadata": {},
     "output_type": "execute_result"
    }
   ],
   "source": [
    "p.__dict__"
   ]
  },
  {
   "cell_type": "code",
   "execution_count": 12,
   "id": "8eef5ce6-199a-437a-8f93-fc56fc8ca75c",
   "metadata": {},
   "outputs": [],
   "source": [
    "m_hello = p.say_hello"
   ]
  },
  {
   "cell_type": "code",
   "execution_count": 13,
   "id": "032888ca-a670-4e4e-8e37-165cd9da0fb8",
   "metadata": {},
   "outputs": [
    {
     "data": {
      "text/plain": [
       "(<function __main__.Person.say_hello(self=None)>,\n",
       " <__main__.Person at 0x10b45b7d0>)"
      ]
     },
     "execution_count": 13,
     "metadata": {},
     "output_type": "execute_result"
    }
   ],
   "source": [
    "m_hello.__func__, m_hello.__self__"
   ]
  },
  {
   "cell_type": "code",
   "execution_count": 14,
   "id": "2af49c5b-84f4-4ae6-9f16-3c73be177433",
   "metadata": {},
   "outputs": [
    {
     "name": "stdout",
     "output_type": "stream",
     "text": [
      "Hello from <__main__.Person object at 0x10b45b7d0>\n"
     ]
    }
   ],
   "source": [
    "m_hello.__func__(m_hello.__self__)  # call function-instance that method bounds"
   ]
  },
  {
   "cell_type": "code",
   "execution_count": 15,
   "id": "9ff8a625-e7e5-4e56-8e07-50b964b7233a",
   "metadata": {},
   "outputs": [],
   "source": [
    "Person.do_work = lambda self: f\"do_work lambda called with {self}\""
   ]
  },
  {
   "cell_type": "code",
   "execution_count": 16,
   "id": "b70fc35a-4a6e-4aea-acea-dc3d7da71815",
   "metadata": {},
   "outputs": [
    {
     "data": {
      "text/plain": [
       "(function,\n",
       " mappingproxy({'__module__': '__main__',\n",
       "               'say_hello': <function __main__.Person.say_hello(self=None)>,\n",
       "               'set_name': <function __main__.Person.set_name(self, new_name)>,\n",
       "               '__dict__': <attribute '__dict__' of 'Person' objects>,\n",
       "               '__weakref__': <attribute '__weakref__' of 'Person' objects>,\n",
       "               '__doc__': None,\n",
       "               'do_work': <function __main__.<lambda>(self)>}))"
      ]
     },
     "execution_count": 16,
     "metadata": {},
     "output_type": "execute_result"
    }
   ],
   "source": [
    "type(Person.do_work), Person.__dict__"
   ]
  },
  {
   "cell_type": "code",
   "execution_count": 17,
   "id": "9334f24d-945b-432b-9a1e-cbdf26b94a6e",
   "metadata": {},
   "outputs": [
    {
     "data": {
      "text/plain": [
       "(<bound method <lambda> of <__main__.Person object at 0x10b45b7d0>>,\n",
       " 'do_work lambda called with <__main__.Person object at 0x10b45b7d0>')"
      ]
     },
     "execution_count": 17,
     "metadata": {},
     "output_type": "execute_result"
    }
   ],
   "source": [
    "p.do_work, p.do_work()"
   ]
  },
  {
   "cell_type": "code",
   "execution_count": 18,
   "id": "6ec5caab-b8a8-4345-aea3-35c80f58d7dd",
   "metadata": {},
   "outputs": [
    {
     "data": {
      "text/plain": [
       "(<function __main__.<lambda>(*args)>,\n",
       " {'name': 'Alex', 'other_func': <function __main__.<lambda>(*args)>})"
      ]
     },
     "execution_count": 18,
     "metadata": {},
     "output_type": "execute_result"
    }
   ],
   "source": [
    "p.other_func = lambda *args: f\"other_func called with {args}\"  # not a method! just a regular function\n",
    "p.other_func, p.__dict__"
   ]
  },
  {
   "cell_type": "code",
   "execution_count": 19,
   "id": "9bab2a0a-aef3-415f-965c-82d13767da7b",
   "metadata": {},
   "outputs": [
    {
     "data": {
      "text/plain": [
       "\"other_func called with (<__main__.Person object at 0x10b45b7d0>, 'test')\""
      ]
     },
     "execution_count": 19,
     "metadata": {},
     "output_type": "execute_result"
    }
   ],
   "source": [
    "p.other_func(p, \"test\")"
   ]
  },
  {
   "cell_type": "code",
   "execution_count": 20,
   "id": "e44ea718-52e2-4f24-adbc-16a188d360d8",
   "metadata": {},
   "outputs": [
    {
     "data": {
      "text/plain": [
       "mappingproxy({'__module__': '__main__',\n",
       "              'say_hello': <function __main__.Person.say_hello(self=None)>,\n",
       "              'set_name': <function __main__.Person.set_name(self, new_name)>,\n",
       "              '__dict__': <attribute '__dict__' of 'Person' objects>,\n",
       "              '__weakref__': <attribute '__weakref__' of 'Person' objects>,\n",
       "              '__doc__': None,\n",
       "              'do_work': <function __main__.<lambda>(self)>})"
      ]
     },
     "execution_count": 20,
     "metadata": {},
     "output_type": "execute_result"
    }
   ],
   "source": [
    "Person.__dict__"
   ]
  },
  {
   "cell_type": "code",
   "execution_count": null,
   "id": "f0ee354e-d15b-4b77-84b3-df93c1b6eac4",
   "metadata": {},
   "outputs": [],
   "source": []
  }
 ],
 "metadata": {
  "kernelspec": {
   "display_name": "Python 3 (ipykernel)",
   "language": "python",
   "name": "python3"
  },
  "language_info": {
   "codemirror_mode": {
    "name": "ipython",
    "version": 3
   },
   "file_extension": ".py",
   "mimetype": "text/x-python",
   "name": "python",
   "nbconvert_exporter": "python",
   "pygments_lexer": "ipython3",
   "version": "3.12.3"
  }
 },
 "nbformat": 4,
 "nbformat_minor": 5
}
