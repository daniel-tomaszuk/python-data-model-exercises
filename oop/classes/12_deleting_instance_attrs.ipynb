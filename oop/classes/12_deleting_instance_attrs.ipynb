{
 "cells": [
  {
   "cell_type": "code",
   "execution_count": 1,
   "id": "c7be9e84-7a24-4cd7-ba4d-48154c1e415d",
   "metadata": {},
   "outputs": [],
   "source": [
    "class Person:\n",
    "    def __init__(self, name: str):\n",
    "        self._name = name\n",
    "\n",
    "    def __repr__(self) -> str:\n",
    "        return f\"<{self.__class__.__name__} name={self.name}> @ {hex(id(self))}\"\n",
    "\n",
    "    @property\n",
    "    def name(self) -> str:\n",
    "        \"\"\"\n",
    "            Name property of a <Person class>.\n",
    "        \"\"\"\n",
    "        print(\"getter is called...\")\n",
    "        return self._name\n",
    "\n",
    "    @name.setter\n",
    "    def name(self, value) -> None:\n",
    "        print(\"setter is called...\")\n",
    "        self._name = value\n",
    "\n",
    "    @name.deleter\n",
    "    def name(self) -> None:\n",
    "        print(\"deleter is called...\")\n",
    "        del self._name  # removes `name` from an instance namespace\n"
   ]
  },
  {
   "cell_type": "code",
   "execution_count": 2,
   "id": "e764ec82-54f6-458c-8c4a-cbbab3e13436",
   "metadata": {},
   "outputs": [
    {
     "name": "stdout",
     "output_type": "stream",
     "text": [
      "Help on class Person in module __main__:\n",
      "\n",
      "class Person(builtins.object)\n",
      " |  Person(name: str)\n",
      " |\n",
      " |  Methods defined here:\n",
      " |\n",
      " |  __init__(self, name: str)\n",
      " |      Initialize self.  See help(type(self)) for accurate signature.\n",
      " |\n",
      " |  __repr__(self) -> str\n",
      " |      Return repr(self).\n",
      " |\n",
      " |  ----------------------------------------------------------------------\n",
      " |  Data descriptors defined here:\n",
      " |\n",
      " |  __dict__\n",
      " |      dictionary for instance variables\n",
      " |\n",
      " |  __weakref__\n",
      " |      list of weak references to the object\n",
      " |\n",
      " |  name\n",
      " |      Name property of a <Person class>.\n",
      "\n"
     ]
    }
   ],
   "source": [
    "help(Person)"
   ]
  },
  {
   "cell_type": "code",
   "execution_count": 3,
   "id": "d40a241e-23d2-4396-b5c2-38a36f7adc9a",
   "metadata": {},
   "outputs": [
    {
     "data": {
      "text/plain": [
       "mappingproxy({'__module__': '__main__',\n",
       "              '__init__': <function __main__.Person.__init__(self, name: str)>,\n",
       "              '__repr__': <function __main__.Person.__repr__(self) -> str>,\n",
       "              'name': <property at 0x1125da020>,\n",
       "              '__dict__': <attribute '__dict__' of 'Person' objects>,\n",
       "              '__weakref__': <attribute '__weakref__' of 'Person' objects>,\n",
       "              '__doc__': None})"
      ]
     },
     "execution_count": 3,
     "metadata": {},
     "output_type": "execute_result"
    }
   ],
   "source": [
    "Person.__dict__"
   ]
  },
  {
   "cell_type": "code",
   "execution_count": 4,
   "id": "e110dbee-5ce2-4919-8ce6-555aadd5996a",
   "metadata": {},
   "outputs": [
    {
     "data": {
      "text/plain": [
       "{'_name': 'Alex'}"
      ]
     },
     "execution_count": 4,
     "metadata": {},
     "output_type": "execute_result"
    }
   ],
   "source": [
    "p = Person(\"Alex\")\n",
    "p.__dict__"
   ]
  },
  {
   "cell_type": "code",
   "execution_count": 5,
   "id": "38a8c8d9-b336-47dc-989b-61ee87d2192a",
   "metadata": {},
   "outputs": [
    {
     "name": "stdout",
     "output_type": "stream",
     "text": [
      "deleter is called...\n"
     ]
    },
    {
     "data": {
      "text/plain": [
       "{}"
      ]
     },
     "execution_count": 5,
     "metadata": {},
     "output_type": "execute_result"
    }
   ],
   "source": [
    "del p.name\n",
    "p.__dict__"
   ]
  },
  {
   "cell_type": "code",
   "execution_count": 6,
   "id": "0d5bf172-e16c-44ef-9e1f-3e16b1d626a0",
   "metadata": {},
   "outputs": [
    {
     "name": "stdout",
     "output_type": "stream",
     "text": [
      "setter is called...\n"
     ]
    }
   ],
   "source": [
    "p.name = \"Bob\""
   ]
  },
  {
   "cell_type": "code",
   "execution_count": 7,
   "id": "6db02356-2e4e-4111-ae1c-3be8331c40a8",
   "metadata": {},
   "outputs": [
    {
     "data": {
      "text/plain": [
       "{'_name': 'Bob'}"
      ]
     },
     "execution_count": 7,
     "metadata": {},
     "output_type": "execute_result"
    }
   ],
   "source": [
    "p.__dict__"
   ]
  },
  {
   "cell_type": "code",
   "execution_count": 9,
   "id": "047fed47-79a0-4784-bc06-5d054bad6277",
   "metadata": {},
   "outputs": [
    {
     "data": {
      "text/plain": [
       "mappingproxy({'__module__': '__main__', '__doc__': None})"
      ]
     },
     "execution_count": 9,
     "metadata": {},
     "output_type": "execute_result"
    }
   ],
   "source": [
    "class OtherPerson(Person):\n",
    "    pass\n"
   ]
  },
  {
   "cell_type": "code",
   "execution_count": 11,
   "id": "1512c4a7-5cef-404b-b5fe-95ff01f7cfe2",
   "metadata": {},
   "outputs": [
    {
     "data": {
      "text/plain": [
       "{'_name': 'Bob'}"
      ]
     },
     "execution_count": 11,
     "metadata": {},
     "output_type": "execute_result"
    }
   ],
   "source": [
    "op = OtherPerson(\"Bob\")\n",
    "op.__dict__"
   ]
  },
  {
   "cell_type": "code",
   "execution_count": 12,
   "id": "0e1d33be-da84-441c-b6a6-4a21b6967bff",
   "metadata": {},
   "outputs": [
    {
     "name": "stdout",
     "output_type": "stream",
     "text": [
      "getter is called...\n"
     ]
    },
    {
     "data": {
      "text/plain": [
       "'Bob'"
      ]
     },
     "execution_count": 12,
     "metadata": {},
     "output_type": "execute_result"
    }
   ],
   "source": [
    "op.name"
   ]
  },
  {
   "cell_type": "code",
   "execution_count": 13,
   "id": "5347d79b-59c1-4447-8868-a582adf27467",
   "metadata": {},
   "outputs": [
    {
     "name": "stdout",
     "output_type": "stream",
     "text": [
      "setter is called...\n"
     ]
    }
   ],
   "source": [
    "op.name = \"test\""
   ]
  },
  {
   "cell_type": "code",
   "execution_count": 14,
   "id": "0fa701a4-1f4a-4631-b41f-e88b42aa71ce",
   "metadata": {},
   "outputs": [
    {
     "name": "stdout",
     "output_type": "stream",
     "text": [
      "getter is called...\n"
     ]
    },
    {
     "data": {
      "text/plain": [
       "'test'"
      ]
     },
     "execution_count": 14,
     "metadata": {},
     "output_type": "execute_result"
    }
   ],
   "source": [
    "op.name"
   ]
  },
  {
   "cell_type": "code",
   "execution_count": null,
   "id": "df47dc62-c476-4c3d-b432-2c251949b27b",
   "metadata": {},
   "outputs": [],
   "source": []
  }
 ],
 "metadata": {
  "kernelspec": {
   "display_name": "Python 3 (ipykernel)",
   "language": "python",
   "name": "python3"
  },
  "language_info": {
   "codemirror_mode": {
    "name": "ipython",
    "version": 3
   },
   "file_extension": ".py",
   "mimetype": "text/x-python",
   "name": "python",
   "nbconvert_exporter": "python",
   "pygments_lexer": "ipython3",
   "version": "3.12.3"
  }
 },
 "nbformat": 4,
 "nbformat_minor": 5
}
