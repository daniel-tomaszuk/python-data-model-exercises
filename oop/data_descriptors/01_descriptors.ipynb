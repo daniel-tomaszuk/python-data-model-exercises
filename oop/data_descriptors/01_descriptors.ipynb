{
 "cells": [
  {
   "cell_type": "code",
   "execution_count": 1,
   "id": "42a097b5-d61d-4e79-afb0-4c056d67ecb5",
   "metadata": {},
   "outputs": [],
   "source": [
    "# Non-data descriptors (implements only __get__)\n",
    "\n",
    "import datetime\n",
    "\n",
    "\n",
    "class TimeUTC:\n",
    "    def __get__(self, instance, owner_class):\n",
    "        print(self, instance, owner_class)\n",
    "        return datetime.datetime.now(datetime.UTC).isoformat()\n",
    "\n",
    "\n",
    "class Logger:\n",
    "    current_time = TimeUTC()  # instance of a TimeUTC class\n"
   ]
  },
  {
   "cell_type": "code",
   "execution_count": 2,
   "id": "d2d7c54f-68f9-4613-ae05-9bd88ee39dde",
   "metadata": {},
   "outputs": [
    {
     "data": {
      "text/plain": [
       "mappingproxy({'__module__': '__main__',\n",
       "              'current_time': <__main__.TimeUTC at 0x10aab2780>,\n",
       "              '__dict__': <attribute '__dict__' of 'Logger' objects>,\n",
       "              '__weakref__': <attribute '__weakref__' of 'Logger' objects>,\n",
       "              '__doc__': None})"
      ]
     },
     "execution_count": 2,
     "metadata": {},
     "output_type": "execute_result"
    }
   ],
   "source": [
    "Logger.__dict__  # current_time points at instance of TimeUTC()"
   ]
  },
  {
   "cell_type": "code",
   "execution_count": 3,
   "id": "0bfc5b72-2e71-474a-bb5b-adf85bd01777",
   "metadata": {},
   "outputs": [
    {
     "name": "stdout",
     "output_type": "stream",
     "text": [
      "<__main__.TimeUTC object at 0x10aab2780> None <class '__main__.Logger'>\n"
     ]
    },
    {
     "data": {
      "text/plain": [
       "'2024-06-27T10:58:19.072132+00:00'"
      ]
     },
     "execution_count": 3,
     "metadata": {},
     "output_type": "execute_result"
    }
   ],
   "source": [
    "Logger.current_time"
   ]
  },
  {
   "cell_type": "code",
   "execution_count": 4,
   "id": "f4dd67fd-dc84-463f-b206-d9375f595d8b",
   "metadata": {},
   "outputs": [
    {
     "data": {
      "text/plain": [
       "<__main__.Logger at 0x10ae5c050>"
      ]
     },
     "execution_count": 4,
     "metadata": {},
     "output_type": "execute_result"
    }
   ],
   "source": [
    "l = Logger()\n",
    "l"
   ]
  },
  {
   "cell_type": "code",
   "execution_count": 5,
   "id": "0e48daf9-ed4f-4fc0-9829-ce49a9884890",
   "metadata": {},
   "outputs": [
    {
     "name": "stdout",
     "output_type": "stream",
     "text": [
      "<__main__.TimeUTC object at 0x10aab2780> <__main__.Logger object at 0x10ae5c050> <class '__main__.Logger'>\n"
     ]
    },
    {
     "data": {
      "text/plain": [
       "'2024-06-27T10:58:19.100355+00:00'"
      ]
     },
     "execution_count": 5,
     "metadata": {},
     "output_type": "execute_result"
    }
   ],
   "source": [
    "l.current_time  # works with an instance as well"
   ]
  },
  {
   "cell_type": "code",
   "execution_count": 6,
   "id": "4c9fc942-20ec-4613-bd43-e7fa835ea457",
   "metadata": {},
   "outputs": [],
   "source": [
    "from random import choice, seed\n",
    "\n",
    "\n",
    "class Deck:\n",
    "    @property\n",
    "    def suit(self):\n",
    "        return choice((\"Spade\", \"Heart\", \"Diamond\", \"Club\"))\n",
    "\n",
    "    @property\n",
    "    def card(self):\n",
    "        return choice(tuple(\"23456789JQKA\") + (\"10\",))\n"
   ]
  },
  {
   "cell_type": "code",
   "execution_count": 7,
   "id": "822e61ea-1952-498c-b6d9-cece6e6e6852",
   "metadata": {},
   "outputs": [
    {
     "name": "stdout",
     "output_type": "stream",
     "text": [
      "8 Club\n",
      "2 Diamond\n",
      "J Club\n",
      "8 Diamond\n",
      "9 Diamond\n",
      "Q Heart\n",
      "J Heart\n",
      "6 Heart\n",
      "10 Spade\n",
      "Q Diamond\n"
     ]
    }
   ],
   "source": [
    "d = Deck()\n",
    "seed(0)\n",
    "\n",
    "for _ in range(10):\n",
    "    print(d.card, d.suit)"
   ]
  },
  {
   "cell_type": "code",
   "execution_count": 8,
   "id": "ddeb464d-7194-4623-b1fd-04b8db5dc137",
   "metadata": {},
   "outputs": [],
   "source": [
    "class Choice: \n",
    "    def __init__(self, *choices):\n",
    "        self.choices = choices\n",
    "\n",
    "    def __get__(self, instance, onwer_class):\n",
    "        return choice(self.choices)\n",
    "\n",
    "\n",
    "class Deck:\n",
    "    suit = Choice(\"Spade\", \"Heart\", \"Diamond\", \"Club\")\n",
    "    card = Choice(*\"123456789JQKA\", \"10\")\n"
   ]
  },
  {
   "cell_type": "code",
   "execution_count": 9,
   "id": "18d91083-5d6f-49fb-8e0a-c3d144e44125",
   "metadata": {},
   "outputs": [
    {
     "name": "stdout",
     "output_type": "stream",
     "text": [
      "10 Club\n",
      "A Club\n",
      "1 Diamond\n",
      "9 Club\n",
      "7 Diamond\n",
      "8 Diamond\n",
      "J Heart\n",
      "9 Heart\n",
      "5 Heart\n",
      "A Spade\n"
     ]
    }
   ],
   "source": [
    "seed(0)\n",
    "d = Deck()\n",
    "for _ in range(10):\n",
    "    print(d.card, d.suit)"
   ]
  },
  {
   "cell_type": "code",
   "execution_count": 10,
   "id": "9c4f60b7-e365-4cc1-ab1c-fafbd9bf6380",
   "metadata": {},
   "outputs": [],
   "source": [
    "class Dice:\n",
    "    die_1 = Choice(1,2,3,4,5,6)\n",
    "    die_2 = Choice(1,2,3,4,5,6)\n",
    "    die_3 = Choice(1,2,3,4,5,6)"
   ]
  },
  {
   "cell_type": "code",
   "execution_count": 11,
   "id": "df64f66a-1ca7-4fb0-a9fe-5510ba83007b",
   "metadata": {},
   "outputs": [
    {
     "name": "stdout",
     "output_type": "stream",
     "text": [
      "5 3 5\n",
      "6 5 2\n",
      "3 1 6\n",
      "1 6 3\n",
      "4 5 1\n",
      "3 4 3\n",
      "5 6 2\n",
      "5 4 4\n",
      "5 3 1\n",
      "5 1 1\n"
     ]
    }
   ],
   "source": [
    "d = Dice()\n",
    "\n",
    "for _ in range(10):\n",
    "    print(d.die_1, d.die_2, d.die_3)"
   ]
  },
  {
   "cell_type": "code",
   "execution_count": null,
   "id": "1302eadf-c05c-4776-b43f-b41b62a3b544",
   "metadata": {},
   "outputs": [],
   "source": []
  }
 ],
 "metadata": {
  "kernelspec": {
   "display_name": "Python 3 (ipykernel)",
   "language": "python",
   "name": "python3"
  },
  "language_info": {
   "codemirror_mode": {
    "name": "ipython",
    "version": 3
   },
   "file_extension": ".py",
   "mimetype": "text/x-python",
   "name": "python",
   "nbconvert_exporter": "python",
   "pygments_lexer": "ipython3",
   "version": "3.12.3"
  }
 },
 "nbformat": 4,
 "nbformat_minor": 5
}
