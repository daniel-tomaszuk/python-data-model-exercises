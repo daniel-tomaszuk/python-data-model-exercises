{
 "cells": [
  {
   "cell_type": "code",
   "execution_count": 1,
   "id": "4592f817-0bae-4c62-9152-e2fca60a2dc3",
   "metadata": {},
   "outputs": [],
   "source": [
    "from numbers import Integral\n",
    "\n",
    "\n",
    "class Person:\n",
    "\n",
    "    @property\n",
    "    def age(self):\n",
    "        return getattr(self, \"_age\", None)\n",
    "\n",
    "    @age.setter\n",
    "    def age(self, value):\n",
    "        if not isinstance(value, Integral):\n",
    "            raise TypeError(\"age must be an integer\")\n",
    "\n",
    "        if value < 0:\n",
    "            raise ValueError(\"age must be a positive number\")\n",
    "\n",
    "        self._age = value\n"
   ]
  },
  {
   "cell_type": "code",
   "execution_count": 2,
   "id": "2980a651-0d37-4694-a408-1589968ec0ab",
   "metadata": {},
   "outputs": [
    {
     "name": "stdout",
     "output_type": "stream",
     "text": [
      "age must be a positive number\n"
     ]
    }
   ],
   "source": [
    "p = Person()\n",
    "try: \n",
    "    p.age = -1\n",
    "except ValueError as e:\n",
    "    print(e)"
   ]
  },
  {
   "cell_type": "code",
   "execution_count": 3,
   "id": "968611e7-72c7-4a9d-a02e-f13e417d7ed3",
   "metadata": {},
   "outputs": [],
   "source": [
    "p.age = 22"
   ]
  },
  {
   "cell_type": "code",
   "execution_count": 4,
   "id": "e46c0186-7898-4299-bf40-5f1a7f8f1667",
   "metadata": {},
   "outputs": [
    {
     "data": {
      "text/plain": [
       "{'_age': 22}"
      ]
     },
     "execution_count": 4,
     "metadata": {},
     "output_type": "execute_result"
    }
   ],
   "source": [
    "p.__dict__"
   ]
  },
  {
   "cell_type": "code",
   "execution_count": 5,
   "id": "f4e51747-d841-4ab8-9b83-0decaaaeadef",
   "metadata": {},
   "outputs": [],
   "source": [
    "class Person:\n",
    "\n",
    "    def get_age(self):\n",
    "        return getattr(self, \"_age\", None)\n",
    "\n",
    "    def set_age(self, value):\n",
    "        if not isinstance(value, Integral):\n",
    "            raise TypeError(\"age must be an integer\")\n",
    "\n",
    "        if value < 0:\n",
    "            raise ValueError(\"age must be a positive number\")\n",
    "\n",
    "        self._age = value\n",
    "\n",
    "    age = property(fget=get_age, fset=set_age)\n"
   ]
  },
  {
   "cell_type": "code",
   "execution_count": 6,
   "id": "eb77120b-a39c-4b99-9c23-952205457214",
   "metadata": {},
   "outputs": [
    {
     "data": {
      "text/plain": [
       "(<property at 0x10f7e1350>,\n",
       " ['__class__',\n",
       "  '__delattr__',\n",
       "  '__delete__',\n",
       "  '__dir__',\n",
       "  '__doc__',\n",
       "  '__eq__',\n",
       "  '__format__',\n",
       "  '__ge__',\n",
       "  '__get__',\n",
       "  '__getattribute__',\n",
       "  '__getstate__',\n",
       "  '__gt__',\n",
       "  '__hash__',\n",
       "  '__init__',\n",
       "  '__init_subclass__',\n",
       "  '__isabstractmethod__',\n",
       "  '__le__',\n",
       "  '__lt__',\n",
       "  '__ne__',\n",
       "  '__new__',\n",
       "  '__reduce__',\n",
       "  '__reduce_ex__',\n",
       "  '__repr__',\n",
       "  '__set__',\n",
       "  '__set_name__',\n",
       "  '__setattr__',\n",
       "  '__sizeof__',\n",
       "  '__str__',\n",
       "  '__subclasshook__',\n",
       "  'deleter',\n",
       "  'fdel',\n",
       "  'fget',\n",
       "  'fset',\n",
       "  'getter',\n",
       "  'setter'])"
      ]
     },
     "execution_count": 6,
     "metadata": {},
     "output_type": "execute_result"
    }
   ],
   "source": [
    "Person.age, dir(Person.age)"
   ]
  },
  {
   "cell_type": "code",
   "execution_count": 7,
   "id": "60ce5732-7a1a-418d-9ecb-67bc07dd21bc",
   "metadata": {},
   "outputs": [
    {
     "data": {
      "text/plain": [
       "(True, True, True)"
      ]
     },
     "execution_count": 7,
     "metadata": {},
     "output_type": "execute_result"
    }
   ],
   "source": [
    "prop = Person.age\n",
    "hasattr(prop, \"__get__\"), hasattr(prop, \"__set__\"), hasattr(prop, \"__set_name__\")"
   ]
  },
  {
   "cell_type": "code",
   "execution_count": 8,
   "id": "91472a2e-9ed1-4dde-b2f9-f6c2ac85632e",
   "metadata": {},
   "outputs": [],
   "source": [
    "p = Person()\n",
    "p.age = 34"
   ]
  },
  {
   "cell_type": "code",
   "execution_count": 9,
   "id": "5ad35f18-f17a-480b-9423-d72695ec5bdc",
   "metadata": {},
   "outputs": [
    {
     "data": {
      "text/plain": [
       "34"
      ]
     },
     "execution_count": 9,
     "metadata": {},
     "output_type": "execute_result"
    }
   ],
   "source": [
    "p.age"
   ]
  },
  {
   "cell_type": "code",
   "execution_count": 10,
   "id": "e252283f-9c81-4e90-acca-e7e7626c3354",
   "metadata": {},
   "outputs": [],
   "source": [
    "class TimeUTC:\n",
    "    @property\n",
    "    def current_time(self):\n",
    "        return \"the time\"\n"
   ]
  },
  {
   "cell_type": "code",
   "execution_count": 11,
   "id": "ac1a3954-c836-4f9a-ba32-e074c436361b",
   "metadata": {},
   "outputs": [
    {
     "data": {
      "text/plain": [
       "(True, True)"
      ]
     },
     "execution_count": 11,
     "metadata": {},
     "output_type": "execute_result"
    }
   ],
   "source": [
    "t = TimeUTC()\n",
    "hasattr(TimeUTC.current_time, \"__get__\"), hasattr(TimeUTC.current_time, \"__set__\")"
   ]
  },
  {
   "cell_type": "code",
   "execution_count": 12,
   "id": "bafc8f03-7bf7-4b88-a0c7-ae52c3ba85ed",
   "metadata": {},
   "outputs": [
    {
     "data": {
      "text/plain": [
       "'the time'"
      ]
     },
     "execution_count": 12,
     "metadata": {},
     "output_type": "execute_result"
    }
   ],
   "source": [
    "t.current_time"
   ]
  },
  {
   "cell_type": "code",
   "execution_count": 13,
   "id": "a6fc94d9-9e0c-4dad-ba38-104a0b5b2208",
   "metadata": {},
   "outputs": [
    {
     "name": "stdout",
     "output_type": "stream",
     "text": [
      "property 'current_time' of 'TimeUTC' object has no setter\n"
     ]
    }
   ],
   "source": [
    "try:\n",
    "    # property has __set__ method, but fset function hasn't been given\n",
    "    t.current_time = \"other time\"\n",
    "except AttributeError as e:\n",
    "    print(e)"
   ]
  },
  {
   "cell_type": "code",
   "execution_count": 14,
   "id": "ac92f68a-6cbb-4239-a364-a5c2c94db8bb",
   "metadata": {},
   "outputs": [
    {
     "data": {
      "text/plain": [
       "{}"
      ]
     },
     "execution_count": 14,
     "metadata": {},
     "output_type": "execute_result"
    }
   ],
   "source": [
    "p = Person()\n",
    "p.__dict__"
   ]
  },
  {
   "cell_type": "code",
   "execution_count": 15,
   "id": "0b596eed-735a-4737-a224-80c3a39eda85",
   "metadata": {},
   "outputs": [
    {
     "data": {
      "text/plain": [
       "10"
      ]
     },
     "execution_count": 15,
     "metadata": {},
     "output_type": "execute_result"
    }
   ],
   "source": [
    "p.age = 10\n",
    "p.age"
   ]
  },
  {
   "cell_type": "code",
   "execution_count": 16,
   "id": "1ec376bf-3ff1-4abb-9a43-0e702284de37",
   "metadata": {},
   "outputs": [
    {
     "data": {
      "text/plain": [
       "{'_age': 10}"
      ]
     },
     "execution_count": 16,
     "metadata": {},
     "output_type": "execute_result"
    }
   ],
   "source": [
    "p.__dict__  # `age` (property name) is not in the instance __dict__"
   ]
  },
  {
   "cell_type": "code",
   "execution_count": 17,
   "id": "48841315-7064-4d9a-8d13-3228e21ab0b5",
   "metadata": {},
   "outputs": [],
   "source": [
    "p.__dict__[\"age\"] = 22"
   ]
  },
  {
   "cell_type": "code",
   "execution_count": 18,
   "id": "66e0bc85-1c5c-435a-90d3-d62132450c77",
   "metadata": {},
   "outputs": [
    {
     "data": {
      "text/plain": [
       "{'_age': 10, 'age': 22}"
      ]
     },
     "execution_count": 18,
     "metadata": {},
     "output_type": "execute_result"
    }
   ],
   "source": [
    "p.__dict__"
   ]
  },
  {
   "cell_type": "code",
   "execution_count": 19,
   "id": "f1039ad6-091e-4f3a-9558-270f720dac7d",
   "metadata": {},
   "outputs": [
    {
     "data": {
      "text/plain": [
       "10"
      ]
     },
     "execution_count": 19,
     "metadata": {},
     "output_type": "execute_result"
    }
   ],
   "source": [
    "p.age  # data descriptor is used instead of direct `age` key"
   ]
  },
  {
   "cell_type": "code",
   "execution_count": 20,
   "id": "287619f8-d6eb-4037-a20d-1335ed8eab8a",
   "metadata": {},
   "outputs": [],
   "source": [
    "class MakeProperty:\n",
    "    def __init__(self, fget = None, fset = None):\n",
    "        self.fget = fget\n",
    "        self.fset = fset\n",
    "\n",
    "    def __set_name__(self, owner_class, property_name):\n",
    "        self.property_name = property_name\n",
    "\n",
    "    def __get__(self, instance, owner_class):\n",
    "        print(\"__get__ called\")\n",
    "        if instance is None:\n",
    "            print(\"no instance given\")\n",
    "            return self\n",
    "\n",
    "        if self.fget is None:\n",
    "            raise AttributeError(f\"{self.property_name} is not readable.\")\n",
    "            \n",
    "        return self.fget(instance)\n",
    "    \n",
    "    def __set__(self, instance, value):\n",
    "        print(\"__set__ called\")\n",
    "        if self.fset is None:\n",
    "            raise AttributeError(f\"{self.property_name} is not writable.\")\n",
    "\n",
    "        self.fset(instance, value)\n"
   ]
  },
  {
   "cell_type": "code",
   "execution_count": 21,
   "id": "fc8a148b-e1a7-4f42-9261-be4b9f4d7125",
   "metadata": {},
   "outputs": [],
   "source": [
    "class Person:\n",
    "\n",
    "    def get_name(self):\n",
    "        return getattr(self, \"_name\", None)\n",
    "\n",
    "    def set_name(self, value):\n",
    "        if not isinstance(value, str):\n",
    "            raise TypeError(\"name must be a string\")\n",
    "\n",
    "        self._name = value\n",
    "\n",
    "    name = MakeProperty(fget=get_name, fset=set_name)\n"
   ]
  },
  {
   "cell_type": "code",
   "execution_count": 22,
   "id": "f79e5a79-2839-4bd9-8a99-b718729c7bda",
   "metadata": {},
   "outputs": [
    {
     "name": "stdout",
     "output_type": "stream",
     "text": [
      "__set__ called\n"
     ]
    }
   ],
   "source": [
    "p = Person()\n",
    "p.name = \"Bob\""
   ]
  },
  {
   "cell_type": "code",
   "execution_count": 23,
   "id": "2ff7d0e1-1a0e-4b9a-a67d-f08fdafe8f2f",
   "metadata": {},
   "outputs": [
    {
     "data": {
      "text/plain": [
       "{'_name': 'Bob'}"
      ]
     },
     "execution_count": 23,
     "metadata": {},
     "output_type": "execute_result"
    }
   ],
   "source": [
    "p.__dict__"
   ]
  },
  {
   "cell_type": "code",
   "execution_count": 24,
   "id": "7bce711f-86bc-41b8-b030-0aead0ab5a78",
   "metadata": {},
   "outputs": [
    {
     "name": "stdout",
     "output_type": "stream",
     "text": [
      "__get__ called\n"
     ]
    },
    {
     "data": {
      "text/plain": [
       "'Bob'"
      ]
     },
     "execution_count": 24,
     "metadata": {},
     "output_type": "execute_result"
    }
   ],
   "source": [
    "p.name"
   ]
  },
  {
   "cell_type": "code",
   "execution_count": 25,
   "id": "d99c4434-90eb-4e22-8c15-8d07092dd64c",
   "metadata": {},
   "outputs": [],
   "source": [
    "p.__dict__[\"name\"] = \"John\""
   ]
  },
  {
   "cell_type": "code",
   "execution_count": 26,
   "id": "5dea60e2-f702-4759-b0ea-fa0d4daf9317",
   "metadata": {},
   "outputs": [
    {
     "data": {
      "text/plain": [
       "{'_name': 'Bob', 'name': 'John'}"
      ]
     },
     "execution_count": 26,
     "metadata": {},
     "output_type": "execute_result"
    }
   ],
   "source": [
    "p.__dict__"
   ]
  },
  {
   "cell_type": "code",
   "execution_count": 27,
   "id": "8a7ba19b-3877-4c0a-90f9-29be9846da6e",
   "metadata": {},
   "outputs": [
    {
     "name": "stdout",
     "output_type": "stream",
     "text": [
      "__get__ called\n"
     ]
    },
    {
     "data": {
      "text/plain": [
       "'Bob'"
      ]
     },
     "execution_count": 27,
     "metadata": {},
     "output_type": "execute_result"
    }
   ],
   "source": [
    "p.name  # data descriptor used!"
   ]
  },
  {
   "cell_type": "code",
   "execution_count": 28,
   "id": "756c3a16-56da-4ff9-9ccc-61d4941b4f2d",
   "metadata": {},
   "outputs": [],
   "source": [
    "class Person:\n",
    "    @MakeProperty\n",
    "    def age(self):\n",
    "        return 33\n"
   ]
  },
  {
   "cell_type": "code",
   "execution_count": 29,
   "id": "af2fe639-5be5-4bbe-ba1a-86407b6238f7",
   "metadata": {},
   "outputs": [
    {
     "name": "stdout",
     "output_type": "stream",
     "text": [
      "__get__ called\n"
     ]
    },
    {
     "data": {
      "text/plain": [
       "33"
      ]
     },
     "execution_count": 29,
     "metadata": {},
     "output_type": "execute_result"
    }
   ],
   "source": [
    "p = Person()\n",
    "p.age"
   ]
  },
  {
   "cell_type": "code",
   "execution_count": 30,
   "id": "f9b826d2-d879-4a4f-bc9f-8915421fc194",
   "metadata": {},
   "outputs": [
    {
     "name": "stdout",
     "output_type": "stream",
     "text": [
      "__get__ called\n",
      "no instance given\n"
     ]
    },
    {
     "data": {
      "text/plain": [
       "<__main__.MakeProperty at 0x10f807170>"
      ]
     },
     "execution_count": 30,
     "metadata": {},
     "output_type": "execute_result"
    }
   ],
   "source": [
    "Person.age"
   ]
  },
  {
   "cell_type": "code",
   "execution_count": 31,
   "id": "8341cd71-c716-42f8-8bdb-52c1e3440868",
   "metadata": {},
   "outputs": [],
   "source": [
    "class MakeProperty:\n",
    "    def __init__(self, fget = None, fset = None):\n",
    "        self.fget = fget\n",
    "        self.fset = fset\n",
    "\n",
    "    def __set_name__(self, owner_class, property_name):\n",
    "        self.property_name = property_name\n",
    "\n",
    "    def __get__(self, instance, owner_class):\n",
    "        print(\"__get__ called\")\n",
    "        if instance is None:\n",
    "            print(\"no instance given\")\n",
    "            return self\n",
    "\n",
    "        if self.fget is None:\n",
    "            raise AttributeError(f\"{self.property_name} is not readable.\")\n",
    "            \n",
    "        return self.fget(instance)\n",
    "    \n",
    "    def __set__(self, instance, value):\n",
    "        print(\"__set__ called\")\n",
    "        if self.fset is None:\n",
    "            raise AttributeError(f\"{self.property_name} is not writable.\")\n",
    "\n",
    "        self.fset(instance, value)\n",
    "\n",
    "    def setter(self, fset):\n",
    "        # used with decorator syntax\n",
    "        self.fset = fset\n",
    "        return self\n"
   ]
  },
  {
   "cell_type": "code",
   "execution_count": 32,
   "id": "107ae100-25b3-4d84-9578-89b5f97e61e5",
   "metadata": {},
   "outputs": [],
   "source": [
    "class Person:\n",
    "    @MakeProperty\n",
    "    def name(self):\n",
    "        return getattr(self, \"_name\", None)\n",
    "\n",
    "    # at this point `name` is an instance of MakeProperty, so `setter` method can be used\n",
    "    @name.setter\n",
    "    def name(self, value):\n",
    "        self._name = value\n"
   ]
  },
  {
   "cell_type": "code",
   "execution_count": 33,
   "id": "2e405c86-f0ce-47a8-9142-c01552b621f8",
   "metadata": {},
   "outputs": [
    {
     "name": "stdout",
     "output_type": "stream",
     "text": [
      "__set__ called\n"
     ]
    }
   ],
   "source": [
    "p = Person()\n",
    "p.name = \"Bob\""
   ]
  },
  {
   "cell_type": "code",
   "execution_count": 34,
   "id": "421423d5-f305-4087-83e6-c1fc4654991f",
   "metadata": {},
   "outputs": [
    {
     "name": "stdout",
     "output_type": "stream",
     "text": [
      "__get__ called\n"
     ]
    },
    {
     "data": {
      "text/plain": [
       "'Bob'"
      ]
     },
     "execution_count": 34,
     "metadata": {},
     "output_type": "execute_result"
    }
   ],
   "source": [
    "p.name"
   ]
  },
  {
   "cell_type": "code",
   "execution_count": 35,
   "id": "bb5e876e-3a3a-469d-9a59-719675a642ec",
   "metadata": {},
   "outputs": [
    {
     "data": {
      "text/plain": [
       "{'_name': 'Bob'}"
      ]
     },
     "execution_count": 35,
     "metadata": {},
     "output_type": "execute_result"
    }
   ],
   "source": [
    "p.__dict__"
   ]
  },
  {
   "cell_type": "code",
   "execution_count": null,
   "id": "c4e8ec85-dae5-4a9c-a84b-7316efc92ac7",
   "metadata": {},
   "outputs": [],
   "source": []
  }
 ],
 "metadata": {
  "kernelspec": {
   "display_name": "Python 3 (ipykernel)",
   "language": "python",
   "name": "python3"
  },
  "language_info": {
   "codemirror_mode": {
    "name": "ipython",
    "version": 3
   },
   "file_extension": ".py",
   "mimetype": "text/x-python",
   "name": "python",
   "nbconvert_exporter": "python",
   "pygments_lexer": "ipython3",
   "version": "3.12.3"
  }
 },
 "nbformat": 4,
 "nbformat_minor": 5
}
