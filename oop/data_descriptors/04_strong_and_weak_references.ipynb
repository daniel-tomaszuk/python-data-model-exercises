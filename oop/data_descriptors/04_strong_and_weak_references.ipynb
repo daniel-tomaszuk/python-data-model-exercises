{
 "cells": [
  {
   "cell_type": "code",
   "execution_count": 1,
   "id": "5747cffa-718a-417f-b4d9-66b16aded7a6",
   "metadata": {},
   "outputs": [],
   "source": [
    "import ctypes\n",
    "\n",
    "def ref_count(address) -> int:\n",
    "    return ctypes.c_long.from_address(address).value\n"
   ]
  },
  {
   "cell_type": "code",
   "execution_count": 2,
   "id": "287f01c6-c59a-46ca-95e4-66e0d80c7658",
   "metadata": {},
   "outputs": [],
   "source": [
    "class Person:\n",
    "    def __init__(self, name):\n",
    "        self.name = name\n",
    "\n",
    "\n",
    "    def __repr__(self) -> str:\n",
    "        return f\"<{type(self)} name={self.name}> @ {hex(id(self))}>\"\n"
   ]
  },
  {
   "cell_type": "code",
   "execution_count": 3,
   "id": "2bdf29f3-cda0-4eaa-b15f-15e461273f11",
   "metadata": {},
   "outputs": [
    {
     "data": {
      "text/plain": [
       "2"
      ]
     },
     "execution_count": 3,
     "metadata": {},
     "output_type": "execute_result"
    }
   ],
   "source": [
    "p1 = Person(\"Bob\")\n",
    "p1_id = id(p1)\n",
    "p2 = p1  # creates strong reference\n",
    "ref_count(p1_id)"
   ]
  },
  {
   "cell_type": "code",
   "execution_count": 4,
   "id": "987eda26-d3d1-4de6-8082-05992c31672a",
   "metadata": {},
   "outputs": [
    {
     "name": "stdout",
     "output_type": "stream",
     "text": [
      "<<class '__main__.Person'> name=Bob> @ 0x107a4f980>\n"
     ]
    }
   ],
   "source": [
    "del p1\n",
    "print(p2)  # still alive :)"
   ]
  },
  {
   "cell_type": "code",
   "execution_count": 5,
   "id": "85325803-bd5c-4130-9b4b-d5a656bb85a2",
   "metadata": {},
   "outputs": [
    {
     "data": {
      "text/plain": [
       "1"
      ]
     },
     "execution_count": 5,
     "metadata": {},
     "output_type": "execute_result"
    }
   ],
   "source": [
    "ref_count(p1_id)"
   ]
  },
  {
   "cell_type": "code",
   "execution_count": 6,
   "id": "420d95a0-5292-453d-b152-29fb2a40047f",
   "metadata": {},
   "outputs": [
    {
     "data": {
      "text/plain": [
       "0"
      ]
     },
     "execution_count": 6,
     "metadata": {},
     "output_type": "execute_result"
    }
   ],
   "source": [
    "del p2\n",
    "ref_count(p1_id)  # doesn't make sense now, might be random stuff"
   ]
  },
  {
   "cell_type": "code",
   "execution_count": 7,
   "id": "bdd7bc15-a769-4a05-938e-1c016865b66a",
   "metadata": {},
   "outputs": [
    {
     "data": {
      "text/plain": [
       "1"
      ]
     },
     "execution_count": 7,
     "metadata": {},
     "output_type": "execute_result"
    }
   ],
   "source": [
    "import weakref\n",
    "\n",
    "p1 = Person(\"Alex\")\n",
    "p1_id = id(p1)\n",
    "ref_count(p1_id)"
   ]
  },
  {
   "cell_type": "code",
   "execution_count": 8,
   "id": "e290103d-045d-4e94-b9ae-2b3362f9b9ae",
   "metadata": {},
   "outputs": [
    {
     "data": {
      "text/plain": [
       "2"
      ]
     },
     "execution_count": 8,
     "metadata": {},
     "output_type": "execute_result"
    }
   ],
   "source": [
    "p2 = p1\n",
    "ref_count(p1_id)"
   ]
  },
  {
   "cell_type": "code",
   "execution_count": 9,
   "id": "52a8d7f6-754e-4017-abc5-172cd6d71298",
   "metadata": {},
   "outputs": [
    {
     "data": {
      "text/plain": [
       "2"
      ]
     },
     "execution_count": 9,
     "metadata": {},
     "output_type": "execute_result"
    }
   ],
   "source": [
    "weak_1 = weakref.ref(p1)\n",
    "ref_count(p1_id)"
   ]
  },
  {
   "cell_type": "code",
   "execution_count": 10,
   "id": "a53ad9dc-dc76-4ded-af15-80f5114da3b2",
   "metadata": {},
   "outputs": [
    {
     "data": {
      "text/plain": [
       "<weakref at 0x107d656c0; to 'Person' at 0x107d68bf0>"
      ]
     },
     "execution_count": 10,
     "metadata": {},
     "output_type": "execute_result"
    }
   ],
   "source": [
    "weak_1"
   ]
  },
  {
   "cell_type": "code",
   "execution_count": 11,
   "id": "eda807a0-e994-4c8d-9ac1-f6f44f647a80",
   "metadata": {},
   "outputs": [
    {
     "data": {
      "text/plain": [
       "False"
      ]
     },
     "execution_count": 11,
     "metadata": {},
     "output_type": "execute_result"
    }
   ],
   "source": [
    "weak_1 is p1"
   ]
  },
  {
   "cell_type": "code",
   "execution_count": 12,
   "id": "317efa94-e12e-487f-8c49-71a0fba3b70b",
   "metadata": {},
   "outputs": [
    {
     "name": "stdout",
     "output_type": "stream",
     "text": [
      "<<class '__main__.Person'> name=Alex> @ 0x107d68bf0>\n"
     ]
    }
   ],
   "source": [
    "print(weak_1())  # is a callable"
   ]
  },
  {
   "cell_type": "code",
   "execution_count": 13,
   "id": "2b912581-3fa8-4868-a9df-1945138c108f",
   "metadata": {},
   "outputs": [
    {
     "data": {
      "text/plain": [
       "2"
      ]
     },
     "execution_count": 13,
     "metadata": {},
     "output_type": "execute_result"
    }
   ],
   "source": [
    "ref_count(p1_id)"
   ]
  },
  {
   "cell_type": "code",
   "execution_count": 14,
   "id": "e8522d43-9be3-4934-8af1-e8f9a1983964",
   "metadata": {},
   "outputs": [
    {
     "data": {
      "text/plain": [
       "3"
      ]
     },
     "execution_count": 14,
     "metadata": {},
     "output_type": "execute_result"
    }
   ],
   "source": [
    "p3 = weak_1()  # creates STRONG referece!\n",
    "ref_count(p1_id)"
   ]
  },
  {
   "cell_type": "code",
   "execution_count": 15,
   "id": "d8df184f-f45e-4461-bafc-bf62cd588c6d",
   "metadata": {},
   "outputs": [
    {
     "data": {
      "text/plain": [
       "2"
      ]
     },
     "execution_count": 15,
     "metadata": {},
     "output_type": "execute_result"
    }
   ],
   "source": [
    "del p3\n",
    "ref_count(p1_id)"
   ]
  },
  {
   "cell_type": "code",
   "execution_count": 16,
   "id": "04b1c0c8-097f-4850-a5c5-949f24ddb61a",
   "metadata": {},
   "outputs": [
    {
     "data": {
      "text/plain": [
       "1"
      ]
     },
     "execution_count": 16,
     "metadata": {},
     "output_type": "execute_result"
    }
   ],
   "source": [
    "del p2\n",
    "ref_count(p1_id)"
   ]
  },
  {
   "cell_type": "code",
   "execution_count": 17,
   "id": "7fa1b384-dd3d-4a6b-a6f3-f7f89e895667",
   "metadata": {},
   "outputs": [
    {
     "name": "stdout",
     "output_type": "stream",
     "text": [
      "<weakref at 0x107d656c0; to 'Person' at 0x107d68bf0> <<class '__main__.Person'> name=Alex> @ 0x107d68bf0>\n"
     ]
    }
   ],
   "source": [
    "print(weak_1, weak_1())"
   ]
  },
  {
   "cell_type": "code",
   "execution_count": 18,
   "id": "e1f552d2-96c8-47fa-979d-a9b5cee0aa0c",
   "metadata": {},
   "outputs": [
    {
     "data": {
      "text/plain": [
       "0"
      ]
     },
     "execution_count": 18,
     "metadata": {},
     "output_type": "execute_result"
    }
   ],
   "source": [
    "del p1\n",
    "ref_count(p1_id)"
   ]
  },
  {
   "cell_type": "code",
   "execution_count": 19,
   "id": "99d965cc-b487-4b75-938e-8d5de2173b04",
   "metadata": {},
   "outputs": [
    {
     "name": "stdout",
     "output_type": "stream",
     "text": [
      "<weakref at 0x107d656c0; dead>\n"
     ]
    }
   ],
   "source": [
    "print(weak_1)  # object that was references is dead"
   ]
  },
  {
   "cell_type": "code",
   "execution_count": 20,
   "id": "d25ecc6e-3d73-4fc7-b040-aaf4b58a89fb",
   "metadata": {},
   "outputs": [
    {
     "name": "stdout",
     "output_type": "stream",
     "text": [
      "None\n"
     ]
    }
   ],
   "source": [
    "print(weak_1())"
   ]
  },
  {
   "cell_type": "code",
   "execution_count": 21,
   "id": "0a754ecd-7083-4a69-86c5-61c1c1881f68",
   "metadata": {},
   "outputs": [],
   "source": [
    "p1 = Person(\"Max\")\n",
    "d = weakref.WeakKeyDictionary()"
   ]
  },
  {
   "cell_type": "code",
   "execution_count": 23,
   "id": "07903be3-64da-4804-8757-60163d53bff1",
   "metadata": {},
   "outputs": [
    {
     "data": {
      "text/plain": [
       "2"
      ]
     },
     "execution_count": 23,
     "metadata": {},
     "output_type": "execute_result"
    }
   ],
   "source": [
    "n = {p1: \"Test\"}  # creates strong reference\n",
    "ref_count(id(p1))"
   ]
  },
  {
   "cell_type": "code",
   "execution_count": 24,
   "id": "3970a18e-44dc-47a3-9f97-3a4904902d76",
   "metadata": {},
   "outputs": [
    {
     "data": {
      "text/plain": [
       "1"
      ]
     },
     "execution_count": 24,
     "metadata": {},
     "output_type": "execute_result"
    }
   ],
   "source": [
    "del n\n",
    "ref_count(id(p1))"
   ]
  },
  {
   "cell_type": "code",
   "execution_count": 25,
   "id": "8f7ef4c5-7c43-49ce-be21-ac573262f2a2",
   "metadata": {},
   "outputs": [
    {
     "name": "stdout",
     "output_type": "stream",
     "text": [
      "<WeakKeyDictionary at 0x107f5ac30>\n"
     ]
    }
   ],
   "source": [
    "d[p1] = \"test value\"\n",
    "print(d)"
   ]
  },
  {
   "cell_type": "code",
   "execution_count": 26,
   "id": "1722bc18-e1a6-4584-a2ee-ed1e52e4096e",
   "metadata": {},
   "outputs": [
    {
     "data": {
      "text/plain": [
       "1"
      ]
     },
     "execution_count": 26,
     "metadata": {},
     "output_type": "execute_result"
    }
   ],
   "source": [
    "ref_count(id(p1))"
   ]
  },
  {
   "cell_type": "code",
   "execution_count": 30,
   "id": "a8c84a73-59a9-4f17-b171-110cc60a58e6",
   "metadata": {},
   "outputs": [
    {
     "data": {
      "text/plain": [
       "1"
      ]
     },
     "execution_count": 30,
     "metadata": {},
     "output_type": "execute_result"
    }
   ],
   "source": [
    "weakref.getweakrefcount(p1)  # gets number of weak references"
   ]
  },
  {
   "cell_type": "code",
   "execution_count": 31,
   "id": "7981d24a-b5ab-4bd7-8955-469dbbfe6bc8",
   "metadata": {},
   "outputs": [
    {
     "data": {
      "text/plain": [
       "<weakref at 0x107d28d60; to 'Person' at 0x107f5ac90>"
      ]
     },
     "execution_count": 31,
     "metadata": {},
     "output_type": "execute_result"
    }
   ],
   "source": [
    "p1.__weakref__  # is a linked list"
   ]
  },
  {
   "cell_type": "code",
   "execution_count": 33,
   "id": "5abf1c30-ea8b-40b8-b45e-83dbfb045c71",
   "metadata": {},
   "outputs": [
    {
     "data": {
      "text/plain": [
       "({'name': 'Max'},\n",
       " ['__class__',\n",
       "  '__delattr__',\n",
       "  '__dict__',\n",
       "  '__dir__',\n",
       "  '__doc__',\n",
       "  '__eq__',\n",
       "  '__format__',\n",
       "  '__ge__',\n",
       "  '__getattribute__',\n",
       "  '__getstate__',\n",
       "  '__gt__',\n",
       "  '__hash__',\n",
       "  '__init__',\n",
       "  '__init_subclass__',\n",
       "  '__le__',\n",
       "  '__lt__',\n",
       "  '__module__',\n",
       "  '__ne__',\n",
       "  '__new__',\n",
       "  '__reduce__',\n",
       "  '__reduce_ex__',\n",
       "  '__repr__',\n",
       "  '__setattr__',\n",
       "  '__sizeof__',\n",
       "  '__str__',\n",
       "  '__subclasshook__',\n",
       "  '__weakref__',\n",
       "  'name'])"
      ]
     },
     "execution_count": 33,
     "metadata": {},
     "output_type": "execute_result"
    }
   ],
   "source": [
    "p1.__dict__, dir(p1)"
   ]
  },
  {
   "cell_type": "code",
   "execution_count": 35,
   "id": "136f2edd-d2f1-45c0-a2d9-26174d4d0dd7",
   "metadata": {},
   "outputs": [
    {
     "data": {
      "text/plain": [
       "[<weakref at 0x107d28d60; to 'Person' at 0x107f5ac90>]"
      ]
     },
     "execution_count": 35,
     "metadata": {},
     "output_type": "execute_result"
    }
   ],
   "source": [
    "list(d.keyrefs())  # returns all the weak references from the WeakKeyDictionary"
   ]
  },
  {
   "cell_type": "code",
   "execution_count": 36,
   "id": "4a3467de-5f64-4990-990f-7ba314e8488c",
   "metadata": {},
   "outputs": [
    {
     "data": {
      "text/plain": [
       "[]"
      ]
     },
     "execution_count": 36,
     "metadata": {},
     "output_type": "execute_result"
    }
   ],
   "source": [
    "del p1\n",
    "list(d.keyrefs())"
   ]
  },
  {
   "cell_type": "code",
   "execution_count": null,
   "id": "cc9da1cb-81ca-4e53-aa1f-cace43812fce",
   "metadata": {},
   "outputs": [],
   "source": []
  }
 ],
 "metadata": {
  "kernelspec": {
   "display_name": "Python 3 (ipykernel)",
   "language": "python",
   "name": "python3"
  },
  "language_info": {
   "codemirror_mode": {
    "name": "ipython",
    "version": 3
   },
   "file_extension": ".py",
   "mimetype": "text/x-python",
   "name": "python",
   "nbconvert_exporter": "python",
   "pygments_lexer": "ipython3",
   "version": "3.12.3"
  }
 },
 "nbformat": 4,
 "nbformat_minor": 5
}
