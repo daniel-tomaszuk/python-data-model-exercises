{
 "cells": [
  {
   "cell_type": "code",
   "execution_count": 1,
   "id": "af857090-eb12-4699-bfcc-4f04a0acdc9d",
   "metadata": {},
   "outputs": [],
   "source": [
    "def add(a, b):\n",
    "    return a + b\n"
   ]
  },
  {
   "cell_type": "code",
   "execution_count": 3,
   "id": "968ff90d-2876-4157-be71-a388b85411e7",
   "metadata": {},
   "outputs": [
    {
     "data": {
      "text/plain": [
       "(True, False)"
      ]
     },
     "execution_count": 3,
     "metadata": {},
     "output_type": "execute_result"
    }
   ],
   "source": [
    "hasattr(add, \"__get__\"), hasattr(add, \"__set__\")  # function is a non-data descriptor"
   ]
  },
  {
   "cell_type": "code",
   "execution_count": 4,
   "id": "fb8e8580-7167-4a71-b707-0c779ed4a159",
   "metadata": {},
   "outputs": [
    {
     "data": {
      "text/plain": [
       "<module '__main__'>"
      ]
     },
     "execution_count": 4,
     "metadata": {},
     "output_type": "execute_result"
    }
   ],
   "source": [
    "import sys\n",
    "\n",
    "me = sys.modules[\"__main__\"]\n",
    "me"
   ]
  },
  {
   "cell_type": "code",
   "execution_count": 5,
   "id": "c65a4e76-68d9-4216-a7ff-bf964530809f",
   "metadata": {},
   "outputs": [
    {
     "data": {
      "text/plain": [
       "True"
      ]
     },
     "execution_count": 5,
     "metadata": {},
     "output_type": "execute_result"
    }
   ],
   "source": [
    "f = add.__get__(None, me)\n",
    "f is add"
   ]
  },
  {
   "cell_type": "code",
   "execution_count": 6,
   "id": "e2cd7be7-00c5-4057-9bd2-30d62933f53a",
   "metadata": {},
   "outputs": [],
   "source": [
    "class Person:\n",
    "    def __init__(self, name):\n",
    "        self.name = name\n",
    "\n",
    "    def say_hello(self):\n",
    "        return f\"{self.name} says hello\"\n"
   ]
  },
  {
   "cell_type": "code",
   "execution_count": 7,
   "id": "16855ca6-01e6-4001-9618-f99f31fb049a",
   "metadata": {},
   "outputs": [
    {
     "data": {
      "text/plain": [
       "<function __main__.Person.say_hello(self)>"
      ]
     },
     "execution_count": 7,
     "metadata": {},
     "output_type": "execute_result"
    }
   ],
   "source": [
    "Person.say_hello"
   ]
  },
  {
   "cell_type": "code",
   "execution_count": 8,
   "id": "2da65bad-968a-441e-89b9-be519a2026d3",
   "metadata": {},
   "outputs": [
    {
     "data": {
      "text/plain": [
       "<bound method Person.say_hello of <__main__.Person object at 0x103702630>>"
      ]
     },
     "execution_count": 8,
     "metadata": {},
     "output_type": "execute_result"
    }
   ],
   "source": [
    "p = Person(\"Alex\")\n",
    "p.say_hello"
   ]
  },
  {
   "cell_type": "code",
   "execution_count": 9,
   "id": "023cde7a-3267-4ac7-a16c-63902b671e26",
   "metadata": {},
   "outputs": [
    {
     "data": {
      "text/plain": [
       "<bound method Person.say_hello of <__main__.Person object at 0x103702630>>"
      ]
     },
     "execution_count": 9,
     "metadata": {},
     "output_type": "execute_result"
    }
   ],
   "source": [
    "bound_method = Person.say_hello.__get__(p, Person)\n",
    "bound_method"
   ]
  },
  {
   "cell_type": "code",
   "execution_count": 12,
   "id": "6a837e8a-8ab1-4a3b-bcf9-77289e6f1707",
   "metadata": {},
   "outputs": [
    {
     "data": {
      "text/plain": [
       "False"
      ]
     },
     "execution_count": 12,
     "metadata": {},
     "output_type": "execute_result"
    }
   ],
   "source": [
    "f1 = p.say_hello\n",
    "f2 = p.say_hello\n",
    "f1 is f2  # __get__ is called every time and it returns new bound method"
   ]
  },
  {
   "cell_type": "code",
   "execution_count": 15,
   "id": "3935c4e3-9de8-4127-846c-71b82c9613da",
   "metadata": {},
   "outputs": [
    {
     "data": {
      "text/plain": [
       "('Alex says hello', 'Alex says hello')"
      ]
     },
     "execution_count": 15,
     "metadata": {},
     "output_type": "execute_result"
    }
   ],
   "source": [
    "p.say_hello(), bound_method()"
   ]
  },
  {
   "cell_type": "code",
   "execution_count": 16,
   "id": "0eaaa2cb-1d5b-4731-bbf5-982de50668cd",
   "metadata": {},
   "outputs": [
    {
     "data": {
      "text/plain": [
       "method"
      ]
     },
     "execution_count": 16,
     "metadata": {},
     "output_type": "execute_result"
    }
   ],
   "source": [
    "type(bound_method)"
   ]
  },
  {
   "cell_type": "code",
   "execution_count": 18,
   "id": "02beab7c-28de-43f1-8a7c-7d1dd8989809",
   "metadata": {},
   "outputs": [
    {
     "data": {
      "text/plain": [
       "(<function __main__.Person.say_hello(self)>,\n",
       " <function __main__.Person.say_hello(self)>)"
      ]
     },
     "execution_count": 18,
     "metadata": {},
     "output_type": "execute_result"
    }
   ],
   "source": [
    "bound_method.__func__, p.say_hello.__func__"
   ]
  },
  {
   "cell_type": "code",
   "execution_count": 24,
   "id": "cc5ae270-1232-4094-9bea-e6d99e57b2bc",
   "metadata": {},
   "outputs": [],
   "source": [
    "\n",
    "def say_hello(self):\n",
    "    return f\"{self.name} says hello!\"\n",
    "\n",
    "\n",
    "class Person:\n",
    "    def __init__(self, name):\n",
    "        self.name = name\n"
   ]
  },
  {
   "cell_type": "code",
   "execution_count": 25,
   "id": "22caec45-da9e-42bb-83f5-7a34d4d03945",
   "metadata": {},
   "outputs": [
    {
     "data": {
      "text/plain": [
       "(<function __main__.say_hello(self)>,\n",
       " <method-wrapper '__get__' of function object at 0x103ad5580>)"
      ]
     },
     "execution_count": 25,
     "metadata": {},
     "output_type": "execute_result"
    }
   ],
   "source": [
    "say_hello, say_hello.__get__  # regular function on a module level, expects one arg `self`"
   ]
  },
  {
   "cell_type": "code",
   "execution_count": 28,
   "id": "a91f8668-d59e-43de-95b6-ba7e61255c96",
   "metadata": {},
   "outputs": [
    {
     "name": "stdout",
     "output_type": "stream",
     "text": [
      "Help on class method in module builtins:\n",
      "\n",
      "class method(object)\n",
      " |  method(function, instance, /)\n",
      " |\n",
      " |  Create a bound instance method object.\n",
      " |\n",
      " |  Methods defined here:\n",
      " |\n",
      " |  __call__(self, /, *args, **kwargs)\n",
      " |      Call self as a function.\n",
      " |\n",
      " |  __delattr__(self, name, /)\n",
      " |      Implement delattr(self, name).\n",
      " |\n",
      " |  __eq__(self, value, /)\n",
      " |      Return self==value.\n",
      " |\n",
      " |  __ge__(self, value, /)\n",
      " |      Return self>=value.\n",
      " |\n",
      " |  __getattribute__(self, name, /)\n",
      " |      Return getattr(self, name).\n",
      " |\n",
      " |  __gt__(self, value, /)\n",
      " |      Return self>value.\n",
      " |\n",
      " |  __hash__(self, /)\n",
      " |      Return hash(self).\n",
      " |\n",
      " |  __le__(self, value, /)\n",
      " |      Return self<=value.\n",
      " |\n",
      " |  __lt__(self, value, /)\n",
      " |      Return self<value.\n",
      " |\n",
      " |  __ne__(self, value, /)\n",
      " |      Return self!=value.\n",
      " |\n",
      " |  __reduce__(self, /)\n",
      " |      Helper for pickle.\n",
      " |\n",
      " |  __repr__(self, /)\n",
      " |      Return repr(self).\n",
      " |\n",
      " |  __setattr__(self, name, value, /)\n",
      " |      Implement setattr(self, name, value).\n",
      " |\n",
      " |  ----------------------------------------------------------------------\n",
      " |  Static methods defined here:\n",
      " |\n",
      " |  __new__(*args, **kwargs)\n",
      " |      Create and return a new object.  See help(type) for accurate signature.\n",
      " |\n",
      " |  ----------------------------------------------------------------------\n",
      " |  Data descriptors defined here:\n",
      " |\n",
      " |  __func__\n",
      " |      the function (or other callable) implementing a method\n",
      " |\n",
      " |  __self__\n",
      " |      the instance to which a method is bound\n",
      "\n"
     ]
    }
   ],
   "source": [
    "import types\n",
    "help(types.MethodType)  # method -> function that is bound to the function"
   ]
  },
  {
   "cell_type": "code",
   "execution_count": 30,
   "id": "aabc91bc-5efd-4495-9b15-37526721c102",
   "metadata": {},
   "outputs": [
    {
     "data": {
      "text/plain": [
       "(<bound method say_hello of <__main__.Person object at 0x103d1c9b0>>,\n",
       " 'Bob says hello!')"
      ]
     },
     "execution_count": 30,
     "metadata": {},
     "output_type": "execute_result"
    }
   ],
   "source": [
    "class Person:\n",
    "    def __init__(self, name):\n",
    "        self.name = name\n",
    "\n",
    "p = Person(\"Bob\")\n",
    "the_method = types.MethodType(say_hello, p)\n",
    "the_method, the_method()"
   ]
  },
  {
   "cell_type": "code",
   "execution_count": 32,
   "id": "93eb39cc-0cb8-4020-b765-a49c465897ba",
   "metadata": {},
   "outputs": [
    {
     "data": {
      "text/plain": [
       "(<__main__.Person at 0x103d1c9b0>, <function __main__.say_hello(self)>)"
      ]
     },
     "execution_count": 32,
     "metadata": {},
     "output_type": "execute_result"
    }
   ],
   "source": [
    "p, the_method.__func__"
   ]
  },
  {
   "cell_type": "code",
   "execution_count": 35,
   "id": "a1c78904-7d05-44eb-bcf2-54baf8a30376",
   "metadata": {},
   "outputs": [],
   "source": [
    "class MyFunc:\n",
    "    def __init__(self, func):\n",
    "        self._func = func\n",
    "\n",
    "    def __get__(self, instance, owner_class):\n",
    "        if instance is None:\n",
    "            print(\"__get__ called from the class\")\n",
    "            return self._func\n",
    "        print(\"__get__ called from instance\")\n",
    "        return types.MethodType(self._func, instance)\n",
    "\n",
    "\n",
    "def hello(self):\n",
    "    print(f\"{self.name} says hello from the func!\")\n",
    "\n",
    "\n",
    "class Person:\n",
    "    def __init__(self, name):\n",
    "        self.name = name\n",
    "\n",
    "    say_hello = MyFunc(hello)"
   ]
  },
  {
   "cell_type": "code",
   "execution_count": 36,
   "id": "af511d22-c8b0-4db7-bc50-d776181d363e",
   "metadata": {},
   "outputs": [
    {
     "name": "stdout",
     "output_type": "stream",
     "text": [
      "__get__ called from the class\n"
     ]
    },
    {
     "data": {
      "text/plain": [
       "<function __main__.hello(self)>"
      ]
     },
     "execution_count": 36,
     "metadata": {},
     "output_type": "execute_result"
    }
   ],
   "source": [
    "Person.say_hello"
   ]
  },
  {
   "cell_type": "code",
   "execution_count": 37,
   "id": "769bcf61-5579-47b4-9cfe-8aec97b14ef0",
   "metadata": {},
   "outputs": [
    {
     "name": "stdout",
     "output_type": "stream",
     "text": [
      "__get__ called from instance\n",
      "__get__ called from instance\n",
      "Bob says hello from the func!\n"
     ]
    },
    {
     "data": {
      "text/plain": [
       "(<bound method hello of <__main__.Person object at 0x103b22d80>>, None)"
      ]
     },
     "execution_count": 37,
     "metadata": {},
     "output_type": "execute_result"
    }
   ],
   "source": [
    "p = Person(\"Bob\")\n",
    "p.say_hello, p.say_hello()"
   ]
  },
  {
   "cell_type": "code",
   "execution_count": null,
   "id": "3bf88494-1113-4759-97fc-324af9f54cd9",
   "metadata": {},
   "outputs": [],
   "source": []
  }
 ],
 "metadata": {
  "kernelspec": {
   "display_name": "Python 3 (ipykernel)",
   "language": "python",
   "name": "python3"
  },
  "language_info": {
   "codemirror_mode": {
    "name": "ipython",
    "version": 3
   },
   "file_extension": ".py",
   "mimetype": "text/x-python",
   "name": "python",
   "nbconvert_exporter": "python",
   "pygments_lexer": "ipython3",
   "version": "3.12.3"
  }
 },
 "nbformat": 4,
 "nbformat_minor": 5
}
