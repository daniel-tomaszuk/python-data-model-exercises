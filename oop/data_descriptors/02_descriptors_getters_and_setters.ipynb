{
 "cells": [
  {
   "cell_type": "code",
   "execution_count": null,
   "id": "138a04f4-bd77-4a81-be31-f522c636be19",
   "metadata": {},
   "outputs": [],
   "source": [
    "import datetime\n",
    "\n",
    "\n",
    "class TimeUTC:\n",
    "    def __get__(self, instance, owner_class):\n",
    "        print(f\"__get__ called with: {self}, {instance}, {owner_class}\")\n",
    "        return datetime.datetime.now(datetime.UTC).isoformat()\n",
    "        "
   ]
  },
  {
   "cell_type": "code",
   "execution_count": null,
   "id": "73070a39-9dbe-43b7-be24-64c113e5cab7",
   "metadata": {},
   "outputs": [],
   "source": [
    "class Logger1:\n",
    "    current_time = TimeUTC()\n",
    "\n",
    "\n",
    "class Logger2:\n",
    "    current_time = TimeUTC()\n"
   ]
  },
  {
   "cell_type": "code",
   "execution_count": null,
   "id": "39747886-dd9f-4736-b7df-084e5874ea0a",
   "metadata": {},
   "outputs": [],
   "source": [
    "# instance arg is set to None, because it was called from the class level\n",
    "Logger1.current_time, Logger2.current_time"
   ]
  },
  {
   "cell_type": "code",
   "execution_count": null,
   "id": "183dcbab-0129-4ac3-85d8-3688fac60897",
   "metadata": {},
   "outputs": [],
   "source": [
    "# different instances of Logger1 point to the same instance of TimeUTC!!\n",
    "l1_1 = Logger1()\n",
    "l1_2 = Logger1()\n",
    "l1_1.current_time, l1_2.current_time"
   ]
  },
  {
   "cell_type": "code",
   "execution_count": null,
   "id": "02fc5af6-591e-49f4-9bc0-89c1e43abadf",
   "metadata": {},
   "outputs": [],
   "source": [
    "class TimeUTC:\n",
    "    def __get__(self, instance, owner_class):\n",
    "        print(f\"__get__ called with: {self}, {instance}, {owner_class}\")\n",
    "        if instance is None:\n",
    "            # if called from a class level\n",
    "            return self\n",
    "        return datetime.datetime.now(datetime.UTC).isoformat()\n",
    "\n",
    "\n",
    "class Logger:\n",
    "    current_time = TimeUTC()\n"
   ]
  },
  {
   "cell_type": "code",
   "execution_count": null,
   "id": "0dfa84dc-d5d1-4b24-b184-ee980e5e3d54",
   "metadata": {},
   "outputs": [],
   "source": [
    "Logger.current_time"
   ]
  },
  {
   "cell_type": "code",
   "execution_count": null,
   "id": "9fb276d7-9074-4b97-a260-313994371e53",
   "metadata": {},
   "outputs": [],
   "source": [
    "l = Logger()\n",
    "l.current_time"
   ]
  },
  {
   "cell_type": "code",
   "execution_count": null,
   "id": "1b01b2ee-5d8e-4438-b268-67831d05f289",
   "metadata": {},
   "outputs": [],
   "source": [
    "type(Logger.current_time), type(l.current_time)"
   ]
  },
  {
   "cell_type": "code",
   "execution_count": null,
   "id": "a55f31e4-433a-47d2-8ed1-f6d5a5f7d028",
   "metadata": {},
   "outputs": [],
   "source": [
    "class Countdown:\n",
    "    def __init__(self, start):\n",
    "        self.start = start + 1\n",
    "\n",
    "    def __get__(self, instance, class_owner):\n",
    "        if instance is None:\n",
    "            return self\n",
    "        self.start -= 1\n",
    "        return self.start\n",
    "\n",
    "\n",
    "class Rocket:\n",
    "    countdown = Countdown(10)\n"
   ]
  },
  {
   "cell_type": "code",
   "execution_count": null,
   "id": "b68ce8c0-3f5d-43eb-9635-c9070a0bc8af",
   "metadata": {},
   "outputs": [],
   "source": [
    "# DANGER! descriptor instance is shared between class instances that are using the descriptor!!\n",
    "\n",
    "r1 = Rocket()\n",
    "r2 = Rocket()\n",
    "\n",
    "r1.countdown, r2.countdown, r1.countdown, r1.countdown, r2.countdown"
   ]
  },
  {
   "cell_type": "code",
   "execution_count": null,
   "id": "72a0d3e5-7687-4472-8b26-263b6bb72729",
   "metadata": {},
   "outputs": [],
   "source": [
    "r1.countdown"
   ]
  },
  {
   "cell_type": "code",
   "execution_count": null,
   "id": "114c0df3-ae78-4f72-9a4a-c6c7f1d0043b",
   "metadata": {},
   "outputs": [],
   "source": [
    "class IntegerValue:\n",
    "    \"\"\"This is a data descriptor - has __get__ and/or __set__, __delete__\"\"\"\n",
    "    def __set__(self, instance, value):  # there is no owner class as in __get__\n",
    "        print(f\"__set__ called with: {self}, {instance}, {value}\")\n",
    "\n",
    "    def __get__(self, instance, owner_class):\n",
    "        if instance is None:\n",
    "            print(f\"__get__ called from the class: {owner_class}\")\n",
    "        else:\n",
    "            print(f\"__get__ called from the instance: {instance} - {owner_class}\")\n"
   ]
  },
  {
   "cell_type": "code",
   "execution_count": null,
   "id": "f2fa49e4-350e-403a-8162-98b2078c6301",
   "metadata": {},
   "outputs": [],
   "source": [
    "class Point2D:\n",
    "    x = IntegerValue()\n",
    "    y = IntegerValue()\n"
   ]
  },
  {
   "cell_type": "code",
   "execution_count": null,
   "id": "267acae1-a528-4b42-b496-23f8d292f0c2",
   "metadata": {},
   "outputs": [],
   "source": [
    "Point2D.x"
   ]
  },
  {
   "cell_type": "code",
   "execution_count": null,
   "id": "66473366-bc8c-45fe-999c-985f5b2aec17",
   "metadata": {},
   "outputs": [],
   "source": [
    "p = Point2D()"
   ]
  },
  {
   "cell_type": "code",
   "execution_count": null,
   "id": "bde9869a-647b-4491-aae3-8b7450a652e5",
   "metadata": {},
   "outputs": [],
   "source": [
    "p.x, p.y"
   ]
  },
  {
   "cell_type": "code",
   "execution_count": null,
   "id": "e0000ad8-2b1a-4e8b-9510-064530dc1b54",
   "metadata": {},
   "outputs": [],
   "source": [
    "p.x = 5"
   ]
  }
 ],
 "metadata": {
  "kernelspec": {
   "display_name": "Python 3 (ipykernel)",
   "language": "python",
   "name": "python3"
  },
  "language_info": {
   "codemirror_mode": {
    "name": "ipython",
    "version": 3
   },
   "file_extension": ".py",
   "mimetype": "text/x-python",
   "name": "python",
   "nbconvert_exporter": "python",
   "pygments_lexer": "ipython3",
   "version": "3.12.3"
  }
 },
 "nbformat": 4,
 "nbformat_minor": 5
}
