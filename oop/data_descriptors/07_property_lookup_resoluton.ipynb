{
 "cells": [
  {
   "cell_type": "code",
   "execution_count": 1,
   "id": "113aeaf6-15f8-4c92-a4d0-f6f3e1f87f38",
   "metadata": {},
   "outputs": [],
   "source": [
    "class IntegerValue:\n",
    "    def __set__(self, instance, value):\n",
    "        print(\"__set__ called\")\n",
    "\n",
    "    def __get__(self, instance, owner_class):\n",
    "        print(\"__get__ called\")\n",
    "\n",
    "\n",
    "class Point:\n",
    "    x = IntegerValue()\n"
   ]
  },
  {
   "cell_type": "code",
   "execution_count": 2,
   "id": "6f2e5ed3-1dc7-443a-b38e-81bc986ef6a8",
   "metadata": {},
   "outputs": [
    {
     "name": "stdout",
     "output_type": "stream",
     "text": [
      "__set__ called\n",
      "__get__ called\n"
     ]
    }
   ],
   "source": [
    "p = Point()\n",
    "p.x = 10\n",
    "p.x"
   ]
  },
  {
   "cell_type": "code",
   "execution_count": 3,
   "id": "a1f7e1c2-ea33-412e-b798-dcf8c7e95717",
   "metadata": {},
   "outputs": [
    {
     "data": {
      "text/plain": [
       "{}"
      ]
     },
     "execution_count": 3,
     "metadata": {},
     "output_type": "execute_result"
    }
   ],
   "source": [
    "p.__dict__"
   ]
  },
  {
   "cell_type": "code",
   "execution_count": 4,
   "id": "a3e7abc6-6673-42b5-868f-dd196f34cbb9",
   "metadata": {},
   "outputs": [
    {
     "data": {
      "text/plain": [
       "{'x': 'hello'}"
      ]
     },
     "execution_count": 4,
     "metadata": {},
     "output_type": "execute_result"
    }
   ],
   "source": [
    "p.__dict__[\"x\"] = \"hello\"\n",
    "p.__dict__"
   ]
  },
  {
   "cell_type": "code",
   "execution_count": 5,
   "id": "155a0baf-79a0-4212-a7d6-3d3a04fd5fda",
   "metadata": {},
   "outputs": [
    {
     "name": "stdout",
     "output_type": "stream",
     "text": [
      "__get__ called\n"
     ]
    }
   ],
   "source": [
    "p.x  # Python ignores instance.__dict__ and uses data descriptor instead"
   ]
  },
  {
   "cell_type": "code",
   "execution_count": 6,
   "id": "b87e9db9-ee12-4ecc-a027-4f6a2acea80d",
   "metadata": {},
   "outputs": [],
   "source": [
    "class TimeUTC:\n",
    "    def __get__(self, instance, owner_class):\n",
    "        print(\"__get__ called\")\n",
    "\n",
    "\n",
    "class Logger:\n",
    "    current_time = TimeUTC()"
   ]
  },
  {
   "cell_type": "code",
   "execution_count": 7,
   "id": "4de05932-1c47-4f49-aa77-32f84e91848d",
   "metadata": {},
   "outputs": [
    {
     "name": "stdout",
     "output_type": "stream",
     "text": [
      "__get__ called\n"
     ]
    }
   ],
   "source": [
    "l = Logger()\n",
    "l.current_time"
   ]
  },
  {
   "cell_type": "code",
   "execution_count": 8,
   "id": "94f1a386-8211-4bf3-8a7a-c80b0fcd94b5",
   "metadata": {},
   "outputs": [
    {
     "data": {
      "text/plain": [
       "{'current_time': 'the time'}"
      ]
     },
     "execution_count": 8,
     "metadata": {},
     "output_type": "execute_result"
    }
   ],
   "source": [
    "l.__dict__[\"current_time\"] = \"the time\"\n",
    "l.__dict__"
   ]
  },
  {
   "cell_type": "code",
   "execution_count": 9,
   "id": "18312c18-5024-4f58-9e43-a170308df70d",
   "metadata": {},
   "outputs": [
    {
     "data": {
      "text/plain": [
       "'the time'"
      ]
     },
     "execution_count": 9,
     "metadata": {},
     "output_type": "execute_result"
    }
   ],
   "source": [
    "l.current_time  # non data descriptor not used if instance.__dict__ has same key"
   ]
  },
  {
   "cell_type": "code",
   "execution_count": 10,
   "id": "a0f53030-85a4-4220-b3fc-a75e4bafa9d0",
   "metadata": {},
   "outputs": [],
   "source": [
    "class ValidString:\n",
    "\n",
    "    def __init__(self, min_length = None):\n",
    "        self.min_length = min_length\n",
    "\n",
    "    def __set_name__(self, owner_class, property_name):\n",
    "        self.property_name = property_name\n",
    "\n",
    "    def __set__(self, instance, value):\n",
    "        if not isinstance(value, str):\n",
    "            raise TypeError(f\"{self.property_name} must be a string\")\n",
    "\n",
    "        if self.min_length and len(value) < self.min_length:\n",
    "            raise ValueError(f\"{self.property_name} length must be more than {self.min_length} chars\")\n",
    "\n",
    "        # access __dict__ directly to avoid infinity loop\n",
    "        # setattr(instance, self.property_name, value)\n",
    "        instance.__dict__[self.property_name] = value\n",
    "\n",
    "    def __get__(self, instance, owner_class):\n",
    "        if instance is None:\n",
    "            return self\n",
    "\n",
    "        # access __dict__ directly to avoid infinity loop\n",
    "        # return getattr(instance, self.property_name)\n",
    "        return instance.__dict__.get(self.property_name)\n",
    "\n"
   ]
  },
  {
   "cell_type": "code",
   "execution_count": 11,
   "id": "fb41fba8-b631-46f9-8ac3-6b0658c9dace",
   "metadata": {},
   "outputs": [],
   "source": [
    "class Person:\n",
    "    first_name = ValidString(1)\n",
    "    last_name = ValidString(2)\n",
    "\n",
    "\n",
    "p = Person()"
   ]
  },
  {
   "cell_type": "code",
   "execution_count": 12,
   "id": "babc8a50-96e8-4177-a0bf-072f95a3adaa",
   "metadata": {},
   "outputs": [],
   "source": [
    "p.first_name = \"Alex\"\n",
    "p.last_name = \"Smith\""
   ]
  },
  {
   "cell_type": "code",
   "execution_count": 13,
   "id": "08826016-d295-4bde-a346-52bb3fe6636a",
   "metadata": {},
   "outputs": [
    {
     "data": {
      "text/plain": [
       "{'first_name': 'Alex', 'last_name': 'Smith'}"
      ]
     },
     "execution_count": 13,
     "metadata": {},
     "output_type": "execute_result"
    }
   ],
   "source": [
    "p.__dict__"
   ]
  },
  {
   "cell_type": "code",
   "execution_count": 14,
   "id": "f06f443b-d73c-4635-9302-e09b3f385d60",
   "metadata": {},
   "outputs": [
    {
     "data": {
      "text/plain": [
       "('Alex', 'Smith')"
      ]
     },
     "execution_count": 14,
     "metadata": {},
     "output_type": "execute_result"
    }
   ],
   "source": [
    "p.first_name, p.last_name"
   ]
  },
  {
   "cell_type": "code",
   "execution_count": 15,
   "id": "d554b075-9aab-4287-a0e7-20d4ac8f2456",
   "metadata": {},
   "outputs": [
    {
     "name": "stdout",
     "output_type": "stream",
     "text": [
      "first_name length must be more than 1 chars\n"
     ]
    }
   ],
   "source": [
    "try:\n",
    "    p.first_name = \"\"\n",
    "except ValueError as e:\n",
    "    print(e)"
   ]
  },
  {
   "cell_type": "code",
   "execution_count": null,
   "id": "673a3f69-affe-42d8-87a4-f525d35ddf51",
   "metadata": {},
   "outputs": [],
   "source": []
  }
 ],
 "metadata": {
  "kernelspec": {
   "display_name": "Python 3 (ipykernel)",
   "language": "python",
   "name": "python3"
  },
  "language_info": {
   "codemirror_mode": {
    "name": "ipython",
    "version": 3
   },
   "file_extension": ".py",
   "mimetype": "text/x-python",
   "name": "python",
   "nbconvert_exporter": "python",
   "pygments_lexer": "ipython3",
   "version": "3.12.3"
  }
 },
 "nbformat": 4,
 "nbformat_minor": 5
}
