{
 "cells": [
  {
   "cell_type": "code",
   "execution_count": 1,
   "id": "1973430f-01aa-4b02-b737-04910b788955",
   "metadata": {},
   "outputs": [],
   "source": [
    "class Int:\n",
    "    def __init__(self, min_value = None, max_value = None):\n",
    "        self.min_value = min_value\n",
    "        self.max_value = max_value\n",
    "\n",
    "    def __set_name__(self, owner_class, property_name):\n",
    "        self.property_name = property_name\n",
    "\n",
    "    def __set__(self, instance, value):\n",
    "        if not isinstance(value, int):\n",
    "            raise TypeError(f\"{self.property_name} must be an integer.\")\n",
    "\n",
    "        if self.min_value is not None and value < self.min_value:\n",
    "            raise ValueError(f\"{self.property_name} must be greater than {self.min_value}\")\n",
    "\n",
    "        if self.max_value is not None and value > self.max_value:\n",
    "            raise ValueError(f\"{self.property_name} must be less than {self.max_value}\")\n",
    "\n",
    "        instance.__dict__[self.property_name] = value\n",
    "\n",
    "    def __get__(self, instance, owner_class):\n",
    "        if instance is None:\n",
    "            return self\n",
    "\n",
    "        return instance.__dict__.get(self.property_name)\n"
   ]
  },
  {
   "cell_type": "code",
   "execution_count": 2,
   "id": "e34b4a0d-b10c-43b1-8814-882a2845bbc3",
   "metadata": {},
   "outputs": [],
   "source": [
    "class Point2D:\n",
    "    x = Int(min_value=0, max_value=800)\n",
    "    y = Int(min_value=0, max_value=600)\n",
    "\n",
    "    def __init__(self, x, y):\n",
    "        self.x = x\n",
    "        self.y = y\n",
    "\n",
    "    def __repr__(self):\n",
    "        return f\"<{type(self).__name__} x={self.x} y={self.y}> @ {hex(id(self))}\"\n",
    "\n",
    "    def __str__(self):\n",
    "        return f\"({self.x}, {self.y})\"\n"
   ]
  },
  {
   "cell_type": "code",
   "execution_count": 3,
   "id": "20e3b5f4-8511-40cc-ab78-5645692791d1",
   "metadata": {},
   "outputs": [
    {
     "data": {
      "text/plain": [
       "('(5, 25)', '<Point2D x=5 y=25> @ 0x105eeb500')"
      ]
     },
     "execution_count": 3,
     "metadata": {},
     "output_type": "execute_result"
    }
   ],
   "source": [
    "p = Point2D(5, 25)\n",
    "str(p), repr(p)"
   ]
  },
  {
   "cell_type": "code",
   "execution_count": 4,
   "id": "feed5d39-93f2-4d15-8cd8-5683f7d520fd",
   "metadata": {},
   "outputs": [
    {
     "name": "stdout",
     "output_type": "stream",
     "text": [
      "x must be an integer.\n"
     ]
    }
   ],
   "source": [
    "try:\n",
    "    Point2D(\"a\", \"b\")\n",
    "except TypeError as e:\n",
    "    print(e)"
   ]
  },
  {
   "cell_type": "code",
   "execution_count": 5,
   "id": "b97db5f3-f89e-4f68-aedf-636aad3905b0",
   "metadata": {},
   "outputs": [
    {
     "name": "stdout",
     "output_type": "stream",
     "text": [
      "x must be greater than 0\n"
     ]
    }
   ],
   "source": [
    "try:\n",
    "    Point2D(-1, 20)\n",
    "except ValueError as e:\n",
    "    print(e)"
   ]
  },
  {
   "cell_type": "code",
   "execution_count": 6,
   "id": "8ca92409-e621-4af2-b9e8-736c6b37728e",
   "metadata": {},
   "outputs": [
    {
     "name": "stdout",
     "output_type": "stream",
     "text": [
      "x must be less than 800\n"
     ]
    }
   ],
   "source": [
    "try:\n",
    "    Point2D(1000, 500)\n",
    "except ValueError as e:\n",
    "    print(e)"
   ]
  },
  {
   "cell_type": "code",
   "execution_count": 7,
   "id": "4b0b9924-2c17-48e1-b9b5-2d426ac56605",
   "metadata": {},
   "outputs": [],
   "source": [
    "import collections"
   ]
  },
  {
   "cell_type": "code",
   "execution_count": 8,
   "id": "acc2089d-f637-45b6-b7ee-a0bdfa6c90bd",
   "metadata": {},
   "outputs": [
    {
     "data": {
      "text/plain": [
       "True"
      ]
     },
     "execution_count": 8,
     "metadata": {},
     "output_type": "execute_result"
    }
   ],
   "source": [
    "isinstance([1, 2, 3], collections.abc.Sequence)"
   ]
  },
  {
   "cell_type": "code",
   "execution_count": 9,
   "id": "946e0022-88fd-4c58-8636-e5690a180710",
   "metadata": {},
   "outputs": [
    {
     "data": {
      "text/plain": [
       "False"
      ]
     },
     "execution_count": 9,
     "metadata": {},
     "output_type": "execute_result"
    }
   ],
   "source": [
    "isinstance({1, 2, 3}, collections.abc.Sequence)"
   ]
  },
  {
   "cell_type": "code",
   "execution_count": 10,
   "id": "cfd530cc-a451-4e45-8feb-d1b50f37b932",
   "metadata": {},
   "outputs": [
    {
     "data": {
      "text/plain": [
       "True"
      ]
     },
     "execution_count": 10,
     "metadata": {},
     "output_type": "execute_result"
    }
   ],
   "source": [
    "isinstance([1, 2, 3], collections.abc.MutableSequence)"
   ]
  },
  {
   "cell_type": "code",
   "execution_count": 11,
   "id": "f997b4d6-e158-47d9-b583-2772abd66ebd",
   "metadata": {},
   "outputs": [
    {
     "data": {
      "text/plain": [
       "False"
      ]
     },
     "execution_count": 11,
     "metadata": {},
     "output_type": "execute_result"
    }
   ],
   "source": [
    "isinstance((1, 2, 3), collections.abc.MutableSequence)"
   ]
  },
  {
   "cell_type": "code",
   "execution_count": 12,
   "id": "50e66b02-266a-4454-8c61-098e654d361b",
   "metadata": {},
   "outputs": [],
   "source": [
    "class Point2DSequence:\n",
    "    def __init__(self, min_length = None, max_length = None):\n",
    "        self.min_length = min_length\n",
    "        self.max_length = max_length\n",
    "\n",
    "    def __set_name__(self, owner_class, name):\n",
    "        self.name = name\n",
    "\n",
    "    def __get__(self, instance, owner_class):\n",
    "        if instance is None:\n",
    "            return self\n",
    "\n",
    "        instance.__dict__.setdefault(self.name, [])\n",
    "        return instance.__dict__.get(self.name)\n",
    "\n",
    "    def __set__(self, instance, value):        \n",
    "        if not isinstance(value, collections.abc.Sequence):\n",
    "            raise TypeErrror(f\"{self.name} must be an a Sequence type.\")\n",
    "\n",
    "        if self.min_length and len(value) < self.min_length:\n",
    "            raise ValueError(f\"{self.name} length must be greater or equal to {self.min_length}\")\n",
    "\n",
    "        if self.max_length and len(value) > self.max_length:\n",
    "            raise ValueError(f\"{self.name} length must be less or equal to {self.max_length}\")\n",
    "\n",
    "        if not all(isinstance(item, Point2D) for item in value):\n",
    "            raise ValueError(f\"{self.name} allows only Point2D to be used\")\n",
    "\n",
    "        instance.__dict__[self.name] = list(value)\n"
   ]
  },
  {
   "cell_type": "code",
   "execution_count": 13,
   "id": "327be920-06bc-4c01-978f-b5a1195eda4a",
   "metadata": {},
   "outputs": [],
   "source": [
    "class Polygon:\n",
    "    vertices = Point2DSequence(min_length=3)\n",
    "\n",
    "    def __init__(self, *vertices):\n",
    "        self.vertices = vertices\n"
   ]
  },
  {
   "cell_type": "code",
   "execution_count": 14,
   "id": "f7498606-0877-463e-9b7e-7ffc22dc6a3a",
   "metadata": {},
   "outputs": [
    {
     "name": "stdout",
     "output_type": "stream",
     "text": [
      "vertices length must be greater or equal to 3\n"
     ]
    }
   ],
   "source": [
    "try:\n",
    "    Polygon()\n",
    "except ValueError as e:\n",
    "    print(e)"
   ]
  },
  {
   "cell_type": "code",
   "execution_count": 15,
   "id": "fe8c5240-21ed-47e5-b39c-08914cd07ca4",
   "metadata": {},
   "outputs": [
    {
     "name": "stdout",
     "output_type": "stream",
     "text": [
      "vertices allows only Point2D to be used\n"
     ]
    }
   ],
   "source": [
    "try:\n",
    "    Polygon(1, 2, 3, 4)\n",
    "except ValueError as e:\n",
    "    print(e)"
   ]
  },
  {
   "cell_type": "code",
   "execution_count": 16,
   "id": "28ad059d-7bc9-4f32-a784-70460b34bb56",
   "metadata": {},
   "outputs": [],
   "source": [
    "p1 = Point2D(0, 0)\n",
    "p2 = Point2D(0, 3)\n",
    "p3 = Point2D(4, 0)\n",
    "\n",
    "triangle = Polygon(p1, p2, p3)"
   ]
  },
  {
   "cell_type": "code",
   "execution_count": 17,
   "id": "43ec7185-d8b9-4d58-b2c9-a4d94eb1a7b4",
   "metadata": {},
   "outputs": [
    {
     "data": {
      "text/plain": [
       "{'vertices': [<Point2D x=0 y=0> @ 0x105f46ba0,\n",
       "  <Point2D x=0 y=3> @ 0x105f46b70,\n",
       "  <Point2D x=4 y=0> @ 0x105f46bd0]}"
      ]
     },
     "execution_count": 17,
     "metadata": {},
     "output_type": "execute_result"
    }
   ],
   "source": [
    "triangle.__dict__"
   ]
  },
  {
   "cell_type": "code",
   "execution_count": 18,
   "id": "682b7394-25a4-4bed-90df-c73a904972b3",
   "metadata": {},
   "outputs": [],
   "source": [
    "class Polygon:\n",
    "    vertices = Point2DSequence(min_length=3, max_length=4)\n",
    "\n",
    "    def __init__(self, *vertices):\n",
    "        self.vertices = vertices\n",
    "\n",
    "    def append(self, point_2d):\n",
    "        if not isinstance(point_2d, Point2D):\n",
    "            raise TypeError(\"Only Point2D instances are allowed\")\n",
    "\n",
    "        max_allowed_length = type(self).vertices.max_length\n",
    "        if max_allowed_length and len(self.vertices) >= max_allowed_length:\n",
    "            raise ValueError(\"Max allowed length exceeded\")\n",
    "\n",
    "        self.vertices.append(point_2d)\n"
   ]
  },
  {
   "cell_type": "code",
   "execution_count": 19,
   "id": "94927473-f62a-4ed7-94a0-2f2c80235973",
   "metadata": {},
   "outputs": [],
   "source": [
    "p1 = Point2D(0, 0)\n",
    "p2 = Point2D(0, 3)\n",
    "p3 = Point2D(4, 0)\n",
    "\n",
    "triangle = Polygon(p1, p2, p3)"
   ]
  },
  {
   "cell_type": "code",
   "execution_count": 20,
   "id": "7ae5cc19-bb83-4ae3-a68e-db2cf25159da",
   "metadata": {},
   "outputs": [],
   "source": [
    "triangle.append(p2)"
   ]
  },
  {
   "cell_type": "code",
   "execution_count": 21,
   "id": "0a55d542-e8b4-414f-863b-973e5bc78a25",
   "metadata": {},
   "outputs": [
    {
     "data": {
      "text/plain": [
       "{'vertices': [<Point2D x=0 y=0> @ 0x105f47dd0,\n",
       "  <Point2D x=0 y=3> @ 0x105f47a10,\n",
       "  <Point2D x=4 y=0> @ 0x105f47da0,\n",
       "  <Point2D x=0 y=3> @ 0x105f47a10]}"
      ]
     },
     "execution_count": 21,
     "metadata": {},
     "output_type": "execute_result"
    }
   ],
   "source": [
    "triangle.__dict__"
   ]
  },
  {
   "cell_type": "code",
   "execution_count": 22,
   "id": "4b27a24d-ad28-4e80-b770-8fcfc8dc5f29",
   "metadata": {},
   "outputs": [
    {
     "name": "stdout",
     "output_type": "stream",
     "text": [
      "Max allowed length exceeded\n"
     ]
    }
   ],
   "source": [
    "try:\n",
    "    triangle.append(p2)\n",
    "except ValueError as e:\n",
    "    print(e)"
   ]
  },
  {
   "cell_type": "code",
   "execution_count": null,
   "id": "08d3e4aa-7a01-4500-ae50-ecf554729f08",
   "metadata": {},
   "outputs": [],
   "source": []
  }
 ],
 "metadata": {
  "kernelspec": {
   "display_name": "Python 3 (ipykernel)",
   "language": "python",
   "name": "python3"
  },
  "language_info": {
   "codemirror_mode": {
    "name": "ipython",
    "version": 3
   },
   "file_extension": ".py",
   "mimetype": "text/x-python",
   "name": "python",
   "nbconvert_exporter": "python",
   "pygments_lexer": "ipython3",
   "version": "3.12.3"
  }
 },
 "nbformat": 4,
 "nbformat_minor": 5
}
