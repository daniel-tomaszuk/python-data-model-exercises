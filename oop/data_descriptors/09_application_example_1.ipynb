{
 "cells": [
  {
   "cell_type": "code",
   "execution_count": 1,
   "id": "1825e731-d32e-4a9e-b8ec-8524b83385d4",
   "metadata": {},
   "outputs": [],
   "source": [
    "class Int:\n",
    "    def __set_name__(self, owner_class, property_name):\n",
    "        self.property_name = property_name\n",
    "\n",
    "    def __set__(self, instance, value):\n",
    "        if not isinstance(value, int):\n",
    "            raise TypeError(f\"{self.property_name} must be an integer\")\n",
    "        instance.__dict__[self.property_name] = value\n",
    "\n",
    "    def __get__(self, instance, owner_class):\n",
    "        if instance is None:\n",
    "            return self\n",
    "\n",
    "        return instance.__dict__.get(self.property_name)\n",
    "\n",
    "\n",
    "class Float:\n",
    "    def __set_name__(self, owner_class, property_name):\n",
    "        self.property_name = property_name\n",
    "\n",
    "    def __set__(self, instance, value):\n",
    "        if not isinstance(value, float):\n",
    "            raise TypeError(f\"{self.property_name} must be a float\")\n",
    "        instance.__dict__[self.property_name] = value\n",
    "\n",
    "    def __get__(self, instance, owner_class):\n",
    "        if instance is None:\n",
    "            return self\n",
    "\n",
    "        return instance.__dict__.get(self.property_name)\n",
    "\n",
    "\n",
    "class List:\n",
    "    def __set_name__(self, owner_class, property_name):\n",
    "        self.property_name = property_name\n",
    "\n",
    "    def __set__(self, instance, value):\n",
    "        if not isinstance(value, list):\n",
    "            raise TypeError(f\"{self.property_name} must be a list\")\n",
    "        instance.__dict__[self.property_name] = value\n",
    "\n",
    "    def __get__(self, instance, owner_class):\n",
    "        if instance is None:\n",
    "            return self\n",
    "\n",
    "        return instance.__dict__.get(self.property_name)\n"
   ]
  },
  {
   "cell_type": "code",
   "execution_count": 2,
   "id": "92cfa414-7431-4c86-ab88-6fe4a8494251",
   "metadata": {},
   "outputs": [],
   "source": [
    "class Person:\n",
    "    age = Int()\n",
    "    height = Float()\n",
    "    tags = List()"
   ]
  },
  {
   "cell_type": "code",
   "execution_count": 3,
   "id": "a51ce085-66bf-4935-b5d7-8ee9fb6d0481",
   "metadata": {},
   "outputs": [
    {
     "name": "stdout",
     "output_type": "stream",
     "text": [
      "age must be an integer\n"
     ]
    }
   ],
   "source": [
    "p = Person()\n",
    "try:\n",
    "    p.age = 33.3\n",
    "except TypeError as e:\n",
    "    print(e)"
   ]
  },
  {
   "cell_type": "code",
   "execution_count": 4,
   "id": "cbf94428-5cca-4ca7-af21-062230355787",
   "metadata": {},
   "outputs": [
    {
     "name": "stdout",
     "output_type": "stream",
     "text": [
      "height must be a float\n"
     ]
    }
   ],
   "source": [
    "try:\n",
    "    p.height = 180\n",
    "except TypeError as e:\n",
    "    print(e)"
   ]
  },
  {
   "cell_type": "code",
   "execution_count": 5,
   "id": "e500da45-90bf-4feb-9109-14ee7027620a",
   "metadata": {},
   "outputs": [],
   "source": [
    "p.age = 34\n",
    "p.height = 190.0\n",
    "p.tags = [\"1\", \"2\", \"3\"]"
   ]
  },
  {
   "cell_type": "code",
   "execution_count": 6,
   "id": "43b199b4-3b32-466b-9a48-29bd569aeea5",
   "metadata": {},
   "outputs": [
    {
     "data": {
      "text/plain": [
       "(34, 190.0, ['1', '2', '3'])"
      ]
     },
     "execution_count": 6,
     "metadata": {},
     "output_type": "execute_result"
    }
   ],
   "source": [
    "p.age, p.height, p.tags"
   ]
  },
  {
   "cell_type": "code",
   "execution_count": 7,
   "id": "f457d7e3-ecee-4a0f-89af-3f2d5949acb8",
   "metadata": {},
   "outputs": [
    {
     "data": {
      "text/plain": [
       "{'age': 34, 'height': 190.0, 'tags': ['1', '2', '3']}"
      ]
     },
     "execution_count": 7,
     "metadata": {},
     "output_type": "execute_result"
    }
   ],
   "source": [
    "p.__dict__"
   ]
  },
  {
   "cell_type": "code",
   "execution_count": 8,
   "id": "365a9305-7bb9-46fa-ad1e-77d9cf22a6c7",
   "metadata": {},
   "outputs": [],
   "source": [
    "class ValidType:\n",
    "    def __init__(self, type_):\n",
    "        self._type = type_\n",
    "\n",
    "    def __set_name__(self, owner_class, property_name):\n",
    "        self.property_name = property_name\n",
    "\n",
    "    def __set__(self, instance, value):\n",
    "        if not isinstance(value, self._type):\n",
    "            raise TypeError(f\"{self.property_name} must be of type {self._type.__name__}\")\n",
    "        instance.__dict__[self.property_name] = value\n",
    "\n",
    "    def __get__(self, instance, owner_class):\n",
    "        if instance is None:\n",
    "            return self\n",
    "\n",
    "        return instance.__dict__.get(self.property_name)\n"
   ]
  },
  {
   "cell_type": "code",
   "execution_count": 9,
   "id": "42565dca-3c9d-421b-8b77-f1e23113e794",
   "metadata": {},
   "outputs": [],
   "source": [
    "class Person:\n",
    "    age = ValidType(int)\n",
    "    height = ValidType(float)\n",
    "    tags = ValidType(list)"
   ]
  },
  {
   "cell_type": "code",
   "execution_count": 10,
   "id": "639191ef-3160-41a7-975b-7c82785b9c92",
   "metadata": {},
   "outputs": [],
   "source": [
    "p = Person()\n",
    "p.age = 34\n",
    "p.height = 190.0\n",
    "p.tags = [\"1\", \"2\", \"3\"]"
   ]
  },
  {
   "cell_type": "code",
   "execution_count": 11,
   "id": "b4561f09-f54f-446e-a355-b38bf701dbb2",
   "metadata": {},
   "outputs": [
    {
     "data": {
      "text/plain": [
       "{'age': 34, 'height': 190.0, 'tags': ['1', '2', '3']}"
      ]
     },
     "execution_count": 11,
     "metadata": {},
     "output_type": "execute_result"
    }
   ],
   "source": [
    "p.__dict__"
   ]
  },
  {
   "cell_type": "code",
   "execution_count": 12,
   "id": "8ee27f14-18cf-4a3e-a1a8-5072724b3678",
   "metadata": {},
   "outputs": [
    {
     "name": "stdout",
     "output_type": "stream",
     "text": [
      "age must be of type int\n"
     ]
    }
   ],
   "source": [
    "p = Person()\n",
    "try:\n",
    "    p.age = 33.3\n",
    "except TypeError as e:\n",
    "    print(e)"
   ]
  },
  {
   "cell_type": "code",
   "execution_count": null,
   "id": "98ff6be8-a271-440c-a7f1-a85ca7a52757",
   "metadata": {},
   "outputs": [],
   "source": []
  }
 ],
 "metadata": {
  "kernelspec": {
   "display_name": "Python 3 (ipykernel)",
   "language": "python",
   "name": "python3"
  },
  "language_info": {
   "codemirror_mode": {
    "name": "ipython",
    "version": 3
   },
   "file_extension": ".py",
   "mimetype": "text/x-python",
   "name": "python",
   "nbconvert_exporter": "python",
   "pygments_lexer": "ipython3",
   "version": "3.12.3"
  }
 },
 "nbformat": 4,
 "nbformat_minor": 5
}
