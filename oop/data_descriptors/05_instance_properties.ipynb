{
 "cells": [
  {
   "cell_type": "code",
   "execution_count": 1,
   "id": "f3e00208-8648-4d19-ba48-35e8be2cd59e",
   "metadata": {},
   "outputs": [],
   "source": [
    "import ctypes\n",
    "\n",
    "def ref_count(address):\n",
    "    return ctypes.c_long.from_address(address).value\n",
    "\n",
    "\n",
    "class IntegerValue:\n",
    "    \"\"\"\n",
    "    This has memory leak - strong reference to the instance inside dict\n",
    "    \"\"\"\n",
    "    def __init__(self):\n",
    "        self.values = {}\n",
    "\n",
    "    def __set__(self, instance, value):\n",
    "        self.values[instance] = int(value)\n",
    "\n",
    "    def __get__(self, instance, owner_class):\n",
    "        if instance is None:\n",
    "            return self\n",
    "        return self.values.get(instance)\n"
   ]
  },
  {
   "cell_type": "code",
   "execution_count": 2,
   "id": "6ef2ecfa-a278-4fad-a1da-d77352b554d2",
   "metadata": {},
   "outputs": [],
   "source": [
    "import weakref\n",
    "\n",
    "\n",
    "class IntegerValue:\n",
    "    \"\"\"\n",
    "    Improved verstion with a WeakKeyDictionary - has no memory leak, but still not ideal.\n",
    "    Instance has to be hashable for example.\n",
    "    \"\"\"\n",
    "    def __init__(self):\n",
    "        self.values = weakref.WeakKeyDictionary()\n",
    "\n",
    "    def __set__(self, instance, value):\n",
    "        self.values[instance] = int(value)\n",
    "\n",
    "    def __get__(self, instance, owner_class):\n",
    "        if instance is None:\n",
    "            return self\n",
    "        return self.values.get(instance)"
   ]
  },
  {
   "cell_type": "code",
   "execution_count": 3,
   "id": "f3b0941c-6a68-4cd6-99b2-0a0dcb2db571",
   "metadata": {},
   "outputs": [
    {
     "name": "stdout",
     "output_type": "stream",
     "text": [
      "0x10a11fec0\n"
     ]
    }
   ],
   "source": [
    "class Point:\n",
    "    x = IntegerValue()\n",
    "\n",
    "\n",
    "p = Point()\n",
    "print(hex(id(p)))"
   ]
  },
  {
   "cell_type": "code",
   "execution_count": 4,
   "id": "21a1a2b8-9fcd-4f42-8d83-589cb295860f",
   "metadata": {},
   "outputs": [
    {
     "name": "stdout",
     "output_type": "stream",
     "text": [
      "2\n"
     ]
    }
   ],
   "source": [
    "p.x = 2.25\n",
    "print(p.x)"
   ]
  },
  {
   "cell_type": "code",
   "execution_count": 5,
   "id": "1ca3f93e-70af-460c-be51-2d4178446adb",
   "metadata": {},
   "outputs": [
    {
     "name": "stdout",
     "output_type": "stream",
     "text": [
      "[(<__main__.Point object at 0x10a11fec0>, 2)]\n",
      "[<weakref at 0x10a12b740; to 'Point' at 0x10a11fec0>]\n"
     ]
    }
   ],
   "source": [
    "print(list(Point.x.values.items()))\n",
    "print(Point.x.values.keyrefs())"
   ]
  },
  {
   "cell_type": "code",
   "execution_count": 6,
   "id": "8ee4d975-4feb-4b50-a82b-cc9ae926ff41",
   "metadata": {},
   "outputs": [],
   "source": [
    "del p"
   ]
  },
  {
   "cell_type": "code",
   "execution_count": 7,
   "id": "88b22590-6ad2-4e0c-9eca-14c1fb0c2bf5",
   "metadata": {},
   "outputs": [
    {
     "name": "stdout",
     "output_type": "stream",
     "text": [
      "[]\n",
      "[]\n"
     ]
    }
   ],
   "source": [
    "# after instance deletin WeakRefDictionary removes entry from the dict automatically\n",
    "print(list(Point.x.values.items()))\n",
    "print(Point.x.values.keyrefs())"
   ]
  },
  {
   "cell_type": "code",
   "execution_count": 8,
   "id": "58c80460-85f2-456f-95f5-9ad4e6a781f3",
   "metadata": {},
   "outputs": [],
   "source": [
    "class IntegerValue:\n",
    "    \"\"\"\n",
    "    Different approach with regular dict - stored instance id as a key.\n",
    "    Doesn't create strong reference, but what if id gets reused with other instance? That's possible\n",
    "    \"\"\"\n",
    "    def __init__(self):\n",
    "        self.values = {}\n",
    "\n",
    "    def __set__(self, instance, value):\n",
    "        self.values[id(instance)] = int(value)\n",
    "\n",
    "    def __get__(self, instance, owner_class):\n",
    "        if instance is None:\n",
    "            return self\n",
    "        return self.values.get(id(instance))"
   ]
  },
  {
   "cell_type": "code",
   "execution_count": 9,
   "id": "0a765d13-91f8-4e89-928d-0bc5eb64b001",
   "metadata": {},
   "outputs": [
    {
     "name": "stdout",
     "output_type": "stream",
     "text": [
      "0x10a13d820\n"
     ]
    }
   ],
   "source": [
    "class Point:\n",
    "    x = IntegerValue()\n",
    "\n",
    "    def __init__(self, x):\n",
    "        self.x = x\n",
    "\n",
    "    def __eq__(self, other):\n",
    "        # makes the class non hashable\n",
    "        return isinstance(other, Point) and self.x == other.x\n",
    "\n",
    "\n",
    "p = Point(2.25)\n",
    "print(hex(id(p)))"
   ]
  },
  {
   "cell_type": "code",
   "execution_count": 10,
   "id": "ac006a12-7064-4cf5-a46a-3bcecfaab61f",
   "metadata": {},
   "outputs": [
    {
     "name": "stdout",
     "output_type": "stream",
     "text": [
      "11\n"
     ]
    }
   ],
   "source": [
    "p.x = 11.43\n",
    "print(p.x)"
   ]
  },
  {
   "cell_type": "code",
   "execution_count": 11,
   "id": "3b1846e9-6b60-4d01-b41d-6373a1f94d93",
   "metadata": {},
   "outputs": [
    {
     "data": {
      "text/plain": [
       "(4464039968, {4464039968: 11})"
      ]
     },
     "execution_count": 11,
     "metadata": {},
     "output_type": "execute_result"
    }
   ],
   "source": [
    "id(p), Point.x.values"
   ]
  },
  {
   "cell_type": "code",
   "execution_count": 12,
   "id": "307e026a-744b-4cb1-9dd7-7571d5ae7b2b",
   "metadata": {},
   "outputs": [],
   "source": [
    "p_id = id(p)\n",
    "del p"
   ]
  },
  {
   "cell_type": "code",
   "execution_count": 13,
   "id": "a9f513f2-29cc-4aa8-9cea-c5e2d3ad9a55",
   "metadata": {},
   "outputs": [
    {
     "data": {
      "text/plain": [
       "2"
      ]
     },
     "execution_count": 13,
     "metadata": {},
     "output_type": "execute_result"
    }
   ],
   "source": [
    "ref_count(p_id)  # random stuff since reference count is 0 at this point and instance got removed"
   ]
  },
  {
   "cell_type": "code",
   "execution_count": 14,
   "id": "95e0bc59-ff1a-4442-9721-e4a645816119",
   "metadata": {},
   "outputs": [
    {
     "data": {
      "text/plain": [
       "{4464039968: 11}"
      ]
     },
     "execution_count": 14,
     "metadata": {},
     "output_type": "execute_result"
    }
   ],
   "source": [
    "Point.x.values  # still inside the dict, even if object is dead"
   ]
  },
  {
   "cell_type": "code",
   "execution_count": 15,
   "id": "32466e35-b86b-4d13-9ed5-93a2e74ca76e",
   "metadata": {},
   "outputs": [],
   "source": [
    "# it's possible to pass additonal callback functon when weakref is created\n",
    "# this hook will be fired when weakref becomes dead\n",
    "def obj_destroyed(obj):\n",
    "    print(f\"{obj} is being destroyed\")\n",
    "\n",
    "p = Point(10.25)\n",
    "w = weakref.ref(p, obj_destroyed)"
   ]
  },
  {
   "cell_type": "code",
   "execution_count": 16,
   "id": "f8d7479d-acf2-43ce-9ffd-ed5a3c707758",
   "metadata": {},
   "outputs": [
    {
     "name": "stdout",
     "output_type": "stream",
     "text": [
      "<weakref at 0x10a158c70; dead> is being destroyed\n"
     ]
    }
   ],
   "source": [
    "del p "
   ]
  },
  {
   "cell_type": "code",
   "execution_count": 17,
   "id": "3730cb06-512d-4b69-8c5b-cc5f9a6aac8c",
   "metadata": {},
   "outputs": [],
   "source": [
    "class IntegerValue:\n",
    "    \"\"\"\n",
    "    Different approach with regular dict - stored instance id as a key.\n",
    "    Doesn't create strong reference, but what if id gets reused with other instance? That's possible\n",
    "    \"\"\"\n",
    "    def __init__(self):\n",
    "        self.values = {}\n",
    "\n",
    "    def __set__(self, instance, value):\n",
    "        self.values[id(instance)] = (weakref.ref(instance, self.remove_object), int(value))\n",
    "\n",
    "    def __get__(self, instance, owner_class):\n",
    "        if instance is None:\n",
    "            return self\n",
    "        value_tuple = self.values.get(id(instance)) or (None, None)\n",
    "        return value_tuple[1]\n",
    "\n",
    "    def remove_object(self, weak_ref_obj):\n",
    "        print(f\"called remove_object with: {self}, {weak_ref_obj}\")\n",
    "\n"
   ]
  },
  {
   "cell_type": "code",
   "execution_count": 18,
   "id": "e0543a6d-92e6-4099-aa47-a844413ec6b7",
   "metadata": {},
   "outputs": [],
   "source": [
    "class Point:\n",
    "    x = IntegerValue()\n"
   ]
  },
  {
   "cell_type": "code",
   "execution_count": 19,
   "id": "d8903285-23a0-45d1-97d5-fe6288388ba3",
   "metadata": {},
   "outputs": [],
   "source": [
    "p1 = Point()\n",
    "p2 = Point()\n",
    "p1.x = 22.2\n",
    "p2.x = 33.3\n"
   ]
  },
  {
   "cell_type": "code",
   "execution_count": 20,
   "id": "e1c96e83-bdec-4073-955b-3bb6968738ec",
   "metadata": {},
   "outputs": [
    {
     "name": "stdout",
     "output_type": "stream",
     "text": [
      "{4464166768: (<weakref at 0x10a159d00; to 'Point' at 0x10a15c770>, 22), 4464166720: (<weakref at 0x10a15a570; to 'Point' at 0x10a15c740>, 33)}\n"
     ]
    }
   ],
   "source": [
    "print(Point.x.values)"
   ]
  },
  {
   "cell_type": "code",
   "execution_count": 21,
   "id": "e6d74bfb-7c91-4bb1-a1b8-e3fbbb6bfb24",
   "metadata": {},
   "outputs": [
    {
     "data": {
      "text/plain": [
       "(1, 1)"
      ]
     },
     "execution_count": 21,
     "metadata": {},
     "output_type": "execute_result"
    }
   ],
   "source": [
    "ref_count(id(p1)), ref_count(id(p2))"
   ]
  },
  {
   "cell_type": "code",
   "execution_count": 22,
   "id": "2bb12208-cc09-414f-96e6-6c0fa483271e",
   "metadata": {},
   "outputs": [
    {
     "name": "stdout",
     "output_type": "stream",
     "text": [
      "called remove_object with: <__main__.IntegerValue object at 0x10a15c290>, <weakref at 0x10a159d00; dead>\n"
     ]
    }
   ],
   "source": [
    "del p1"
   ]
  },
  {
   "cell_type": "code",
   "execution_count": 23,
   "id": "2e1fb048-50cd-44cc-8bda-4356d3e83f4b",
   "metadata": {},
   "outputs": [],
   "source": [
    "class IntegerValue:\n",
    "    \"\"\"\n",
    "    Different approach with regular dict - stored instance id as a key.\n",
    "    Doesn't create strong reference, but what if id gets reused with other instance? That's possible\n",
    "    \"\"\"\n",
    "    def __init__(self):\n",
    "        self.values = {}\n",
    "\n",
    "    def __set__(self, instance, value):\n",
    "        self.values[id(instance)] = (weakref.ref(instance, self.remove_object), int(value))\n",
    "\n",
    "    def __get__(self, instance, owner_class):\n",
    "        if instance is None:\n",
    "            return self\n",
    "        value_tuple = self.values.get(id(instance)) or (None, None)\n",
    "        return value_tuple[1]\n",
    "\n",
    "    def remove_object(self, weak_ref_obj):\n",
    "        reverse_lookup = [key for key, value in self.values.items() if value[0] is weak_ref_obj]\n",
    "        if reverse_lookup:\n",
    "            key = reverse_lookup[0]\n",
    "            del self.values[key]\n",
    "            print(f\"Removed key: {key}\")\n",
    "\n",
    "\n",
    "class Point:\n",
    "    x = IntegerValue()\n",
    "\n"
   ]
  },
  {
   "cell_type": "code",
   "execution_count": 24,
   "id": "03d25101-aa88-4951-9c31-69fd43da16d8",
   "metadata": {},
   "outputs": [],
   "source": [
    "p = Point()\n",
    "p.x = 22.2"
   ]
  },
  {
   "cell_type": "code",
   "execution_count": 25,
   "id": "35d94cb8-60d2-4514-bfa3-f753a3f943d9",
   "metadata": {},
   "outputs": [
    {
     "data": {
      "text/plain": [
       "{4464170656: (<weakref at 0x10a16c7c0; to 'Point' at 0x10a15d6a0>, 22)}"
      ]
     },
     "execution_count": 25,
     "metadata": {},
     "output_type": "execute_result"
    }
   ],
   "source": [
    "Point.x.values"
   ]
  },
  {
   "cell_type": "code",
   "execution_count": 26,
   "id": "274ec663-18fe-4ea0-af9b-0ddde024818b",
   "metadata": {},
   "outputs": [
    {
     "name": "stdout",
     "output_type": "stream",
     "text": [
      "Removed key: 4464170656\n"
     ]
    }
   ],
   "source": [
    "del p"
   ]
  },
  {
   "cell_type": "code",
   "execution_count": 27,
   "id": "a16e7beb-9564-4cd6-a7fa-03abe767b3dd",
   "metadata": {},
   "outputs": [
    {
     "data": {
      "text/plain": [
       "{}"
      ]
     },
     "execution_count": 27,
     "metadata": {},
     "output_type": "execute_result"
    }
   ],
   "source": [
    "Point.x.values"
   ]
  },
  {
   "cell_type": "code",
   "execution_count": 28,
   "id": "d332b4a7-b8df-4285-a33b-e0078e040d20",
   "metadata": {},
   "outputs": [],
   "source": [
    "# when __slots__ are used, the instance __weakref__ is removed, we need to pass it manually so weak references can be created\n",
    "class Person:\n",
    "    __slots__ = \"name\", \"__weakref__\""
   ]
  },
  {
   "cell_type": "code",
   "execution_count": 29,
   "id": "67676268-0647-47f7-916b-8fdb885cb99e",
   "metadata": {},
   "outputs": [],
   "source": [
    "p = Person()\n",
    "w = weakref.ref(p)"
   ]
  },
  {
   "cell_type": "code",
   "execution_count": 30,
   "id": "49598596-c86d-4ef7-b8f3-535ff473d464",
   "metadata": {},
   "outputs": [
    {
     "data": {
      "text/plain": [
       "(<__main__.Person at 0x10a121750>,\n",
       " <weakref at 0x10a16e430; to 'Person' at 0x10a121750>)"
      ]
     },
     "execution_count": 30,
     "metadata": {},
     "output_type": "execute_result"
    }
   ],
   "source": [
    "p, w"
   ]
  },
  {
   "cell_type": "code",
   "execution_count": 31,
   "id": "7d5a6f3e-7fe1-4564-95f5-8b24a98d3e7d",
   "metadata": {},
   "outputs": [],
   "source": [
    "class ValidString:\n",
    "    def __init__(self, min_length=0, max_length=255):\n",
    "        self.data = {}\n",
    "        self._min_length = min_length\n",
    "        self._max_length = max_length\n",
    "\n",
    "    def __set__(self, instance, value):\n",
    "        if not isinstance(value, str):\n",
    "            raise TypeError(\"Value must be a string\")\n",
    "\n",
    "        if len(value) < self._min_length:\n",
    "            raise ValueError(f\"Value should be at least {self._min_length} characters\")\n",
    "\n",
    "        if len(value) > self._max_length:\n",
    "            raise ValueError(f\"Value should be no more than {self._max_length} characters\")\n",
    "\n",
    "        self.data[id(instance)] = (weakref.ref(instance, self._clean_data), value)\n",
    "\n",
    "    def __get__(self, instance, owner_class):\n",
    "        if instance is None:\n",
    "            return self\n",
    "\n",
    "        values_tuple = self.data.get(id(instance)) or (None, None)\n",
    "        return values_tuple[1]\n",
    "\n",
    "    def _clean_data(self, weak_ref_obj):\n",
    "        print(f\"_clean_data called with: {self}, {weak_ref_obj}\")\n",
    "        instance_id = [key for key, value in self.data.items() if value[0] is weak_ref_obj]\n",
    "        if instance_id:\n",
    "            del self.data[instance_id[0]]\n",
    "\n"
   ]
  },
  {
   "cell_type": "code",
   "execution_count": 32,
   "id": "e92ba2d3-6bee-42bb-b699-a99c3d0f4a1c",
   "metadata": {},
   "outputs": [],
   "source": [
    "class Person:\n",
    "    __slots__ = \"__weakref__\",\n",
    "\n",
    "    first_name = ValidString(1, 100)\n",
    "    last_name = ValidString(1, 100)\n",
    "\n",
    "    def __eq__(self, other):\n",
    "        return isinstance(other, Person) and self.first == other.first_name and self.last_name == other.last_name\n",
    "\n",
    "    def __repr__(self):\n",
    "        return f\"<{type(self).__name__} first_name={self.first_name} last_name={self.last_name}> @ {hex(id(self))}>\"\n",
    "\n",
    "\n",
    "class BankAccount:\n",
    "    __slots__ = \"__weakref__\",\n",
    "\n",
    "    account_number = ValidString(5, 255)\n",
    "    \n",
    "    def __repr__(self):\n",
    "        return f\"<{type(self).__name__} account_number={self.account_number}> @ {hex(id(self))}>\"\n",
    "\n",
    "    def __eq__(self, other):\n",
    "        return isinstance(other, BankAccount) and self.account_number == other.account_number"
   ]
  },
  {
   "cell_type": "code",
   "execution_count": 33,
   "id": "382c91bd-3c95-4c02-a563-e12c9107df69",
   "metadata": {},
   "outputs": [
    {
     "name": "stdout",
     "output_type": "stream",
     "text": [
      "Value should be at least 1 characters\n"
     ]
    }
   ],
   "source": [
    "p1 = Person()\n",
    "\n",
    "try:\n",
    "    p1.first_name = \"\"\n",
    "except ValueError as e:\n",
    "    print(e)"
   ]
  },
  {
   "cell_type": "code",
   "execution_count": 34,
   "id": "c31a5c4e-7200-43af-9ba3-4a1ebf8bfe3d",
   "metadata": {},
   "outputs": [
    {
     "name": "stdout",
     "output_type": "stream",
     "text": [
      "called remove_object with: <__main__.IntegerValue object at 0x10a15c290>, <weakref at 0x10a15a570; dead>\n"
     ]
    }
   ],
   "source": [
    "p2 = Person()\n",
    "p1.first_name, p1.last_name = \"Bob\", \"Smith\"\n",
    "p2.first_name, p2.last_name = \"John\", \"Doe\""
   ]
  },
  {
   "cell_type": "code",
   "execution_count": 35,
   "id": "84664090-70c6-45f0-a33a-1501edeb4faa",
   "metadata": {},
   "outputs": [
    {
     "name": "stdout",
     "output_type": "stream",
     "text": [
      "<Person first_name=Bob last_name=Smith> @ 0x10a15e450>\n",
      "<Person first_name=John last_name=Doe> @ 0x10a180920>\n"
     ]
    }
   ],
   "source": [
    "print(p1)\n",
    "print(p2)"
   ]
  },
  {
   "cell_type": "code",
   "execution_count": 36,
   "id": "f2c56d97-d5c1-4d77-9331-d9d221fd9be6",
   "metadata": {},
   "outputs": [],
   "source": [
    "b1, b2 = BankAccount(), BankAccount()"
   ]
  },
  {
   "cell_type": "code",
   "execution_count": 37,
   "id": "78f7f7a9-2b78-4a65-aaa3-cd030a63ba47",
   "metadata": {},
   "outputs": [],
   "source": [
    "b1.account_number, b2.account_number = \"Savings\", \"Other\""
   ]
  },
  {
   "cell_type": "code",
   "execution_count": 38,
   "id": "05aa606c-182c-4aac-8f81-2d3bbdc0a67d",
   "metadata": {},
   "outputs": [
    {
     "name": "stdout",
     "output_type": "stream",
     "text": [
      "<BankAccount account_number=Savings> @ 0x10a181b50>\n",
      "<BankAccount account_number=Other> @ 0x10a181d00>\n"
     ]
    }
   ],
   "source": [
    "print(b1)\n",
    "print(b2)"
   ]
  },
  {
   "cell_type": "code",
   "execution_count": 39,
   "id": "805df2dc-e89c-4b2f-a642-cbe9ca6de740",
   "metadata": {},
   "outputs": [
    {
     "name": "stdout",
     "output_type": "stream",
     "text": [
      "{4464174160: (<weakref at 0x10a140d60; to 'Person' at 0x10a15e450>, 'Bob'), 4464314656: (<weakref at 0x10a1989a0; to 'Person' at 0x10a180920>, 'John')}\n",
      "{4464174160: (<weakref at 0x10a198810; to 'Person' at 0x10a15e450>, 'Smith'), 4464314656: (<weakref at 0x10a198950; to 'Person' at 0x10a180920>, 'Doe')}\n"
     ]
    }
   ],
   "source": [
    "print(Person.first_name.data)\n",
    "print(Person.last_name.data)"
   ]
  },
  {
   "cell_type": "code",
   "execution_count": 40,
   "id": "0a5a0a23-ae2b-4bc6-8d01-96d3a173aa28",
   "metadata": {},
   "outputs": [
    {
     "name": "stdout",
     "output_type": "stream",
     "text": [
      "_clean_data called with: <__main__.ValidString object at 0x10a1813d0>, <weakref at 0x10a198810; dead>\n",
      "_clean_data called with: <__main__.ValidString object at 0x10a180b90>, <weakref at 0x10a140d60; dead>\n"
     ]
    }
   ],
   "source": [
    "del p1"
   ]
  },
  {
   "cell_type": "code",
   "execution_count": 41,
   "id": "ea8c666b-103d-4ed5-954d-7fbd36c66556",
   "metadata": {},
   "outputs": [
    {
     "name": "stdout",
     "output_type": "stream",
     "text": [
      "{4464314656: (<weakref at 0x10a1989a0; to 'Person' at 0x10a180920>, 'John')}\n",
      "{4464314656: (<weakref at 0x10a198950; to 'Person' at 0x10a180920>, 'Doe')}\n"
     ]
    }
   ],
   "source": [
    "print(Person.first_name.data)\n",
    "print(Person.last_name.data)"
   ]
  },
  {
   "cell_type": "code",
   "execution_count": null,
   "id": "6ea4bceb-f3d6-4d6c-bc2f-12e9c2521bf8",
   "metadata": {},
   "outputs": [],
   "source": []
  }
 ],
 "metadata": {
  "kernelspec": {
   "display_name": "Python 3 (ipykernel)",
   "language": "python",
   "name": "python3"
  },
  "language_info": {
   "codemirror_mode": {
    "name": "ipython",
    "version": 3
   },
   "file_extension": ".py",
   "mimetype": "text/x-python",
   "name": "python",
   "nbconvert_exporter": "python",
   "pygments_lexer": "ipython3",
   "version": "3.12.3"
  }
 },
 "nbformat": 4,
 "nbformat_minor": 5
}
