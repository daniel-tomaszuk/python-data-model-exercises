{
 "cells": [
  {
   "cell_type": "code",
   "execution_count": 1,
   "id": "24a3de3d-2834-4ef4-843d-7b937ffc1ed3",
   "metadata": {},
   "outputs": [
    {
     "data": {
      "text/plain": [
       "(10, 20)"
      ]
     },
     "execution_count": 1,
     "metadata": {},
     "output_type": "execute_result"
    }
   ],
   "source": [
    "class IntegerValue:\n",
    "    def __set__(self, instance, value):\n",
    "        # try to hold the value inside the instance in the hardcodeed, dedicated variable\n",
    "        instance.stored_value = int(value)\n",
    "\n",
    "    def __get__(self, instance, owner_class):\n",
    "        if instance is None:\n",
    "            return self\n",
    "        return getattr(instance, \"stored_value\", None)\n",
    "\n",
    "\n",
    "class Point1D:\n",
    "    x = IntegerValue()\n",
    "\n",
    "\n",
    "p1, p2 = Point1D(), Point1D()\n",
    "\n",
    "p1.x = 10.1\n",
    "p2.x = 20.1\n",
    "\n",
    "p1.x, p2.x  # seems to work, but... `stored_value` is used - what if __slots__ are defined and it's not possible to use __dict__"
   ]
  },
  {
   "cell_type": "code",
   "execution_count": 2,
   "id": "c90e4609-1d59-446b-a051-2134645c7f7f",
   "metadata": {},
   "outputs": [
    {
     "data": {
      "text/plain": [
       "({'stored_value': 10}, {'stored_value': 20})"
      ]
     },
     "execution_count": 2,
     "metadata": {},
     "output_type": "execute_result"
    }
   ],
   "source": [
    "p1.__dict__, p2.__dict__"
   ]
  },
  {
   "cell_type": "code",
   "execution_count": 3,
   "id": "339b8211-6987-4984-8eb2-2c972c7c1a5e",
   "metadata": {},
   "outputs": [],
   "source": [
    "# this makes things even worse - `stored_value` from descriptor is going to be overwritten ....\n",
    "class Point2D:\n",
    "    x = IntegerValue()\n",
    "    y = IntegerValue()\n"
   ]
  },
  {
   "cell_type": "code",
   "execution_count": 4,
   "id": "3c2337b6-6ddc-4a84-af3e-6d32959337c9",
   "metadata": {},
   "outputs": [
    {
     "data": {
      "text/plain": [
       "({'stored_value': 40}, 40, 40)"
      ]
     },
     "execution_count": 4,
     "metadata": {},
     "output_type": "execute_result"
    }
   ],
   "source": [
    "p1 = Point2D()\n",
    "p1.x = 20\n",
    "p1.y = 40\n",
    "p1.__dict__, p1.x, p1.y  # x and y share the same variable for holding the value, also different instances of Point2D will do the same"
   ]
  },
  {
   "cell_type": "code",
   "execution_count": 5,
   "id": "73ac8618-a64e-44bf-8db3-5e40bc2ea632",
   "metadata": {},
   "outputs": [],
   "source": [
    "class IntegerValue:\n",
    "    def __init__(self, property_name):\n",
    "        # what if this property name already existis in the class?\n",
    "        # this would overwrite previous value\n",
    "        self.storage_name =  \"_\" + property_name\n",
    "    \n",
    "    def __set__(self, instance, value):\n",
    "        # try to hold the value inside the instance in the hardcodeed, dedicated variable\n",
    "        setattr(instance, self.storage_name, value)\n",
    "\n",
    "    def __get__(self, instance, owner_class):\n",
    "        if instance is None:\n",
    "            return self\n",
    "        return getattr(instance, self.storage_name, None)\n"
   ]
  },
  {
   "cell_type": "code",
   "execution_count": 6,
   "id": "7b175a80-05db-4cd2-9e09-a436303da342",
   "metadata": {},
   "outputs": [],
   "source": [
    "class Point2D:\n",
    "    # makes the job done  more or less, but it's ugly to use and it's easy to make an error\n",
    "    x = IntegerValue(\"x\")\n",
    "    y = IntegerValue(\"y\")"
   ]
  },
  {
   "cell_type": "code",
   "execution_count": 7,
   "id": "6bfd32f3-abdd-41ce-9d4f-3ea271321bd9",
   "metadata": {},
   "outputs": [],
   "source": [
    "a = Point2D()\n",
    "b = Point2D()\n",
    "\n",
    "a.x = 10\n",
    "a.y = 15\n",
    "\n",
    "b.x = 1\n",
    "b.y = 5"
   ]
  },
  {
   "cell_type": "code",
   "execution_count": 8,
   "id": "0a979e15-1690-48ca-94ac-e096208c90ce",
   "metadata": {},
   "outputs": [
    {
     "data": {
      "text/plain": [
       "(10, 15, {'_x': 10, '_y': 15})"
      ]
     },
     "execution_count": 8,
     "metadata": {},
     "output_type": "execute_result"
    }
   ],
   "source": [
    "a.x, a.y, a.__dict__"
   ]
  },
  {
   "cell_type": "code",
   "execution_count": 9,
   "id": "f1d0f346-6379-440b-b553-d804b598c371",
   "metadata": {},
   "outputs": [
    {
     "data": {
      "text/plain": [
       "(1, 5, {'_x': 1, '_y': 5})"
      ]
     },
     "execution_count": 9,
     "metadata": {},
     "output_type": "execute_result"
    }
   ],
   "source": [
    "b.x, b.y, b.__dict__"
   ]
  },
  {
   "cell_type": "code",
   "execution_count": 18,
   "id": "a941ee49-b967-4371-8bc8-75ffd27f7d87",
   "metadata": {},
   "outputs": [],
   "source": [
    "class IntegerValue:\n",
    "    # another approach to the instance values holding problem\n",
    "    # works on first sight, but it requires instance to be hashable and \n",
    "    # introduces memory leak as a bonus! :) \n",
    "    # Notice that instance has now additional reference - self.values is holding it,\n",
    "    # that way garbage collector will never clean the instance memory\n",
    "    def __init__(self):\n",
    "        # each descriptor instance has it's own values dict\n",
    "        self.values = {}\n",
    "\n",
    "    def __set__(self, instance, value):\n",
    "        # assuming instance is hashable!\n",
    "        print(f\"SETTING: {self} - {instance} - {value}\")\n",
    "        self.values[instance] = value\n",
    "\n",
    "    def __get__(self, instance, owner_class):\n",
    "        if instance is None:\n",
    "            return self\n",
    "        return self.values.get(instance)\n"
   ]
  },
  {
   "cell_type": "code",
   "execution_count": 29,
   "id": "17ba103d-d71b-4c81-ac9b-54b23f8bc464",
   "metadata": {},
   "outputs": [],
   "source": [
    "class Point2D:\n",
    "    x = IntegerValue()\n",
    "    y = IntegerValue()\n",
    "\n",
    "a = Point2D()"
   ]
  },
  {
   "cell_type": "code",
   "execution_count": 30,
   "id": "405e4cad-7847-471c-ae26-d46dc09557f1",
   "metadata": {},
   "outputs": [
    {
     "data": {
      "text/plain": [
       "{}"
      ]
     },
     "execution_count": 30,
     "metadata": {},
     "output_type": "execute_result"
    }
   ],
   "source": [
    "a.__dict__"
   ]
  },
  {
   "cell_type": "code",
   "execution_count": 31,
   "id": "9435c222-2253-4b38-a5e5-38074f284e6f",
   "metadata": {},
   "outputs": [
    {
     "name": "stdout",
     "output_type": "stream",
     "text": [
      "SETTING: <__main__.IntegerValue object at 0x10bc70470> - <__main__.Point2D object at 0x10bc72660> - 10\n",
      "SETTING: <__main__.IntegerValue object at 0x10bc705f0> - <__main__.Point2D object at 0x10bc72660> - 20\n"
     ]
    },
    {
     "data": {
      "text/plain": [
       "(10, 20)"
      ]
     },
     "execution_count": 31,
     "metadata": {},
     "output_type": "execute_result"
    }
   ],
   "source": [
    "a.x = 10\n",
    "a.y = 20\n",
    "a.x, a.y  # each property (x or y) has it's own descriptor instance which in turn has it's own dict `values` instance"
   ]
  },
  {
   "cell_type": "code",
   "execution_count": 32,
   "id": "a156503a-8949-414b-b115-ff6cc05f5142",
   "metadata": {},
   "outputs": [
    {
     "data": {
      "text/plain": [
       "{<__main__.Point2D at 0x10bc72660>: 10}"
      ]
     },
     "execution_count": 32,
     "metadata": {},
     "output_type": "execute_result"
    }
   ],
   "source": [
    "Point2D.x.values"
   ]
  },
  {
   "cell_type": "code",
   "execution_count": 33,
   "id": "dd862a31-12bf-48a3-bfe5-34df019b5f9f",
   "metadata": {},
   "outputs": [],
   "source": [
    "b = Point2D()\n",
    "b.x"
   ]
  },
  {
   "cell_type": "code",
   "execution_count": 34,
   "id": "e58b6ca2-f832-49d6-86d9-2c19e0e2a9f6",
   "metadata": {},
   "outputs": [
    {
     "name": "stdout",
     "output_type": "stream",
     "text": [
      "SETTING: <__main__.IntegerValue object at 0x10bc70470> - <__main__.Point2D object at 0x10bb8f650> - 44\n"
     ]
    }
   ],
   "source": [
    "b.x = 44"
   ]
  },
  {
   "cell_type": "code",
   "execution_count": 35,
   "id": "53c52348-cd9f-419e-9689-35ac75c1e8ea",
   "metadata": {},
   "outputs": [
    {
     "data": {
      "text/plain": [
       "({<__main__.Point2D at 0x10bc72660>: 10,\n",
       "  <__main__.Point2D at 0x10bb8f650>: 44},\n",
       " {<__main__.Point2D at 0x10bc72660>: 20})"
      ]
     },
     "execution_count": 35,
     "metadata": {},
     "output_type": "execute_result"
    }
   ],
   "source": [
    "Point2D.x.values, Point2D.y.values  # access to each instance values"
   ]
  },
  {
   "cell_type": "code",
   "execution_count": 36,
   "id": "a96d10d8-7c14-437b-a3b8-319a97a0aae9",
   "metadata": {},
   "outputs": [
    {
     "name": "stdout",
     "output_type": "stream",
     "text": [
      "0x10bc72660\n"
     ]
    }
   ],
   "source": [
    "print(hex(id(a)))\n",
    "del a  # won't clear the memorty, reference is still present inside data descriptors values!"
   ]
  },
  {
   "cell_type": "code",
   "execution_count": 38,
   "id": "08231a0f-1e26-4a82-a62e-c33ab3c122d3",
   "metadata": {},
   "outputs": [
    {
     "data": {
      "text/plain": [
       "{<__main__.Point2D at 0x10bc72660>: 10, <__main__.Point2D at 0x10bb8f650>: 44}"
      ]
     },
     "execution_count": 38,
     "metadata": {},
     "output_type": "execute_result"
    }
   ],
   "source": [
    "Point2D.x.values  # object `a` still alive, well and kicking"
   ]
  },
  {
   "cell_type": "code",
   "execution_count": 42,
   "id": "166fcaae-494a-4e2c-ac63-2d15ed2fde37",
   "metadata": {},
   "outputs": [],
   "source": [
    "import ctypes\n",
    "\n",
    "def ref_count(address):\n",
    "    return ctypes.c_long.from_address(address).value"
   ]
  },
  {
   "cell_type": "code",
   "execution_count": 43,
   "id": "ed3a323c-a7ee-4002-be4e-4f1d8f728c77",
   "metadata": {},
   "outputs": [
    {
     "data": {
      "text/plain": [
       "1"
      ]
     },
     "execution_count": 43,
     "metadata": {},
     "output_type": "execute_result"
    }
   ],
   "source": [
    "p1 = Point2D()\n",
    "id_p1 = id(p1)\n",
    "\n",
    "ref_count(id_p1)"
   ]
  },
  {
   "cell_type": "code",
   "execution_count": 46,
   "id": "65717318-ace8-47e7-b8a9-c36335102fe6",
   "metadata": {},
   "outputs": [
    {
     "name": "stdout",
     "output_type": "stream",
     "text": [
      "SETTING: <__main__.IntegerValue object at 0x10bc70470> - <__main__.Point2D object at 0x10bcd8530> - 1234\n"
     ]
    },
    {
     "data": {
      "text/plain": [
       "2"
      ]
     },
     "execution_count": 46,
     "metadata": {},
     "output_type": "execute_result"
    }
   ],
   "source": [
    "p1.x = 1234\n",
    "ref_count(id_p1)  # reference count incremented"
   ]
  },
  {
   "cell_type": "code",
   "execution_count": 47,
   "id": "7b7d959c-7865-40bb-884d-890fc4aad49c",
   "metadata": {},
   "outputs": [
    {
     "data": {
      "text/plain": [
       "True"
      ]
     },
     "execution_count": 47,
     "metadata": {},
     "output_type": "execute_result"
    }
   ],
   "source": [
    "\"p1\" in globals()\n"
   ]
  },
  {
   "cell_type": "code",
   "execution_count": 48,
   "id": "6fc61fcd-fa30-4ba6-ae08-2ba924a75841",
   "metadata": {},
   "outputs": [],
   "source": [
    "del p1"
   ]
  },
  {
   "cell_type": "code",
   "execution_count": 51,
   "id": "96cedc9a-9f47-4ece-a82e-0eec1e058936",
   "metadata": {},
   "outputs": [
    {
     "data": {
      "text/plain": [
       "False"
      ]
     },
     "execution_count": 51,
     "metadata": {},
     "output_type": "execute_result"
    }
   ],
   "source": [
    "\"p1\" in globals()  # gives False, so we deleted the `p1` object?"
   ]
  },
  {
   "cell_type": "code",
   "execution_count": 52,
   "id": "a61b79f7-1c2b-4ba0-bfef-5ae918401164",
   "metadata": {},
   "outputs": [],
   "source": [
    "# nope, still some references left\n",
    "re"
   ]
  },
  {
   "cell_type": "code",
   "execution_count": null,
   "id": "79f86c91-f469-42a7-a897-0cc6f2b35238",
   "metadata": {},
   "outputs": [],
   "source": []
  }
 ],
 "metadata": {
  "kernelspec": {
   "display_name": "Python 3 (ipykernel)",
   "language": "python",
   "name": "python3"
  },
  "language_info": {
   "codemirror_mode": {
    "name": "ipython",
    "version": 3
   },
   "file_extension": ".py",
   "mimetype": "text/x-python",
   "name": "python",
   "nbconvert_exporter": "python",
   "pygments_lexer": "ipython3",
   "version": "3.12.3"
  }
 },
 "nbformat": 4,
 "nbformat_minor": 5
}
