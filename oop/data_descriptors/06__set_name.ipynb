{
 "cells": [
  {
   "cell_type": "code",
   "execution_count": 1,
   "id": "83a21e7e-0988-4563-a076-73869da3c629",
   "metadata": {},
   "outputs": [],
   "source": [
    "# __set_name__ is called first time when attr is being set, can be used to check attr name from instance\n",
    "\n",
    "\n",
    "class ValidString:\n",
    "    def __set_name__(self, owner_class, property_name):\n",
    "        print(f\"__set_name__ - {self},  {owner_class}, {property_name}\")\n"
   ]
  },
  {
   "cell_type": "code",
   "execution_count": 2,
   "id": "5da5a7cc-ecef-4450-9eb8-fbcedb6730c6",
   "metadata": {},
   "outputs": [
    {
     "name": "stdout",
     "output_type": "stream",
     "text": [
      "__set_name__ - <__main__.ValidString object at 0x112fe7170>,  <class '__main__.Person'>, name\n"
     ]
    }
   ],
   "source": [
    "class Person:\n",
    "    name = ValidString()  # fired during compile time, so right away. Not when Person instance is requested"
   ]
  },
  {
   "cell_type": "code",
   "execution_count": 3,
   "id": "46bb517d-a62a-4994-9a56-214b3ec8ad99",
   "metadata": {},
   "outputs": [
    {
     "name": "stdout",
     "output_type": "stream",
     "text": [
      "__set_name__ - <__main__.ValidString object at 0x112fe6b10>,  <class '__main__.Person'>, first_name\n",
      "__set_name__ - <__main__.ValidString object at 0x112fe7d70>,  <class '__main__.Person'>, last_name\n"
     ]
    }
   ],
   "source": [
    "class ValidString:\n",
    "    def __set_name__(self, owner_class, property_name):\n",
    "        print(f\"__set_name__ - {self},  {owner_class}, {property_name}\")\n",
    "        self.property_name = property_name\n",
    "\n",
    "    def __get__(self, instance, owner_class):\n",
    "        if instance is None:\n",
    "            return self\n",
    "\n",
    "        print(f\"__get__ called for property `{self.property_name}` of instance `{instance}`\")\n",
    "\n",
    "\n",
    "class Person:\n",
    "    first_name = ValidString()\n",
    "    last_name = ValidString()\n"
   ]
  },
  {
   "cell_type": "code",
   "execution_count": 4,
   "id": "4213f127-2f03-4218-832d-fce67bf074f8",
   "metadata": {},
   "outputs": [
    {
     "data": {
      "text/plain": [
       "('first_name', 'last_name')"
      ]
     },
     "execution_count": 4,
     "metadata": {},
     "output_type": "execute_result"
    }
   ],
   "source": [
    "Person.first_name.property_name, Person.last_name.property_name"
   ]
  },
  {
   "cell_type": "code",
   "execution_count": 5,
   "id": "76509228-11f8-40d3-9932-031e56846abc",
   "metadata": {},
   "outputs": [
    {
     "name": "stdout",
     "output_type": "stream",
     "text": [
      "__get__ called for property `first_name` of instance `<__main__.Person object at 0x112fe4ce0>`\n"
     ]
    }
   ],
   "source": [
    "p = Person()\n",
    "\n",
    "p.first_name"
   ]
  },
  {
   "cell_type": "code",
   "execution_count": 6,
   "id": "df8a5e61-d3bf-4ef6-8d03-3029330d475b",
   "metadata": {},
   "outputs": [],
   "source": [
    "class ValidString:\n",
    "    \"\"\"\n",
    "        Data descriptor that uses instance __dict__ to get and set values.\n",
    "        It won't work if __slots__ are defined for the instance.\n",
    "        (Unless __dict__ has been passed as one of the __slots__ item)\n",
    "    \"\"\"\n",
    "\n",
    "    def __init__(self, min_length = None):\n",
    "        self.min_length = min_length\n",
    "\n",
    "    def __set_name__(self, owner_class, property_name):\n",
    "        self.property_name = property_name\n",
    "\n",
    "    def __set__(self, instance, value):\n",
    "        if not isinstance(value, str):\n",
    "            raise TypeError(f\"`{type(instance).__name__}.{self.property_name}` should be a string.\")\n",
    "\n",
    "        if self.min_length and len(value) < self.min_length:\n",
    "            raise ValueError(f\"`{type(instance).__name__}.{self.property_name}` should be at least {self.min_length} characters long.\")\n",
    "\n",
    "        setattr(instance, self._property_name_key, value)\n",
    "\n",
    "    def __get__(self, instance, owner_class):\n",
    "        if instance is None:\n",
    "            return self\n",
    "\n",
    "        return getattr(instance, self._property_name_key, None)\n",
    "\n",
    "    @property\n",
    "    def _property_name_key(self):\n",
    "        return f\"_{self.property_name}\"\n",
    "\n",
    "\n",
    "class Person:\n",
    "    first_name = ValidString(1)\n",
    "    last_name = ValidString(2)\n"
   ]
  },
  {
   "cell_type": "code",
   "execution_count": 7,
   "id": "853f530d-77f8-4114-bdc7-9783509e18ec",
   "metadata": {},
   "outputs": [
    {
     "name": "stdout",
     "output_type": "stream",
     "text": [
      "`Person.last_name` should be at least 2 characters long.\n"
     ]
    }
   ],
   "source": [
    "p = Person()\n",
    "p.first_name = \"Alex\"\n",
    "try:\n",
    "    p.last_name = \"G\"\n",
    "except ValueError as e:\n",
    "    print(e)\n"
   ]
  },
  {
   "cell_type": "code",
   "execution_count": 8,
   "id": "7e31589c-3d52-48e6-87bc-34383acf1a83",
   "metadata": {},
   "outputs": [
    {
     "name": "stdout",
     "output_type": "stream",
     "text": [
      "`Person.last_name` should be a string.\n"
     ]
    }
   ],
   "source": [
    "try:\n",
    "    p.last_name = 123\n",
    "except TypeError as e:\n",
    "    print(e)"
   ]
  },
  {
   "cell_type": "code",
   "execution_count": 9,
   "id": "56fd5f94-fc3f-4b75-b2cf-77e725c77f1f",
   "metadata": {},
   "outputs": [],
   "source": [
    "p.last_name = \"Smith\""
   ]
  },
  {
   "cell_type": "code",
   "execution_count": 10,
   "id": "dca11598-24d2-4e5c-8331-42d0376f44a3",
   "metadata": {},
   "outputs": [
    {
     "data": {
      "text/plain": [
       "('Alex', 'Smith')"
      ]
     },
     "execution_count": 10,
     "metadata": {},
     "output_type": "execute_result"
    }
   ],
   "source": [
    "p.first_name, p.last_name"
   ]
  },
  {
   "cell_type": "code",
   "execution_count": 11,
   "id": "fe19a84c-8361-4f39-8952-c4ebced18225",
   "metadata": {},
   "outputs": [
    {
     "data": {
      "text/plain": [
       "{'_first_name': 'Alex', '_last_name': 'Smith'}"
      ]
     },
     "execution_count": 11,
     "metadata": {},
     "output_type": "execute_result"
    }
   ],
   "source": [
    "p.__dict__"
   ]
  },
  {
   "cell_type": "code",
   "execution_count": 12,
   "id": "0db77815-f2f6-4a66-b850-11e1877d5e27",
   "metadata": {},
   "outputs": [
    {
     "data": {
      "text/plain": [
       "{'_first_name': 'Some required data'}"
      ]
     },
     "execution_count": 12,
     "metadata": {},
     "output_type": "execute_result"
    }
   ],
   "source": [
    "p = Person()\n",
    "p._first_name = \"Some required data\"\n",
    "p.__dict__"
   ]
  },
  {
   "cell_type": "code",
   "execution_count": 13,
   "id": "af6936bd-aea2-4b43-afd3-48351ac3bff6",
   "metadata": {},
   "outputs": [
    {
     "data": {
      "text/plain": [
       "{'_first_name': 'Bob'}"
      ]
     },
     "execution_count": 13,
     "metadata": {},
     "output_type": "execute_result"
    }
   ],
   "source": [
    "p.first_name = \"Bob\"\n",
    "p.__dict__  # previous data got overwritten"
   ]
  },
  {
   "cell_type": "code",
   "execution_count": 14,
   "id": "df7369b9-fd74-4938-aa02-129163ac4393",
   "metadata": {},
   "outputs": [],
   "source": [
    "class ValidString:\n",
    "    def __init__(self, min_length = None):\n",
    "        self.min_length = min_length\n",
    "\n",
    "    def __set_name__(self, owner_class, property_name):\n",
    "        self.property_name = property_name\n",
    "\n",
    "    def __set__(self, instance, value):\n",
    "        if not isinstance(value, str):\n",
    "            raise TypeError(f\"`{type(instance).__name__}.{self.property_name}` should be a string.\")\n",
    "\n",
    "        if self.min_length and len(value) < self.min_length:\n",
    "            raise ValueError(f\"`{type(instance).__name__}.{self.property_name}` should be at least {self.min_length} characters long.\")\n",
    "\n",
    "        \n",
    "        # setattr(instance, self._property_name_key, value)\n",
    "        # can't use setattr as it will call __set__ and create infitite loop\n",
    "        # use instance.__dict__ instead\n",
    "        print(\"__set__ called\")\n",
    "        instance.__dict__[self.property_name] = value\n",
    "\n",
    "    def __get__(self, instance, owner_class):\n",
    "        if instance is None:\n",
    "            return self\n",
    "\n",
    "        # return getattr(instance, self._property_name_key, None)\n",
    "        # getattr can't be used because it causes infinite loop\n",
    "        print(\"__get__ called\")\n",
    "        return instance.__dict__.get(self.property_name)\n",
    "\n",
    "\n",
    "class Person:\n",
    "    first_name = ValidString(1)\n",
    "    last_name = ValidString(2)\n"
   ]
  },
  {
   "cell_type": "code",
   "execution_count": 15,
   "id": "2accb4a2-7077-4956-942d-b2ff52143007",
   "metadata": {},
   "outputs": [
    {
     "name": "stdout",
     "output_type": "stream",
     "text": [
      "__set__ called\n"
     ]
    }
   ],
   "source": [
    "p = Person()\n",
    "p.first_name = \"Bob\""
   ]
  },
  {
   "cell_type": "code",
   "execution_count": 16,
   "id": "52937559-5e42-44ed-b8ed-4ca1978db137",
   "metadata": {},
   "outputs": [
    {
     "data": {
      "text/plain": [
       "{'first_name': 'Bob'}"
      ]
     },
     "execution_count": 16,
     "metadata": {},
     "output_type": "execute_result"
    }
   ],
   "source": [
    "p.__dict__"
   ]
  },
  {
   "cell_type": "code",
   "execution_count": 17,
   "id": "3d215a30-9469-460a-bf59-59132ede2053",
   "metadata": {},
   "outputs": [
    {
     "name": "stdout",
     "output_type": "stream",
     "text": [
      "`Person.first_name` should be at least 1 characters long.\n"
     ]
    }
   ],
   "source": [
    "try:\n",
    "    p.first_name = \"\"  # data descriptor still works, hasn't been overwritten by the instance attribute\n",
    "except ValueError as e:\n",
    "    print(e)"
   ]
  },
  {
   "cell_type": "code",
   "execution_count": 18,
   "id": "f833e64f-b50c-4614-9a87-faf7a3daa164",
   "metadata": {},
   "outputs": [
    {
     "name": "stdout",
     "output_type": "stream",
     "text": [
      "__get__ called\n",
      "__get__ called\n"
     ]
    },
    {
     "data": {
      "text/plain": [
       "('Bob', None)"
      ]
     },
     "execution_count": 18,
     "metadata": {},
     "output_type": "execute_result"
    }
   ],
   "source": [
    "p.first_name, p.last_name  # descriptor is still used!"
   ]
  },
  {
   "cell_type": "code",
   "execution_count": 19,
   "id": "e1296523-22a3-4e4c-94e7-08aa9c9dd1d5",
   "metadata": {},
   "outputs": [
    {
     "data": {
      "text/plain": [
       "{'first_name': 'Bob'}"
      ]
     },
     "execution_count": 19,
     "metadata": {},
     "output_type": "execute_result"
    }
   ],
   "source": [
    "p.__dict__"
   ]
  }
 ],
 "metadata": {
  "kernelspec": {
   "display_name": "Python 3 (ipykernel)",
   "language": "python",
   "name": "python3"
  },
  "language_info": {
   "codemirror_mode": {
    "name": "ipython",
    "version": 3
   },
   "file_extension": ".py",
   "mimetype": "text/x-python",
   "name": "python",
   "nbconvert_exporter": "python",
   "pygments_lexer": "ipython3",
   "version": "3.12.3"
  }
 },
 "nbformat": 4,
 "nbformat_minor": 5
}
