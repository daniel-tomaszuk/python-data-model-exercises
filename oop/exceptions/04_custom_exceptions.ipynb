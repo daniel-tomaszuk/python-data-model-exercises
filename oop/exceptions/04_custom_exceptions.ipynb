{
 "cells": [
  {
   "cell_type": "code",
   "execution_count": 1,
   "id": "7ea7b21c-54e7-417b-adfc-171e50d5e9f0",
   "metadata": {},
   "outputs": [],
   "source": [
    "import sys\n",
    "\n",
    "\n",
    "class TimeoutError(Exception):\n",
    "    \"\"\"Timeout exception\"\"\"\n"
   ]
  },
  {
   "cell_type": "code",
   "execution_count": 2,
   "id": "41df6f57-4caf-4ba6-b477-f0a99e302039",
   "metadata": {},
   "outputs": [
    {
     "name": "stdout",
     "output_type": "stream",
     "text": [
      "Timeout occured\n"
     ]
    }
   ],
   "source": [
    "try:\n",
    "    raise TimeoutError(\"Timeout occured\")\n",
    "except TimeoutError as e:\n",
    "    print(e)"
   ]
  },
  {
   "cell_type": "code",
   "execution_count": 3,
   "id": "d02898ec-6c11-4b84-8c9a-718ef75ea5ee",
   "metadata": {},
   "outputs": [
    {
     "name": "stdout",
     "output_type": "stream",
     "text": [
      "<class '__main__.TimeoutError'> Timeout occured <traceback object at 0x10543ad40>\n"
     ]
    }
   ],
   "source": [
    "try:\n",
    "    raise TimeoutError(\"Timeout occured\")\n",
    "except:\n",
    "    ex_type, ex, tb = sys.exc_info()\n",
    "    print(ex_type, ex, tb)"
   ]
  },
  {
   "cell_type": "code",
   "execution_count": 4,
   "id": "3c1f428c-e9e7-4184-a833-65b00baaf853",
   "metadata": {},
   "outputs": [
    {
     "name": "stdout",
     "output_type": "stream",
     "text": [
      "('Timeout occured',) <traceback object at 0x10543ad40>\n"
     ]
    }
   ],
   "source": [
    "try:\n",
    "    raise TimeoutError(\"Timeout occured\")\n",
    "except Exception as e:\n",
    "    print(ex.args, ex.__traceback__)"
   ]
  },
  {
   "cell_type": "code",
   "execution_count": 5,
   "id": "b1cb08bd-d028-4599-8f7f-c1b6f409d1c6",
   "metadata": {},
   "outputs": [],
   "source": [
    "class ReadOnlyError(AttributeError):\n",
    "    \"\"\"Indicates an attribute is read only\"\"\"\n"
   ]
  },
  {
   "cell_type": "code",
   "execution_count": 6,
   "id": "91f4acb0-1a8e-4c1d-8a72-e6bfaac798e6",
   "metadata": {},
   "outputs": [
    {
     "name": "stdout",
     "output_type": "stream",
     "text": [
      "ReadOnlyError('Account number is read-only')\n"
     ]
    }
   ],
   "source": [
    "try:\n",
    "    raise ReadOnlyError(\"Account number is read-only\")\n",
    "except ReadOnlyError as e:\n",
    "    print(repr(e))"
   ]
  },
  {
   "cell_type": "code",
   "execution_count": 7,
   "id": "5785355a-e83c-465f-aa34-7585612ca175",
   "metadata": {},
   "outputs": [],
   "source": [
    "class WebScraperException(Exception):\n",
    "    \"\"\"Base exception for WebScrapperTM\"\"\"\n",
    "\n",
    "\n",
    "class HTTPException(WebScraperException):\n",
    "    \"\"\"General HTTP exception for WS\"\"\"\n",
    "\n",
    "\n",
    "class InvalidUrlException(HTTPException):\n",
    "    \"\"\"Indicates that URL is invalid\"\"\"\n",
    "\n",
    "\n",
    "class TimeoutException(HTTPException):\n",
    "    \"\"\"Indicates general timeout exception in HTTP connectivity\"\"\"\n",
    "\n",
    "\n",
    "class PingTimeoutException(TimeoutException):\n",
    "    \"\"\"Ping time out\"\"\"\n",
    "\n",
    "\n",
    "class LoadTimeoutException(TimeoutException):\n",
    "    \"\"\"Page load time out\"\"\"\n",
    "\n",
    "\n",
    "class ParserException(WebScraperException):\n",
    "    \"\"\"General page parsing exception\"\"\"\n"
   ]
  },
  {
   "cell_type": "code",
   "execution_count": 8,
   "id": "00aa0712-3b87-47a9-bdc8-4e292e36a8e3",
   "metadata": {},
   "outputs": [
    {
     "name": "stdout",
     "output_type": "stream",
     "text": [
      "Ping to https://..... timed out\n"
     ]
    }
   ],
   "source": [
    "try:\n",
    "    raise PingTimeoutException(\"Ping to https://..... timed out\")\n",
    "except WebScraperException as e:\n",
    "    print(e)"
   ]
  },
  {
   "cell_type": "code",
   "execution_count": 9,
   "id": "02f2fa26-97a0-47b9-8630-683899c5abc7",
   "metadata": {},
   "outputs": [],
   "source": [
    "class APIException(Exception):\n",
    "    \"\"\"Base API Exception\"\"\"\n",
    "\n",
    "\n",
    "class ApplicationException(APIException):\n",
    "    \"\"\"Indicates an application / server error - 5XX HTTP type errors\"\"\"\n",
    "\n",
    "\n",
    "class DBException(ApplicationException):\n",
    "    \"\"\"General DB exception\"\"\"\n",
    "\n",
    "\n",
    "class DBConnectionException(DBException):\n",
    "    \"\"\"DB connectivity exception\"\"\"\n",
    "\n",
    "\n",
    "class ClientException(APIException):\n",
    "    \"\"\"Indicates exception caused by the user - 4XX HTTP type errors\"\"\"\n",
    "\n",
    "\n",
    "class NotFoundException(ClientException):\n",
    "    \"\"\"Indicates resource was not found\"\"\"\n",
    "\n",
    "\n",
    "class NotAuthorizedException(ClientException):\n",
    "    \"\"\"User is not authorized to perform action on the resource\"\"\"\n"
   ]
  },
  {
   "cell_type": "code",
   "execution_count": 10,
   "id": "be07e93f-d752-4444-990a-ab05ef56c9d7",
   "metadata": {},
   "outputs": [],
   "source": [
    "class Account:\n",
    "    def __init__(self, account_id, account_type):\n",
    "        self.account_id = account_id\n",
    "        self.account_type = account_type\n",
    "\n",
    "\n",
    "def lookup_account_by_id(account_id):\n",
    "    \"\"\"Mock method to simulate DB connection\"\"\"\n",
    "    if not isinstance(account_id, int) or account_id <= 0:\n",
    "        raise ClientException(f\"Account number {account_id} is invalid.\")\n",
    "\n",
    "    if account_id < 100:\n",
    "        raise DBConnectionException(\"Failure connecting to the Database.\")\n",
    "    elif account_id < 200:\n",
    "        raise NotAuthorizedException(\"User does not have a permissions to read this account.\")\n",
    "    elif account_id < 300:\n",
    "        raise NotFoundException(\"Account not found.\")\n",
    "    return Account(account_id, \"Savings\")\n",
    "\n",
    "        "
   ]
  },
  {
   "cell_type": "code",
   "execution_count": 11,
   "id": "f5ae8202-8527-46a7-812e-7b6052f267e5",
   "metadata": {},
   "outputs": [],
   "source": [
    "from http import HTTPStatus\n",
    "\n",
    "\n",
    "def get_account(account_id):\n",
    "    try:\n",
    "        account = lookup_account_by_id(account_id)\n",
    "    except ApplicationException as e:\n",
    "        return HTTPStatus.INTERNAL_SERVER_ERROR, str(e)\n",
    "    except NotFoundException as e:\n",
    "        return HTTPStatus.NOT_FOUND, f\"The account {account_id} does not exist.\"\n",
    "    except NotAuthorizedException as e:\n",
    "        return HTTPStatus.UNAUTHORIZED, \"You do not have the proper authorization.\"\n",
    "    except ClientException as e:\n",
    "        return HTTPStatus.BAD_REQUEST, str(e)\n",
    "    else:\n",
    "        return HTTPStatus.OK, dict(id=account.account_id, type=account.account_type)"
   ]
  },
  {
   "cell_type": "code",
   "execution_count": 12,
   "id": "86c4fb5b-efd8-4f4a-8390-db33d28ab63d",
   "metadata": {},
   "outputs": [
    {
     "data": {
      "text/plain": [
       "(<HTTPStatus.BAD_REQUEST: 400>, 'Account number abc is invalid.')"
      ]
     },
     "execution_count": 12,
     "metadata": {},
     "output_type": "execute_result"
    }
   ],
   "source": [
    "get_account(\"abc\")"
   ]
  },
  {
   "cell_type": "code",
   "execution_count": 13,
   "id": "2de7cb38-03c4-4762-a11e-5e987a739c63",
   "metadata": {},
   "outputs": [
    {
     "data": {
      "text/plain": [
       "(<HTTPStatus.INTERNAL_SERVER_ERROR: 500>,\n",
       " 'Failure connecting to the Database.')"
      ]
     },
     "execution_count": 13,
     "metadata": {},
     "output_type": "execute_result"
    }
   ],
   "source": [
    "get_account(50)"
   ]
  },
  {
   "cell_type": "code",
   "execution_count": 14,
   "id": "d123f703-59ee-4439-a387-7e8e25dad683",
   "metadata": {},
   "outputs": [
    {
     "data": {
      "text/plain": [
       "(<HTTPStatus.UNAUTHORIZED: 401>, 'You do not have the proper authorization.')"
      ]
     },
     "execution_count": 14,
     "metadata": {},
     "output_type": "execute_result"
    }
   ],
   "source": [
    "get_account(150)"
   ]
  },
  {
   "cell_type": "code",
   "execution_count": 15,
   "id": "4814b44e-1d35-4382-b1d8-f2eab089780e",
   "metadata": {},
   "outputs": [
    {
     "data": {
      "text/plain": [
       "(<HTTPStatus.NOT_FOUND: 404>, 'The account 250 does not exist.')"
      ]
     },
     "execution_count": 15,
     "metadata": {},
     "output_type": "execute_result"
    }
   ],
   "source": [
    "get_account(250)"
   ]
  },
  {
   "cell_type": "code",
   "execution_count": 16,
   "id": "da1e8587-7f83-4e84-8597-0dad120aeed3",
   "metadata": {},
   "outputs": [
    {
     "data": {
      "text/plain": [
       "(<HTTPStatus.OK: 200>, {'id': 350, 'type': 'Savings'})"
      ]
     },
     "execution_count": 16,
     "metadata": {},
     "output_type": "execute_result"
    }
   ],
   "source": [
    "get_account(350)"
   ]
  },
  {
   "cell_type": "code",
   "execution_count": 17,
   "id": "bfbb0d9d-1ecd-4caa-b8ae-6cb0436111d5",
   "metadata": {},
   "outputs": [],
   "source": [
    "import json\n",
    "from datetime import datetime, timezone\n",
    "\n",
    "\n",
    "class APIException(Exception):\n",
    "    \"\"\"Base API Exception\"\"\"\n",
    "    http_status = HTTPStatus.INTERNAL_SERVER_ERROR\n",
    "    internal_error_message = \"API exception occcured.\"\n",
    "    user_error_message = \"We are sorry! An unexpected error occured on our end.\"\n",
    "\n",
    "    def __init__(self, *args, user_error_message = None):\n",
    "        if args:\n",
    "            self.internal_error_msg = args[0]\n",
    "            super().__init__(*args)\n",
    "        else:\n",
    "            super().__init__(self.internal_error_message)\n",
    "\n",
    "        if user_error_message is not None:\n",
    "            self.user_error_message = user_error_message\n",
    "\n",
    "    def to_json(self):\n",
    "        err_object = dict(\n",
    "            status=self.http_status, message=self.user_error_message,\n",
    "        )\n",
    "        return json.dumps(err_object)\n",
    "\n",
    "    def log_exception(self):\n",
    "        exception = {\n",
    "            \"type\": type(self).__name__,\n",
    "            \"http_status\": self.http_status,\n",
    "            \"message\": self.args[0] if self.args else self.internal_error_message,\n",
    "            \"args\": self.args[1:],\n",
    "        }\n",
    "        print(f\"EXCEPTION\\n{datetime.now(timezone.utc).isoformat()}: {exception}\")\n",
    "\n",
    "\n",
    "class ApplicationException(APIException):\n",
    "    \"\"\"Indicates an application / server error - 5XX HTTP type errors\"\"\"\n",
    "    http_status = HTTPStatus.INTERNAL_SERVER_ERROR\n",
    "    internal_error_message = \"Generic application exception occcured.\"\n",
    "    user_error_message = \"We are sorry! An unexpected error occured on our end.\"\n",
    "\n",
    "\n",
    "class DBException(ApplicationException):\n",
    "    \"\"\"General DB exception\"\"\"\n",
    "    http_status = HTTPStatus.INTERNAL_SERVER_ERROR\n",
    "    internal_error_message = \"DB exception occcured.\"\n",
    "    user_error_message = \"We are sorry! An unexpected error occured on our end.\"\n",
    "\n",
    "\n",
    "class DBConnectionException(DBException):\n",
    "    \"\"\"DB connectivity exception\"\"\"\n",
    "    http_status = HTTPStatus.INTERNAL_SERVER_ERROR\n",
    "    internal_error_message = \"DB connection exception occcured.\"\n",
    "    user_error_message = \"We are sorry! An unexpected error occured on our end.\"\n",
    "\n",
    "\n",
    "class ClientException(APIException):\n",
    "    \"\"\"Indicates exception caused by the user - 4XX HTTP type errors\"\"\"\n",
    "    http_status = HTTPStatus.BAD_REQUEST\n",
    "    internal_error_message = \"Client submited a bar request.\"\n",
    "    user_error_message = \"Bad request was received.\"\n",
    "\n",
    "\n",
    "class NotFoundException(ClientException):\n",
    "    \"\"\"Indicates resource was not found\"\"\"\n",
    "    http_status = HTTPStatus.NOT_FOUND\n",
    "    internal_error_message = \"Client requested not found resource.\"\n",
    "    user_error_message = \"Requested object does not exist.\"\n",
    "\n",
    "\n",
    "class NotAuthorizedException(ClientException):\n",
    "    \"\"\"User is not authorized to perform action on the resource\"\"\"\n",
    "    http_status = HTTPStatus.UNAUTHORIZED\n",
    "    internal_error_message = \"Client not authorized to perform the operation.\"\n",
    "    user_error_message = \"You are not authorized.\""
   ]
  },
  {
   "cell_type": "code",
   "execution_count": 18,
   "id": "1e3b4762-550b-4db2-bf2b-db2eacf20add",
   "metadata": {},
   "outputs": [],
   "source": [
    "\n",
    "def lookup_account_by_id(account_id):\n",
    "    \"\"\"Mock method to simulate DB connection\"\"\"\n",
    "    if not isinstance(account_id, int) or account_id <= 0:\n",
    "        raise ClientException(\n",
    "            f\"Account number {account_id} is invalid.\", \n",
    "            f\"account_id={account_id}\", \n",
    "            \"type error - account number not an integer\",\n",
    "        )\n",
    "\n",
    "    if account_id < 100:\n",
    "        raise DBConnectionException(\"Failure connecting to the Database.\", \"db=db01\")\n",
    "    elif account_id < 200:\n",
    "        raise NotAuthorizedException(\"User does not have a permissions to read this account.\", f\"account_id={account_id}\")\n",
    "    elif account_id < 300:\n",
    "        raise NotFoundException(\"Account not found.\", f\"account_id={account_id}\")\n",
    "    return Account(account_id, \"Savings\")\n"
   ]
  },
  {
   "cell_type": "code",
   "execution_count": 19,
   "id": "e3024e6d-5215-4c56-ad43-ed1075d27680",
   "metadata": {},
   "outputs": [],
   "source": [
    "def get_account(account_id):\n",
    "    try:\n",
    "        account = lookup_account_by_id(account_id)\n",
    "    except APIException as e:\n",
    "        e.log_exception()\n",
    "        return e.to_json()\n",
    "    else:\n",
    "        return HTTPStatus.OK, dict(id=account.account_id, type=account.account_type)"
   ]
  },
  {
   "cell_type": "code",
   "execution_count": 20,
   "id": "14999388-3ca7-422c-9f56-cbdd7c2aa1cc",
   "metadata": {},
   "outputs": [
    {
     "name": "stdout",
     "output_type": "stream",
     "text": [
      "EXCEPTION\n",
      "2024-07-02T09:47:16.584179+00:00: {'type': 'ClientException', 'http_status': <HTTPStatus.BAD_REQUEST: 400>, 'message': 'Account number abc is invalid.', 'args': ('account_id=abc', 'type error - account number not an integer')}\n"
     ]
    },
    {
     "data": {
      "text/plain": [
       "'{\"status\": 400, \"message\": \"Bad request was received.\"}'"
      ]
     },
     "execution_count": 20,
     "metadata": {},
     "output_type": "execute_result"
    }
   ],
   "source": [
    "get_account(\"abc\")"
   ]
  },
  {
   "cell_type": "code",
   "execution_count": 21,
   "id": "f8071acb-5dd1-4acb-8839-34a85349ade9",
   "metadata": {},
   "outputs": [
    {
     "name": "stdout",
     "output_type": "stream",
     "text": [
      "EXCEPTION\n",
      "2024-07-02T09:47:16.598026+00:00: {'type': 'DBConnectionException', 'http_status': <HTTPStatus.INTERNAL_SERVER_ERROR: 500>, 'message': 'Failure connecting to the Database.', 'args': ('db=db01',)}\n"
     ]
    },
    {
     "data": {
      "text/plain": [
       "'{\"status\": 500, \"message\": \"We are sorry! An unexpected error occured on our end.\"}'"
      ]
     },
     "execution_count": 21,
     "metadata": {},
     "output_type": "execute_result"
    }
   ],
   "source": [
    "get_account(50)"
   ]
  },
  {
   "cell_type": "code",
   "execution_count": 22,
   "id": "81a6bea6-8220-476a-8789-08bad6d00f00",
   "metadata": {},
   "outputs": [
    {
     "name": "stdout",
     "output_type": "stream",
     "text": [
      "EXCEPTION\n",
      "2024-07-02T09:47:16.617620+00:00: {'type': 'NotAuthorizedException', 'http_status': <HTTPStatus.UNAUTHORIZED: 401>, 'message': 'User does not have a permissions to read this account.', 'args': ('account_id=150',)}\n"
     ]
    },
    {
     "data": {
      "text/plain": [
       "'{\"status\": 401, \"message\": \"You are not authorized.\"}'"
      ]
     },
     "execution_count": 22,
     "metadata": {},
     "output_type": "execute_result"
    }
   ],
   "source": [
    "get_account(150)"
   ]
  },
  {
   "cell_type": "code",
   "execution_count": 23,
   "id": "3efb348b-287e-4687-a104-ec7bb98027bd",
   "metadata": {},
   "outputs": [
    {
     "name": "stdout",
     "output_type": "stream",
     "text": [
      "EXCEPTION\n",
      "2024-07-02T09:47:16.640898+00:00: {'type': 'NotFoundException', 'http_status': <HTTPStatus.NOT_FOUND: 404>, 'message': 'Account not found.', 'args': ('account_id=250',)}\n"
     ]
    },
    {
     "data": {
      "text/plain": [
       "'{\"status\": 404, \"message\": \"Requested object does not exist.\"}'"
      ]
     },
     "execution_count": 23,
     "metadata": {},
     "output_type": "execute_result"
    }
   ],
   "source": [
    "get_account(250)"
   ]
  },
  {
   "cell_type": "code",
   "execution_count": 24,
   "id": "0bab2c28-0a71-4637-9d66-bcc977fbc340",
   "metadata": {},
   "outputs": [
    {
     "data": {
      "text/plain": [
       "(<HTTPStatus.OK: 200>, {'id': 350, 'type': 'Savings'})"
      ]
     },
     "execution_count": 24,
     "metadata": {},
     "output_type": "execute_result"
    }
   ],
   "source": [
    "get_account(350)"
   ]
  },
  {
   "cell_type": "code",
   "execution_count": null,
   "id": "b6b95580-dd71-4276-bfc6-e55b0fc93cb6",
   "metadata": {},
   "outputs": [],
   "source": []
  }
 ],
 "metadata": {
  "kernelspec": {
   "display_name": "Python 3 (ipykernel)",
   "language": "python",
   "name": "python3"
  },
  "language_info": {
   "codemirror_mode": {
    "name": "ipython",
    "version": 3
   },
   "file_extension": ".py",
   "mimetype": "text/x-python",
   "name": "python",
   "nbconvert_exporter": "python",
   "pygments_lexer": "ipython3",
   "version": "3.12.3"
  }
 },
 "nbformat": 4,
 "nbformat_minor": 5
}
