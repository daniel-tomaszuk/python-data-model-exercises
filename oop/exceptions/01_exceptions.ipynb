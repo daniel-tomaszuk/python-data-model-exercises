{
 "cells": [
  {
   "cell_type": "code",
   "execution_count": 1,
   "id": "cb5d9421-3426-47ad-8ee2-ac952d0018cb",
   "metadata": {},
   "outputs": [
    {
     "data": {
      "text/plain": [
       "(type, type)"
      ]
     },
     "execution_count": 1,
     "metadata": {},
     "output_type": "execute_result"
    }
   ],
   "source": [
    "type(BaseException), type(Exception)"
   ]
  },
  {
   "cell_type": "code",
   "execution_count": 2,
   "id": "ca35b1b6-dd91-46da-958c-b30d5264c156",
   "metadata": {},
   "outputs": [],
   "source": [
    "ex = Exception()"
   ]
  },
  {
   "cell_type": "code",
   "execution_count": 3,
   "id": "0e758a74-8f9a-4b93-a39d-1871a2648f1e",
   "metadata": {},
   "outputs": [
    {
     "data": {
      "text/plain": [
       "({}, Exception, True)"
      ]
     },
     "execution_count": 3,
     "metadata": {},
     "output_type": "execute_result"
    }
   ],
   "source": [
    "ex.__dict__, ex.__class__, isinstance(ex, BaseException)"
   ]
  },
  {
   "cell_type": "code",
   "execution_count": 4,
   "id": "bdc3a88a-8731-4d61-932e-14ecf0cfc05c",
   "metadata": {},
   "outputs": [
    {
     "data": {
      "text/plain": [
       "True"
      ]
     },
     "execution_count": 4,
     "metadata": {},
     "output_type": "execute_result"
    }
   ],
   "source": [
    "issubclass(Exception, BaseException)"
   ]
  },
  {
   "cell_type": "code",
   "execution_count": 5,
   "id": "645829e9-c3df-44e4-8997-797d3a285430",
   "metadata": {},
   "outputs": [
    {
     "data": {
      "text/plain": [
       "True"
      ]
     },
     "execution_count": 5,
     "metadata": {},
     "output_type": "execute_result"
    }
   ],
   "source": [
    "issubclass(IndexError, LookupError)"
   ]
  },
  {
   "cell_type": "code",
   "execution_count": 6,
   "id": "638fcbb0-51a6-48b9-a5e7-c9baedbe3cd3",
   "metadata": {},
   "outputs": [
    {
     "name": "stdout",
     "output_type": "stream",
     "text": [
      "list index out of range\n",
      "{} ['__cause__', '__class__', '__context__', '__delattr__', '__dict__', '__dir__', '__doc__', '__eq__', '__format__', '__ge__', '__getattribute__', '__getstate__', '__gt__', '__hash__', '__init__', '__init_subclass__', '__le__', '__lt__', '__ne__', '__new__', '__reduce__', '__reduce_ex__', '__repr__', '__setattr__', '__setstate__', '__sizeof__', '__str__', '__subclasshook__', '__suppress_context__', '__traceback__', 'add_note', 'args', 'with_traceback']\n",
      "<class 'IndexError'> list index out of range\n"
     ]
    }
   ],
   "source": [
    "l = [1, 2, 3]\n",
    "try:\n",
    "    l[4]\n",
    "except IndexError as e:\n",
    "    print(e)\n",
    "    print(e.__dict__, dir(e))\n",
    "    print(e.__class__, str(e))"
   ]
  },
  {
   "cell_type": "code",
   "execution_count": 7,
   "id": "479ffc19-7c41-4502-99d5-d4e4cb2e375b",
   "metadata": {},
   "outputs": [
    {
     "name": "stdout",
     "output_type": "stream",
     "text": [
      "somthing happened\n"
     ]
    }
   ],
   "source": [
    "# bare exception handling\n",
    "try:\n",
    "    l[\"abc\"]\n",
    "except:\n",
    "    print(\"somthing happened\")"
   ]
  },
  {
   "cell_type": "code",
   "execution_count": 8,
   "id": "1bbdb03c-8ee1-4344-84ff-951d8f328ef6",
   "metadata": {},
   "outputs": [
    {
     "data": {
      "text/plain": [
       "('Custom message', \"ValueError('Custom message')\")"
      ]
     },
     "execution_count": 8,
     "metadata": {},
     "output_type": "execute_result"
    }
   ],
   "source": [
    "ex = ValueError(\"Custom message\")\n",
    "str(ex), repr(ex)"
   ]
  },
  {
   "cell_type": "code",
   "execution_count": 9,
   "id": "88119279-9bf5-4b17-a33b-8317abc2feb9",
   "metadata": {},
   "outputs": [],
   "source": [
    "def func_1():\n",
    "    func_2()\n",
    "\n",
    "def func_2():\n",
    "    func_3()\n",
    "\n",
    "def func_3():\n",
    "    raise ValueError(\"Error from func_3\")\n"
   ]
  },
  {
   "cell_type": "code",
   "execution_count": 10,
   "id": "c20f5040-9df9-4548-9f60-0fc2c523b370",
   "metadata": {},
   "outputs": [
    {
     "ename": "ValueError",
     "evalue": "Error from func_3",
     "output_type": "error",
     "traceback": [
      "\u001b[0;31m---------------------------------------------------------------------------\u001b[0m",
      "\u001b[0;31mValueError\u001b[0m                                Traceback (most recent call last)",
      "Cell \u001b[0;32mIn[10], line 1\u001b[0m\n\u001b[0;32m----> 1\u001b[0m \u001b[43mfunc_3\u001b[49m\u001b[43m(\u001b[49m\u001b[43m)\u001b[49m\n",
      "Cell \u001b[0;32mIn[9], line 8\u001b[0m, in \u001b[0;36mfunc_3\u001b[0;34m()\u001b[0m\n\u001b[1;32m      7\u001b[0m \u001b[38;5;28;01mdef\u001b[39;00m \u001b[38;5;21mfunc_3\u001b[39m():\n\u001b[0;32m----> 8\u001b[0m     \u001b[38;5;28;01mraise\u001b[39;00m \u001b[38;5;167;01mValueError\u001b[39;00m(\u001b[38;5;124m\"\u001b[39m\u001b[38;5;124mError from func_3\u001b[39m\u001b[38;5;124m\"\u001b[39m)\n",
      "\u001b[0;31mValueError\u001b[0m: Error from func_3"
     ]
    }
   ],
   "source": [
    "func_3()"
   ]
  },
  {
   "cell_type": "code",
   "execution_count": 11,
   "id": "1e32a6a5-1a1a-47b8-86f4-1332a82d7b30",
   "metadata": {},
   "outputs": [
    {
     "ename": "ValueError",
     "evalue": "Error from func_3",
     "output_type": "error",
     "traceback": [
      "\u001b[0;31m---------------------------------------------------------------------------\u001b[0m",
      "\u001b[0;31mValueError\u001b[0m                                Traceback (most recent call last)",
      "Cell \u001b[0;32mIn[11], line 1\u001b[0m\n\u001b[0;32m----> 1\u001b[0m \u001b[43mfunc_1\u001b[49m\u001b[43m(\u001b[49m\u001b[43m)\u001b[49m\n",
      "Cell \u001b[0;32mIn[9], line 2\u001b[0m, in \u001b[0;36mfunc_1\u001b[0;34m()\u001b[0m\n\u001b[1;32m      1\u001b[0m \u001b[38;5;28;01mdef\u001b[39;00m \u001b[38;5;21mfunc_1\u001b[39m():\n\u001b[0;32m----> 2\u001b[0m     \u001b[43mfunc_2\u001b[49m\u001b[43m(\u001b[49m\u001b[43m)\u001b[49m\n",
      "Cell \u001b[0;32mIn[9], line 5\u001b[0m, in \u001b[0;36mfunc_2\u001b[0;34m()\u001b[0m\n\u001b[1;32m      4\u001b[0m \u001b[38;5;28;01mdef\u001b[39;00m \u001b[38;5;21mfunc_2\u001b[39m():\n\u001b[0;32m----> 5\u001b[0m     \u001b[43mfunc_3\u001b[49m\u001b[43m(\u001b[49m\u001b[43m)\u001b[49m\n",
      "Cell \u001b[0;32mIn[9], line 8\u001b[0m, in \u001b[0;36mfunc_3\u001b[0;34m()\u001b[0m\n\u001b[1;32m      7\u001b[0m \u001b[38;5;28;01mdef\u001b[39;00m \u001b[38;5;21mfunc_3\u001b[39m():\n\u001b[0;32m----> 8\u001b[0m     \u001b[38;5;28;01mraise\u001b[39;00m \u001b[38;5;167;01mValueError\u001b[39;00m(\u001b[38;5;124m\"\u001b[39m\u001b[38;5;124mError from func_3\u001b[39m\u001b[38;5;124m\"\u001b[39m)\n",
      "\u001b[0;31mValueError\u001b[0m: Error from func_3"
     ]
    }
   ],
   "source": [
    "func_1()"
   ]
  },
  {
   "cell_type": "code",
   "execution_count": 12,
   "id": "7e4754e6-b18d-4a42-b94e-7e0baaef49a3",
   "metadata": {},
   "outputs": [],
   "source": [
    "def func_1():\n",
    "    func_2()\n",
    "\n",
    "def func_2():\n",
    "    try:\n",
    "        func_3()\n",
    "    except ValueError as e:\n",
    "        print(f\"Handling the error: {e}\")\n",
    "\n",
    "def func_3():\n",
    "    raise ValueError(\"Error from func_3\")"
   ]
  },
  {
   "cell_type": "code",
   "execution_count": 13,
   "id": "18d4b0a2-05d0-4d8d-b182-9db73e9f2f07",
   "metadata": {},
   "outputs": [
    {
     "name": "stdout",
     "output_type": "stream",
     "text": [
      "Handling the error: Error from func_3\n"
     ]
    }
   ],
   "source": [
    "func_1()"
   ]
  },
  {
   "cell_type": "code",
   "execution_count": 14,
   "id": "6e76d17a-e2a5-4b59-84f2-65cbc6ce4195",
   "metadata": {},
   "outputs": [
    {
     "ename": "IndexError",
     "evalue": "list index out of range",
     "output_type": "error",
     "traceback": [
      "\u001b[0;31m---------------------------------------------------------------------------\u001b[0m",
      "\u001b[0;31mIndexError\u001b[0m                                Traceback (most recent call last)",
      "Cell \u001b[0;32mIn[14], line 9\u001b[0m\n\u001b[1;32m      6\u001b[0m         \u001b[38;5;28;01myield\u001b[39;00m square(seq, i)\n\u001b[1;32m      8\u001b[0m l \u001b[38;5;241m=\u001b[39m [\u001b[38;5;241m1\u001b[39m, \u001b[38;5;241m2\u001b[39m, \u001b[38;5;241m3\u001b[39m]\n\u001b[0;32m----> 9\u001b[0m \u001b[38;5;28;43mlist\u001b[39;49m\u001b[43m(\u001b[49m\u001b[43msquares\u001b[49m\u001b[43m(\u001b[49m\u001b[43ml\u001b[49m\u001b[43m,\u001b[49m\u001b[43m \u001b[49m\u001b[38;5;241;43m4\u001b[39;49m\u001b[43m)\u001b[49m\u001b[43m)\u001b[49m\n",
      "Cell \u001b[0;32mIn[14], line 6\u001b[0m, in \u001b[0;36msquares\u001b[0;34m(seq, max_n)\u001b[0m\n\u001b[1;32m      4\u001b[0m \u001b[38;5;28;01mdef\u001b[39;00m \u001b[38;5;21msquares\u001b[39m(seq, max_n):\n\u001b[1;32m      5\u001b[0m     \u001b[38;5;28;01mfor\u001b[39;00m i \u001b[38;5;129;01min\u001b[39;00m \u001b[38;5;28mrange\u001b[39m(max_n):\n\u001b[0;32m----> 6\u001b[0m         \u001b[38;5;28;01myield\u001b[39;00m \u001b[43msquare\u001b[49m\u001b[43m(\u001b[49m\u001b[43mseq\u001b[49m\u001b[43m,\u001b[49m\u001b[43m \u001b[49m\u001b[43mi\u001b[49m\u001b[43m)\u001b[49m\n",
      "Cell \u001b[0;32mIn[14], line 2\u001b[0m, in \u001b[0;36msquare\u001b[0;34m(seq, index)\u001b[0m\n\u001b[1;32m      1\u001b[0m \u001b[38;5;28;01mdef\u001b[39;00m \u001b[38;5;21msquare\u001b[39m(seq, index):\n\u001b[0;32m----> 2\u001b[0m     \u001b[38;5;28;01mreturn\u001b[39;00m \u001b[43mseq\u001b[49m\u001b[43m[\u001b[49m\u001b[43mindex\u001b[49m\u001b[43m]\u001b[49m \u001b[38;5;241m*\u001b[39m\u001b[38;5;241m*\u001b[39m \u001b[38;5;241m2\u001b[39m\n",
      "\u001b[0;31mIndexError\u001b[0m: list index out of range"
     ]
    }
   ],
   "source": [
    "def square(seq, index):\n",
    "    return seq[index] ** 2\n",
    "\n",
    "def squares(seq, max_n):\n",
    "    for i in range(max_n):\n",
    "        yield square(seq, i)\n",
    "\n",
    "l = [1, 2, 3]\n",
    "list(squares(l, 4))"
   ]
  },
  {
   "cell_type": "code",
   "execution_count": 15,
   "id": "cafe71ef-55e0-4e69-9fb6-912c2f0591c6",
   "metadata": {},
   "outputs": [
    {
     "data": {
      "text/plain": [
       "[1, 4, 9]"
      ]
     },
     "execution_count": 15,
     "metadata": {},
     "output_type": "execute_result"
    }
   ],
   "source": [
    "def square(seq, index):\n",
    "    return seq[index] ** 2\n",
    "\n",
    "def squares(seq, max_n):\n",
    "    for i in range(max_n):\n",
    "        try:\n",
    "            yield square(seq, i)\n",
    "        except Exception:\n",
    "            return\n",
    "            \n",
    "\n",
    "l = [1, 2, 3]\n",
    "list(squares(l, 5))"
   ]
  },
  {
   "cell_type": "code",
   "execution_count": 16,
   "id": "d4d75488-e35b-42b4-b3d5-f5c10a35ada0",
   "metadata": {},
   "outputs": [
    {
     "data": {
      "text/plain": [
       "[1, 9]"
      ]
     },
     "execution_count": 16,
     "metadata": {},
     "output_type": "execute_result"
    }
   ],
   "source": [
    "l = [1, 3, \"5\", 2]\n",
    "list(squares(l, 5))"
   ]
  },
  {
   "cell_type": "code",
   "execution_count": 17,
   "id": "b201bdbe-a8f5-4787-9a79-a83ed0de8ef3",
   "metadata": {},
   "outputs": [
    {
     "data": {
      "text/plain": [
       "[1, 4, 9]"
      ]
     },
     "execution_count": 17,
     "metadata": {},
     "output_type": "execute_result"
    }
   ],
   "source": [
    "def squares(seq, max_n):\n",
    "    for i in range(max_n):\n",
    "        try:\n",
    "            yield square(seq, i)\n",
    "        except IndexError:\n",
    "            return\n",
    "            \n",
    "\n",
    "l = [1, 2, 3]\n",
    "list(squares(l, 5))"
   ]
  },
  {
   "cell_type": "code",
   "execution_count": 18,
   "id": "21cb6a1d-a95a-4de0-a3bc-060acea2e9ff",
   "metadata": {},
   "outputs": [
    {
     "ename": "TypeError",
     "evalue": "unsupported operand type(s) for ** or pow(): 'str' and 'int'",
     "output_type": "error",
     "traceback": [
      "\u001b[0;31m---------------------------------------------------------------------------\u001b[0m",
      "\u001b[0;31mTypeError\u001b[0m                                 Traceback (most recent call last)",
      "Cell \u001b[0;32mIn[18], line 2\u001b[0m\n\u001b[1;32m      1\u001b[0m l \u001b[38;5;241m=\u001b[39m [\u001b[38;5;241m1\u001b[39m, \u001b[38;5;241m3\u001b[39m, \u001b[38;5;124m\"\u001b[39m\u001b[38;5;124m5\u001b[39m\u001b[38;5;124m\"\u001b[39m, \u001b[38;5;241m2\u001b[39m]\n\u001b[0;32m----> 2\u001b[0m \u001b[38;5;28;43mlist\u001b[39;49m\u001b[43m(\u001b[49m\u001b[43msquares\u001b[49m\u001b[43m(\u001b[49m\u001b[43ml\u001b[49m\u001b[43m,\u001b[49m\u001b[43m \u001b[49m\u001b[38;5;241;43m5\u001b[39;49m\u001b[43m)\u001b[49m\u001b[43m)\u001b[49m\n",
      "Cell \u001b[0;32mIn[17], line 4\u001b[0m, in \u001b[0;36msquares\u001b[0;34m(seq, max_n)\u001b[0m\n\u001b[1;32m      2\u001b[0m \u001b[38;5;28;01mfor\u001b[39;00m i \u001b[38;5;129;01min\u001b[39;00m \u001b[38;5;28mrange\u001b[39m(max_n):\n\u001b[1;32m      3\u001b[0m     \u001b[38;5;28;01mtry\u001b[39;00m:\n\u001b[0;32m----> 4\u001b[0m         \u001b[38;5;28;01myield\u001b[39;00m \u001b[43msquare\u001b[49m\u001b[43m(\u001b[49m\u001b[43mseq\u001b[49m\u001b[43m,\u001b[49m\u001b[43m \u001b[49m\u001b[43mi\u001b[49m\u001b[43m)\u001b[49m\n\u001b[1;32m      5\u001b[0m     \u001b[38;5;28;01mexcept\u001b[39;00m \u001b[38;5;167;01mIndexError\u001b[39;00m:\n\u001b[1;32m      6\u001b[0m         \u001b[38;5;28;01mreturn\u001b[39;00m\n",
      "Cell \u001b[0;32mIn[15], line 2\u001b[0m, in \u001b[0;36msquare\u001b[0;34m(seq, index)\u001b[0m\n\u001b[1;32m      1\u001b[0m \u001b[38;5;28;01mdef\u001b[39;00m \u001b[38;5;21msquare\u001b[39m(seq, index):\n\u001b[0;32m----> 2\u001b[0m     \u001b[38;5;28;01mreturn\u001b[39;00m \u001b[43mseq\u001b[49m\u001b[43m[\u001b[49m\u001b[43mindex\u001b[49m\u001b[43m]\u001b[49m\u001b[43m \u001b[49m\u001b[38;5;241;43m*\u001b[39;49m\u001b[38;5;241;43m*\u001b[39;49m\u001b[43m \u001b[49m\u001b[38;5;241;43m2\u001b[39;49m\n",
      "\u001b[0;31mTypeError\u001b[0m: unsupported operand type(s) for ** or pow(): 'str' and 'int'"
     ]
    }
   ],
   "source": [
    "l = [1, 3, \"5\", 2]\n",
    "list(squares(l, 5))"
   ]
  },
  {
   "cell_type": "code",
   "execution_count": null,
   "id": "4bbdb3f7-ec43-4ac4-a3da-f80c0f5afdf8",
   "metadata": {},
   "outputs": [],
   "source": []
  }
 ],
 "metadata": {
  "kernelspec": {
   "display_name": "Python 3 (ipykernel)",
   "language": "python",
   "name": "python3"
  },
  "language_info": {
   "codemirror_mode": {
    "name": "ipython",
    "version": 3
   },
   "file_extension": ".py",
   "mimetype": "text/x-python",
   "name": "python",
   "nbconvert_exporter": "python",
   "pygments_lexer": "ipython3",
   "version": "3.12.3"
  }
 },
 "nbformat": 4,
 "nbformat_minor": 5
}
