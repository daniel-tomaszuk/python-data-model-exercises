{
 "cells": [
  {
   "cell_type": "code",
   "execution_count": 1,
   "id": "505cd2bc-cb32-401e-af7a-82d333a4907e",
   "metadata": {},
   "outputs": [
    {
     "ename": "ValueError",
     "evalue": "Custom message",
     "output_type": "error",
     "traceback": [
      "\u001b[0;31m---------------------------------------------------------------------------\u001b[0m",
      "\u001b[0;31mValueError\u001b[0m                                Traceback (most recent call last)",
      "Cell \u001b[0;32mIn[1], line 1\u001b[0m\n\u001b[0;32m----> 1\u001b[0m \u001b[38;5;28;01mraise\u001b[39;00m \u001b[38;5;167;01mValueError\u001b[39;00m(\u001b[38;5;124m\"\u001b[39m\u001b[38;5;124mCustom message\u001b[39m\u001b[38;5;124m\"\u001b[39m)\n",
      "\u001b[0;31mValueError\u001b[0m: Custom message"
     ]
    }
   ],
   "source": [
    "raise ValueError(\"Custom message\")"
   ]
  },
  {
   "cell_type": "code",
   "execution_count": 2,
   "id": "b1178ad8-7153-44c1-9acf-aadd42415474",
   "metadata": {},
   "outputs": [
    {
     "name": "stdout",
     "output_type": "stream",
     "text": [
      "ValueError('Custom message', 'some other message')\n"
     ]
    }
   ],
   "source": [
    "try:\n",
    "    raise ValueError(\"Custom message\", \"some other message\")\n",
    "except ValueError as e:\n",
    "    print(repr(e))"
   ]
  },
  {
   "cell_type": "code",
   "execution_count": 3,
   "id": "8a5ef8d6-524a-442f-99af-6335110dcf7a",
   "metadata": {},
   "outputs": [],
   "source": [
    "def func_1():\n",
    "    raise ValueError(\"Bad Value\")\n",
    "\n",
    "def func_2():\n",
    "    raise IndexError(\"Bad Index\")\n",
    "\n",
    "\n",
    "def handle_errors(func):\n",
    "    try:\n",
    "        func()\n",
    "    except ValueError as e:\n",
    "        print(\"Handling a ValueError\")\n",
    "        print(e)\n",
    "    except IndexError as e:\n",
    "        print(\"Handling an IndexError\")\n",
    "        print(e)\n",
    "    "
   ]
  },
  {
   "cell_type": "code",
   "execution_count": 4,
   "id": "798f5db3-dd8f-4242-aee6-b7fabb124c97",
   "metadata": {},
   "outputs": [
    {
     "name": "stdout",
     "output_type": "stream",
     "text": [
      "Handling a ValueError\n",
      "Bad Value\n"
     ]
    }
   ],
   "source": [
    "handle_errors(func_1)"
   ]
  },
  {
   "cell_type": "code",
   "execution_count": 5,
   "id": "55703e86-d5a6-4b2e-ba7a-20fae5584fd8",
   "metadata": {},
   "outputs": [
    {
     "name": "stdout",
     "output_type": "stream",
     "text": [
      "Handling an IndexError\n",
      "Bad Index\n"
     ]
    }
   ],
   "source": [
    "handle_errors(func_2)"
   ]
  },
  {
   "cell_type": "code",
   "execution_count": 6,
   "id": "7a59e9b8-906a-4deb-a4fd-640b8e90665a",
   "metadata": {},
   "outputs": [
    {
     "name": "stdout",
     "output_type": "stream",
     "text": [
      "Handling Exception error\n"
     ]
    }
   ],
   "source": [
    "try:\n",
    "    raise ValueError(\"error\")\n",
    "except Exception as e:\n",
    "    print(\"Handling Exception\", e)\n",
    "except ValueError as e:\n",
    "    print(\"Handling ValueError\", e)"
   ]
  },
  {
   "cell_type": "code",
   "execution_count": 7,
   "id": "ffce6489-27f8-409d-a56a-fda342abe590",
   "metadata": {},
   "outputs": [
    {
     "name": "stdout",
     "output_type": "stream",
     "text": [
      "Handling ValueError error\n"
     ]
    }
   ],
   "source": [
    "try:\n",
    "    raise ValueError(\"error\")\n",
    "except ValueError as e:\n",
    "    print(\"Handling ValueError\", e)\n",
    "except Exception as e:\n",
    "    print(\"Handling Exception\", e)"
   ]
  },
  {
   "cell_type": "code",
   "execution_count": 8,
   "id": "de837048-c06a-49a2-8185-bc383b735ef2",
   "metadata": {},
   "outputs": [
    {
     "name": "stdout",
     "output_type": "stream",
     "text": [
      "Handling ValueError error\n",
      "finally block!\n"
     ]
    }
   ],
   "source": [
    "try:\n",
    "    raise ValueError(\"error\")\n",
    "except ValueError as e:\n",
    "    print(\"Handling ValueError\", e)\n",
    "except Exception as e:\n",
    "    print(\"Handling Exception\", e)\n",
    "finally:\n",
    "    print(\"finally block!\")"
   ]
  },
  {
   "cell_type": "code",
   "execution_count": 9,
   "id": "e48f1f97-a479-4e7a-b0db-a60fa3bdad3d",
   "metadata": {},
   "outputs": [
    {
     "name": "stdout",
     "output_type": "stream",
     "text": [
      "No exceptions\n",
      "finally block!\n"
     ]
    }
   ],
   "source": [
    "try:\n",
    "    print(\"No exceptions\")\n",
    "except Exception:\n",
    "    print(\"Exception\")\n",
    "finally:\n",
    "    print(\"finally block!\")"
   ]
  },
  {
   "cell_type": "code",
   "execution_count": 10,
   "id": "df114df2-826a-4af4-b0a7-05e11020c6de",
   "metadata": {},
   "outputs": [
    {
     "name": "stdout",
     "output_type": "stream",
     "text": [
      "finally block is running!\n",
      "\n"
     ]
    },
    {
     "ename": "KeyError",
     "evalue": "",
     "output_type": "error",
     "traceback": [
      "\u001b[0;31m---------------------------------------------------------------------------\u001b[0m",
      "\u001b[0;31mKeyError\u001b[0m                                  Traceback (most recent call last)",
      "Cell \u001b[0;32mIn[10], line 2\u001b[0m\n\u001b[1;32m      1\u001b[0m \u001b[38;5;28;01mtry\u001b[39;00m:\n\u001b[0;32m----> 2\u001b[0m     \u001b[38;5;28;01mraise\u001b[39;00m \u001b[38;5;167;01mKeyError\u001b[39;00m()\n\u001b[1;32m      3\u001b[0m \u001b[38;5;28;01mexcept\u001b[39;00m \u001b[38;5;167;01mIndexError\u001b[39;00m:\n\u001b[1;32m      4\u001b[0m     \u001b[38;5;28mprint\u001b[39m(\u001b[38;5;124m\"\u001b[39m\u001b[38;5;124mException\u001b[39m\u001b[38;5;124m\"\u001b[39m)\n",
      "\u001b[0;31mKeyError\u001b[0m: "
     ]
    }
   ],
   "source": [
    "try:\n",
    "    raise KeyError()\n",
    "except IndexError:\n",
    "    print(\"Exception\")\n",
    "finally:\n",
    "    print(\"finally block is running!\\n\")"
   ]
  },
  {
   "cell_type": "code",
   "execution_count": 11,
   "id": "0c380bfc-829f-4831-a6a1-15333a26f0cd",
   "metadata": {},
   "outputs": [
    {
     "name": "stdout",
     "output_type": "stream",
     "text": [
      "Handling the KeyError! \n",
      "\n",
      "finally block is running no matter what!\n",
      "\n"
     ]
    },
    {
     "ename": "ValueError",
     "evalue": "Oh no, another exception!",
     "output_type": "error",
     "traceback": [
      "\u001b[0;31m---------------------------------------------------------------------------\u001b[0m",
      "\u001b[0;31mKeyError\u001b[0m                                  Traceback (most recent call last)",
      "Cell \u001b[0;32mIn[11], line 2\u001b[0m\n\u001b[1;32m      1\u001b[0m \u001b[38;5;28;01mtry\u001b[39;00m:\n\u001b[0;32m----> 2\u001b[0m     \u001b[38;5;28;01mraise\u001b[39;00m \u001b[38;5;167;01mKeyError\u001b[39;00m()\n\u001b[1;32m      3\u001b[0m \u001b[38;5;28;01mexcept\u001b[39;00m \u001b[38;5;167;01mKeyError\u001b[39;00m \u001b[38;5;28;01mas\u001b[39;00m e:\n",
      "\u001b[0;31mKeyError\u001b[0m: ",
      "\nDuring handling of the above exception, another exception occurred:\n",
      "\u001b[0;31mValueError\u001b[0m                                Traceback (most recent call last)",
      "Cell \u001b[0;32mIn[11], line 5\u001b[0m\n\u001b[1;32m      3\u001b[0m \u001b[38;5;28;01mexcept\u001b[39;00m \u001b[38;5;167;01mKeyError\u001b[39;00m \u001b[38;5;28;01mas\u001b[39;00m e:\n\u001b[1;32m      4\u001b[0m     \u001b[38;5;28mprint\u001b[39m(\u001b[38;5;124m\"\u001b[39m\u001b[38;5;124mHandling the KeyError!\u001b[39m\u001b[38;5;124m\"\u001b[39m, e)\n\u001b[0;32m----> 5\u001b[0m     \u001b[38;5;28;01mraise\u001b[39;00m \u001b[38;5;167;01mValueError\u001b[39;00m(\u001b[38;5;124m\"\u001b[39m\u001b[38;5;124mOh no, another exception!\u001b[39m\u001b[38;5;124m\"\u001b[39m)\n\u001b[1;32m      6\u001b[0m \u001b[38;5;28;01mfinally\u001b[39;00m:\n\u001b[1;32m      7\u001b[0m     \u001b[38;5;28mprint\u001b[39m(\u001b[38;5;124m\"\u001b[39m\u001b[38;5;130;01m\\n\u001b[39;00m\u001b[38;5;124mfinally block is running no matter what!\u001b[39m\u001b[38;5;130;01m\\n\u001b[39;00m\u001b[38;5;124m\"\u001b[39m)\n",
      "\u001b[0;31mValueError\u001b[0m: Oh no, another exception!"
     ]
    }
   ],
   "source": [
    "try:\n",
    "    raise KeyError()\n",
    "except KeyError as e:\n",
    "    print(\"Handling the KeyError!\", e)\n",
    "    raise ValueError(\"Oh no, another exception!\")\n",
    "finally:\n",
    "    print(\"\\nfinally block is running no matter what!\\n\")"
   ]
  },
  {
   "cell_type": "code",
   "execution_count": 12,
   "id": "f07d1b44-cf90-4d60-9b6b-9a984a1c651d",
   "metadata": {},
   "outputs": [
    {
     "name": "stdout",
     "output_type": "stream",
     "text": [
      "Handling the KeyError! \n"
     ]
    }
   ],
   "source": [
    "try:\n",
    "    raise KeyError()\n",
    "except KeyError as e:\n",
    "    print(\"Handling the KeyError!\", e)\n",
    "else:\n",
    "    # only gonna run, if no exceptions are present (handled or unhandled)\n",
    "    print(\"Else block\")"
   ]
  },
  {
   "cell_type": "code",
   "execution_count": 13,
   "id": "cd1d5904-6fc8-47b2-90bc-ca35fa688ca4",
   "metadata": {},
   "outputs": [
    {
     "name": "stdout",
     "output_type": "stream",
     "text": [
      "2\n",
      "Else block\n"
     ]
    }
   ],
   "source": [
    "try:\n",
    "    print(1 + 1)\n",
    "except KeyError as e:\n",
    "    print(\"Handling the KeyError!\", e)\n",
    "else:\n",
    "    print(\"Else block\")"
   ]
  },
  {
   "cell_type": "code",
   "execution_count": 14,
   "id": "125c05d1-9beb-404e-8aca-81f8a98175ac",
   "metadata": {},
   "outputs": [
    {
     "name": "stdout",
     "output_type": "stream",
     "text": [
      "No exception\n"
     ]
    }
   ],
   "source": [
    "try:\n",
    "    pass\n",
    "except ValueError as e:\n",
    "    print(e)\n",
    "else:\n",
    "    print(\"No exception\")"
   ]
  },
  {
   "cell_type": "code",
   "execution_count": 15,
   "id": "453d1d73-c185-4218-ae68-bb05db61980a",
   "metadata": {},
   "outputs": [
    {
     "data": {
      "text/plain": [
       "{'Alex': {'age': 18},\n",
       " 'Bob': {'age': 21, 'city': 'London'},\n",
       " 'John': {'age': 'unknown'}}"
      ]
     },
     "execution_count": 15,
     "metadata": {},
     "output_type": "execute_result"
    }
   ],
   "source": [
    "import json\n",
    "\n",
    "json_data = \"\"\"{\n",
    "    \"Alex\": {\"age\": 18},\n",
    "    \"Bob\": {\"age\": 21, \"city\": \"London\"},\n",
    "    \"John\": {\"age\": \"unknown\"}\n",
    "}\"\"\"\n",
    "\n",
    "data = json.loads(json_data)\n",
    "data"
   ]
  },
  {
   "cell_type": "code",
   "execution_count": 16,
   "id": "5d815b38-f97b-44ee-96fc-7a58b37c22c4",
   "metadata": {},
   "outputs": [],
   "source": [
    "class Person:\n",
    "    __slots__ = \"name\", \"_age\"\n",
    "\n",
    "    def __init__(self, name):\n",
    "        self.name = name\n",
    "        self._age = None\n",
    "\n",
    "    @property\n",
    "    def age(self):\n",
    "        return self._age\n",
    "\n",
    "    @age.setter\n",
    "    def age(self, value):\n",
    "        if isinstance(value, int) and value >= 0:\n",
    "            self._age = value\n",
    "        else:\n",
    "            raise ValueError(\"Invalid age\")\n",
    "\n",
    "    def __repr__(self):\n",
    "        return f\"<{type(self).__name__} age={self.age} name={self.name}> @ {hex(id(self))}\""
   ]
  },
  {
   "cell_type": "code",
   "execution_count": 17,
   "id": "0a509f36-2956-4efa-aaa7-4c1519cdc6a9",
   "metadata": {},
   "outputs": [
    {
     "data": {
      "text/plain": [
       "[<Person age=18 name=Alex> @ 0x11090a560,\n",
       " <Person age=21 name=Bob> @ 0x11079add0]"
      ]
     },
     "execution_count": 17,
     "metadata": {},
     "output_type": "execute_result"
    }
   ],
   "source": [
    "\n",
    "import contextlib\n",
    "import copy\n",
    "\n",
    "persons = []\n",
    "for name, person_details in data.items():\n",
    "    p = Person(name=name)\n",
    "    with contextlib.suppress(ValueError):\n",
    "        p.age = person_details.get(\"age\", 0)\n",
    "        persons.append(p)\n",
    "\n",
    "persons"
   ]
  },
  {
   "cell_type": "code",
   "execution_count": 18,
   "id": "b5325609-9839-4ff1-882b-02eb9c2db804",
   "metadata": {},
   "outputs": [
    {
     "name": "stdout",
     "output_type": "stream",
     "text": [
      "AttributeError: 'Person' object has no attribute 'city' - Ignoring: Bob.city=London\n",
      "Data for Person(John) contains an invalid attribute value: Invalid age\n"
     ]
    }
   ],
   "source": [
    "persons = []\n",
    "for name, attributes in data.items():\n",
    "    try:\n",
    "        p = Person(name)\n",
    "        for attrib_name, attrib_value in attributes.items():\n",
    "            try:\n",
    "                setattr(p, attrib_name, attrib_value)\n",
    "            except AttributeError as e:\n",
    "                print(f\"AttributeError: {e} - Ignoring: {name}.{attrib_name}={attrib_value}\")\n",
    "    except ValueError as e:\n",
    "        print(f\"Data for Person({name}) contains an invalid attribute value: {e}\")\n",
    "    else:\n",
    "        persons.append(p)\n"
   ]
  },
  {
   "cell_type": "code",
   "execution_count": 19,
   "id": "0c1cbfe5-7144-4e28-a0fd-ad16a9da6734",
   "metadata": {},
   "outputs": [
    {
     "data": {
      "text/plain": [
       "[<Person age=18 name=Alex> @ 0x110930130,\n",
       " <Person age=21 name=Bob> @ 0x110829390]"
      ]
     },
     "execution_count": 19,
     "metadata": {},
     "output_type": "execute_result"
    }
   ],
   "source": [
    "persons"
   ]
  },
  {
   "cell_type": "code",
   "execution_count": 20,
   "id": "dbf80a0d-1bb8-42e2-8688-8255e03c9197",
   "metadata": {},
   "outputs": [
    {
     "name": "stdout",
     "output_type": "stream",
     "text": [
      "AttributeError: 'Person' object has no attribute 'city' - Ignoring: Bob.city=London\n",
      "Data for Person(John) contains an invalid attribute value: Invalid age\n"
     ]
    }
   ],
   "source": [
    "persons = []\n",
    "for name, attributes in data.items():\n",
    "    p = Person(name)\n",
    "    for attrib_name, attrib_value in attributes.items():\n",
    "        save_person = True\n",
    "        try:\n",
    "            setattr(p, attrib_name, attrib_value)\n",
    "        except AttributeError as e:\n",
    "            print(f\"AttributeError: {e} - Ignoring: {name}.{attrib_name}={attrib_value}\")\n",
    "        except ValueError as e:\n",
    "            print(f\"Data for Person({name}) contains an invalid attribute value: {e}\")\n",
    "            save_person = False\n",
    "            break\n",
    "\n",
    "    if save_person:\n",
    "        persons.append(p)"
   ]
  },
  {
   "cell_type": "code",
   "execution_count": 21,
   "id": "13550b12-d2ed-4f2c-8915-e3f768723585",
   "metadata": {},
   "outputs": [
    {
     "data": {
      "text/plain": [
       "[<Person age=18 name=Alex> @ 0x1109318d0,\n",
       " <Person age=21 name=Bob> @ 0x1109300a0]"
      ]
     },
     "execution_count": 21,
     "metadata": {},
     "output_type": "execute_result"
    }
   ],
   "source": [
    "persons"
   ]
  },
  {
   "cell_type": "code",
   "execution_count": 22,
   "id": "cd27a56d-0a19-4f86-a782-ee4d3accc88e",
   "metadata": {},
   "outputs": [],
   "source": [
    "def convert_int(val):\n",
    "    if not isinstance(val, int):\n",
    "        raise TypeError()\n",
    "    if value not in {0, 1}:\n",
    "        raise ValueError(\"Integer values 0 or 1 only\")\n",
    "    return bool(val)\n",
    "\n",
    "def convert_str(val):\n",
    "    if not isinstance(val, str):\n",
    "        raise TypeError()\n",
    "\n",
    "    val = val.casefold()\n",
    "    if val in {\"0\", \"f\", \"false\"}:\n",
    "        return False\n",
    "\n",
    "    if val in {\"1\", \"t\", \"true\"}:\n",
    "        return True\n",
    "\n",
    "    raise ValueError(\"Invalid `bool` string value\")\n",
    "\n",
    "\n",
    "class ConversionError(Exception):\n",
    "    pass\n",
    "\n",
    "\n",
    "def make_bool(val):\n",
    "    try:\n",
    "        try:\n",
    "            b = convert_int(val)\n",
    "        except TypeError:\n",
    "            try:\n",
    "                b = convert_str(val)\n",
    "            except TypeError:\n",
    "                raise ConversionError(\"The type is non convertable\")\n",
    "\n",
    "    except ValueError as e:\n",
    "        raise ConversionError(f\"The value {val} can not be converted to a bool: {e}\")\n",
    "    else:\n",
    "        return b\n"
   ]
  },
  {
   "cell_type": "code",
   "execution_count": 23,
   "id": "6cb8720d-a485-4ddc-8267-f1ea88dd0d46",
   "metadata": {},
   "outputs": [
    {
     "name": "stdout",
     "output_type": "stream",
     "text": [
      "True True\n",
      "0 False\n",
      "T True\n",
      "false False\n",
      "10 The value 10 can not be converted to a bool: Integer values 0 or 1 only\n",
      "ABC The value ABC can not be converted to a bool: Invalid `bool` string value\n",
      "1.0 The type is non convertable\n"
     ]
    }
   ],
   "source": [
    "values = [True, 0, \"T\", \"false\", 10, \"ABC\", 1.0]\n",
    "for value in values:\n",
    "    try:\n",
    "        result = make_bool(value)\n",
    "    except ConversionError as e:\n",
    "        result = str(e)\n",
    "    print(value, result)"
   ]
  },
  {
   "cell_type": "code",
   "execution_count": 24,
   "id": "d9820109-3da0-4c47-a0f0-a2d7d880347b",
   "metadata": {},
   "outputs": [],
   "source": [
    "def make_bool(val):\n",
    "    if isinstance(val, int):\n",
    "        if val in {0, 1}:\n",
    "            return bool(val)\n",
    "        else:\n",
    "            raise ConversionError(\"Invalid integer value\")\n",
    "\n",
    "    if isinstance(val, str):\n",
    "        if val.casefold() in {\"1\", \"true\", \"t\"}:\n",
    "            return True\n",
    "        if val.casefold() in {\"0\", \"false\", \"f\"}:\n",
    "            return False\n",
    "        raise ConversionError(\"Invalid string value\")\n",
    "    raise ConversionError(\"Invalid type\")\n",
    "    "
   ]
  },
  {
   "cell_type": "code",
   "execution_count": 25,
   "id": "fe2c92b2-9747-45ee-b6a2-c9aaaa7267a5",
   "metadata": {},
   "outputs": [
    {
     "name": "stdout",
     "output_type": "stream",
     "text": [
      "True True\n",
      "0 False\n",
      "T True\n",
      "false False\n",
      "10 Invalid integer value\n",
      "ABC Invalid string value\n",
      "1.0 Invalid type\n"
     ]
    }
   ],
   "source": [
    "values = [True, 0, \"T\", \"false\", 10, \"ABC\", 1.0]\n",
    "for value in values:\n",
    "    try:\n",
    "        result = make_bool(value)\n",
    "    except ConversionError as e:\n",
    "        result = str(e)\n",
    "    print(value, result)"
   ]
  },
  {
   "cell_type": "code",
   "execution_count": 26,
   "id": "49fdb647-5df0-4954-b32d-870a3018a484",
   "metadata": {},
   "outputs": [],
   "source": [
    "def get_item_ask_for_forgivenes(seq, idx, default=None):\n",
    "    try:\n",
    "        return seq[idx]\n",
    "    except (IndexError, TypeError, KeyError):\n",
    "        return default"
   ]
  },
  {
   "cell_type": "code",
   "execution_count": 27,
   "id": "8e4f1758-0623-4fa4-bac1-abfeb284493d",
   "metadata": {},
   "outputs": [],
   "source": [
    "def get_item_ask_perm(seq, idx, default=None):\n",
    "    if hasattr(seq, \"__getitem__\"):\n",
    "        if idx < len(seq):\n",
    "            return seq[idx]\n",
    "    return default"
   ]
  },
  {
   "cell_type": "code",
   "execution_count": 28,
   "id": "ee27e46e-fb12-43de-a8e8-05b0b3f7771d",
   "metadata": {},
   "outputs": [
    {
     "data": {
      "text/plain": [
       "1"
      ]
     },
     "execution_count": 28,
     "metadata": {},
     "output_type": "execute_result"
    }
   ],
   "source": [
    "get_item_ask_for_forgivenes([1, 2, 3], 0)"
   ]
  },
  {
   "cell_type": "code",
   "execution_count": 29,
   "id": "c6d8ec50-8d24-4a38-90cb-fe113a7e33a5",
   "metadata": {},
   "outputs": [
    {
     "data": {
      "text/plain": [
       "'Not found'"
      ]
     },
     "execution_count": 29,
     "metadata": {},
     "output_type": "execute_result"
    }
   ],
   "source": [
    "get_item_ask_for_forgivenes([1, 2, 3], \"abc\", default=\"Not found\")"
   ]
  },
  {
   "cell_type": "code",
   "execution_count": 30,
   "id": "53cd122f-e76e-46ff-8840-50aebfe4a785",
   "metadata": {},
   "outputs": [
    {
     "data": {
      "text/plain": [
       "1"
      ]
     },
     "execution_count": 30,
     "metadata": {},
     "output_type": "execute_result"
    }
   ],
   "source": [
    "get_item_ask_perm([1, 2, 3], 0)"
   ]
  },
  {
   "cell_type": "code",
   "execution_count": 31,
   "id": "f89ec3e5-b35d-4caf-aa56-d6899bb3a369",
   "metadata": {},
   "outputs": [
    {
     "ename": "TypeError",
     "evalue": "'<' not supported between instances of 'str' and 'int'",
     "output_type": "error",
     "traceback": [
      "\u001b[0;31m---------------------------------------------------------------------------\u001b[0m",
      "\u001b[0;31mTypeError\u001b[0m                                 Traceback (most recent call last)",
      "Cell \u001b[0;32mIn[31], line 1\u001b[0m\n\u001b[0;32m----> 1\u001b[0m \u001b[43mget_item_ask_perm\u001b[49m\u001b[43m(\u001b[49m\u001b[43m[\u001b[49m\u001b[38;5;241;43m1\u001b[39;49m\u001b[43m,\u001b[49m\u001b[43m \u001b[49m\u001b[38;5;241;43m2\u001b[39;49m\u001b[43m,\u001b[49m\u001b[43m \u001b[49m\u001b[38;5;241;43m3\u001b[39;49m\u001b[43m]\u001b[49m\u001b[43m,\u001b[49m\u001b[43m \u001b[49m\u001b[38;5;124;43m\"\u001b[39;49m\u001b[38;5;124;43mabc\u001b[39;49m\u001b[38;5;124;43m\"\u001b[39;49m\u001b[43m,\u001b[49m\u001b[43m \u001b[49m\u001b[43mdefault\u001b[49m\u001b[38;5;241;43m=\u001b[39;49m\u001b[38;5;124;43m\"\u001b[39;49m\u001b[38;5;124;43mNot found\u001b[39;49m\u001b[38;5;124;43m\"\u001b[39;49m\u001b[43m)\u001b[49m\n",
      "Cell \u001b[0;32mIn[27], line 3\u001b[0m, in \u001b[0;36mget_item_ask_perm\u001b[0;34m(seq, idx, default)\u001b[0m\n\u001b[1;32m      1\u001b[0m \u001b[38;5;28;01mdef\u001b[39;00m \u001b[38;5;21mget_item_ask_perm\u001b[39m(seq, idx, default\u001b[38;5;241m=\u001b[39m\u001b[38;5;28;01mNone\u001b[39;00m):\n\u001b[1;32m      2\u001b[0m     \u001b[38;5;28;01mif\u001b[39;00m \u001b[38;5;28mhasattr\u001b[39m(seq, \u001b[38;5;124m\"\u001b[39m\u001b[38;5;124m__getitem__\u001b[39m\u001b[38;5;124m\"\u001b[39m):\n\u001b[0;32m----> 3\u001b[0m         \u001b[38;5;28;01mif\u001b[39;00m \u001b[43midx\u001b[49m\u001b[43m \u001b[49m\u001b[38;5;241;43m<\u001b[39;49m\u001b[43m \u001b[49m\u001b[38;5;28;43mlen\u001b[39;49m\u001b[43m(\u001b[49m\u001b[43mseq\u001b[49m\u001b[43m)\u001b[49m:\n\u001b[1;32m      4\u001b[0m             \u001b[38;5;28;01mreturn\u001b[39;00m seq[idx]\n\u001b[1;32m      5\u001b[0m     \u001b[38;5;28;01mreturn\u001b[39;00m default\n",
      "\u001b[0;31mTypeError\u001b[0m: '<' not supported between instances of 'str' and 'int'"
     ]
    }
   ],
   "source": [
    "get_item_ask_perm([1, 2, 3], \"abc\", default=\"Not found\")"
   ]
  }
 ],
 "metadata": {
  "kernelspec": {
   "display_name": "Python 3 (ipykernel)",
   "language": "python",
   "name": "python3"
  },
  "language_info": {
   "codemirror_mode": {
    "name": "ipython",
    "version": 3
   },
   "file_extension": ".py",
   "mimetype": "text/x-python",
   "name": "python",
   "nbconvert_exporter": "python",
   "pygments_lexer": "ipython3",
   "version": "3.12.3"
  }
 },
 "nbformat": 4,
 "nbformat_minor": 5
}
