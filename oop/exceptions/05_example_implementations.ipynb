{
 "cells": [
  {
   "cell_type": "code",
   "execution_count": 1,
   "id": "ff55195e-b45d-445b-9ea1-47e1896ef475",
   "metadata": {},
   "outputs": [],
   "source": [
    "import json\n",
    "from datetime import datetime, timezone\n",
    "from http import HTTPStatus\n",
    "from traceback import TracebackException, extract_tb\n",
    "\n",
    "\n",
    "class WidgetException(Exception):\n",
    "    \"\"\"Base Widget Exception\"\"\"\n",
    "    RESPONSE_CODE = HTTPStatus.INTERNAL_SERVER_ERROR\n",
    "    INTERNAL_MSG = \"Base Widget Exception occured\"\n",
    "    EXTERNAL_MSG = \"Sorry! Something went wrong! The tech team is workng on the issue.\"\n",
    "\n",
    "    def __init__(self, *args, external_msg: str = \"\"):\n",
    "        self.internal_msg = args[0] if len(args) > 0 else self.INTERNAL_MSG\n",
    "        self.args = args[1:] if len(args) > 1 else ()\n",
    "        self.external_msg = external_msg\n",
    "\n",
    "    def to_json(self) -> str:\n",
    "        payload = {\n",
    "            \"code\": self.RESPONSE_CODE,\n",
    "            \"message\": self.external_msg or self.EXTERNAL_MSG,\n",
    "            \"type\": str(type(self).__name__),\n",
    "        }\n",
    "        return json.dumps(payload)\n",
    "\n",
    "    def log(self):\n",
    "        stack_summary = extract_tb(self.__traceback__)\n",
    "        formatted_tb = \"\".join(stack_summary.format()).strip()\n",
    "        formatted_tb_2 = \"\".join(TracebackException.from_exception(self).format())\n",
    "\n",
    "        print(\n",
    "            f\"EXCEPTION {datetime.now(timezone.utc).isoformat()}\\n\"\n",
    "            f\"{type(self).__name__}: {self.internal_msg}, \" \n",
    "            f\"code={self.RESPONSE_CODE}, \"\n",
    "            f\"args={self.args}, \"\n",
    "            f\"\\ntb={formatted_tb}\",\n",
    "            f\"\\ntb_2={formatted_tb_2}\",\n",
    "        )\n",
    "\n",
    "\n",
    "class SupplierException(WidgetException):\n",
    "    \"\"\"Base Supplier Exception\"\"\"\n",
    "    RESPONSE_CODE = HTTPStatus.INTERNAL_SERVER_ERROR\n",
    "    INTERNAL_MSG = \"Base Supplier Exception occured\"\n",
    "    EXTERNAL_MSG = \"Sorry! Something went wrong! The tech team is workng on the issue.\"\n",
    "\n",
    "\n",
    "class NotManufacturedAnymoreException(SupplierException):\n",
    "    \"\"\"Widget is no longer manufactured exception\"\"\"\n",
    "    RESPONSE_CODE = HTTPStatus.INTERNAL_SERVER_ERROR\n",
    "    INTERNAL_MSG = \"No longer manufactured exception.\"\n",
    "    EXTERNAL_MSG = \"Sorry! Widget is no longer manufactured.\"\n",
    "\n",
    "\n",
    "class ProductionDelayedException(SupplierException):\n",
    "    \"\"\"Widget production is delayed\"\"\"\n",
    "    RESPONSE_CODE = HTTPStatus.INTERNAL_SERVER_ERROR\n",
    "    INTERNAL_MSG = \"Widget production is delayed.\"\n",
    "    EXTERNAL_MSG = \"Sorry! Widget production is delayed.\"\n",
    "\n",
    "\n",
    "class ShippingDelayedException(SupplierException):\n",
    "    \"\"\"Widget shipping is delayed\"\"\"\n",
    "    RESPONSE_CODE = HTTPStatus.INTERNAL_SERVER_ERROR\n",
    "    INTERNAL_MSG = \"Widget shipping is delayed.\"\n",
    "    EXTERNAL_MSG = \"Sorry! Widget shipping is delayed.\"\n",
    "\n",
    "\n",
    "class WidgetCheckoutException(WidgetException):\n",
    "    \"\"\"Base Widget Checkout exception\"\"\"\n",
    "    RESPONSE_CODE = HTTPStatus.INTERNAL_SERVER_ERROR\n",
    "    INTERNAL_MSG = \"Widget checkout exception.\"\n",
    "    EXTERNAL_MSG = \"Sorry! Something went wrong during the checkout.\"\n",
    "\n",
    "\n",
    "class InventoryTypeException(WidgetCheckoutException):\n",
    "    \"\"\"Invalid inventory type exception\"\"\"\n",
    "    RESPONSE_CODE = HTTPStatus.INTERNAL_SERVER_ERROR\n",
    "    INTERNAL_MSG = \"Invalid inventory type.\"\n",
    "    EXTERNAL_MSG = \"Sorry! Something went wrong during the checkout.\"\n",
    "\n",
    "\n",
    "class OutOfStockException(InventoryTypeException):\n",
    "    \"\"\"Out of stock exception\"\"\"\n",
    "    RESPONSE_CODE = HTTPStatus.INTERNAL_SERVER_ERROR\n",
    "    INTERNAL_MSG = \"Widget is out of stock.\"\n",
    "    EXTERNAL_MSG = \"Sorry! Widget is out of stock.\"\n",
    "\n",
    "\n",
    "class PricingException(WidgetCheckoutException):\n",
    "    \"\"\"General pricing exception\"\"\"\n",
    "    RESPONSE_CODE = HTTPStatus.INTERNAL_SERVER_ERROR\n",
    "    INTERNAL_MSG = \"General pricing exception.\"\n",
    "    EXTERNAL_MSG = \"Sorry! Somthing went wrong during pricing.\"\n",
    "\n",
    "\n",
    "class InvalidCouponCodeException(PricingException):\n",
    "    \"\"\"Invalid coupon code exception\"\"\"\n",
    "    RESPONSE_CODE = HTTPStatus.BAD_REQUEST\n",
    "    INTERNAL_MSG = \"Invalid coupon code provided.\"\n",
    "    EXTERNAL_MSG = \"Invald coupon code provided.\"\n",
    "\n",
    "\n",
    "class CanNotStackCouponCodesException(PricingException):\n",
    "    \"\"\"Can not stack coupon codes exception\"\"\"\n",
    "    RESPONSE_CODE = HTTPStatus.BAD_REQUEST\n",
    "    INTERNAL_MSG = \"Can not stack coupon codes exception.\"\n",
    "    EXTERNAL_MSG = \"Coupon codes stacknig is not allowed.\"\n"
   ]
  },
  {
   "cell_type": "code",
   "execution_count": 2,
   "id": "b781198f-ef7e-4064-bdf4-958ab3e5c3ba",
   "metadata": {},
   "outputs": [
    {
     "name": "stdout",
     "output_type": "stream",
     "text": [
      "EXCEPTION 2024-07-02T11:41:59.777502+00:00\n",
      "WidgetException: My Test Exception, code=500, args=(), \n",
      "tb=File \"/var/folders/54/lrgwxr353tj57qmbtt2jwqdm0000gn/T/ipykernel_9487/1792243555.py\", line 2, in <module>\n",
      "    raise WidgetException(\"My Test Exception\") \n",
      "tb_2=Traceback (most recent call last):\n",
      "  File \"/var/folders/54/lrgwxr353tj57qmbtt2jwqdm0000gn/T/ipykernel_9487/1792243555.py\", line 2, in <module>\n",
      "    raise WidgetException(\"My Test Exception\")\n",
      "WidgetException\n",
      "\n"
     ]
    }
   ],
   "source": [
    "try:\n",
    "    raise WidgetException(\"My Test Exception\")\n",
    "except WidgetException as e:\n",
    "    e.log()"
   ]
  },
  {
   "cell_type": "code",
   "execution_count": 3,
   "id": "7252b66b-2b00-4290-85d2-cc897d1c5f38",
   "metadata": {},
   "outputs": [
    {
     "name": "stdout",
     "output_type": "stream",
     "text": [
      "EXCEPTION 2024-07-02T11:41:59.801271+00:00\n",
      "CanNotStackCouponCodesException: Can not stack coupon codes exception., code=400, args=(), \n",
      "tb=File \"/var/folders/54/lrgwxr353tj57qmbtt2jwqdm0000gn/T/ipykernel_9487/939589464.py\", line 2, in <module>\n",
      "    raise CanNotStackCouponCodesException() \n",
      "tb_2=Traceback (most recent call last):\n",
      "  File \"/var/folders/54/lrgwxr353tj57qmbtt2jwqdm0000gn/T/ipykernel_9487/939589464.py\", line 2, in <module>\n",
      "    raise CanNotStackCouponCodesException()\n",
      "CanNotStackCouponCodesException\n",
      "\n",
      "{\"code\": 400, \"message\": \"Coupon codes stacknig is not allowed.\", \"type\": \"CanNotStackCouponCodesException\"}\n"
     ]
    }
   ],
   "source": [
    "try:\n",
    "    raise CanNotStackCouponCodesException()\n",
    "except CanNotStackCouponCodesException as e:\n",
    "    e.log()\n",
    "    print(e.to_json())"
   ]
  },
  {
   "cell_type": "code",
   "execution_count": 4,
   "id": "a21758b8-e913-4266-81ee-b7c41e7e3c4a",
   "metadata": {},
   "outputs": [
    {
     "name": "stdout",
     "output_type": "stream",
     "text": [
      "EXCEPTION 2024-07-02T11:41:59.827468+00:00\n",
      "CanNotStackCouponCodesException: My custom message, code=400, args=('Other args',), \n",
      "tb=File \"/var/folders/54/lrgwxr353tj57qmbtt2jwqdm0000gn/T/ipykernel_9487/4208184640.py\", line 2, in <module>\n",
      "    raise CanNotStackCouponCodesException(\"My custom message\", \"Other args\") \n",
      "tb_2=Traceback (most recent call last):\n",
      "  File \"/var/folders/54/lrgwxr353tj57qmbtt2jwqdm0000gn/T/ipykernel_9487/4208184640.py\", line 2, in <module>\n",
      "    raise CanNotStackCouponCodesException(\"My custom message\", \"Other args\")\n",
      "CanNotStackCouponCodesException: Other args\n",
      "\n",
      "{\"code\": 400, \"message\": \"Coupon codes stacknig is not allowed.\", \"type\": \"CanNotStackCouponCodesException\"}\n"
     ]
    }
   ],
   "source": [
    "try:\n",
    "    raise CanNotStackCouponCodesException(\"My custom message\", \"Other args\")\n",
    "except CanNotStackCouponCodesException as e:\n",
    "    e.log()\n",
    "    print(e.to_json())"
   ]
  },
  {
   "cell_type": "code",
   "execution_count": null,
   "id": "025238d4-afbf-44dd-b906-2a4be9439af4",
   "metadata": {},
   "outputs": [],
   "source": []
  }
 ],
 "metadata": {
  "kernelspec": {
   "display_name": "Python 3 (ipykernel)",
   "language": "python",
   "name": "python3"
  },
  "language_info": {
   "codemirror_mode": {
    "name": "ipython",
    "version": 3
   },
   "file_extension": ".py",
   "mimetype": "text/x-python",
   "name": "python",
   "nbconvert_exporter": "python",
   "pygments_lexer": "ipython3",
   "version": "3.12.3"
  }
 },
 "nbformat": 4,
 "nbformat_minor": 5
}
