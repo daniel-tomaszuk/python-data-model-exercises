{
 "cells": [
  {
   "cell_type": "code",
   "execution_count": 1,
   "id": "f3051b0e-dc4b-44e6-a99c-8aa47a8affeb",
   "metadata": {},
   "outputs": [],
   "source": [
    "class Person:\n",
    "    def work(self):\n",
    "        return \"Person works...\"\n",
    "\n",
    "\n",
    "class Student(Person):\n",
    "    def work(self):\n",
    "        result = super().work()\n",
    "        result += \"\\nStudent works...\"\n",
    "        return result\n"
   ]
  },
  {
   "cell_type": "code",
   "execution_count": 2,
   "id": "6a4ba5d7-0dc4-457c-ae5b-cd0508fc5032",
   "metadata": {},
   "outputs": [
    {
     "data": {
      "text/plain": [
       "'Person works...\\nStudent works...'"
      ]
     },
     "execution_count": 2,
     "metadata": {},
     "output_type": "execute_result"
    }
   ],
   "source": [
    "s = Student()\n",
    "s.work()"
   ]
  },
  {
   "cell_type": "code",
   "execution_count": 3,
   "id": "4f3e80ad-7c8e-4240-91e6-55e3151ac065",
   "metadata": {},
   "outputs": [],
   "source": [
    "class Student(Person):\n",
    "    pass\n",
    "\n",
    "\n",
    "class PythonStudent(Person):\n",
    "    def work(self):\n",
    "        result = super().work()\n",
    "        result += \"\\nPythonStudent works...\"\n",
    "        return result\n",
    "\n"
   ]
  },
  {
   "cell_type": "code",
   "execution_count": 4,
   "id": "12d9943d-a1ba-42c1-beae-8d0d436bb487",
   "metadata": {},
   "outputs": [
    {
     "data": {
      "text/plain": [
       "'Person works...\\nPythonStudent works...'"
      ]
     },
     "execution_count": 4,
     "metadata": {},
     "output_type": "execute_result"
    }
   ],
   "source": [
    "ps = PythonStudent()\n",
    "ps.work()"
   ]
  },
  {
   "cell_type": "code",
   "execution_count": 5,
   "id": "4d22f1f7-3a5e-46e6-804d-b2d51e8e5dec",
   "metadata": {},
   "outputs": [],
   "source": [
    "class Student(Person):\n",
    "    def work(self):\n",
    "        result = super().work()\n",
    "        result += \"\\nStudent works...\"\n",
    "        return result\n",
    "\n",
    "\n",
    "class PythonStudent(Student):\n",
    "    def work(self):\n",
    "        result = super().work()\n",
    "        result += \"\\nPythonStudent works...\"\n",
    "        return result\n"
   ]
  },
  {
   "cell_type": "code",
   "execution_count": 6,
   "id": "75df342d-097c-4296-b391-91415ac86ea7",
   "metadata": {},
   "outputs": [
    {
     "data": {
      "text/plain": [
       "'Person works...\\nStudent works...\\nPythonStudent works...'"
      ]
     },
     "execution_count": 6,
     "metadata": {},
     "output_type": "execute_result"
    }
   ],
   "source": [
    "ps = PythonStudent()\n",
    "ps.work()"
   ]
  },
  {
   "cell_type": "code",
   "execution_count": 7,
   "id": "7bfedeac-c527-48b4-926a-4b0fd897e7cb",
   "metadata": {},
   "outputs": [],
   "source": [
    "class Student(Person):\n",
    "    def study(self):\n",
    "        result = \"Student studies...\"\n",
    "        return result\n",
    "\n",
    "\n",
    "class PythonStudent(Student):\n",
    "    def code(self):\n",
    "        result_1 = self.work()\n",
    "        result_2 = self.study()\n",
    "        return result_1 + result_2 + \"PythonStudent codes...\""
   ]
  },
  {
   "cell_type": "code",
   "execution_count": 8,
   "id": "74b2afbf-0667-4e51-9f34-79be566ded90",
   "metadata": {},
   "outputs": [
    {
     "data": {
      "text/plain": [
       "'Person works...Student studies...PythonStudent codes...'"
      ]
     },
     "execution_count": 8,
     "metadata": {},
     "output_type": "execute_result"
    }
   ],
   "source": [
    "ps = PythonStudent()\n",
    "ps.code()"
   ]
  },
  {
   "cell_type": "code",
   "execution_count": 9,
   "id": "1c41918b-d51f-4e37-8961-b43356893ff1",
   "metadata": {},
   "outputs": [],
   "source": [
    "class Person:\n",
    "    def work(self):\n",
    "        return f\"{self} works...\"\n",
    "\n",
    "\n",
    "class Student(Person):\n",
    "    def study(self):\n",
    "        result = f\"{self} studies...\"\n",
    "        return result\n",
    "\n",
    "\n",
    "class PythonStudent(Student):\n",
    "    def code(self):\n",
    "        result_1 = self.work()\n",
    "        result_2 = self.study()\n",
    "        return result_1 + result_2 + f\"{self} codes...\""
   ]
  },
  {
   "cell_type": "code",
   "execution_count": 10,
   "id": "0a7709ab-dfb5-49cc-8f01-3d4a1445ddad",
   "metadata": {},
   "outputs": [
    {
     "data": {
      "text/plain": [
       "'<__main__.PythonStudent object at 0x104d02090> works...<__main__.PythonStudent object at 0x104d02090> studies...<__main__.PythonStudent object at 0x104d02090> codes...'"
      ]
     },
     "execution_count": 10,
     "metadata": {},
     "output_type": "execute_result"
    }
   ],
   "source": [
    "ps = PythonStudent()\n",
    "ps.code()  # `self` is the same instance every time"
   ]
  },
  {
   "cell_type": "code",
   "execution_count": 12,
   "id": "5fa15c04-070e-43e6-85aa-0abe7f72d8a2",
   "metadata": {},
   "outputs": [],
   "source": [
    "class Person:\n",
    "    def set_name(self, value):\n",
    "        print(\"Setting name using Person set_name method...\")\n",
    "        self.name = value\n",
    "\n",
    "\n",
    "class Student(Person):\n",
    "    def set_name(self, value):\n",
    "        print(\"Student class delegating back to parent...\")\n",
    "        super().set_name(value)\n",
    "    "
   ]
  },
  {
   "cell_type": "code",
   "execution_count": 14,
   "id": "91317665-1f0a-49bd-8b2c-1e5b72043830",
   "metadata": {},
   "outputs": [
    {
     "name": "stdout",
     "output_type": "stream",
     "text": [
      "Student class delegating back to parent...\n",
      "Setting name using Person set_name method...\n"
     ]
    },
    {
     "data": {
      "text/plain": [
       "'Alex'"
      ]
     },
     "execution_count": 14,
     "metadata": {},
     "output_type": "execute_result"
    }
   ],
   "source": [
    "s = Student()\n",
    "s.set_name(\"Alex\")\n",
    "s.name"
   ]
  },
  {
   "cell_type": "code",
   "execution_count": 17,
   "id": "18716226-7816-4d54-ae05-8d101e9c94e4",
   "metadata": {},
   "outputs": [],
   "source": [
    "class Person:\n",
    "    def __init__(self, name):\n",
    "        self.name = name\n",
    "\n",
    "\n",
    "class Student(Person):\n",
    "    def __init__(self, name, student_number):\n",
    "        super().__init__(name)\n",
    "        self.student_number = student_number"
   ]
  },
  {
   "cell_type": "code",
   "execution_count": 19,
   "id": "37b2e3b8-a63f-447b-b354-20eb612d1221",
   "metadata": {},
   "outputs": [],
   "source": [
    "s = Student(\"Alex\", 12345)"
   ]
  },
  {
   "cell_type": "code",
   "execution_count": 20,
   "id": "655d7334-ca02-4e4f-8d2f-4e747d900d30",
   "metadata": {},
   "outputs": [
    {
     "data": {
      "text/plain": [
       "{'name': 'Alex', 'student_number': 12345}"
      ]
     },
     "execution_count": 20,
     "metadata": {},
     "output_type": "execute_result"
    }
   ],
   "source": [
    "s.__dict__"
   ]
  },
  {
   "cell_type": "code",
   "execution_count": null,
   "id": "5e24e130-4d44-4d92-b92b-1923b0707516",
   "metadata": {},
   "outputs": [],
   "source": []
  }
 ],
 "metadata": {
  "kernelspec": {
   "display_name": "Python 3 (ipykernel)",
   "language": "python",
   "name": "python3"
  },
  "language_info": {
   "codemirror_mode": {
    "name": "ipython",
    "version": 3
   },
   "file_extension": ".py",
   "mimetype": "text/x-python",
   "name": "python",
   "nbconvert_exporter": "python",
   "pygments_lexer": "ipython3",
   "version": "3.12.3"
  }
 },
 "nbformat": 4,
 "nbformat_minor": 5
}
