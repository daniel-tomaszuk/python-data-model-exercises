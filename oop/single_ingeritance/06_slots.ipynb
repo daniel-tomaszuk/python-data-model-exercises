{
 "cells": [
  {
   "cell_type": "code",
   "execution_count": 1,
   "id": "de528b30-d8e6-465c-8c3a-a2f03b716cdb",
   "metadata": {},
   "outputs": [],
   "source": [
    "class Location:\n",
    "    __slots__ = (\"name\", \"_longitude\", \"_latitude\")\n",
    "\n",
    "    def __init__(self, name, longitude, latitude):\n",
    "        self.name = name\n",
    "        self._longitude = longitude\n",
    "        self._latitude = latitude\n",
    "\n",
    "    @property\n",
    "    def longitude(self):\n",
    "        return self._longitude\n",
    "\n",
    "    @property\n",
    "    def latitude(self):\n",
    "        return self._latitude\n"
   ]
  },
  {
   "cell_type": "code",
   "execution_count": 2,
   "id": "c275b860-1b42-4157-85c0-891ef2d6a8db",
   "metadata": {},
   "outputs": [
    {
     "data": {
      "text/plain": [
       "mappingproxy({'__module__': '__main__',\n",
       "              '__slots__': ('name', '_longitude', '_latitude'),\n",
       "              '__init__': <function __main__.Location.__init__(self, name, longitude, latitude)>,\n",
       "              'longitude': <property at 0x108569850>,\n",
       "              'latitude': <property at 0x1085698a0>,\n",
       "              '_latitude': <member '_latitude' of 'Location' objects>,\n",
       "              '_longitude': <member '_longitude' of 'Location' objects>,\n",
       "              'name': <member 'name' of 'Location' objects>,\n",
       "              '__doc__': None})"
      ]
     },
     "execution_count": 2,
     "metadata": {},
     "output_type": "execute_result"
    }
   ],
   "source": [
    "Location.__dict__  # class itself still has __dict__"
   ]
  },
  {
   "cell_type": "code",
   "execution_count": 3,
   "id": "a177905c-2963-4e20-92b2-fbe0f942804a",
   "metadata": {},
   "outputs": [],
   "source": [
    "Location.map_service = \"Google Maps\"  # still possible to add new attr to a class"
   ]
  },
  {
   "cell_type": "code",
   "execution_count": 4,
   "id": "753fdd7d-2acc-4638-b59b-c147fb629116",
   "metadata": {},
   "outputs": [],
   "source": [
    "l = Location(\"Mumbai\", longitude=19.0760, latitude=72.8777)"
   ]
  },
  {
   "cell_type": "code",
   "execution_count": 5,
   "id": "2f904297-1a98-49aa-b948-23ddfe769a2f",
   "metadata": {},
   "outputs": [
    {
     "name": "stdout",
     "output_type": "stream",
     "text": [
      "'Location' object has no attribute '__dict__'\n"
     ]
    }
   ],
   "source": [
    "try:\n",
    "    l.__dict__\n",
    "except AttributeError as e:\n",
    "    print(e)"
   ]
  },
  {
   "cell_type": "code",
   "execution_count": 6,
   "id": "63c6f387-34cf-40ff-8475-d654fb88b128",
   "metadata": {},
   "outputs": [
    {
     "name": "stdout",
     "output_type": "stream",
     "text": [
      "'Location' object has no attribute 'map_link'\n"
     ]
    }
   ],
   "source": [
    "try:\n",
    "    l.map_link = \"map link\"\n",
    "except AttributeError as e:\n",
    "    print(e)"
   ]
  },
  {
   "cell_type": "code",
   "execution_count": 7,
   "id": "353c30a0-295e-4e57-9840-e9b0eccd96ce",
   "metadata": {},
   "outputs": [],
   "source": [
    "del l.name  # deleting is possible"
   ]
  },
  {
   "cell_type": "code",
   "execution_count": 8,
   "id": "6abe1224-81a4-4095-9465-34fb2892038b",
   "metadata": {},
   "outputs": [
    {
     "name": "stdout",
     "output_type": "stream",
     "text": [
      "'Location' object has no attribute 'name'\n"
     ]
    }
   ],
   "source": [
    "try:\n",
    "    l.name\n",
    "except AttributeError as e:\n",
    "    print(e)"
   ]
  },
  {
   "cell_type": "code",
   "execution_count": 9,
   "id": "829c0712-ec5c-48d0-bcee-ef81bee6b37a",
   "metadata": {},
   "outputs": [
    {
     "data": {
      "text/plain": [
       "'Bombai'"
      ]
     },
     "execution_count": 9,
     "metadata": {},
     "output_type": "execute_result"
    }
   ],
   "source": [
    "l.name = \"Bombai\"\n",
    "l.name"
   ]
  },
  {
   "cell_type": "code",
   "execution_count": null,
   "id": "10daa6d0-58cf-4bf8-8afe-9fef6bc73c22",
   "metadata": {},
   "outputs": [],
   "source": [
    "\n"
   ]
  },
  {
   "cell_type": "code",
   "execution_count": 10,
   "id": "40e970be-d963-439a-b689-585088acc1e6",
   "metadata": {},
   "outputs": [],
   "source": [
    "class Person:\n",
    "    def __init__(self, name):\n",
    "        self.name = name\n",
    "\n",
    "class Student(Person):\n",
    "    pass\n"
   ]
  },
  {
   "cell_type": "code",
   "execution_count": 11,
   "id": "781cc853-6baf-4838-a636-663064d80e56",
   "metadata": {},
   "outputs": [
    {
     "data": {
      "text/plain": [
       "{'name': 'Alex'}"
      ]
     },
     "execution_count": 11,
     "metadata": {},
     "output_type": "execute_result"
    }
   ],
   "source": [
    "s = Student(\"Alex\")\n",
    "s.__dict__"
   ]
  },
  {
   "cell_type": "code",
   "execution_count": 12,
   "id": "0537f436-5a7b-4a2e-b153-6adbb1bbc555",
   "metadata": {},
   "outputs": [],
   "source": [
    "class Person:\n",
    "    __slots__ = (\"name\",)\n",
    "\n",
    "    def __init__(self, name):\n",
    "        self.name = name\n",
    "\n",
    "\n",
    "class Student(Person):\n",
    "    pass"
   ]
  },
  {
   "cell_type": "code",
   "execution_count": 13,
   "id": "f3d1a2c8-42c7-478b-8c58-86d4d79f610a",
   "metadata": {},
   "outputs": [
    {
     "data": {
      "text/plain": [
       "({}, 'Bob')"
      ]
     },
     "execution_count": 13,
     "metadata": {},
     "output_type": "execute_result"
    }
   ],
   "source": [
    "s = Student(\"Bob\")\n",
    "s.__dict__, s.name  # __dict__ still present inside child class instance, but `name` is not inside of it"
   ]
  },
  {
   "cell_type": "code",
   "execution_count": 14,
   "id": "6fdfa1b2-24d1-4e07-ab32-12f3dd972f06",
   "metadata": {},
   "outputs": [
    {
     "name": "stdout",
     "output_type": "stream",
     "text": [
      "'Person' object has no attribute '__dict__'\n"
     ]
    }
   ],
   "source": [
    "p = Person(\"John\")\n",
    "try:\n",
    "    p.__dict__  # __dict__ not present inside an instance of a `Person` class\n",
    "except AttributeError as e:\n",
    "    print(e)"
   ]
  },
  {
   "cell_type": "code",
   "execution_count": 15,
   "id": "399fdb2d-6339-439c-8504-f9f58fc40ef4",
   "metadata": {},
   "outputs": [],
   "source": [
    "class Person:\n",
    "    __slots__ = (\"name\",)\n",
    "\n",
    "    def __init__(self, name):\n",
    "        self.name = name\n",
    "\n",
    "\n",
    "class Student(Person): \n",
    "    __slots__ = tuple()  # slots are inherited from the parent class, it's not a good idea to redefine same slot name second time\n"
   ]
  },
  {
   "cell_type": "code",
   "execution_count": 16,
   "id": "3709f324-b094-435d-b141-81ca68f38a57",
   "metadata": {},
   "outputs": [
    {
     "data": {
      "text/plain": [
       "'Mark'"
      ]
     },
     "execution_count": 16,
     "metadata": {},
     "output_type": "execute_result"
    }
   ],
   "source": [
    "s = Student(\"Mark\")\n",
    "s.name"
   ]
  },
  {
   "cell_type": "code",
   "execution_count": 17,
   "id": "1d26dea8-cff1-4970-bb24-38792322ad60",
   "metadata": {},
   "outputs": [
    {
     "name": "stdout",
     "output_type": "stream",
     "text": [
      "'Student' object has no attribute '__dict__'\n"
     ]
    }
   ],
   "source": [
    "try:\n",
    "    s.__dict__\n",
    "except AttributeError as e:\n",
    "    print(e)"
   ]
  },
  {
   "cell_type": "code",
   "execution_count": 18,
   "id": "ed0c4bde-515d-4730-aeda-ba119b034d58",
   "metadata": {},
   "outputs": [],
   "source": [
    "class Person:\n",
    "    __slots__ = (\"name\",)\n",
    "\n",
    "    def __init__(self, name):\n",
    "        self.name = name\n",
    "\n",
    "\n",
    "class Student(Person): \n",
    "    # if __slots__ are not defined in the child class, then child instance will have __dict__ AND __slots__\n",
    "    __slots__ = (\"school\", \"student_number\")\n",
    "\n",
    "    def __init__(self, name, school, student_number):\n",
    "        super().__init__(name)\n",
    "        self.school = school\n",
    "        self.student_number = student_number\n"
   ]
  },
  {
   "cell_type": "code",
   "execution_count": 19,
   "id": "396a0a0e-7f62-438a-98ab-ba0562d22e35",
   "metadata": {},
   "outputs": [],
   "source": [
    "s = Student(\"James Bond\", school=\"MI6 Prep\", student_number=\"007\")"
   ]
  },
  {
   "cell_type": "code",
   "execution_count": 20,
   "id": "094e1304-42e0-49c5-af53-b46c0c4dc555",
   "metadata": {},
   "outputs": [
    {
     "data": {
      "text/plain": [
       "('James Bond', 'MI6 Prep', '007')"
      ]
     },
     "execution_count": 20,
     "metadata": {},
     "output_type": "execute_result"
    }
   ],
   "source": [
    "s.name, s.school, s.student_number"
   ]
  },
  {
   "cell_type": "code",
   "execution_count": 21,
   "id": "a77153e4-2c23-4696-996b-aa5d4cf04ac8",
   "metadata": {},
   "outputs": [
    {
     "name": "stdout",
     "output_type": "stream",
     "text": [
      "'Student' object has no attribute '__dict__'\n"
     ]
    }
   ],
   "source": [
    "try:\n",
    "    s.__dict__  # no __dict__\n",
    "except AttributeError as e:\n",
    "    print(e)"
   ]
  },
  {
   "cell_type": "code",
   "execution_count": 22,
   "id": "455c2877-da70-4cf0-b087-ce8a1dfc9697",
   "metadata": {},
   "outputs": [],
   "source": [
    "class Person:\n",
    "    # now parent class does not have __slots__ defined\n",
    "    \n",
    "    def __init__(self, name):\n",
    "        self.name = name\n",
    "\n",
    "\n",
    "class Student(Person): \n",
    "    __slots__ = (\"school\", \"student_number\")\n",
    "\n",
    "    def __init__(self, name, school, student_number):\n",
    "        super().__init__(name)\n",
    "        self.school = school\n",
    "        self.student_number = student_number\n"
   ]
  },
  {
   "cell_type": "code",
   "execution_count": 23,
   "id": "e45a2c0a-ecd1-402c-b5cb-e17d80b1921c",
   "metadata": {},
   "outputs": [],
   "source": [
    "s = Student(\"Harry Potter\", school = \"Hogward\", student_number=\"G12345\")"
   ]
  },
  {
   "cell_type": "code",
   "execution_count": 24,
   "id": "373dbde9-dd1f-40ad-bec7-08ef68287466",
   "metadata": {},
   "outputs": [
    {
     "data": {
      "text/plain": [
       "{'name': 'Harry Potter'}"
      ]
     },
     "execution_count": 24,
     "metadata": {},
     "output_type": "execute_result"
    }
   ],
   "source": [
    "s.__dict__  # __dict__ is taken from the parent class and has parent class attrs"
   ]
  },
  {
   "cell_type": "code",
   "execution_count": 25,
   "id": "b62f239e-5239-40fb-8fa3-7c0104c530cd",
   "metadata": {},
   "outputs": [],
   "source": [
    "class Person:\n",
    "    __slots__ = \"_name\", \"age\"\n",
    "    def __init__(self, name, age):\n",
    "        self.name = name\n",
    "        self.age = age\n",
    "\n",
    "    @property\n",
    "    def name(self):\n",
    "        return self._name\n",
    "\n",
    "    @name.setter\n",
    "    def name(self, value):\n",
    "        self._name = value  # sets a slot\n"
   ]
  },
  {
   "cell_type": "code",
   "execution_count": 26,
   "id": "a7284dfb-d7b4-41b5-8b7d-a1d45eee8ec2",
   "metadata": {},
   "outputs": [
    {
     "data": {
      "text/plain": [
       "('Eric',\n",
       " 44,\n",
       " mappingproxy({'__module__': '__main__',\n",
       "               '__slots__': ('_name', 'age'),\n",
       "               '__init__': <function __main__.Person.__init__(self, name, age)>,\n",
       "               'name': <property at 0x10858fce0>,\n",
       "               '_name': <member '_name' of 'Person' objects>,\n",
       "               'age': <member 'age' of 'Person' objects>,\n",
       "               '__doc__': None}))"
      ]
     },
     "execution_count": 26,
     "metadata": {},
     "output_type": "execute_result"
    }
   ],
   "source": [
    "p = Person(\"Eric\", 44)\n",
    "p.name, p.age, Person.__dict__"
   ]
  },
  {
   "cell_type": "code",
   "execution_count": 27,
   "id": "59b9d959-fe06-4c7a-99f5-bb7edaa36e4e",
   "metadata": {},
   "outputs": [
    {
     "data": {
      "text/plain": [
       "(property, member_descriptor)"
      ]
     },
     "execution_count": 27,
     "metadata": {},
     "output_type": "execute_result"
    }
   ],
   "source": [
    "type(Person.name), type(Person.age)"
   ]
  },
  {
   "cell_type": "code",
   "execution_count": 28,
   "id": "cca73cf4-6d6d-432b-a4fd-3a5745f5db5d",
   "metadata": {},
   "outputs": [
    {
     "data": {
      "text/plain": [
       "(True, True)"
      ]
     },
     "execution_count": 28,
     "metadata": {},
     "output_type": "execute_result"
    }
   ],
   "source": [
    "hasattr(Person.name, \"__get__\"), hasattr(Person.name, \"__set__\")  # is a data descriptor"
   ]
  },
  {
   "cell_type": "code",
   "execution_count": 29,
   "id": "ee367133-c543-46f1-be01-6e37b1ea773a",
   "metadata": {},
   "outputs": [
    {
     "data": {
      "text/plain": [
       "(True, True)"
      ]
     },
     "execution_count": 29,
     "metadata": {},
     "output_type": "execute_result"
    }
   ],
   "source": [
    "hasattr(Person.age, \"__get__\"), hasattr(Person.age, \"__set__\")  # is a data descriptor as well"
   ]
  },
  {
   "cell_type": "code",
   "execution_count": 30,
   "id": "c7d5c77f-47d9-49fc-880c-5f3b3cd086f1",
   "metadata": {},
   "outputs": [],
   "source": [
    "class Person:\n",
    "    __slots__ = \"name\", \"__dict__\"  # it's possible to pass __dict__ into the __slots__ to have slots as well as __dict__\n",
    "\n",
    "    def __init__(self, name):\n",
    "        self.name = name\n",
    "\n"
   ]
  },
  {
   "cell_type": "code",
   "execution_count": 31,
   "id": "4c961a6e-833d-4452-80fe-8f5433f3b325",
   "metadata": {},
   "outputs": [
    {
     "data": {
      "text/plain": [
       "('Alex', {})"
      ]
     },
     "execution_count": 31,
     "metadata": {},
     "output_type": "execute_result"
    }
   ],
   "source": [
    "p = Person(\"Alex\")\n",
    "p.name, p.__dict__\n"
   ]
  },
  {
   "cell_type": "code",
   "execution_count": 33,
   "id": "1ba70a6d-1523-4854-bacb-d2b952b6af03",
   "metadata": {},
   "outputs": [
    {
     "data": {
      "text/plain": [
       "{'age': 20}"
      ]
     },
     "execution_count": 33,
     "metadata": {},
     "output_type": "execute_result"
    }
   ],
   "source": [
    "# now it's possible to add additional attributes to the instance\n",
    "p.age = 20\n",
    "p.__dict__"
   ]
  },
  {
   "cell_type": "code",
   "execution_count": null,
   "id": "bd8f2168-2852-4f09-9e9f-c8fcc55e3759",
   "metadata": {},
   "outputs": [],
   "source": []
  }
 ],
 "metadata": {
  "kernelspec": {
   "display_name": "Python 3 (ipykernel)",
   "language": "python",
   "name": "python3"
  },
  "language_info": {
   "codemirror_mode": {
    "name": "ipython",
    "version": 3
   },
   "file_extension": ".py",
   "mimetype": "text/x-python",
   "name": "python",
   "nbconvert_exporter": "python",
   "pygments_lexer": "ipython3",
   "version": "3.12.3"
  }
 },
 "nbformat": 4,
 "nbformat_minor": 5
}
