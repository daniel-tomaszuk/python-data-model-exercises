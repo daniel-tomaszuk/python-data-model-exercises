{
 "cells": [
  {
   "cell_type": "code",
   "execution_count": 1,
   "id": "be715146-bfec-49eb-9a39-1e682d23ae4e",
   "metadata": {},
   "outputs": [
    {
     "data": {
      "text/plain": [
       "('<__main__.Person object at 0x10a3442f0>',\n",
       " '<__main__.Person object at 0x10a3442f0>')"
      ]
     },
     "execution_count": 1,
     "metadata": {},
     "output_type": "execute_result"
    }
   ],
   "source": [
    "class Person:\n",
    "    pass\n",
    "\n",
    "\n",
    "p = Person()\n",
    "str(p), repr(p)"
   ]
  },
  {
   "cell_type": "code",
   "execution_count": 4,
   "id": "520f794c-b4bd-42a5-9db0-1a709b54fcf1",
   "metadata": {},
   "outputs": [
    {
     "data": {
      "text/plain": [
       "('0x10a366300', 'Person Class __repr__ from instance: 0x10a366300')"
      ]
     },
     "execution_count": 4,
     "metadata": {},
     "output_type": "execute_result"
    }
   ],
   "source": [
    "class Person:\n",
    "    def __repr__(self):\n",
    "        return f\"Person Class __repr__ from instance: {hex(id(self))}\"\n",
    "\n",
    "\n",
    "p = Person()\n",
    "hex(id(p)), str(p)\n"
   ]
  },
  {
   "cell_type": "code",
   "execution_count": 16,
   "id": "a02ffe03-9585-4557-bd81-c570d97e5e1f",
   "metadata": {},
   "outputs": [],
   "source": [
    "class Shape:\n",
    "    def __init__(self, name):\n",
    "        self.name = name\n",
    "\n",
    "    def info(self):\n",
    "        return f\"Shape.info called from Shape(name={self.name})\"\n",
    "\n",
    "    def extended_info(self):\n",
    "        return f\"Shape.extended_info was called for Shape(name={self.name})\"\n",
    "\n",
    "\n",
    "class Polygon(Shape):\n",
    "    def __init__(self, name):\n",
    "        self.name = name\n",
    "\n",
    "    def info(self):\n",
    "        return f\"Polygon.info called from Polygon(name={self.name})\"\n",
    "        "
   ]
  },
  {
   "cell_type": "code",
   "execution_count": 18,
   "id": "54d2b3e5-a87c-4577-8074-1f630abc6376",
   "metadata": {},
   "outputs": [
    {
     "data": {
      "text/plain": [
       "('Polygon.info called from Polygon(name=Bob)',\n",
       " 'Shape.extended_info was called for Shape(name=Bob)')"
      ]
     },
     "execution_count": 18,
     "metadata": {},
     "output_type": "execute_result"
    }
   ],
   "source": [
    "p = Polygon(\"Bob\")\n",
    "p.info(), p.extended_info()"
   ]
  },
  {
   "cell_type": "code",
   "execution_count": 19,
   "id": "7c8854d5-244e-455a-a963-0388bda97713",
   "metadata": {},
   "outputs": [],
   "source": [
    "class Shape:\n",
    "    def __init__(self, name):\n",
    "        self.name = name\n",
    "\n",
    "    def info(self):\n",
    "        return f\"Shape.info called from Shape(name={self.name})\"\n",
    "\n",
    "    def extended_info(self):\n",
    "        return f\"Shape.extended_info was called for Shape(name={self.name})\", self.info()\n",
    "\n",
    "\n",
    "class Polygon(Shape):\n",
    "    def __init__(self, name):\n",
    "        self.name = name\n",
    "\n",
    "    def info(self):\n",
    "        return f\"Polygon.info called from Polygon(name={self.name})\"\n",
    "        "
   ]
  },
  {
   "cell_type": "code",
   "execution_count": 20,
   "id": "3d351168-a94c-4cf9-9582-86c347bc6faa",
   "metadata": {},
   "outputs": [
    {
     "data": {
      "text/plain": [
       "('Polygon.info called from Polygon(name=Bob)',\n",
       " ('Shape.extended_info was called for Shape(name=Bob)',\n",
       "  'Polygon.info called from Polygon(name=Bob)'))"
      ]
     },
     "execution_count": 20,
     "metadata": {},
     "output_type": "execute_result"
    }
   ],
   "source": [
    "p = Polygon(\"Bob\")\n",
    "p.info(), p.extended_info()"
   ]
  },
  {
   "cell_type": "code",
   "execution_count": null,
   "id": "0f44f65b-4ee9-400a-8898-c18b785ef8ae",
   "metadata": {},
   "outputs": [],
   "source": []
  }
 ],
 "metadata": {
  "kernelspec": {
   "display_name": "Python 3 (ipykernel)",
   "language": "python",
   "name": "python3"
  },
  "language_info": {
   "codemirror_mode": {
    "name": "ipython",
    "version": 3
   },
   "file_extension": ".py",
   "mimetype": "text/x-python",
   "name": "python",
   "nbconvert_exporter": "python",
   "pygments_lexer": "ipython3",
   "version": "3.12.3"
  }
 },
 "nbformat": 4,
 "nbformat_minor": 5
}
