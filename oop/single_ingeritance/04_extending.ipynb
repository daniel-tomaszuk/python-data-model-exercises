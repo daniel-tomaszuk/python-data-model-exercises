{
 "cells": [
  {
   "cell_type": "code",
   "execution_count": null,
   "id": "a3699fb2-c67c-4bff-ad69-c2eed48968d8",
   "metadata": {},
   "outputs": [],
   "source": [
    "class Person:\n",
    "    pass\n",
    "\n",
    "\n",
    "class Student(Person):\n",
    "    def study(self):\n",
    "        return \"study... \" * 3\n"
   ]
  },
  {
   "cell_type": "code",
   "execution_count": null,
   "id": "b39b9713-3b30-4fb1-a6f2-3cad3527f0c7",
   "metadata": {},
   "outputs": [],
   "source": [
    "p = Person()\n",
    "p"
   ]
  },
  {
   "cell_type": "code",
   "execution_count": null,
   "id": "4fcae748-90c6-4912-837a-efc991d24383",
   "metadata": {},
   "outputs": [],
   "source": [
    "try:\n",
    "    p.study()\n",
    "except AttributeError as e:\n",
    "    print(e)"
   ]
  },
  {
   "cell_type": "code",
   "execution_count": null,
   "id": "a2b79acd-b5b7-40c9-9c33-8bd6757e2a83",
   "metadata": {},
   "outputs": [],
   "source": [
    "s = Student()\n",
    "s.study()"
   ]
  },
  {
   "cell_type": "code",
   "execution_count": null,
   "id": "d223287c-0cc4-4cb3-b35e-9b440709972c",
   "metadata": {},
   "outputs": [],
   "source": [
    "class Person:\n",
    "    def routine(self):\n",
    "        return self.eat() + self.study() +  self.sleep()\n",
    "\n",
    "    def eat(self):\n",
    "        return \"Person eats...\"\n",
    "\n",
    "    def sleep(self):\n",
    "        return \"Person sleeps...\"\n",
    "\n"
   ]
  },
  {
   "cell_type": "code",
   "execution_count": null,
   "id": "eabbad3e-1103-4875-ae23-649c5740b741",
   "metadata": {},
   "outputs": [],
   "source": [
    "p = Person()\n",
    "try:\n",
    "    p.routine()\n",
    "except AttributeError as e:\n",
    "    print(e)\n"
   ]
  },
  {
   "cell_type": "code",
   "execution_count": null,
   "id": "15b91b66-3fdc-4951-9340-f4577c717137",
   "metadata": {},
   "outputs": [],
   "source": [
    "class Student(Person):\n",
    "    def study(self):\n",
    "        return \"Student studies...\"\n"
   ]
  },
  {
   "cell_type": "code",
   "execution_count": null,
   "id": "d7dcc2da-3712-4270-8000-fdbdbba13271",
   "metadata": {},
   "outputs": [],
   "source": [
    "s = Student()\n",
    "s.routine()  # works!"
   ]
  },
  {
   "cell_type": "code",
   "execution_count": null,
   "id": "0d2b6c9f-f4b1-42c6-a4ca-781a30bfea47",
   "metadata": {},
   "outputs": [],
   "source": []
  }
 ],
 "metadata": {
  "kernelspec": {
   "display_name": "Python 3 (ipykernel)",
   "language": "python",
   "name": "python3"
  },
  "language_info": {
   "codemirror_mode": {
    "name": "ipython",
    "version": 3
   },
   "file_extension": ".py",
   "mimetype": "text/x-python",
   "name": "python",
   "nbconvert_exporter": "python",
   "pygments_lexer": "ipython3",
   "version": "3.12.3"
  }
 },
 "nbformat": 4,
 "nbformat_minor": 5
}
