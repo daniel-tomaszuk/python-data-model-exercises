{
 "cells": [
  {
   "cell_type": "code",
   "execution_count": 1,
   "id": "f0f88cec-d409-42ab-8d79-bf602f147a9b",
   "metadata": {},
   "outputs": [],
   "source": [
    "class Shape:\n",
    "    pass\n",
    "\n",
    "\n",
    "class Ellipse(Shape):\n",
    "    pass\n",
    "\n",
    "\n",
    "class Circle(Ellipse):\n",
    "    pass\n",
    "\n",
    "\n",
    "class Polygon(Shape):\n",
    "    pass\n",
    "\n",
    "\n",
    "class Rectangle(Polygon):\n",
    "    pass\n",
    "\n",
    "\n",
    "class Square(Rectangle):\n",
    "    pass\n",
    "\n",
    "\n",
    "class Triangle(Polygon):\n",
    "    pass"
   ]
  },
  {
   "cell_type": "code",
   "execution_count": 2,
   "id": "ad0426fd-dac7-4f75-9c31-428112c4decb",
   "metadata": {},
   "outputs": [
    {
     "data": {
      "text/plain": [
       "True"
      ]
     },
     "execution_count": 2,
     "metadata": {},
     "output_type": "execute_result"
    }
   ],
   "source": [
    "issubclass(Ellipse, Shape)"
   ]
  },
  {
   "cell_type": "code",
   "execution_count": 3,
   "id": "ab549d53-59d6-46d3-8d4d-f984291efed3",
   "metadata": {},
   "outputs": [
    {
     "data": {
      "text/plain": [
       "True"
      ]
     },
     "execution_count": 3,
     "metadata": {},
     "output_type": "execute_result"
    }
   ],
   "source": [
    "issubclass(Circle, Shape)"
   ]
  },
  {
   "cell_type": "code",
   "execution_count": 4,
   "id": "04499c2d-c172-4ddd-a584-971f50bb5158",
   "metadata": {},
   "outputs": [
    {
     "data": {
      "text/plain": [
       "False"
      ]
     },
     "execution_count": 4,
     "metadata": {},
     "output_type": "execute_result"
    }
   ],
   "source": [
    "issubclass(Polygon, Ellipse)"
   ]
  },
  {
   "cell_type": "code",
   "execution_count": 5,
   "id": "78e7dec3-ca0f-4a66-914d-976a38242449",
   "metadata": {},
   "outputs": [
    {
     "data": {
      "text/plain": [
       "True"
      ]
     },
     "execution_count": 5,
     "metadata": {},
     "output_type": "execute_result"
    }
   ],
   "source": [
    "issubclass(Square, Shape)"
   ]
  },
  {
   "cell_type": "code",
   "execution_count": 6,
   "id": "b63f15a1-397a-4ec7-8ebe-2ee47afa7d69",
   "metadata": {},
   "outputs": [],
   "source": [
    "s = Shape()\n",
    "c = Circle()\n",
    "sq = Square()"
   ]
  },
  {
   "cell_type": "code",
   "execution_count": 7,
   "id": "2956cdf6-1c09-4f8b-ad4e-ff64753db383",
   "metadata": {},
   "outputs": [
    {
     "data": {
      "text/plain": [
       "True"
      ]
     },
     "execution_count": 7,
     "metadata": {},
     "output_type": "execute_result"
    }
   ],
   "source": [
    "isinstance(s, Shape)"
   ]
  },
  {
   "cell_type": "code",
   "execution_count": 8,
   "id": "efbdb946-f652-4d19-bbac-37905f7f7c7a",
   "metadata": {},
   "outputs": [
    {
     "data": {
      "text/plain": [
       "True"
      ]
     },
     "execution_count": 8,
     "metadata": {},
     "output_type": "execute_result"
    }
   ],
   "source": [
    "isinstance(sq, Square)"
   ]
  },
  {
   "cell_type": "code",
   "execution_count": 9,
   "id": "efe5bfa7-0849-47e0-9197-ae96c2593aee",
   "metadata": {},
   "outputs": [
    {
     "data": {
      "text/plain": [
       "True"
      ]
     },
     "execution_count": 9,
     "metadata": {},
     "output_type": "execute_result"
    }
   ],
   "source": [
    "isinstance(sq, Rectangle)"
   ]
  },
  {
   "cell_type": "code",
   "execution_count": 10,
   "id": "f6ab69c5-29de-4398-aa0c-1c41e18f6639",
   "metadata": {},
   "outputs": [
    {
     "data": {
      "text/plain": [
       "(type, __main__.Shape)"
      ]
     },
     "execution_count": 10,
     "metadata": {},
     "output_type": "execute_result"
    }
   ],
   "source": [
    "type(Shape), type(s)"
   ]
  },
  {
   "cell_type": "code",
   "execution_count": 11,
   "id": "87e31941-c79c-4f84-a7a6-a426cf4dd519",
   "metadata": {},
   "outputs": [
    {
     "data": {
      "text/plain": [
       "(<__main__.Square at 0x1091fa0f0>, <__main__.Polygon at 0x10921c6b0>)"
      ]
     },
     "execution_count": 11,
     "metadata": {},
     "output_type": "execute_result"
    }
   ],
   "source": [
    "sq = Square()\n",
    "p = Polygon()\n",
    "sq, p"
   ]
  },
  {
   "cell_type": "code",
   "execution_count": 12,
   "id": "aa11f28f-ce40-48cf-92c8-5b07d214cceb",
   "metadata": {},
   "outputs": [
    {
     "data": {
      "text/plain": [
       "True"
      ]
     },
     "execution_count": 12,
     "metadata": {},
     "output_type": "execute_result"
    }
   ],
   "source": [
    "isinstance(sq, type(p))"
   ]
  },
  {
   "cell_type": "code",
   "execution_count": 13,
   "id": "536badc4-d66c-4ea1-99d3-df8da8687ae8",
   "metadata": {},
   "outputs": [
    {
     "data": {
      "text/plain": [
       "True"
      ]
     },
     "execution_count": 13,
     "metadata": {},
     "output_type": "execute_result"
    }
   ],
   "source": [
    "issubclass(type(sq), type(p))"
   ]
  },
  {
   "cell_type": "code",
   "execution_count": null,
   "id": "66fe7f3d-06f5-446a-a30c-c1515a76e5bf",
   "metadata": {},
   "outputs": [],
   "source": []
  }
 ],
 "metadata": {
  "kernelspec": {
   "display_name": "Python 3 (ipykernel)",
   "language": "python",
   "name": "python3"
  },
  "language_info": {
   "codemirror_mode": {
    "name": "ipython",
    "version": 3
   },
   "file_extension": ".py",
   "mimetype": "text/x-python",
   "name": "python",
   "nbconvert_exporter": "python",
   "pygments_lexer": "ipython3",
   "version": "3.12.3"
  }
 },
 "nbformat": 4,
 "nbformat_minor": 5
}
