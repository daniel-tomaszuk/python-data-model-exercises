{
 "cells": [
  {
   "cell_type": "code",
   "execution_count": 6,
   "id": "233ce2e4-9adf-4d4e-8ed5-55652f4221b4",
   "metadata": {},
   "outputs": [],
   "source": [
    "import enum\n",
    "\n",
    "\n",
    "class State(enum.Enum):\n",
    "    WAITING = enum.auto()\n",
    "    STARTED = enum.auto()\n",
    "    FINISHED = enum.auto()\n"
   ]
  },
  {
   "cell_type": "code",
   "execution_count": 7,
   "id": "6aad9ac7-134e-47de-b5d1-63296ff51004",
   "metadata": {},
   "outputs": [
    {
     "data": {
      "text/plain": [
       "(<State.WAITING: 1>, <State.STARTED: 2>, <State.FINISHED: 3>)"
      ]
     },
     "execution_count": 7,
     "metadata": {},
     "output_type": "execute_result"
    }
   ],
   "source": [
    "State.WAITING, State.STARTED, State.FINISHED"
   ]
  },
  {
   "cell_type": "code",
   "execution_count": 8,
   "id": "827667e1-41f4-41ee-85ff-715b44e0ca38",
   "metadata": {},
   "outputs": [],
   "source": [
    "class State(enum.Enum):\n",
    "    WAITING = 100\n",
    "    STARTED = enum.auto()\n",
    "    FINISHED = enum.auto()"
   ]
  },
  {
   "cell_type": "code",
   "execution_count": 9,
   "id": "80977354-61a5-4a82-bba0-315641a0f849",
   "metadata": {},
   "outputs": [
    {
     "data": {
      "text/plain": [
       "(<State.WAITING: 100>, <State.STARTED: 101>, <State.FINISHED: 102>)"
      ]
     },
     "execution_count": 9,
     "metadata": {},
     "output_type": "execute_result"
    }
   ],
   "source": [
    "State.WAITING, State.STARTED, State.FINISHED"
   ]
  },
  {
   "cell_type": "code",
   "execution_count": 10,
   "id": "013fd6ca-5aa5-400c-9679-5c86eb6fc9d5",
   "metadata": {},
   "outputs": [],
   "source": [
    "class State(enum.Enum):\n",
    "    WAITING = enum.auto()\n",
    "    STARTED = 1\n",
    "    FINISHED = enum.auto()"
   ]
  },
  {
   "cell_type": "code",
   "execution_count": 11,
   "id": "9debba0c-670c-443d-bdde-e87b0dbdd649",
   "metadata": {},
   "outputs": [
    {
     "data": {
      "text/plain": [
       "mappingproxy({'WAITING': <State.WAITING: 1>,\n",
       "              'STARTED': <State.WAITING: 1>,\n",
       "              'FINISHED': <State.FINISHED: 2>})"
      ]
     },
     "execution_count": 11,
     "metadata": {},
     "output_type": "execute_result"
    }
   ],
   "source": [
    "State.__members__"
   ]
  },
  {
   "cell_type": "code",
   "execution_count": 16,
   "id": "5cd290da-8f5a-455c-b203-d1b9bedf35a0",
   "metadata": {},
   "outputs": [
    {
     "data": {
      "text/plain": [
       "(mappingproxy({'_generate_next_value_': <staticmethod(<function Enum._generate_next_value_ at 0x1004d1580>)>,\n",
       "               '__module__': '__main__',\n",
       "               '_new_member_': <function object.__new__(*args, **kwargs)>,\n",
       "               '_use_args_': False,\n",
       "               '_member_names_': ['WAITING', 'FINISHED'],\n",
       "               '_member_map_': {'WAITING': <State.WAITING: 1>,\n",
       "                'STARTED': <State.WAITING: 1>,\n",
       "                'FINISHED': <State.FINISHED: 2>},\n",
       "               '_value2member_map_': {1: <State.WAITING: 1>,\n",
       "                2: <State.FINISHED: 2>},\n",
       "               '_unhashable_values_': [],\n",
       "               '_member_type_': object,\n",
       "               '_value_repr_': None,\n",
       "               '__doc__': None,\n",
       "               'WAITING': <State.WAITING: 1>,\n",
       "               'STARTED': <State.WAITING: 1>,\n",
       "               'FINISHED': <State.FINISHED: 2>,\n",
       "               '__new__': <function enum.Enum.__new__(cls, value)>}),\n",
       " True)"
      ]
     },
     "execution_count": 16,
     "metadata": {},
     "output_type": "execute_result"
    }
   ],
   "source": [
    "# _generate_next_value is in fact called by enum.auto()\n",
    "State.__dict__, hasattr(State, \"_generate_next_value_\")"
   ]
  },
  {
   "cell_type": "code",
   "execution_count": 19,
   "id": "95ba4571-cf28-4bf2-b287-ac66c9bbc31b",
   "metadata": {},
   "outputs": [
    {
     "name": "stdout",
     "output_type": "stream",
     "text": [
      "a 1 0 []\n",
      "b 1 1 [100]\n",
      "c 1 2 [100, 100]\n"
     ]
    }
   ],
   "source": [
    "class State(enum.Enum):\n",
    "    def _generate_next_value_(name, start, count, last_values):\n",
    "        print(name, start, count, last_values)\n",
    "        return 100\n",
    "        \n",
    "    a = enum.auto()\n",
    "    b = enum.auto()\n",
    "    c = enum.auto()"
   ]
  },
  {
   "cell_type": "code",
   "execution_count": 20,
   "id": "bf8e083f-40b5-4043-b972-a22c97e109cd",
   "metadata": {},
   "outputs": [],
   "source": [
    "import random\n",
    "\n",
    "random.seed(0)\n",
    "\n",
    "\n",
    "class State(enum.Enum):\n",
    "    def _generate_next_value_(name, start, count, last_values):\n",
    "        while True:\n",
    "            next_value = random.randint(1, 100)\n",
    "            if next_value not in last_values:\n",
    "                return next_value\n",
    "\n",
    "    a = enum.auto()\n",
    "    b = enum.auto()\n",
    "    c = enum.auto()\n",
    "    d = enum.auto()\n"
   ]
  },
  {
   "cell_type": "code",
   "execution_count": 21,
   "id": "edf1a425-ab3f-4172-a0ef-6bd1ca328f35",
   "metadata": {},
   "outputs": [
    {
     "data": {
      "text/plain": [
       "[<State.a: 50>, <State.b: 98>, <State.c: 54>, <State.d: 6>]"
      ]
     },
     "execution_count": 21,
     "metadata": {},
     "output_type": "execute_result"
    }
   ],
   "source": [
    "list(State)"
   ]
  },
  {
   "cell_type": "code",
   "execution_count": 22,
   "id": "c5e5512c-bf3d-4f42-8724-32447785a9c7",
   "metadata": {},
   "outputs": [],
   "source": [
    "class State(enum.Enum):\n",
    "    def _generate_next_value_(name, start, count, last_values):\n",
    "        return name.title()\n",
    "\n",
    "    WAITING = enum.auto()\n",
    "    STARTED = enum.auto()\n",
    "    FINISHED = enum.auto()\n",
    "    "
   ]
  },
  {
   "cell_type": "code",
   "execution_count": 23,
   "id": "e2af4b1b-e2da-4d9e-b56b-a6bedfaf7dc8",
   "metadata": {},
   "outputs": [
    {
     "data": {
      "text/plain": [
       "[<State.WAITING: 'Waiting'>,\n",
       " <State.STARTED: 'Started'>,\n",
       " <State.FINISHED: 'Finished'>]"
      ]
     },
     "execution_count": 23,
     "metadata": {},
     "output_type": "execute_result"
    }
   ],
   "source": [
    "list(State)"
   ]
  },
  {
   "cell_type": "code",
   "execution_count": 24,
   "id": "6b4e1d72-c71d-4b5d-8f2c-a35acc39e603",
   "metadata": {},
   "outputs": [],
   "source": [
    "class NameAsString(enum.Enum):\n",
    "    def _generate_next_value_(name, start, count, last_values):\n",
    "        return name.lower()\n",
    "\n",
    "\n",
    "class MyEnum(NameAsString):\n",
    "    A = enum.auto()\n",
    "    B = enum.auto()"
   ]
  },
  {
   "cell_type": "code",
   "execution_count": 25,
   "id": "fced0c9a-3864-49db-9120-7ee77c5e02e4",
   "metadata": {},
   "outputs": [
    {
     "data": {
      "text/plain": [
       "[<MyEnum.A: 'a'>, <MyEnum.B: 'b'>]"
      ]
     },
     "execution_count": 25,
     "metadata": {},
     "output_type": "execute_result"
    }
   ],
   "source": [
    "list(MyEnum)"
   ]
  },
  {
   "cell_type": "code",
   "execution_count": 28,
   "id": "5e41778a-d09b-4ae0-bde2-7edd34a9b57d",
   "metadata": {},
   "outputs": [],
   "source": [
    "class State(enum.Enum):\n",
    "    \"\"\"Do not allows users to use exact values from Enum.\"\"\"\n",
    "    Waiting = object()\n",
    "    Running = object()\n",
    "    Finished = object()\n"
   ]
  },
  {
   "cell_type": "code",
   "execution_count": 29,
   "id": "f24be779-71b5-4973-90f8-bf22cdb5df7f",
   "metadata": {},
   "outputs": [
    {
     "data": {
      "text/plain": [
       "(<State.Waiting: <object object at 0x104217a70>>,\n",
       " <State.Running: <object object at 0x104217a80>>)"
      ]
     },
     "execution_count": 29,
     "metadata": {},
     "output_type": "execute_result"
    }
   ],
   "source": [
    "State.Waiting, State.Running"
   ]
  },
  {
   "cell_type": "code",
   "execution_count": 36,
   "id": "84c393a8-16dd-41b7-b7f0-a58cea029dc8",
   "metadata": {},
   "outputs": [
    {
     "name": "stdout",
     "output_type": "stream",
     "text": [
      "count=3\n",
      "count=4\n",
      "count=5\n"
     ]
    }
   ],
   "source": [
    "class Aliassed(enum.Enum):\n",
    "    def _generate_next_value_(name, start, count, last_values):\n",
    "        # `count` includes aliases, not main values only \n",
    "        print(f\"count={count}\")\n",
    "        if count % 2:\n",
    "            # make this member as alias of previous one\n",
    "            return last_values[-1]\n",
    "        return last_values[-1] + 1\n",
    "\n",
    "    GREEN = 1\n",
    "    GREEN_ALIAS = 1\n",
    "    RED = 10\n",
    "    CRRIMSON = enum.auto()\n",
    "    BLUE = enum.auto()\n",
    "    AQUA = enum.auto()\n",
    "            "
   ]
  },
  {
   "cell_type": "code",
   "execution_count": 38,
   "id": "16a24726-b9e6-4473-9b84-3c331699655f",
   "metadata": {},
   "outputs": [
    {
     "data": {
      "text/plain": [
       "mappingproxy({'GREEN': <Aliassed.GREEN: 1>,\n",
       "              'GREEN_ALIAS': <Aliassed.GREEN: 1>,\n",
       "              'RED': <Aliassed.RED: 10>,\n",
       "              'CRRIMSON': <Aliassed.RED: 10>,\n",
       "              'BLUE': <Aliassed.BLUE: 11>,\n",
       "              'AQUA': <Aliassed.BLUE: 11>})"
      ]
     },
     "execution_count": 38,
     "metadata": {},
     "output_type": "execute_result"
    }
   ],
   "source": [
    "Aliassed.__members__"
   ]
  },
  {
   "cell_type": "code",
   "execution_count": 40,
   "id": "926c6710-9f33-4043-9fb0-3651446ff3d9",
   "metadata": {},
   "outputs": [],
   "source": [
    "class Alliased(enum.Enum):\n",
    "    \"\"\"Always returns last previous value and creates an alias.\"\"\"\n",
    "    def _generate_next_value_(name, start, count, last_values):\n",
    "        return last_values[-1]\n",
    "\n",
    "\n",
    "class Color(Alliased):\n",
    "    GREEN = 1\n",
    "    LIGHT_GREEN = enum.auto()\n",
    "    DARK_GREEN = enum.auto()\n",
    "    RED = 2\n",
    "    LIGHT_RED = enum.auto()\n",
    "    DARK_RED = enum.auto()\n",
    "    BLOOD_RED = enum.auto()"
   ]
  },
  {
   "cell_type": "code",
   "execution_count": 41,
   "id": "fb284d46-85b7-438f-84bb-965f43de3821",
   "metadata": {},
   "outputs": [
    {
     "data": {
      "text/plain": [
       "mappingproxy({'GREEN': <Color.GREEN: 1>,\n",
       "              'LIGHT_GREEN': <Color.GREEN: 1>,\n",
       "              'DARK_GREEN': <Color.GREEN: 1>,\n",
       "              'RED': <Color.RED: 2>,\n",
       "              'LIGHT_RED': <Color.RED: 2>,\n",
       "              'DARK_RED': <Color.RED: 2>,\n",
       "              'BLOOD_RED': <Color.RED: 2>})"
      ]
     },
     "execution_count": 41,
     "metadata": {},
     "output_type": "execute_result"
    }
   ],
   "source": [
    "Color.__members__"
   ]
  },
  {
   "cell_type": "code",
   "execution_count": null,
   "id": "667ebe05-5e99-46a3-88b1-e6517fedc391",
   "metadata": {},
   "outputs": [],
   "source": []
  }
 ],
 "metadata": {
  "kernelspec": {
   "display_name": "Python 3 (ipykernel)",
   "language": "python",
   "name": "python3"
  },
  "language_info": {
   "codemirror_mode": {
    "name": "ipython",
    "version": 3
   },
   "file_extension": ".py",
   "mimetype": "text/x-python",
   "name": "python",
   "nbconvert_exporter": "python",
   "pygments_lexer": "ipython3",
   "version": "3.12.3"
  }
 },
 "nbformat": 4,
 "nbformat_minor": 5
}
