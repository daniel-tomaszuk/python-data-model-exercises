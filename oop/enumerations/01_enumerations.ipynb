{
 "cells": [
  {
   "cell_type": "code",
   "execution_count": 1,
   "id": "cee85453-7234-4e4a-a004-c039bab50dfc",
   "metadata": {},
   "outputs": [],
   "source": [
    "import enum\n",
    "\n",
    "\n",
    "class Color(enum.Enum):\n",
    "    red = 1\n",
    "    green = 2\n",
    "    blue = 3\n",
    "\n",
    "\n",
    "class Status(enum.Enum):\n",
    "    PENDING = \"pending\"\n",
    "    RUNNING = \"running\"\n",
    "    COMPLETED = \"completed\"\n",
    "\n",
    "\n",
    "class UnitVector(enum.Enum):\n",
    "    V1D = (1,)\n",
    "    V2D = (1, 1)\n",
    "    V3D = (1, 1, 1)\n",
    "\n"
   ]
  },
  {
   "cell_type": "code",
   "execution_count": 2,
   "id": "66afc5d0-b560-44d3-ba98-0b131a9078ca",
   "metadata": {},
   "outputs": [
    {
     "data": {
      "text/plain": [
       "(<Status.PENDING: 'pending'>, <enum 'Status'>)"
      ]
     },
     "execution_count": 2,
     "metadata": {},
     "output_type": "execute_result"
    }
   ],
   "source": [
    "Status.PENDING, type(Status.PENDING)"
   ]
  },
  {
   "cell_type": "code",
   "execution_count": 3,
   "id": "9306283c-3a98-4bfb-909c-98ac3a3ee7cc",
   "metadata": {},
   "outputs": [
    {
     "data": {
      "text/plain": [
       "True"
      ]
     },
     "execution_count": 3,
     "metadata": {},
     "output_type": "execute_result"
    }
   ],
   "source": [
    "isinstance(Status.PENDING, Status)"
   ]
  },
  {
   "cell_type": "code",
   "execution_count": 4,
   "id": "9f7cd702-96a8-4a7e-b72d-2d032c5c6913",
   "metadata": {},
   "outputs": [
    {
     "data": {
      "text/plain": [
       "('PENDING', 'pending')"
      ]
     },
     "execution_count": 4,
     "metadata": {},
     "output_type": "execute_result"
    }
   ],
   "source": [
    "Status.PENDING.name, Status.PENDING.value"
   ]
  },
  {
   "cell_type": "code",
   "execution_count": 5,
   "id": "a6f8c2aa-5f4a-49e6-a50d-77efd09abd36",
   "metadata": {},
   "outputs": [
    {
     "data": {
      "text/plain": [
       "(1, 1, 1)"
      ]
     },
     "execution_count": 5,
     "metadata": {},
     "output_type": "execute_result"
    }
   ],
   "source": [
    "UnitVector.V3D.value"
   ]
  },
  {
   "cell_type": "code",
   "execution_count": 6,
   "id": "2c3ded74-d09d-402c-914c-25ceae2b025f",
   "metadata": {},
   "outputs": [
    {
     "data": {
      "text/plain": [
       "(True, True)"
      ]
     },
     "execution_count": 6,
     "metadata": {},
     "output_type": "execute_result"
    }
   ],
   "source": [
    "a = Status.PENDING\n",
    "a == Status.PENDING, a is Status.PENDING"
   ]
  },
  {
   "cell_type": "code",
   "execution_count": 7,
   "id": "cca02e02-01aa-4e2e-a8c6-af0697332bc7",
   "metadata": {},
   "outputs": [
    {
     "name": "stdout",
     "output_type": "stream",
     "text": [
      "'<' not supported between instances of 'Constants' and 'Constants'\n"
     ]
    }
   ],
   "source": [
    "class Constants(enum.Enum):\n",
    "    ONE = 1\n",
    "    TWO = 2\n",
    "    THREE = 3\n",
    "\n",
    "\n",
    "try:\n",
    "    Constants.ONE < Constants.TWO\n",
    "except TypeError as e:\n",
    "    print(e)"
   ]
  },
  {
   "cell_type": "code",
   "execution_count": 8,
   "id": "b4c877d5-a84f-4fd0-8735-4eda038ef646",
   "metadata": {},
   "outputs": [
    {
     "data": {
      "text/plain": [
       "True"
      ]
     },
     "execution_count": 8,
     "metadata": {},
     "output_type": "execute_result"
    }
   ],
   "source": [
    "Status.PENDING in Status"
   ]
  },
  {
   "cell_type": "code",
   "execution_count": 9,
   "id": "0e7052de-0c43-47e3-a293-80b314dcfba1",
   "metadata": {},
   "outputs": [
    {
     "data": {
      "text/plain": [
       "<Status.PENDING: 'pending'>"
      ]
     },
     "execution_count": 9,
     "metadata": {},
     "output_type": "execute_result"
    }
   ],
   "source": [
    "Status(Status.PENDING)"
   ]
  },
  {
   "cell_type": "code",
   "execution_count": 10,
   "id": "fb02c190-bfb5-48eb-8660-167f68cd1996",
   "metadata": {},
   "outputs": [
    {
     "data": {
      "text/plain": [
       "('PENDING', 'pending')"
      ]
     },
     "execution_count": 10,
     "metadata": {},
     "output_type": "execute_result"
    }
   ],
   "source": [
    "Status.PENDING.name, Status.PENDING.value"
   ]
  },
  {
   "cell_type": "code",
   "execution_count": 11,
   "id": "675f3aed-6c6a-4eef-b601-9f01d063858d",
   "metadata": {},
   "outputs": [
    {
     "data": {
      "text/plain": [
       "(False, True)"
      ]
     },
     "execution_count": 11,
     "metadata": {},
     "output_type": "execute_result"
    }
   ],
   "source": [
    "\"PENDING\" in Status, \"pending\" in Status"
   ]
  },
  {
   "cell_type": "code",
   "execution_count": 12,
   "id": "3c30ffbc-50d1-4a64-a0ee-ad1e31dd50a9",
   "metadata": {},
   "outputs": [
    {
     "data": {
      "text/plain": [
       "<Status.PENDING: 'pending'>"
      ]
     },
     "execution_count": 12,
     "metadata": {},
     "output_type": "execute_result"
    }
   ],
   "source": [
    "Status(\"pending\")"
   ]
  },
  {
   "cell_type": "code",
   "execution_count": 13,
   "id": "1586ebca-55ae-4eef-8752-b8cd5bd0f9e4",
   "metadata": {},
   "outputs": [
    {
     "name": "stdout",
     "output_type": "stream",
     "text": [
      "'invalid' is not a valid Status\n"
     ]
    }
   ],
   "source": [
    "try:\n",
    "    Status(\"invalid\")\n",
    "except ValueError as e:\n",
    "    print(e)"
   ]
  },
  {
   "cell_type": "code",
   "execution_count": 14,
   "id": "11eb70ac-451e-4cc0-adcd-5b0b164a41d9",
   "metadata": {},
   "outputs": [
    {
     "data": {
      "text/plain": [
       "<Status.PENDING: 'pending'>"
      ]
     },
     "execution_count": 14,
     "metadata": {},
     "output_type": "execute_result"
    }
   ],
   "source": [
    "Status[\"PENDING\"]  # __getitem__"
   ]
  },
  {
   "cell_type": "code",
   "execution_count": 15,
   "id": "0098607e-cf24-41bf-9fa1-8e0168dae133",
   "metadata": {},
   "outputs": [
    {
     "data": {
      "text/plain": [
       "<Status.PENDING: 'pending'>"
      ]
     },
     "execution_count": 15,
     "metadata": {},
     "output_type": "execute_result"
    }
   ],
   "source": [
    "getattr(Status, \"PENDING\")"
   ]
  },
  {
   "cell_type": "code",
   "execution_count": 16,
   "id": "b7592928-0f32-46b4-9ccc-206745aadfdd",
   "metadata": {},
   "outputs": [
    {
     "data": {
      "text/plain": [
       "'UNKNOWN'"
      ]
     },
     "execution_count": 16,
     "metadata": {},
     "output_type": "execute_result"
    }
   ],
   "source": [
    "getattr(Status, \"INVALID\", \"UNKNOWN\")"
   ]
  },
  {
   "cell_type": "code",
   "execution_count": 17,
   "id": "0d31d087-0083-4c1d-8c8b-86bb2647166d",
   "metadata": {},
   "outputs": [
    {
     "name": "stdout",
     "output_type": "stream",
     "text": [
      "unhashable type: 'Person'\n"
     ]
    }
   ],
   "source": [
    "class Person:\n",
    "    __hash__ = None\n",
    "\n",
    "\n",
    "p = Person()\n",
    "try:\n",
    "    hash(p)\n",
    "except TypeError as e:\n",
    "    print(e)"
   ]
  },
  {
   "cell_type": "code",
   "execution_count": 18,
   "id": "9ae4c4ff-6feb-49d4-8135-fa3ee3f8e485",
   "metadata": {},
   "outputs": [],
   "source": [
    "class Family(enum.Enum):\n",
    "    person_1 = Person()\n",
    "    person_2 = Person()"
   ]
  },
  {
   "cell_type": "code",
   "execution_count": 19,
   "id": "96d4f6bc-1739-4eea-8566-d5e0dec5e9e0",
   "metadata": {},
   "outputs": [
    {
     "data": {
      "text/plain": [
       "<Family.person_1: <__main__.Person object at 0x112f43710>>"
      ]
     },
     "execution_count": 19,
     "metadata": {},
     "output_type": "execute_result"
    }
   ],
   "source": [
    "Family.person_1  # not hashable, but Enum members (attributes) are hashable even if their values are not"
   ]
  },
  {
   "cell_type": "code",
   "execution_count": 20,
   "id": "44c00f23-c6db-4122-8f77-4e6bd7adfcbf",
   "metadata": {},
   "outputs": [
    {
     "data": {
      "text/plain": [
       "{<Family.person_1: <__main__.Person object at 0x112f43710>>: <__main__.Person at 0x112f64f50>,\n",
       " <Family.person_2: <__main__.Person object at 0x112f675f0>>: <__main__.Person at 0x112f78530>}"
      ]
     },
     "execution_count": 20,
     "metadata": {},
     "output_type": "execute_result"
    }
   ],
   "source": [
    "# works fine, even if values are not hashable and even if enum value is not hashable. Member object itsef (instance of Enum) is hashable\n",
    "{\n",
    "    Family.person_1: Person(),\n",
    "    Family.person_2: Person(),\n",
    "}"
   ]
  },
  {
   "cell_type": "code",
   "execution_count": 21,
   "id": "b622ea12-5134-4554-99cc-b42e45a01a2f",
   "metadata": {},
   "outputs": [
    {
     "data": {
      "text/plain": [
       "[<Status.PENDING: 'pending'>,\n",
       " <Status.RUNNING: 'running'>,\n",
       " <Status.COMPLETED: 'completed'>]"
      ]
     },
     "execution_count": 21,
     "metadata": {},
     "output_type": "execute_result"
    }
   ],
   "source": [
    "list(Status)  # order is preserved"
   ]
  },
  {
   "cell_type": "code",
   "execution_count": 22,
   "id": "c00cefdd-86dc-41f2-96de-63141cbd7592",
   "metadata": {},
   "outputs": [
    {
     "name": "stdout",
     "output_type": "stream",
     "text": [
      "<enum 'Enum'> cannot set attribute 'value'\n"
     ]
    }
   ],
   "source": [
    "try:\n",
    "    Status.PENDING.value = 10\n",
    "except AttributeError as e:\n",
    "    print(e)"
   ]
  },
  {
   "cell_type": "code",
   "execution_count": 23,
   "id": "df0a9d45-b66f-4402-8389-3a2f3f40756b",
   "metadata": {},
   "outputs": [
    {
     "name": "stdout",
     "output_type": "stream",
     "text": [
      "'EnumType' object does not support item assignment\n"
     ]
    }
   ],
   "source": [
    "try:\n",
    "    Status[\"NEW\"] = \"UNKNOWN\"\n",
    "except TypeError as e:\n",
    "    print(e)"
   ]
  },
  {
   "cell_type": "code",
   "execution_count": 24,
   "id": "002fc400-6639-4523-be5c-ef4140f451b8",
   "metadata": {},
   "outputs": [
    {
     "name": "stdout",
     "output_type": "stream",
     "text": [
      "<enum 'EnumExt2'> cannot extend <enum 'EnumExt'>\n"
     ]
    }
   ],
   "source": [
    "class EnumBase(enum.Enum):\n",
    "    pass\n",
    "\n",
    "\n",
    "class EnumExt(EnumBase):\n",
    "    x = \"x\"\n",
    "\n",
    "\n",
    "try:\n",
    "    # enums can not be sublassed as soon as they have any members\n",
    "    class EnumExt2(EnumExt):\n",
    "        y = \"y\"\n",
    "except TypeError as e:\n",
    "    print(e)"
   ]
  },
  {
   "cell_type": "code",
   "execution_count": 25,
   "id": "36f8aa57-b1b5-4f4c-b802-ef3186f13fb3",
   "metadata": {},
   "outputs": [
    {
     "data": {
      "text/plain": [
       "mappingproxy({'PENDING': <Status.PENDING: 'pending'>,\n",
       "              'RUNNING': <Status.RUNNING: 'running'>,\n",
       "              'COMPLETED': <Status.COMPLETED: 'completed'>})"
      ]
     },
     "execution_count": 25,
     "metadata": {},
     "output_type": "execute_result"
    }
   ],
   "source": [
    "Status.__members__"
   ]
  },
  {
   "cell_type": "code",
   "execution_count": null,
   "id": "a2cc54ff-429e-487d-b04d-e0cbc6864551",
   "metadata": {},
   "outputs": [],
   "source": []
  }
 ],
 "metadata": {
  "kernelspec": {
   "display_name": "Python 3 (ipykernel)",
   "language": "python",
   "name": "python3"
  },
  "language_info": {
   "codemirror_mode": {
    "name": "ipython",
    "version": 3
   },
   "file_extension": ".py",
   "mimetype": "text/x-python",
   "name": "python",
   "nbconvert_exporter": "python",
   "pygments_lexer": "ipython3",
   "version": "3.12.3"
  }
 },
 "nbformat": 4,
 "nbformat_minor": 5
}
