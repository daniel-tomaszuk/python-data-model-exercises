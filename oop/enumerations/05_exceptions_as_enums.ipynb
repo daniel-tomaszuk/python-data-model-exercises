{
 "cells": [
  {
   "cell_type": "code",
   "execution_count": 8,
   "id": "7648514d-0cb1-4b64-bad3-e2d3f7b4ebec",
   "metadata": {},
   "outputs": [],
   "source": [
    "import enum\n",
    "\n",
    "\n",
    "class AppBadRequest(Exception):\n",
    "    \"\"\"Custom App Bad Request Exception\"\"\"\n",
    "\n",
    "\n",
    "@enum.unique\n",
    "class AppException(enum.Enum):\n",
    "    NotAnInteger = (100, \"Value is not an integer.\", ValueError)\n",
    "    NotAString = (101, \"Value is not a string.\", ValueError)\n",
    "    BadRequest = (400, \"App bad request.\", AppBadRequest)\n",
    "\n",
    "    def __new__(cls, code, default_message, exception_type):\n",
    "        enum_instance = object.__new__(cls)\n",
    "\n",
    "        enum_instance._value_ = code\n",
    "        enum_instance.code = code\n",
    "        enum_instance.default_message = default_message\n",
    "        enum_instance.exception_type = exception_type\n",
    "        return enum_instance\n",
    "\n",
    "    def throw(self, custom_message: str = \"\"):\n",
    "        exception_message = f\"{self.code} - {custom_message or self.default_message}\"\n",
    "        raise self.exception_type(exception_message)\n",
    "\n",
    "    @property\n",
    "    def code(self):\n",
    "        return self._code\n",
    "\n",
    "    @code.setter\n",
    "    def code(self, value):\n",
    "        self._code = value\n",
    "\n",
    "    @property\n",
    "    def default_message(self):\n",
    "        return self._default_message\n",
    "\n",
    "    @default_message.setter\n",
    "    def default_message(self, value):\n",
    "        self._default_message = value\n",
    "\n",
    "    @property\n",
    "    def exception_type(self):\n",
    "        return self._exception_type\n",
    "\n",
    "    @exception_type.setter\n",
    "    def exception_type(self, value):\n",
    "        self._exception_type = value\n"
   ]
  },
  {
   "cell_type": "code",
   "execution_count": 9,
   "id": "64d46bee-b922-4881-add3-61b1c6a9cb85",
   "metadata": {},
   "outputs": [
    {
     "data": {
      "text/plain": [
       "(<AppException.NotAnInteger: 100>, <AppException.NotAnInteger: 100>)"
      ]
     },
     "execution_count": 9,
     "metadata": {},
     "output_type": "execute_result"
    }
   ],
   "source": [
    "AppException(100), AppException[\"NotAnInteger\"]"
   ]
  },
  {
   "cell_type": "code",
   "execution_count": 10,
   "id": "6f3b906c-0049-4863-afc6-556e7b5f0767",
   "metadata": {},
   "outputs": [
    {
     "name": "stdout",
     "output_type": "stream",
     "text": [
      "100 - My custom error message\n"
     ]
    }
   ],
   "source": [
    "try:\n",
    "    AppException(100).throw(\"My custom error message\")\n",
    "except ValueError as e:\n",
    "    print(e)"
   ]
  },
  {
   "cell_type": "code",
   "execution_count": 11,
   "id": "6c6cd2eb-0593-4a7a-a6b5-43e17dee8e4e",
   "metadata": {},
   "outputs": [
    {
     "name": "stdout",
     "output_type": "stream",
     "text": [
      "100 - Value is not an integer.\n"
     ]
    }
   ],
   "source": [
    "try:\n",
    "    AppException[\"NotAnInteger\"].throw()\n",
    "except ValueError as e:\n",
    "    print(e)"
   ]
  },
  {
   "cell_type": "code",
   "execution_count": 12,
   "id": "d37c6ee9-ede2-41f9-95f3-b7219289de67",
   "metadata": {},
   "outputs": [
    {
     "name": "stdout",
     "output_type": "stream",
     "text": [
      "400 - App bad request.\n"
     ]
    }
   ],
   "source": [
    "try:\n",
    "    AppException(400).throw()\n",
    "except AppBadRequest as e:\n",
    "    print(e)"
   ]
  },
  {
   "cell_type": "code",
   "execution_count": 13,
   "id": "be2dc114-9add-44b4-accc-de27318247d0",
   "metadata": {},
   "outputs": [
    {
     "data": {
      "text/plain": [
       "(100, 'NotAnInteger', 100)"
      ]
     },
     "execution_count": 13,
     "metadata": {},
     "output_type": "execute_result"
    }
   ],
   "source": [
    "AppException(100).code, AppException(100).name, AppException(100).value "
   ]
  },
  {
   "cell_type": "code",
   "execution_count": 14,
   "id": "bbcc552e-4520-47f9-9068-3e034f807f05",
   "metadata": {},
   "outputs": [
    {
     "data": {
      "text/plain": [
       "('Value is not an integer.', ValueError)"
      ]
     },
     "execution_count": 14,
     "metadata": {},
     "output_type": "execute_result"
    }
   ],
   "source": [
    "AppException(100).default_message, AppException(100).exception_type"
   ]
  },
  {
   "cell_type": "code",
   "execution_count": null,
   "id": "c9d047ad-50c4-4934-af3d-6486003d0126",
   "metadata": {},
   "outputs": [],
   "source": []
  }
 ],
 "metadata": {
  "kernelspec": {
   "display_name": "Python 3 (ipykernel)",
   "language": "python",
   "name": "python3"
  },
  "language_info": {
   "codemirror_mode": {
    "name": "ipython",
    "version": 3
   },
   "file_extension": ".py",
   "mimetype": "text/x-python",
   "name": "python",
   "nbconvert_exporter": "python",
   "pygments_lexer": "ipython3",
   "version": "3.12.3"
  }
 },
 "nbformat": 4,
 "nbformat_minor": 5
}
