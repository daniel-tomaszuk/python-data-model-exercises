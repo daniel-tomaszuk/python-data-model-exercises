{
 "cells": [
  {
   "cell_type": "code",
   "execution_count": 1,
   "id": "b44f8904-d028-4bb9-98ab-6274bc643d00",
   "metadata": {},
   "outputs": [],
   "source": [
    "import enum\n",
    "\n",
    "\n",
    "class Color(enum.Enum):\n",
    "    red = 1\n",
    "    green = 2\n",
    "    blue = 3\n",
    "\n",
    "    def purecolor(self, value):\n",
    "        return {self: value}\n"
   ]
  },
  {
   "cell_type": "code",
   "execution_count": 2,
   "id": "74e232c6-2036-4f27-96e7-e6924b7e8a04",
   "metadata": {},
   "outputs": [
    {
     "data": {
      "text/plain": [
       "({<Color.red: 1>: 100}, {<Color.blue: 3>: 255})"
      ]
     },
     "execution_count": 2,
     "metadata": {},
     "output_type": "execute_result"
    }
   ],
   "source": [
    "Color.red.purecolor(100), Color.blue.purecolor(255)"
   ]
  },
  {
   "cell_type": "code",
   "execution_count": 3,
   "id": "2dc7daa7-171e-4e04-9b9d-5b2e73467d3b",
   "metadata": {},
   "outputs": [],
   "source": [
    "\n",
    "class Color(enum.Enum):\n",
    "    red = 1\n",
    "    green = 2\n",
    "    blue = 3\n",
    "\n",
    "    def __repr__(self):\n",
    "        return f\"{self.name} {(self.value)}\"\n"
   ]
  },
  {
   "cell_type": "code",
   "execution_count": 4,
   "id": "19a06430-c199-4377-a5bd-bb059c6d1d50",
   "metadata": {},
   "outputs": [
    {
     "data": {
      "text/plain": [
       "red 1"
      ]
     },
     "execution_count": 4,
     "metadata": {},
     "output_type": "execute_result"
    }
   ],
   "source": [
    "Color.red"
   ]
  },
  {
   "cell_type": "code",
   "execution_count": 5,
   "id": "ff06cf3d-9835-424d-85c9-579b220d9142",
   "metadata": {},
   "outputs": [],
   "source": [
    "import numbers\n",
    "\n",
    "\n",
    "# functools total_ordering could be used as well\n",
    "class Number(enum.Enum):\n",
    "    ONE = 1\n",
    "    TWO = 2\n",
    "    THREE = 3\n",
    "\n",
    "    def __lt__(self, other):\n",
    "        return isinstance(other, Number) and self.value < other.value\n",
    "\n",
    "    def __eq__(self, other):\n",
    "        if isinstance(other, Number):\n",
    "            return self.value == other.value\n",
    "        if isinstance(other, numbers.Real):\n",
    "            return self.value == other\n",
    "        return False\n"
   ]
  },
  {
   "cell_type": "code",
   "execution_count": 6,
   "id": "32ad0bbc-32e6-4a2e-bbb3-e83705580369",
   "metadata": {},
   "outputs": [
    {
     "data": {
      "text/plain": [
       "(True, False)"
      ]
     },
     "execution_count": 6,
     "metadata": {},
     "output_type": "execute_result"
    }
   ],
   "source": [
    "Number.ONE < Number.TWO, Number.TWO > Number.THREE"
   ]
  },
  {
   "cell_type": "code",
   "execution_count": 7,
   "id": "f1d1d1e5-0fe5-4308-b905-a2a5e04251a4",
   "metadata": {},
   "outputs": [
    {
     "data": {
      "text/plain": [
       "(True, True, False, False)"
      ]
     },
     "execution_count": 7,
     "metadata": {},
     "output_type": "execute_result"
    }
   ],
   "source": [
    "Number.ONE == 1.0, Number.TWO == 2, Number.THREE == 4, Number.ONE == \"abcd\""
   ]
  },
  {
   "cell_type": "code",
   "execution_count": 8,
   "id": "4e3c7edb-214a-4d4b-8ff3-1e5f25051f5a",
   "metadata": {},
   "outputs": [
    {
     "name": "stdout",
     "output_type": "stream",
     "text": [
      "'>=' not supported between instances of 'Number' and 'Number'\n"
     ]
    }
   ],
   "source": [
    "try:\n",
    "    Number.ONE >= Number.TWO\n",
    "except TypeError as e:\n",
    "    print(e)"
   ]
  },
  {
   "cell_type": "code",
   "execution_count": 9,
   "id": "e99dea2c-a0ef-419b-9262-4350df15b487",
   "metadata": {},
   "outputs": [],
   "source": [
    "import numbers\n",
    "from functools import total_ordering\n",
    "\n",
    "\n",
    "@total_ordering\n",
    "class Number(enum.Enum):\n",
    "    ONE = 1\n",
    "    TWO = 2\n",
    "    THREE = 3\n",
    "\n",
    "    def __lt__(self, other):\n",
    "        return isinstance(other, Number) and self.value < other.value\n",
    "\n",
    "    def __eq__(self, other):\n",
    "        if isinstance(other, Number):\n",
    "            return self.value == other.value\n",
    "        if isinstance(other, numbers.Real):\n",
    "            return self.value == other\n",
    "        return False\n"
   ]
  },
  {
   "cell_type": "code",
   "execution_count": 10,
   "id": "c2477231-e18b-4954-abd9-a07a8b76eb4a",
   "metadata": {},
   "outputs": [
    {
     "data": {
      "text/plain": [
       "(False, True)"
      ]
     },
     "execution_count": 10,
     "metadata": {},
     "output_type": "execute_result"
    }
   ],
   "source": [
    "Number.ONE >= Number.TWO, Number.ONE >= Number.ONE"
   ]
  },
  {
   "cell_type": "code",
   "execution_count": 11,
   "id": "d5dad7f3-523c-41f4-b5c6-10d84502b598",
   "metadata": {},
   "outputs": [],
   "source": [
    "\n",
    "@total_ordering\n",
    "class Phase(enum.Enum):\n",
    "    READY = \"ready\"\n",
    "    RUNNING = \"running\"\n",
    "    FINISHED = \"finished\"\n",
    "\n",
    "    def __str__(self):\n",
    "        return self.value\n",
    "\n",
    "    def __eq__(self, other):\n",
    "        if isinstance(other, Phase):\n",
    "            return self is other\n",
    "\n",
    "        if isinstance(other, str):\n",
    "            return self.value == other\n",
    "\n",
    "        return False\n",
    "\n",
    "    def __lt__(self, other):\n",
    "        ordered_items = list(Phase)\n",
    "        self_order_index = ordered_items.index(self)\n",
    "    \n",
    "        if isinstance(other, Phase):\n",
    "            other_order_index = ordered_items.index(other)\n",
    "            return self_order_index < other_order_index\n",
    "\n",
    "        if isinstance(other, str):\n",
    "            try:\n",
    "                other_member = Phase(other)\n",
    "            except ValueError:\n",
    "                return False\n",
    "\n",
    "            other_order_index = ordered_items.index(other_member)\n",
    "            return self_order_index < other_order_index\n",
    "            \n",
    "        return False\n",
    "        "
   ]
  },
  {
   "cell_type": "code",
   "execution_count": 12,
   "id": "eef864b4-2e64-4718-8060-7f27c6b4e92a",
   "metadata": {},
   "outputs": [
    {
     "data": {
      "text/plain": [
       "True"
      ]
     },
     "execution_count": 12,
     "metadata": {},
     "output_type": "execute_result"
    }
   ],
   "source": [
    "Phase.READY < Phase.RUNNING"
   ]
  },
  {
   "cell_type": "code",
   "execution_count": 13,
   "id": "9f247e4d-f306-4847-a387-bdf5d61fdbae",
   "metadata": {},
   "outputs": [
    {
     "data": {
      "text/plain": [
       "True"
      ]
     },
     "execution_count": 13,
     "metadata": {},
     "output_type": "execute_result"
    }
   ],
   "source": [
    "Phase.READY < \"running\""
   ]
  },
  {
   "cell_type": "code",
   "execution_count": 14,
   "id": "93eecda8-cec2-4ed0-968c-fa18666d6237",
   "metadata": {},
   "outputs": [
    {
     "data": {
      "text/plain": [
       "True"
      ]
     },
     "execution_count": 14,
     "metadata": {},
     "output_type": "execute_result"
    }
   ],
   "source": [
    "Phase.FINISHED > Phase.RUNNING"
   ]
  },
  {
   "cell_type": "code",
   "execution_count": 15,
   "id": "ee024624-7554-47bb-bf55-6d827aaaeb8f",
   "metadata": {},
   "outputs": [
    {
     "data": {
      "text/plain": [
       "(True, False)"
      ]
     },
     "execution_count": 15,
     "metadata": {},
     "output_type": "execute_result"
    }
   ],
   "source": [
    "Phase.FINISHED > \"unknown\", Phase.FINISHED < \"unknown\""
   ]
  },
  {
   "cell_type": "code",
   "execution_count": 16,
   "id": "e8fa9701-a4c5-4d09-8ada-d8512b4645a5",
   "metadata": {},
   "outputs": [],
   "source": [
    "class State(enum.Enum):\n",
    "    READY = 1\n",
    "    BUSY = 0\n"
   ]
  },
  {
   "cell_type": "code",
   "execution_count": 17,
   "id": "3af4cd6c-a1d0-43d5-a883-51371e00c340",
   "metadata": {},
   "outputs": [
    {
     "data": {
      "text/plain": [
       "(True, True)"
      ]
     },
     "execution_count": 17,
     "metadata": {},
     "output_type": "execute_result"
    }
   ],
   "source": [
    "bool(State.READY), bool(State.BUSY)"
   ]
  },
  {
   "cell_type": "code",
   "execution_count": 18,
   "id": "ec995459-8ed1-4444-b6b9-686a6bf1e78d",
   "metadata": {},
   "outputs": [],
   "source": [
    "class State(enum.Enum):\n",
    "    READY = 1\n",
    "    BUSY = 0\n",
    "\n",
    "    def __bool__(self):\n",
    "        return bool(self.value)\n"
   ]
  },
  {
   "cell_type": "code",
   "execution_count": 19,
   "id": "d4b71d51-dc0a-4c4d-af0c-d3937cb6cef2",
   "metadata": {},
   "outputs": [
    {
     "data": {
      "text/plain": [
       "(True, False)"
      ]
     },
     "execution_count": 19,
     "metadata": {},
     "output_type": "execute_result"
    }
   ],
   "source": [
    "bool(State.READY), bool(State.BUSY)"
   ]
  },
  {
   "cell_type": "code",
   "execution_count": 20,
   "id": "b8328a22-18b3-42fe-8ca4-60cea7864767",
   "metadata": {},
   "outputs": [
    {
     "name": "stdout",
     "output_type": "stream",
     "text": [
      "<enum 'ColorAlpha'> cannot extend <enum 'Color'>\n"
     ]
    }
   ],
   "source": [
    "class Color(enum.Enum):\n",
    "    RED = 1\n",
    "    GREEN = 2\n",
    "    BLUE = 3\n",
    "\n",
    "\n",
    "try:\n",
    "    class ColorAlpha(Color):\n",
    "        ALPHA = 4\n",
    "except TypeError as e:\n",
    "    print(e)"
   ]
  },
  {
   "cell_type": "code",
   "execution_count": 21,
   "id": "1e18fc94-8928-4646-b184-3d1bbc435f0a",
   "metadata": {},
   "outputs": [],
   "source": [
    "class ColorBase(enum.Enum):\n",
    "    def hello(self):\n",
    "        return f\"{str(self)} says hello!\"\n",
    "\n",
    "\n",
    "class Color(ColorBase):\n",
    "    RED = \"red\"\n",
    "    BLUE = \"blue\"\n",
    "    GREEN = \"green\"\n"
   ]
  },
  {
   "cell_type": "code",
   "execution_count": 22,
   "id": "77931315-8601-458a-b056-1b4f8593df1f",
   "metadata": {},
   "outputs": [
    {
     "data": {
      "text/plain": [
       "('Color.RED says hello!', 'Color.BLUE says hello!', 'Color.GREEN says hello!')"
      ]
     },
     "execution_count": 22,
     "metadata": {},
     "output_type": "execute_result"
    }
   ],
   "source": [
    "Color.RED.hello(), Color.BLUE.hello(), Color.GREEN.hello()"
   ]
  },
  {
   "cell_type": "code",
   "execution_count": 23,
   "id": "c7d82761-313f-47ae-97ff-e355092a371d",
   "metadata": {},
   "outputs": [],
   "source": [
    "from functools import total_ordering\n",
    "\n",
    "@total_ordering\n",
    "class OrderedEnum(enum.Enum):\n",
    "    \"\"\"\n",
    "    Create an ordering based on the member values\n",
    "    So member values have to support rich comparisons.\n",
    "    \"\"\"\n",
    "\n",
    "    def __lt__(self, other):\n",
    "        if isinstance(other, OrderedEnum):\n",
    "            print(self.value, other.value)\n",
    "            return self.value < other.value\n",
    "        return NotImplemented\n",
    "\n",
    "    def __eq__(self, other):\n",
    "        if isinstance(other, OrderedEnum):\n",
    "            return self.value == other.value\n",
    "        return NotImplemented\n",
    "\n",
    "\n",
    "class Number(OrderedEnum):\n",
    "    ONE = 1\n",
    "    TWO = 2\n",
    "    THREE = 3\n",
    "\n",
    "\n",
    "class Dimension(OrderedEnum):\n",
    "    D1 = 1,\n",
    "    D2 = 1, 1\n",
    "    D3 = 1, 1, 1\n"
   ]
  },
  {
   "cell_type": "code",
   "execution_count": 24,
   "id": "3c80283d-8d9e-4975-9bef-1306b01f0f23",
   "metadata": {},
   "outputs": [
    {
     "name": "stdout",
     "output_type": "stream",
     "text": [
      "1 2\n",
      "2 3\n",
      "2 2\n"
     ]
    },
    {
     "data": {
      "text/plain": [
       "(False, True, True)"
      ]
     },
     "execution_count": 24,
     "metadata": {},
     "output_type": "execute_result"
    }
   ],
   "source": [
    "Number.ONE > Number.TWO, Number.TWO < Number.THREE, Number.TWO <= Number.TWO"
   ]
  },
  {
   "cell_type": "code",
   "execution_count": 25,
   "id": "cc8512ec-cdc8-4249-abe3-ab0741103fd9",
   "metadata": {},
   "outputs": [
    {
     "name": "stdout",
     "output_type": "stream",
     "text": [
      "(1,) (1, 1)\n",
      "(1, 1, 1) (1, 1)\n"
     ]
    },
    {
     "data": {
      "text/plain": [
       "(False, True)"
      ]
     },
     "execution_count": 25,
     "metadata": {},
     "output_type": "execute_result"
    }
   ],
   "source": [
    "Dimension.D1 > Dimension.D2, Dimension.D3 > Dimension.D2"
   ]
  },
  {
   "cell_type": "code",
   "execution_count": 26,
   "id": "d51c07a3-3bea-4610-97fb-165708814ec0",
   "metadata": {},
   "outputs": [
    {
     "data": {
      "text/plain": [
       "enum.EnumType"
      ]
     },
     "execution_count": 26,
     "metadata": {},
     "output_type": "execute_result"
    }
   ],
   "source": [
    "from http import HTTPStatus\n",
    "\n",
    "type(HTTPStatus)"
   ]
  },
  {
   "cell_type": "code",
   "execution_count": 27,
   "id": "06f01251-9d82-408e-943b-076fe3ed1b08",
   "metadata": {},
   "outputs": [
    {
     "data": {
      "text/plain": [
       "[<HTTPStatus.CONTINUE: 100>,\n",
       " <HTTPStatus.SWITCHING_PROTOCOLS: 101>,\n",
       " <HTTPStatus.PROCESSING: 102>,\n",
       " <HTTPStatus.EARLY_HINTS: 103>,\n",
       " <HTTPStatus.OK: 200>,\n",
       " <HTTPStatus.CREATED: 201>,\n",
       " <HTTPStatus.ACCEPTED: 202>,\n",
       " <HTTPStatus.NON_AUTHORITATIVE_INFORMATION: 203>,\n",
       " <HTTPStatus.NO_CONTENT: 204>,\n",
       " <HTTPStatus.RESET_CONTENT: 205>]"
      ]
     },
     "execution_count": 27,
     "metadata": {},
     "output_type": "execute_result"
    }
   ],
   "source": [
    "list(HTTPStatus)[:10]"
   ]
  },
  {
   "cell_type": "code",
   "execution_count": 28,
   "id": "a45f9af1-6ef9-46c1-b3eb-a66b9ac8b3a0",
   "metadata": {},
   "outputs": [
    {
     "data": {
      "text/plain": [
       "<HTTPStatus.BAD_REQUEST: 400>"
      ]
     },
     "execution_count": 28,
     "metadata": {},
     "output_type": "execute_result"
    }
   ],
   "source": [
    "HTTPStatus(400)"
   ]
  },
  {
   "cell_type": "code",
   "execution_count": 29,
   "id": "18356703-7e70-4359-862f-d12af473099c",
   "metadata": {},
   "outputs": [
    {
     "data": {
      "text/plain": [
       "(<HTTPStatus.OK: 200>, 'OK', 200)"
      ]
     },
     "execution_count": 29,
     "metadata": {},
     "output_type": "execute_result"
    }
   ],
   "source": [
    "HTTPStatus.OK, HTTPStatus.OK.name, HTTPStatus.OK.value"
   ]
  },
  {
   "cell_type": "code",
   "execution_count": 30,
   "id": "b5342a20-da89-465a-ae58-5d048a0d9c7d",
   "metadata": {},
   "outputs": [
    {
     "data": {
      "text/plain": [
       "(<HTTPStatus.NOT_FOUND: 404>, 'NOT_FOUND', 404, 'Not Found')"
      ]
     },
     "execution_count": 30,
     "metadata": {},
     "output_type": "execute_result"
    }
   ],
   "source": [
    "HTTPStatus.NOT_FOUND, HTTPStatus.NOT_FOUND.name, HTTPStatus.NOT_FOUND.value, HTTPStatus.NOT_FOUND.phrase"
   ]
  },
  {
   "cell_type": "code",
   "execution_count": 31,
   "id": "6c5b86be-eb89-42cc-a596-5c69bdcca7ff",
   "metadata": {},
   "outputs": [],
   "source": [
    "class AppStatus(enum.Enum):\n",
    "    OK = 0, \"No problems\"\n",
    "    FAIL = 1, \"Failed\"\n"
   ]
  },
  {
   "cell_type": "code",
   "execution_count": 32,
   "id": "f8a71f66-2674-407b-a4a8-e64da443f44a",
   "metadata": {},
   "outputs": [
    {
     "data": {
      "text/plain": [
       "(<AppStatus.OK: (0, 'No problems')>, <AppStatus.FAIL: (1, 'Failed')>)"
      ]
     },
     "execution_count": 32,
     "metadata": {},
     "output_type": "execute_result"
    }
   ],
   "source": [
    "AppStatus.OK, AppStatus.FAIL"
   ]
  },
  {
   "cell_type": "code",
   "execution_count": 33,
   "id": "96193c69-9051-4864-a33b-b503cdd8b5b3",
   "metadata": {},
   "outputs": [],
   "source": [
    "class AppStatus(enum.Enum):\n",
    "    OK = 0, \"No problems\"\n",
    "    FAIL = 1, \"Failed\"\n",
    "\n",
    "    @property\n",
    "    def code(self):\n",
    "        return self.value[0]\n",
    "\n",
    "    @property\n",
    "    def phrase(self):\n",
    "        return self.value[1]"
   ]
  },
  {
   "cell_type": "code",
   "execution_count": 34,
   "id": "af9cbeae-c0c3-4f12-9fd3-0e3d822957e2",
   "metadata": {},
   "outputs": [
    {
     "data": {
      "text/plain": [
       "(0, 'Failed')"
      ]
     },
     "execution_count": 34,
     "metadata": {},
     "output_type": "execute_result"
    }
   ],
   "source": [
    "AppStatus.OK.code, AppStatus.FAIL.phrase"
   ]
  },
  {
   "cell_type": "code",
   "execution_count": 35,
   "id": "d20f7d5d-689f-4a68-9f83-a2d36b2c10d1",
   "metadata": {},
   "outputs": [
    {
     "name": "stdout",
     "output_type": "stream",
     "text": [
      "0 is not a valid AppStatus\n"
     ]
    }
   ],
   "source": [
    "try:\n",
    "    AppStatus(0)  # we would like it to work\n",
    "except ValueError as e:\n",
    "    print(e)"
   ]
  },
  {
   "cell_type": "code",
   "execution_count": 36,
   "id": "3fb3265b-96d6-4746-9ef2-71cc056598c8",
   "metadata": {},
   "outputs": [
    {
     "data": {
      "text/plain": [
       "{'_value_': (0, 'No problems'),\n",
       " '_name_': 'OK',\n",
       " '__objclass__': <enum 'AppStatus'>,\n",
       " '_sort_order_': 0}"
      ]
     },
     "execution_count": 36,
     "metadata": {},
     "output_type": "execute_result"
    }
   ],
   "source": [
    "AppStatus.OK.__dict__  # check _value_ key - it's a tuple"
   ]
  },
  {
   "cell_type": "code",
   "execution_count": 37,
   "id": "beabdb0b-b706-429c-99c1-e76e1ffdc5f5",
   "metadata": {},
   "outputs": [],
   "source": [
    "class AppStatus(enum.Enum):\n",
    "    OK = 0, \"No problems\"\n",
    "    FAIL = 1, \"Failed\"\n",
    "\n",
    "    def __new__(cls, member_value, member_phrase):\n",
    "        member = object.__new__(cls)  # create the instance\n",
    "        member._value_ = member_value\n",
    "        member._phrase = member_phrase\n",
    "        return member\n",
    "\n",
    "    @property\n",
    "    def code(self):\n",
    "        return self.value[0]\n",
    "\n",
    "    @property\n",
    "    def phrase(self):\n",
    "        return self._phrase\n",
    "\n",
    "    @phrase.setter\n",
    "    def phrase(self, value):\n",
    "        self._phrase = value\n"
   ]
  },
  {
   "cell_type": "code",
   "execution_count": 38,
   "id": "c66cf63c-d795-471e-bddb-f87793350915",
   "metadata": {},
   "outputs": [
    {
     "data": {
      "text/plain": [
       "('No problems', 'Failed')"
      ]
     },
     "execution_count": 38,
     "metadata": {},
     "output_type": "execute_result"
    }
   ],
   "source": [
    "AppStatus.OK.phrase, AppStatus.FAIL.phrase"
   ]
  },
  {
   "cell_type": "code",
   "execution_count": 39,
   "id": "cf3129b3-b383-4d12-8888-2da92c03df72",
   "metadata": {},
   "outputs": [
    {
     "data": {
      "text/plain": [
       "(<AppStatus.OK: 0>, <AppStatus.FAIL: 1>)"
      ]
     },
     "execution_count": 39,
     "metadata": {},
     "output_type": "execute_result"
    }
   ],
   "source": [
    "AppStatus(0), AppStatus(1)  # works as expected!"
   ]
  },
  {
   "cell_type": "code",
   "execution_count": 40,
   "id": "469b9614-1526-4d64-98de-d0214909e901",
   "metadata": {},
   "outputs": [
    {
     "data": {
      "text/plain": [
       "{'_value_': 0,\n",
       " '_phrase': 'No problems',\n",
       " '_name_': 'OK',\n",
       " '__objclass__': <enum 'AppStatus'>,\n",
       " '_sort_order_': 0}"
      ]
     },
     "execution_count": 40,
     "metadata": {},
     "output_type": "execute_result"
    }
   ],
   "source": [
    "AppStatus.OK.__dict__"
   ]
  },
  {
   "cell_type": "code",
   "execution_count": null,
   "id": "d282990b-c558-4700-a216-3711b15b55e5",
   "metadata": {},
   "outputs": [],
   "source": []
  }
 ],
 "metadata": {
  "kernelspec": {
   "display_name": "Python 3 (ipykernel)",
   "language": "python",
   "name": "python3"
  },
  "language_info": {
   "codemirror_mode": {
    "name": "ipython",
    "version": 3
   },
   "file_extension": ".py",
   "mimetype": "text/x-python",
   "name": "python",
   "nbconvert_exporter": "python",
   "pygments_lexer": "ipython3",
   "version": "3.12.3"
  }
 },
 "nbformat": 4,
 "nbformat_minor": 5
}
