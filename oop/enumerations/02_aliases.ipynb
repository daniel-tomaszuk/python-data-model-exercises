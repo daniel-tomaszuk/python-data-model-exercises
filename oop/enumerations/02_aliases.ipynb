{
 "cells": [
  {
   "cell_type": "code",
   "execution_count": 1,
   "id": "56765226-e143-4bdd-a2a7-945b760c5b06",
   "metadata": {},
   "outputs": [],
   "source": [
    "import enum\n",
    "\n",
    "\n",
    "class NumSides(enum.Enum):\n",
    "    \"\"\"Example with aliases. This in fact has only 2 members! Others are just aliases\"\"\"\n",
    "    TRIANGLE = 3\n",
    "    RECTANGLE = 4\n",
    "    SQUARE = 4\n",
    "    RHOMBUS = 4\n"
   ]
  },
  {
   "cell_type": "code",
   "execution_count": 2,
   "id": "6345dfc8-d7d5-47c6-85dd-caf76ae6f164",
   "metadata": {},
   "outputs": [
    {
     "data": {
      "text/plain": [
       "True"
      ]
     },
     "execution_count": 2,
     "metadata": {},
     "output_type": "execute_result"
    }
   ],
   "source": [
    "NumSides.RECTANGLE is NumSides.SQUARE"
   ]
  },
  {
   "cell_type": "code",
   "execution_count": 3,
   "id": "0360c027-9eb1-453f-82f3-bda5258fd1b1",
   "metadata": {},
   "outputs": [
    {
     "data": {
      "text/plain": [
       "True"
      ]
     },
     "execution_count": 3,
     "metadata": {},
     "output_type": "execute_result"
    }
   ],
   "source": [
    "NumSides.RECTANGLE in NumSides"
   ]
  },
  {
   "cell_type": "code",
   "execution_count": 4,
   "id": "a5781467-c5b8-4068-9875-d569de884df6",
   "metadata": {},
   "outputs": [
    {
     "data": {
      "text/plain": [
       "True"
      ]
     },
     "execution_count": 4,
     "metadata": {},
     "output_type": "execute_result"
    }
   ],
   "source": [
    "NumSides.SQUARE in NumSides"
   ]
  },
  {
   "cell_type": "code",
   "execution_count": 6,
   "id": "5825ad44-4ed2-4705-bef8-dfba38a8096d",
   "metadata": {},
   "outputs": [
    {
     "data": {
      "text/plain": [
       "[<NumSides.TRIANGLE: 3>, <NumSides.RECTANGLE: 4>]"
      ]
     },
     "execution_count": 6,
     "metadata": {},
     "output_type": "execute_result"
    }
   ],
   "source": [
    "list(NumSides)  # unexpected!"
   ]
  },
  {
   "cell_type": "code",
   "execution_count": 10,
   "id": "45765bfc-6946-4eda-886d-a990695fb97b",
   "metadata": {},
   "outputs": [
    {
     "data": {
      "text/plain": [
       "mappingproxy({'TRIANGLE': <NumSides.TRIANGLE: 3>,\n",
       "              'RECTANGLE': <NumSides.RECTANGLE: 4>,\n",
       "              'SQUARE': <NumSides.RECTANGLE: 4>,\n",
       "              'RHOMBUS': <NumSides.RECTANGLE: 4>})"
      ]
     },
     "execution_count": 10,
     "metadata": {},
     "output_type": "execute_result"
    }
   ],
   "source": [
    "# but __members has all the mapings, each 4 side object points to a RECTANGLE!\n",
    "NumSides.__members__"
   ]
  },
  {
   "cell_type": "code",
   "execution_count": 12,
   "id": "7b27ad91-0873-4d94-9168-dbf8eaaa5ebf",
   "metadata": {},
   "outputs": [
    {
     "data": {
      "text/plain": [
       "<NumSides.RECTANGLE: 4>"
      ]
     },
     "execution_count": 12,
     "metadata": {},
     "output_type": "execute_result"
    }
   ],
   "source": [
    "NumSides(4)  # returns the main one / first one"
   ]
  },
  {
   "cell_type": "code",
   "execution_count": 16,
   "id": "d9369abd-1bc4-4fd4-9e72-546b358a7cc3",
   "metadata": {},
   "outputs": [
    {
     "data": {
      "text/plain": [
       "<NumSides.RECTANGLE: 4>"
      ]
     },
     "execution_count": 16,
     "metadata": {},
     "output_type": "execute_result"
    }
   ],
   "source": [
    "NumSides[\"SQUARE\"]"
   ]
  },
  {
   "cell_type": "code",
   "execution_count": 20,
   "id": "b9a58f01-2302-41d8-bd30-1afe2582fb46",
   "metadata": {},
   "outputs": [
    {
     "data": {
      "text/plain": [
       "['RECTANGLE',\n",
       " 'TRIANGLE',\n",
       " '__class__',\n",
       " '__contains__',\n",
       " '__doc__',\n",
       " '__getitem__',\n",
       " '__init_subclass__',\n",
       " '__iter__',\n",
       " '__len__',\n",
       " '__members__',\n",
       " '__module__',\n",
       " '__name__',\n",
       " '__qualname__']"
      ]
     },
     "execution_count": 20,
     "metadata": {},
     "output_type": "execute_result"
    }
   ],
   "source": [
    "dir(NumSides)"
   ]
  },
  {
   "cell_type": "code",
   "execution_count": 21,
   "id": "b369f6ff-66b0-4e18-970d-7f3fe220b00a",
   "metadata": {},
   "outputs": [],
   "source": [
    "class Status(enum.Enum):\n",
    "    \"\"\"Example of mapping different statuses from different systems into one common status\"\"\"\n",
    "    ready = \"ready\"\n",
    "\n",
    "    running = \"running\"\n",
    "    busy = \"running\"\n",
    "    processing = \"running\"\n",
    "\n",
    "    ok = \"ok\"\n",
    "    finished_no_error = \"ok\"\n",
    "    ran_ok = \"ok\"\n",
    "\n",
    "    errors = \"errors\"\n",
    "    finished_with_errors = \"errors\"\n",
    "    errored = \"errors\"\n"
   ]
  },
  {
   "cell_type": "code",
   "execution_count": 23,
   "id": "c7ef5cf9-9ba0-46c0-a939-e41d3265f420",
   "metadata": {},
   "outputs": [
    {
     "data": {
      "text/plain": [
       "[<Status.ready: 'ready'>,\n",
       " <Status.running: 'running'>,\n",
       " <Status.ok: 'ok'>,\n",
       " <Status.errors: 'errors'>]"
      ]
     },
     "execution_count": 23,
     "metadata": {},
     "output_type": "execute_result"
    }
   ],
   "source": [
    "list(Status)  # uses aliases"
   ]
  },
  {
   "cell_type": "code",
   "execution_count": 24,
   "id": "99cd8673-8b31-4ac6-895e-29f1978be01c",
   "metadata": {},
   "outputs": [
    {
     "data": {
      "text/plain": [
       "(<Status.running: 'running'>, <Status.running: 'running'>)"
      ]
     },
     "execution_count": 24,
     "metadata": {},
     "output_type": "execute_result"
    }
   ],
   "source": [
    "Status[\"busy\"], Status[\"processing\"]"
   ]
  },
  {
   "cell_type": "code",
   "execution_count": 26,
   "id": "3684f184-7a76-4939-a1bc-5e45895c3471",
   "metadata": {},
   "outputs": [
    {
     "ename": "ValueError",
     "evalue": "duplicate values found in <enum 'Status'>: failed -> errors",
     "output_type": "error",
     "traceback": [
      "\u001b[0;31m---------------------------------------------------------------------------\u001b[0m",
      "\u001b[0;31mValueError\u001b[0m                                Traceback (most recent call last)",
      "Cell \u001b[0;32mIn[26], line 10\u001b[0m\n\u001b[1;32m      6\u001b[0m     ok \u001b[38;5;241m=\u001b[39m \u001b[38;5;241m2\u001b[39m\n\u001b[1;32m      7\u001b[0m     errors \u001b[38;5;241m=\u001b[39m \u001b[38;5;241m3\u001b[39m\n\u001b[0;32m---> 10\u001b[0m \u001b[38;5;129;43m@enum\u001b[39;49m\u001b[38;5;241;43m.\u001b[39;49m\u001b[43munique\u001b[49m\n\u001b[1;32m     11\u001b[0m \u001b[38;5;28;43;01mclass\u001b[39;49;00m\u001b[43m \u001b[49m\u001b[38;5;21;43;01mStatus\u001b[39;49;00m\u001b[43m(\u001b[49m\u001b[43menum\u001b[49m\u001b[38;5;241;43m.\u001b[39;49m\u001b[43mEnum\u001b[49m\u001b[43m)\u001b[49m\u001b[43m:\u001b[49m\n\u001b[1;32m     12\u001b[0m \u001b[43m    \u001b[49m\u001b[43mready\u001b[49m\u001b[43m \u001b[49m\u001b[38;5;241;43m=\u001b[39;49m\u001b[43m \u001b[49m\u001b[38;5;241;43m1\u001b[39;49m\n\u001b[1;32m     13\u001b[0m \u001b[43m    \u001b[49m\u001b[43mok\u001b[49m\u001b[43m \u001b[49m\u001b[38;5;241;43m=\u001b[39;49m\u001b[43m \u001b[49m\u001b[38;5;241;43m2\u001b[39;49m\n",
      "File \u001b[0;32m/Library/Frameworks/Python.framework/Versions/3.12/lib/python3.12/enum.py:1623\u001b[0m, in \u001b[0;36munique\u001b[0;34m(enumeration)\u001b[0m\n\u001b[1;32m   1620\u001b[0m \u001b[38;5;28;01mif\u001b[39;00m duplicates:\n\u001b[1;32m   1621\u001b[0m     alias_details \u001b[38;5;241m=\u001b[39m \u001b[38;5;124m'\u001b[39m\u001b[38;5;124m, \u001b[39m\u001b[38;5;124m'\u001b[39m\u001b[38;5;241m.\u001b[39mjoin(\n\u001b[1;32m   1622\u001b[0m             [\u001b[38;5;124m\"\u001b[39m\u001b[38;5;132;01m%s\u001b[39;00m\u001b[38;5;124m -> \u001b[39m\u001b[38;5;132;01m%s\u001b[39;00m\u001b[38;5;124m\"\u001b[39m \u001b[38;5;241m%\u001b[39m (alias, name) \u001b[38;5;28;01mfor\u001b[39;00m (alias, name) \u001b[38;5;129;01min\u001b[39;00m duplicates])\n\u001b[0;32m-> 1623\u001b[0m     \u001b[38;5;28;01mraise\u001b[39;00m \u001b[38;5;167;01mValueError\u001b[39;00m(\u001b[38;5;124m'\u001b[39m\u001b[38;5;124mduplicate values found in \u001b[39m\u001b[38;5;132;01m%r\u001b[39;00m\u001b[38;5;124m: \u001b[39m\u001b[38;5;132;01m%s\u001b[39;00m\u001b[38;5;124m'\u001b[39m \u001b[38;5;241m%\u001b[39m\n\u001b[1;32m   1624\u001b[0m             (enumeration, alias_details))\n\u001b[1;32m   1625\u001b[0m \u001b[38;5;28;01mreturn\u001b[39;00m enumeration\n",
      "\u001b[0;31mValueError\u001b[0m: duplicate values found in <enum 'Status'>: failed -> errors"
     ]
    }
   ],
   "source": [
    "# we we want to asure that there are no aliases\n",
    "\n",
    "@enum.unique\n",
    "class Status(enum.Enum):\n",
    "    ready = 1\n",
    "    ok = 2\n",
    "    errors = 3\n",
    "\n",
    "t\n",
    "@enum.unique\n",
    "class Status(enum.Enum):\n",
    "    ready = 1\n",
    "    ok = 2\n",
    "    errors = 3\n",
    "    failed = 3"
   ]
  },
  {
   "cell_type": "code",
   "execution_count": null,
   "id": "94e876be-438a-44fa-9336-92cfc71806e7",
   "metadata": {},
   "outputs": [],
   "source": []
  }
 ],
 "metadata": {
  "kernelspec": {
   "display_name": "Python 3 (ipykernel)",
   "language": "python",
   "name": "python3"
  },
  "language_info": {
   "codemirror_mode": {
    "name": "ipython",
    "version": 3
   },
   "file_extension": ".py",
   "mimetype": "text/x-python",
   "name": "python",
   "nbconvert_exporter": "python",
   "pygments_lexer": "ipython3",
   "version": "3.12.3"
  }
 },
 "nbformat": 4,
 "nbformat_minor": 5
}
