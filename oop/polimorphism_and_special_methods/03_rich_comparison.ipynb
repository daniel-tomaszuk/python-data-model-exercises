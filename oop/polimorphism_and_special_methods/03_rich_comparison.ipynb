{
 "cells": [
  {
   "cell_type": "code",
   "execution_count": null,
   "id": "ffff8984-9753-46b9-b806-d6c44d9bda69",
   "metadata": {},
   "outputs": [],
   "source": [
    "\"\"\"\n",
    "To get all the comparison operations we do not need to implement all of them.\n",
    "Implementing `__eq__` (equals) and one more method should be enought. \n",
    "Check `total_ordering` helper decorato.\n",
    "\"\"\"\n",
    "\n",
    "from functools import total_ordering\n",
    "\n",
    "\n",
    "@total_ordering\n",
    "class Number:\n",
    "\n",
    "    def __init__(self, x):\n",
    "        self.x = x\n",
    "\n",
    "    def __eq__(self, other):\n",
    "        print(\"__eq__ was called...\")\n",
    "        if isinstance(self, Number):\n",
    "            return self.x == other.x\n",
    "        return NotImplemented\n",
    "\n",
    "    def __lt__(self, other):\n",
    "        print(\"__lt__ was called...\")\n",
    "        if isinstance(self, Number):\n",
    "            return self.x < other.x\n",
    "        return NotImplemented\n"
   ]
  },
  {
   "cell_type": "code",
   "execution_count": null,
   "id": "54eb3d10-30ff-42ff-a689-83507030de8f",
   "metadata": {},
   "outputs": [],
   "source": [
    "a = Number(1)\n",
    "b = Number(2)\n",
    "c = Number(1)"
   ]
  },
  {
   "cell_type": "code",
   "execution_count": null,
   "id": "4d6a6237-d0f5-472c-8158-f01ec11cf925",
   "metadata": {},
   "outputs": [],
   "source": [
    "a < b"
   ]
  },
  {
   "cell_type": "code",
   "execution_count": null,
   "id": "3cb4de47-ea69-4a6d-954f-b6874b25f78e",
   "metadata": {},
   "outputs": [],
   "source": [
    "a <= b"
   ]
  },
  {
   "cell_type": "code",
   "execution_count": null,
   "id": "15404adb-011d-456d-8848-610fc59af5ad",
   "metadata": {},
   "outputs": [],
   "source": [
    "a <= c"
   ]
  },
  {
   "cell_type": "code",
   "execution_count": null,
   "id": "159d887d-69c1-48a2-aa66-2e6a45c1c51b",
   "metadata": {},
   "outputs": [],
   "source": [
    "a >= b"
   ]
  },
  {
   "cell_type": "code",
   "execution_count": null,
   "id": "5ea6b3c1-1691-4049-9689-55f610feaf90",
   "metadata": {},
   "outputs": [],
   "source": [
    "a != b"
   ]
  },
  {
   "cell_type": "code",
   "execution_count": null,
   "id": "2da0f78f-1d18-40f1-9e3c-2fb1589a8a86",
   "metadata": {},
   "outputs": [],
   "source": []
  }
 ],
 "metadata": {
  "kernelspec": {
   "display_name": "Python 3 (ipykernel)",
   "language": "python",
   "name": "python3"
  },
  "language_info": {
   "codemirror_mode": {
    "name": "ipython",
    "version": 3
   },
   "file_extension": ".py",
   "mimetype": "text/x-python",
   "name": "python",
   "nbconvert_exporter": "python",
   "pygments_lexer": "ipython3",
   "version": "3.12.3"
  }
 },
 "nbformat": 4,
 "nbformat_minor": 5
}
