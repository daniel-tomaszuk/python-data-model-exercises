{
 "cells": [
  {
   "cell_type": "code",
   "execution_count": 1,
   "id": "847406dc-458f-4e3c-b392-1d311a1fc44f",
   "metadata": {},
   "outputs": [],
   "source": [
    "class Person:\n",
    "\n",
    "    def __call__(self):\n",
    "        print(\"__call__ called...\")\n"
   ]
  },
  {
   "cell_type": "code",
   "execution_count": 2,
   "id": "3fbc756f-e5b8-42cc-a029-d557b191cbe1",
   "metadata": {},
   "outputs": [
    {
     "name": "stdout",
     "output_type": "stream",
     "text": [
      "__call__ called...\n"
     ]
    }
   ],
   "source": [
    "p = Person()\n",
    "p()"
   ]
  },
  {
   "cell_type": "code",
   "execution_count": 3,
   "id": "2aaeb519-65b2-4307-b25a-515b3a41e744",
   "metadata": {},
   "outputs": [
    {
     "data": {
      "text/plain": [
       "__main__.Person"
      ]
     },
     "execution_count": 3,
     "metadata": {},
     "output_type": "execute_result"
    }
   ],
   "source": [
    "type(p)"
   ]
  },
  {
   "cell_type": "code",
   "execution_count": 4,
   "id": "a8eeac7a-1e32-4bfd-bbd8-ac1adfba1967",
   "metadata": {},
   "outputs": [
    {
     "data": {
      "text/plain": [
       "type"
      ]
     },
     "execution_count": 4,
     "metadata": {},
     "output_type": "execute_result"
    }
   ],
   "source": [
    "from functools import partial\n",
    "\n",
    "type(partial)"
   ]
  },
  {
   "cell_type": "code",
   "execution_count": 5,
   "id": "a89d6e5f-e4a2-47d0-9fcf-3f21513eb8b4",
   "metadata": {},
   "outputs": [],
   "source": [
    "def my_func(a, b, c):\n",
    "    return a, b, c"
   ]
  },
  {
   "cell_type": "code",
   "execution_count": 6,
   "id": "eac0dead-0985-47c8-840f-3325134f4aa4",
   "metadata": {},
   "outputs": [
    {
     "data": {
      "text/plain": [
       "function"
      ]
     },
     "execution_count": 6,
     "metadata": {},
     "output_type": "execute_result"
    }
   ],
   "source": [
    "type(my_func)"
   ]
  },
  {
   "cell_type": "code",
   "execution_count": 7,
   "id": "d86f760c-2d82-4379-bfe6-5ab4c94ecdbd",
   "metadata": {},
   "outputs": [
    {
     "data": {
      "text/plain": [
       "functools.partial"
      ]
     },
     "execution_count": 7,
     "metadata": {},
     "output_type": "execute_result"
    }
   ],
   "source": [
    "partial_func  = partial(my_func, 10, 20)\n",
    "type(partial_func)"
   ]
  },
  {
   "cell_type": "code",
   "execution_count": 8,
   "id": "db56b7c3-7fd6-4726-917b-2c6849b982e6",
   "metadata": {},
   "outputs": [
    {
     "data": {
      "text/plain": [
       "(10, 20, 30)"
      ]
     },
     "execution_count": 8,
     "metadata": {},
     "output_type": "execute_result"
    }
   ],
   "source": [
    "partial_func(30)"
   ]
  },
  {
   "cell_type": "code",
   "execution_count": 9,
   "id": "4cfadec3-155a-451a-b7a0-8b90765be10d",
   "metadata": {},
   "outputs": [],
   "source": [
    "class MyPartial:\n",
    "\n",
    "    def __init__(self, func, *args):\n",
    "        self._func = func\n",
    "        self._args = args\n",
    "\n",
    "    def __call__(self, *args):\n",
    "        return self._func(*self._args, *args)"
   ]
  },
  {
   "cell_type": "code",
   "execution_count": 10,
   "id": "497fbcd9-7e5d-4bff-810d-6f5cecc77037",
   "metadata": {},
   "outputs": [
    {
     "data": {
      "text/plain": [
       "(10, 20, 30)"
      ]
     },
     "execution_count": 10,
     "metadata": {},
     "output_type": "execute_result"
    }
   ],
   "source": [
    "partial_func = MyPartial(my_func, 10, 20)\n",
    "partial_func(30)\n"
   ]
  },
  {
   "cell_type": "code",
   "execution_count": 11,
   "id": "b6834bdf-efee-4b7b-b9e3-6180901beb93",
   "metadata": {},
   "outputs": [
    {
     "data": {
      "text/plain": [
       "True"
      ]
     },
     "execution_count": 11,
     "metadata": {},
     "output_type": "execute_result"
    }
   ],
   "source": [
    "callable(partial_func)"
   ]
  },
  {
   "cell_type": "code",
   "execution_count": 12,
   "id": "b91207ab-632d-4f98-ba9b-62e8017448cc",
   "metadata": {},
   "outputs": [
    {
     "data": {
      "text/plain": [
       "True"
      ]
     },
     "execution_count": 12,
     "metadata": {},
     "output_type": "execute_result"
    }
   ],
   "source": [
    "callable(MyPartial)"
   ]
  },
  {
   "cell_type": "code",
   "execution_count": 13,
   "id": "b1f97b05-59b3-4f33-ba74-bfde9001c1b1",
   "metadata": {},
   "outputs": [],
   "source": [
    "from collections import defaultdict"
   ]
  },
  {
   "cell_type": "code",
   "execution_count": 14,
   "id": "a64b4c11-3121-4929-9027-eebc40497ad7",
   "metadata": {},
   "outputs": [],
   "source": [
    "def default_value():\n",
    "    return \"N/A\"\n",
    "\n",
    "d = defaultdict(default_value)"
   ]
  },
  {
   "cell_type": "code",
   "execution_count": 15,
   "id": "30086e29-20b5-45e3-9f26-66766c28a10e",
   "metadata": {},
   "outputs": [
    {
     "data": {
      "text/plain": [
       "'N/A'"
      ]
     },
     "execution_count": 15,
     "metadata": {},
     "output_type": "execute_result"
    }
   ],
   "source": [
    "d[\"a\"]"
   ]
  },
  {
   "cell_type": "code",
   "execution_count": 16,
   "id": "4b871ac2-5b9f-4435-b9ca-603934628679",
   "metadata": {},
   "outputs": [
    {
     "data": {
      "text/plain": [
       "100"
      ]
     },
     "execution_count": 16,
     "metadata": {},
     "output_type": "execute_result"
    }
   ],
   "source": [
    "d[\"b\"] = 100\n",
    "d[\"b\"]"
   ]
  },
  {
   "cell_type": "code",
   "execution_count": 17,
   "id": "31ae6fa5-85cf-46fb-bed2-4605f5e2eaaa",
   "metadata": {},
   "outputs": [
    {
     "data": {
      "text/plain": [
       "dict_items([('a', 'N/A'), ('b', 100)])"
      ]
     },
     "execution_count": 17,
     "metadata": {},
     "output_type": "execute_result"
    }
   ],
   "source": [
    "d.items()"
   ]
  },
  {
   "cell_type": "code",
   "execution_count": 18,
   "id": "c7a7a0c2-e0fc-4325-9b2f-d6446cd5a4de",
   "metadata": {},
   "outputs": [],
   "source": [
    "miss_counter = 0\n",
    "\n",
    "def default_value():\n",
    "    global miss_counter\n",
    "    miss_counter += 1\n",
    "    return \"N/A\"\n",
    "\n",
    "d = defaultdict(default_value)"
   ]
  },
  {
   "cell_type": "code",
   "execution_count": 19,
   "id": "045e11cb-0d54-49d7-bdb1-cf0b42a859db",
   "metadata": {},
   "outputs": [],
   "source": [
    "d[\"a\"] = 1"
   ]
  },
  {
   "cell_type": "code",
   "execution_count": 20,
   "id": "f3dd5aa8-415a-4b6d-8902-33a64fece34c",
   "metadata": {},
   "outputs": [
    {
     "data": {
      "text/plain": [
       "('N/A', 1)"
      ]
     },
     "execution_count": 20,
     "metadata": {},
     "output_type": "execute_result"
    }
   ],
   "source": [
    "d[\"b\"], miss_counter"
   ]
  },
  {
   "cell_type": "code",
   "execution_count": 21,
   "id": "0f8a5fbb-3442-4634-90e5-5bf804b186c7",
   "metadata": {},
   "outputs": [],
   "source": [
    "miss_counter = 0\n",
    "\n",
    "def default_value(counter=miss_counter):\n",
    "    counter += 1  # creates local variable so it won't work, integers are not mutable\n",
    "    print(counter is miss_counter)\n",
    "    return \"N/A\""
   ]
  },
  {
   "cell_type": "code",
   "execution_count": 22,
   "id": "710ebb20-bff0-4fc7-9ab2-f99a647152d2",
   "metadata": {},
   "outputs": [
    {
     "name": "stdout",
     "output_type": "stream",
     "text": [
      "False\n",
      "False\n",
      "False\n",
      "False\n"
     ]
    },
    {
     "data": {
      "text/plain": [
       "('N/A', 'N/A', 'N/A', 'N/A', {}, 0)"
      ]
     },
     "execution_count": 22,
     "metadata": {},
     "output_type": "execute_result"
    }
   ],
   "source": [
    "default_value(), default_value(), default_value(), default_value(), default_value.__dict__, miss_counter,"
   ]
  },
  {
   "cell_type": "code",
   "execution_count": 23,
   "id": "9d4f75fd-6913-4f8f-a24b-fbb006e5c254",
   "metadata": {},
   "outputs": [
    {
     "name": "stdout",
     "output_type": "stream",
     "text": [
      "__call__ Counter: 1\n"
     ]
    },
    {
     "data": {
      "text/plain": [
       "(0, None)"
      ]
     },
     "execution_count": 23,
     "metadata": {},
     "output_type": "execute_result"
    }
   ],
   "source": [
    "class DefaultValue:\n",
    "    def __init__(self):\n",
    "        self.counter = 0\n",
    "\n",
    "    def __iadd__(self, other):\n",
    "        if isinstance(other, int):\n",
    "            self.counter += other\n",
    "            return self\n",
    "        raise ValueError(\"Can only icrement with an integer value\")\n",
    "\n",
    "    def __call__(self):\n",
    "        self.counter += 1\n",
    "        print(f\"__call__ Counter: {self.counter}\")\n",
    "        \n",
    "\n",
    "default_value_1 = DefaultValue()\n",
    "default_value_2 = DefaultValue()\n",
    "\n",
    "default_value_1.counter, default_value_1()"
   ]
  },
  {
   "cell_type": "code",
   "execution_count": 24,
   "id": "871d81b4-1dcf-4ef7-8fc2-c40588c69f61",
   "metadata": {},
   "outputs": [],
   "source": [
    "cache_1 = defaultdict(default_value_1)\n",
    "cache_2 = defaultdict(default_value_2)"
   ]
  },
  {
   "cell_type": "code",
   "execution_count": 25,
   "id": "61ddf609-0aec-409a-814a-392864edaec0",
   "metadata": {},
   "outputs": [
    {
     "name": "stdout",
     "output_type": "stream",
     "text": [
      "__call__ Counter: 2\n",
      "__call__ Counter: 3\n",
      "__call__ Counter: 4\n"
     ]
    },
    {
     "data": {
      "text/plain": [
       "(None, None, None)"
      ]
     },
     "execution_count": 25,
     "metadata": {},
     "output_type": "execute_result"
    }
   ],
   "source": [
    "cache_1[\"a\"], cache_1[\"b\"], cache_1[\"c\"]"
   ]
  },
  {
   "cell_type": "code",
   "execution_count": 26,
   "id": "bbd30886-1972-4b98-b2ec-dfdca4df0db5",
   "metadata": {},
   "outputs": [
    {
     "name": "stdout",
     "output_type": "stream",
     "text": [
      "__call__ Counter: 1\n"
     ]
    }
   ],
   "source": [
    "cache_2[\"a\"]"
   ]
  },
  {
   "cell_type": "code",
   "execution_count": 27,
   "id": "a6dce3f6-44e7-42fb-962a-532441928d96",
   "metadata": {},
   "outputs": [],
   "source": [
    "class DefaultValue:\n",
    "    def __init__(self, default_value):\n",
    "        self.counter = 0\n",
    "        self.default_value = default_value\n",
    "\n",
    "    def __call__(self):\n",
    "        self.counter += 1\n",
    "        print(f\"__call__ Counter: {self.counter}\")\n",
    "        return self.default_value\n",
    "        \n",
    "\n",
    "default_value_1 = DefaultValue(None)\n",
    "default_value_2 = DefaultValue(0)\n",
    "\n",
    "cache_1 = defaultdict(default_value_1)\n",
    "cache_2 = defaultdict(default_value_2)\n"
   ]
  },
  {
   "cell_type": "code",
   "execution_count": 28,
   "id": "b2cdf0f0-b704-4494-b03d-9913613117db",
   "metadata": {},
   "outputs": [
    {
     "name": "stdout",
     "output_type": "stream",
     "text": [
      "__call__ Counter: 1\n",
      "__call__ Counter: 2\n",
      "__call__ Counter: 3\n"
     ]
    },
    {
     "data": {
      "text/plain": [
       "(None, None, None)"
      ]
     },
     "execution_count": 28,
     "metadata": {},
     "output_type": "execute_result"
    }
   ],
   "source": [
    "cache_1[\"a\"], cache_1[\"b\"], cache_1[\"c\"]"
   ]
  },
  {
   "cell_type": "code",
   "execution_count": 29,
   "id": "e051c359-f71b-473f-a513-50b8a3cd3284",
   "metadata": {},
   "outputs": [
    {
     "name": "stdout",
     "output_type": "stream",
     "text": [
      "__call__ Counter: 1\n",
      "__call__ Counter: 2\n",
      "__call__ Counter: 3\n"
     ]
    },
    {
     "data": {
      "text/plain": [
       "(0, 0, 0)"
      ]
     },
     "execution_count": 29,
     "metadata": {},
     "output_type": "execute_result"
    }
   ],
   "source": [
    "cache_2[\"a\"], cache_2[\"b\"], cache_2[\"c\"]"
   ]
  },
  {
   "cell_type": "code",
   "execution_count": 30,
   "id": "3e425258-cea4-406a-ae63-62c964022c18",
   "metadata": {},
   "outputs": [],
   "source": [
    "from time import perf_counter\n",
    "from functools import wraps\n",
    "\n",
    "def profiler(fn):\n",
    "    counter = 0\n",
    "    total_elapsed = 0\n",
    "    avg_time = 0\n",
    "\n",
    "    @wraps(fn)\n",
    "    def inner(*args, **kwargs):\n",
    "        nonlocal counter\n",
    "        nonlocal total_elapsed\n",
    "        nonlocal avg_time\n",
    "\n",
    "        counter += 1\n",
    "        start = perf_counter()\n",
    "    \n",
    "        result = fn(*args, **kwargs)\n",
    "        \n",
    "        end = perf_counter()\n",
    "        total_elapsed += (end - start)\n",
    "        avg_time = total_elapsed  / counter\n",
    "\n",
    "        # one way to fix the problem - uncomment to check out\n",
    "        # inner.counter = counter\n",
    "        # inner.avg_time = avg_time\n",
    "        \n",
    "        return result\n",
    "\n",
    "    # this won't work!\n",
    "    inner.counter = counter\n",
    "    inner.avg_time = avg_time\n",
    "    return inner\n"
   ]
  },
  {
   "cell_type": "code",
   "execution_count": 31,
   "id": "cfb2c9bd-9143-441f-a7bd-b97e7a800689",
   "metadata": {},
   "outputs": [
    {
     "data": {
      "text/plain": [
       "(None, None, None)"
      ]
     },
     "execution_count": 31,
     "metadata": {},
     "output_type": "execute_result"
    }
   ],
   "source": [
    "from time import sleep\n",
    "import random\n",
    "\n",
    "random.seed(0)\n",
    "\n",
    "@profiler\n",
    "def func1():\n",
    "    sleep(random.random())\n",
    "\n",
    "func1(), func1(), func1()"
   ]
  },
  {
   "cell_type": "code",
   "execution_count": 32,
   "id": "893122d5-6e0d-4ac4-9f7b-18659ed65f90",
   "metadata": {},
   "outputs": [
    {
     "data": {
      "text/plain": [
       "(0, 0)"
      ]
     },
     "execution_count": 32,
     "metadata": {},
     "output_type": "execute_result"
    }
   ],
   "source": [
    "func1.counter, func1.avg_time  # returns 0 every time !"
   ]
  },
  {
   "cell_type": "code",
   "execution_count": 33,
   "id": "9bdb8f0c-a937-4fcc-b14e-63bcea8ac7db",
   "metadata": {},
   "outputs": [],
   "source": [
    "from time import perf_counter\n",
    "from functools import wraps\n",
    "\n",
    "def profiler(fn):\n",
    "    _counter = 0\n",
    "    _total_elapsed = 0\n",
    "    _avg_time = 0\n",
    "\n",
    "    @wraps(fn)\n",
    "    def inner(*args, **kwargs):\n",
    "        nonlocal _counter\n",
    "        nonlocal _total_elapsed\n",
    "        nonlocal _avg_time\n",
    "\n",
    "        _counter += 1\n",
    "        start = perf_counter()\n",
    "        ###\n",
    "        result = fn(*args, **kwargs)\n",
    "        ###\n",
    "        end = perf_counter()\n",
    "        _total_elapsed += (end - start)\n",
    "        _avg_time = _total_elapsed  / _counter\n",
    "        return result\n",
    "\n",
    "    def counter():\n",
    "        return _counter\n",
    "\n",
    "    def avg_time():\n",
    "        return _avg_time\n",
    "\n",
    "\n",
    "    inner.counter = counter  # these are functons\n",
    "    inner.avg_time = avg_time\n",
    "    return inner"
   ]
  },
  {
   "cell_type": "code",
   "execution_count": 34,
   "id": "38aba953-a740-4d91-990d-d8ed5fa9fd86",
   "metadata": {},
   "outputs": [
    {
     "data": {
      "text/plain": [
       "(None, None, None)"
      ]
     },
     "execution_count": 34,
     "metadata": {},
     "output_type": "execute_result"
    }
   ],
   "source": [
    "from time import sleep\n",
    "import random\n",
    "\n",
    "random.seed(0)\n",
    "\n",
    "@profiler\n",
    "def func1():\n",
    "    sleep(random.random())\n",
    "\n",
    "func1(), func1(), func1()"
   ]
  },
  {
   "cell_type": "code",
   "execution_count": 35,
   "id": "8ba7fd58-5ae8-4470-b595-35a4c4f2eb82",
   "metadata": {},
   "outputs": [
    {
     "data": {
      "text/plain": [
       "(3, 0.677257146666913)"
      ]
     },
     "execution_count": 35,
     "metadata": {},
     "output_type": "execute_result"
    }
   ],
   "source": [
    "func1.counter(), func1.avg_time()"
   ]
  },
  {
   "cell_type": "code",
   "execution_count": 36,
   "id": "b0705164-f98b-416e-8a06-826f256e1081",
   "metadata": {},
   "outputs": [],
   "source": [
    "# Class based approach, class used as a decorator\n",
    "class Profiler:\n",
    "\n",
    "    def __init__(self, fn):\n",
    "        self.counter = 0\n",
    "        self.total_elapsed = 0\n",
    "        self.fn = fn\n",
    "\n",
    "    def __call__(self, *args, **kwargs):\n",
    "        self.counter += 1\n",
    "        start = perf_counter()\n",
    "        ##\n",
    "        result = self.fn(*args, **kwargs)\n",
    "        ##\n",
    "        end = perf_counter()\n",
    "        self.total_elapsed +=  (end - start)\n",
    "        return result\n",
    "\n",
    "    @property\n",
    "    def avg_time(self):\n",
    "        return self.total_elapsed / self.counter\n"
   ]
  },
  {
   "cell_type": "code",
   "execution_count": 37,
   "id": "300b7495-d796-431c-80bd-017b948ee702",
   "metadata": {},
   "outputs": [
    {
     "data": {
      "text/plain": [
       "(__main__.Profiler, True)"
      ]
     },
     "execution_count": 37,
     "metadata": {},
     "output_type": "execute_result"
    }
   ],
   "source": [
    "@Profiler  # func_1 = Profiler(func_1)\n",
    "def func_1(a, b):\n",
    "    sleep(random.random())\n",
    "    return (a, b)\n",
    "\n",
    "type(func_1), callable(func_1)"
   ]
  },
  {
   "cell_type": "code",
   "execution_count": 38,
   "id": "59a2d19d-25fe-49f0-98d9-0f4e4f03b825",
   "metadata": {},
   "outputs": [
    {
     "data": {
      "text/plain": [
       "((1, 2), (2, 3), ('a', 'b'))"
      ]
     },
     "execution_count": 38,
     "metadata": {},
     "output_type": "execute_result"
    }
   ],
   "source": [
    "func_1(1, 2), func_1(2, 3), func_1(\"a\", \"b\")"
   ]
  },
  {
   "cell_type": "code",
   "execution_count": 39,
   "id": "0c34751a-77a5-4cd4-8396-692a6f9ae567",
   "metadata": {},
   "outputs": [
    {
     "data": {
      "text/plain": [
       "(3, 1.1862896910024574, 0.39542989700081915)"
      ]
     },
     "execution_count": 39,
     "metadata": {},
     "output_type": "execute_result"
    }
   ],
   "source": [
    "func_1.counter, func_1.total_elapsed, func_1.avg_time"
   ]
  },
  {
   "cell_type": "code",
   "execution_count": null,
   "id": "88b0715f-7a15-4757-bcc2-aac29c1e60e5",
   "metadata": {},
   "outputs": [],
   "source": []
  }
 ],
 "metadata": {
  "kernelspec": {
   "display_name": "Python 3 (ipykernel)",
   "language": "python",
   "name": "python3"
  },
  "language_info": {
   "codemirror_mode": {
    "name": "ipython",
    "version": 3
   },
   "file_extension": ".py",
   "mimetype": "text/x-python",
   "name": "python",
   "nbconvert_exporter": "python",
   "pygments_lexer": "ipython3",
   "version": "3.12.3"
  }
 },
 "nbformat": 4,
 "nbformat_minor": 5
}
