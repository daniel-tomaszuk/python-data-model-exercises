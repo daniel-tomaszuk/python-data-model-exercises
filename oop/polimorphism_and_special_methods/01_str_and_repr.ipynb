{
 "cells": [
  {
   "cell_type": "code",
   "execution_count": 1,
   "id": "2ca571b6-e989-49d3-a9c8-3e96e3eb4dd2",
   "metadata": {},
   "outputs": [],
   "source": [
    "class Person:\n",
    "    def __init__(self, name: str, age: int):\n",
    "        self.name = name\n",
    "        self.age = age\n",
    "\n",
    "    def __repr__(self):\n",
    "        return f\"<{self.__class__.__name__} name={self.name} age={self.age}> @ {hex(id(self))}\"\n",
    "\n",
    "    def __str__(self):\n",
    "        return f\"Person {self.name} - {self.age} year/s of age.\""
   ]
  },
  {
   "cell_type": "code",
   "execution_count": 2,
   "id": "2e9bafdf-dca6-41b2-ac8f-e723cfc57ae2",
   "metadata": {},
   "outputs": [
    {
     "name": "stdout",
     "output_type": "stream",
     "text": [
      "Person Python - 30 year/s of age.\n"
     ]
    }
   ],
   "source": [
    "p = Person(\"Python\", 30)\n",
    "print(p)"
   ]
  },
  {
   "cell_type": "code",
   "execution_count": 3,
   "id": "6967c1b5-fb47-416c-ba07-a81e020d8f15",
   "metadata": {},
   "outputs": [
    {
     "data": {
      "text/plain": [
       "<Person name=Python age=30> @ 0x10e57e6c0"
      ]
     },
     "execution_count": 3,
     "metadata": {},
     "output_type": "execute_result"
    }
   ],
   "source": [
    "p"
   ]
  },
  {
   "cell_type": "code",
   "execution_count": 4,
   "id": "1617fa41-8b61-4420-80a1-15b36bdda634",
   "metadata": {},
   "outputs": [
    {
     "data": {
      "text/plain": [
       "('Person Python - 30 year/s of age.',\n",
       " 'The Person: Person Python - 30 year/s of age.')"
      ]
     },
     "execution_count": 4,
     "metadata": {},
     "output_type": "execute_result"
    }
   ],
   "source": [
    "str(p), f\"The Person: {p}\""
   ]
  },
  {
   "cell_type": "code",
   "execution_count": null,
   "id": "b0d811a0-7a5a-4729-b7ea-cd0eeb289e22",
   "metadata": {},
   "outputs": [],
   "source": []
  }
 ],
 "metadata": {
  "kernelspec": {
   "display_name": "Python 3 (ipykernel)",
   "language": "python",
   "name": "python3"
  },
  "language_info": {
   "codemirror_mode": {
    "name": "ipython",
    "version": 3
   },
   "file_extension": ".py",
   "mimetype": "text/x-python",
   "name": "python",
   "nbconvert_exporter": "python",
   "pygments_lexer": "ipython3",
   "version": "3.12.3"
  }
 },
 "nbformat": 4,
 "nbformat_minor": 5
}
