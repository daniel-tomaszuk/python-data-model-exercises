{
 "cells": [
  {
   "cell_type": "code",
   "execution_count": 1,
   "id": "15153538-2a9d-4c63-8a43-4baf965a6570",
   "metadata": {},
   "outputs": [],
   "source": [
    "import functools\n",
    "\n",
    "\n",
    "@functools.total_ordering\n",
    "class Mod:\n",
    "\n",
    "    def __init__(self, a: int, n: int):\n",
    "        self._validate(a, \"Modulo Value\")\n",
    "        self._validate(n, \"Modulus\", ensure_positive=True)\n",
    "\n",
    "        self._a = a\n",
    "        self._n = n\n",
    "        self._value = a % n\n",
    "\n",
    "\n",
    "    def _validate(self, x: int, property_name: str, ensure_positive: bool = False):\n",
    "        if not isinstance(x, int):\n",
    "            raise ValueError(f\"{property_name} must be an integer.\")\n",
    "\n",
    "        if ensure_positive and x <= 0:\n",
    "            raise ValueError(f\"{property_name} must be a positive integer.\")\n",
    "\n",
    "    @property\n",
    "    def a(self) -> int:\n",
    "        return self._a\n",
    "\n",
    "    @property\n",
    "    def n(self) -> int:\n",
    "        return self._n\n",
    "\n",
    "    @property\n",
    "    def value(self) -> int:\n",
    "        return self._value\n",
    "\n",
    "    @value.setter\n",
    "    def value(self, new_value: int):\n",
    "        if self.a % self.n != new_value or new_value >= n:\n",
    "            raise ValueError(\"New value doesn't match given `a` and `n` values\")\n",
    "        \n",
    "        self._value = new_value\n",
    "\n",
    "    def __repr__(self):\n",
    "        return f\"<{self.__class__.__name__} a={self.a}, n={self.n}, value={self.value}> @ {hex(id(self))}\"\n",
    "\n",
    "    def __eq__(self, other) -> bool:\n",
    "        if isinstance(other, Mod) and self.n == other.n:\n",
    "            return self.value == other.value\n",
    "\n",
    "        if isinstance(other, int):\n",
    "            result = other % self.n\n",
    "            return self.result == result\n",
    "\n",
    "        return NotImplemented\n",
    "\n",
    "    def __hash__(self) -> int:\n",
    "        return hash((self.value, self.n))\n",
    "\n",
    "    def __int__(self) -> int:\n",
    "        return self.value\n",
    "\n",
    "    def __neg__(self) -> \"Mod\":\n",
    "        return Mod(-self.a, self.n)\n",
    "\n",
    "    def __add__(self, other) ->  \"Mod\":\n",
    "        if isinstance(other, Mod) and self.n == other.n:\n",
    "            new_result = self.a + other.a\n",
    "            return Mod(new_result, self.n)\n",
    "\n",
    "        if isinstance(other, int):\n",
    "            other_mod = Mod(other, self.n)\n",
    "            new_result = self.a + other_mod.a\n",
    "            return Mod(new_result, self.n)\n",
    "\n",
    "        return NotImplemented\n",
    "\n",
    "    def __iadd__(self, other) -> \"Mod\":\n",
    "        if isinstance(other, Mod) and self.n == other.n:\n",
    "            new_result = self.a + other.a\n",
    "            self.value = new_result % self.n\n",
    "            return self\n",
    "\n",
    "        if isinstance(other, int):\n",
    "            new_result = self.a + other\n",
    "            self.value = new_result % self.n\n",
    "            return self\n",
    "\n",
    "        return NotImplemented\n",
    "\n",
    "    def __sub__(self, other) ->  \"Mod\":\n",
    "        if isinstance(other, Mod) and self.n == other.n:\n",
    "            new_result = self.a - other.a\n",
    "            return Mod(new_result, self.n)\n",
    "\n",
    "        if isinstance(other, int):\n",
    "            other_mod = Mod(other, self.n)\n",
    "            new_result = self.a - other_mod.a\n",
    "            return Mod(new_result, self.n)\n",
    "\n",
    "        return NotImplemented\n",
    "\n",
    "    def __isub__(self, other) -> \"Mod\":\n",
    "        if isinstance(other, Mod) and self.n == other.n:\n",
    "            new_result = self.a - other.a\n",
    "            self.value = new_result % self.n\n",
    "            return self\n",
    "\n",
    "        if isinstance(other, int):\n",
    "            new_result = self.a - other\n",
    "            self.value = new_result % self.n\n",
    "            return self\n",
    "\n",
    "        return NotImplemented\n",
    "        \n",
    "    def __mul__(self, other: int) ->  \"Mod\":\n",
    "        if isinstance(other, Mod) and self.n == other.n:\n",
    "            new_result = self.a * other.a\n",
    "            return Mod(new_result, self.n)\n",
    "\n",
    "        if isinstance(other, int):\n",
    "            other_mod = Mod(other, self.n)\n",
    "            new_result = self.a * other_mod.a\n",
    "            return Mod(new_result, self.n)\n",
    "\n",
    "        return NotImplemented\n",
    "\n",
    "    def __imul__(self, other: int) -> \"Mod\":\n",
    "        if isinstance(other, Mod) and self.n == other.n:\n",
    "            new_result = self.a * other.a\n",
    "            self.value = new_result % self.n\n",
    "            return self\n",
    "\n",
    "        if isinstance(other, int):\n",
    "            new_result = self.a * other\n",
    "            self.value = new_result % self.n\n",
    "            return self\n",
    "\n",
    "        return NotImplemented\n",
    "\n",
    "    def __pow__(self, other: int) ->  \"Mod\":\n",
    "        if isinstance(other, Mod) and self.n == other.n:\n",
    "            new_result = self.a ** other.a\n",
    "            return Mod(new_result, self.n)\n",
    "\n",
    "        if isinstance(other, int):\n",
    "            other_mod = Mod(other, self.n)\n",
    "            new_result = self.a ** other_mod.a\n",
    "            return Mod(new_result, self.n)\n",
    "\n",
    "        return NotImplemented\n",
    "\n",
    "    def __ipow__(self, other: int) -> \"Mod\":\n",
    "        if isinstance(other, Mod) and self.n == other.n:\n",
    "            new_result = self.a ** other.a\n",
    "            self.value = new_result % self.n\n",
    "            return self\n",
    "\n",
    "        if isinstance(other, int):\n",
    "            new_result = self.a ** other\n",
    "            self.value = new_result % self.n\n",
    "            return self\n",
    "\n",
    "        return NotImplemented\n",
    "        \n",
    "    def __lt__(self, other) -> bool:\n",
    "        # The rest we get out of the box with `total_ordering` decorator\n",
    "        if isinstance(other, Mod) and self.n == other.n:\n",
    "            return self.value < other.value\n",
    "\n",
    "        if isinstance(other, int):\n",
    "            return self.value < other\n",
    "\n",
    "        return NotImplemented\n"
   ]
  },
  {
   "cell_type": "code",
   "execution_count": 2,
   "id": "a2fb2b18-540e-4984-b471-ffadd7cdb635",
   "metadata": {},
   "outputs": [
    {
     "data": {
      "text/plain": [
       "(<Mod a=8, n=3, value=2> @ 0x104094b00, <Mod a=11, n=3, value=2> @ 0x104094b60)"
      ]
     },
     "execution_count": 2,
     "metadata": {},
     "output_type": "execute_result"
    }
   ],
   "source": [
    "m1 = Mod(8, 3)\n",
    "m2 = Mod(11, 3)\n",
    "m1, m2"
   ]
  },
  {
   "cell_type": "code",
   "execution_count": 3,
   "id": "b046e52f-b057-4683-8871-bb53d968a09e",
   "metadata": {},
   "outputs": [
    {
     "data": {
      "text/plain": [
       "True"
      ]
     },
     "execution_count": 3,
     "metadata": {},
     "output_type": "execute_result"
    }
   ],
   "source": [
    "m1 == m2"
   ]
  },
  {
   "cell_type": "code",
   "execution_count": 4,
   "id": "cc3b9acf-e991-476a-bc3d-8e5437cbe84c",
   "metadata": {},
   "outputs": [
    {
     "data": {
      "text/plain": [
       "True"
      ]
     },
     "execution_count": 4,
     "metadata": {},
     "output_type": "execute_result"
    }
   ],
   "source": [
    "m1 <= m2"
   ]
  },
  {
   "cell_type": "code",
   "execution_count": 5,
   "id": "67693ea0-5adc-4f00-bace-0e118aa21c81",
   "metadata": {},
   "outputs": [
    {
     "data": {
      "text/plain": [
       "False"
      ]
     },
     "execution_count": 5,
     "metadata": {},
     "output_type": "execute_result"
    }
   ],
   "source": [
    "m1 < m2"
   ]
  },
  {
   "cell_type": "code",
   "execution_count": 6,
   "id": "1df92a71-e46c-43cd-bb44-f705577b753e",
   "metadata": {},
   "outputs": [
    {
     "data": {
      "text/plain": [
       "<Mod a=88, n=3, value=1> @ 0x10404d520"
      ]
     },
     "execution_count": 6,
     "metadata": {},
     "output_type": "execute_result"
    }
   ],
   "source": [
    "m1 * m2"
   ]
  },
  {
   "cell_type": "code",
   "execution_count": 7,
   "id": "ed61b312-5fd4-4d16-bee6-d2cbc2bb33de",
   "metadata": {},
   "outputs": [
    {
     "data": {
      "text/plain": [
       "<Mod a=-3, n=3, value=0> @ 0x1040964e0"
      ]
     },
     "execution_count": 7,
     "metadata": {},
     "output_type": "execute_result"
    }
   ],
   "source": [
    "m1 - m2"
   ]
  },
  {
   "cell_type": "code",
   "execution_count": 8,
   "id": "11d46d05-8dd5-48aa-8c03-f57269f1323c",
   "metadata": {},
   "outputs": [
    {
     "data": {
      "text/plain": [
       "<Mod a=19, n=3, value=1> @ 0x1040973b0"
      ]
     },
     "execution_count": 8,
     "metadata": {},
     "output_type": "execute_result"
    }
   ],
   "source": [
    "m1 + m2"
   ]
  },
  {
   "cell_type": "code",
   "execution_count": 9,
   "id": "f0f01b03-eef0-4ec4-9e25-3f4c8e520e67",
   "metadata": {},
   "outputs": [
    {
     "data": {
      "text/plain": [
       "{'m1': 'Can it be hashed?'}"
      ]
     },
     "execution_count": 9,
     "metadata": {},
     "output_type": "execute_result"
    }
   ],
   "source": [
    "dict(m1=\"Can it be hashed?\")"
   ]
  },
  {
   "cell_type": "code",
   "execution_count": 10,
   "id": "32f7ec27-30c6-4e83-8c5e-42f471b4880b",
   "metadata": {},
   "outputs": [
    {
     "data": {
      "text/plain": [
       "<Mod a=8589934592, n=3, value=2> @ 0x104078230"
      ]
     },
     "execution_count": 10,
     "metadata": {},
     "output_type": "execute_result"
    }
   ],
   "source": [
    "m1 ** m2"
   ]
  },
  {
   "cell_type": "code",
   "execution_count": 11,
   "id": "e4b27e46-02b2-4d9f-8a85-b61a652f4f61",
   "metadata": {},
   "outputs": [
    {
     "data": {
      "text/plain": [
       "<Mod a=18, n=3, value=0> @ 0x104078320"
      ]
     },
     "execution_count": 11,
     "metadata": {},
     "output_type": "execute_result"
    }
   ],
   "source": [
    "m1 + 10"
   ]
  },
  {
   "cell_type": "code",
   "execution_count": 12,
   "id": "f24fac4b-9629-46a9-9db9-55b08a5d6fc5",
   "metadata": {},
   "outputs": [
    {
     "data": {
      "text/plain": [
       "<Mod a=5, n=3, value=2> @ 0x104078f20"
      ]
     },
     "execution_count": 12,
     "metadata": {},
     "output_type": "execute_result"
    }
   ],
   "source": [
    "m1 - 3"
   ]
  },
  {
   "cell_type": "code",
   "execution_count": 13,
   "id": "15656a61-5347-42ee-9be7-d826be1905b5",
   "metadata": {},
   "outputs": [
    {
     "data": {
      "text/plain": [
       "<Mod a=40, n=3, value=1> @ 0x10407acc0"
      ]
     },
     "execution_count": 13,
     "metadata": {},
     "output_type": "execute_result"
    }
   ],
   "source": [
    "m1 * 5"
   ]
  },
  {
   "cell_type": "code",
   "execution_count": 14,
   "id": "78c53db9-41f1-4b37-b736-8e906190f942",
   "metadata": {},
   "outputs": [
    {
     "data": {
      "text/plain": [
       "<Mod a=64, n=3, value=1> @ 0x10407a9f0"
      ]
     },
     "execution_count": 14,
     "metadata": {},
     "output_type": "execute_result"
    }
   ],
   "source": [
    "m1 ** 2"
   ]
  },
  {
   "cell_type": "code",
   "execution_count": 15,
   "id": "ec09b8aa-6377-45e8-89bc-a938949c8396",
   "metadata": {},
   "outputs": [
    {
     "name": "stdout",
     "output_type": "stream",
     "text": [
      "Modulus must be a positive integer.\n"
     ]
    }
   ],
   "source": [
    "try:\n",
    "    Mod(5, -1)\n",
    "except ValueError as e:\n",
    "    print(e)"
   ]
  },
  {
   "cell_type": "code",
   "execution_count": 16,
   "id": "62777a4e-0745-47c4-bae2-ace25ea35e96",
   "metadata": {},
   "outputs": [
    {
     "name": "stdout",
     "output_type": "stream",
     "text": [
      "Modulo Value must be an integer.\n"
     ]
    }
   ],
   "source": [
    "try:\n",
    "    Mod(5.25, 2)\n",
    "except ValueError as e:\n",
    "    print(e)"
   ]
  },
  {
   "cell_type": "code",
   "execution_count": 17,
   "id": "c8127ca0-e995-4477-b00c-4a486aeea74e",
   "metadata": {},
   "outputs": [
    {
     "name": "stdout",
     "output_type": "stream",
     "text": [
      "Modulus must be an integer.\n"
     ]
    }
   ],
   "source": [
    "try:\n",
    "    Mod(5, 2.25)\n",
    "except ValueError as e:\n",
    "    print(e)"
   ]
  },
  {
   "cell_type": "code",
   "execution_count": 18,
   "id": "77a7aa62-50dc-4e60-aa3c-e95f431208a1",
   "metadata": {},
   "outputs": [
    {
     "name": "stdout",
     "output_type": "stream",
     "text": [
      "New value doesn't match given `a` and `n` values\n"
     ]
    }
   ],
   "source": [
    "try:\n",
    "    m1.value = 10\n",
    "except ValueError as e:\n",
    "    print(e)"
   ]
  },
  {
   "cell_type": "code",
   "execution_count": 19,
   "id": "1d9a16c9-037f-40fe-88f3-37a7aeed3f81",
   "metadata": {},
   "outputs": [
    {
     "name": "stdout",
     "output_type": "stream",
     "text": [
      "New value doesn't match given `a` and `n` values\n"
     ]
    }
   ],
   "source": [
    "try:\n",
    "    m1.value = 3\n",
    "except ValueError as e:\n",
    "    print(e)"
   ]
  },
  {
   "cell_type": "code",
   "execution_count": 20,
   "id": "4eaf0720-fc37-4a89-bc1e-4655537acc77",
   "metadata": {},
   "outputs": [
    {
     "name": "stdout",
     "output_type": "stream",
     "text": [
      "unsupported operand type(s) for +: 'Mod' and 'Mod'\n"
     ]
    }
   ],
   "source": [
    "try:\n",
    "    Mod(3, 12) + Mod(5, 10)\n",
    "except TypeError as e:\n",
    "    print(e)"
   ]
  },
  {
   "cell_type": "code",
   "execution_count": null,
   "id": "d98a9189-4203-4537-b05b-a396fdd410bd",
   "metadata": {},
   "outputs": [],
   "source": []
  }
 ],
 "metadata": {
  "kernelspec": {
   "display_name": "Python 3 (ipykernel)",
   "language": "python",
   "name": "python3"
  },
  "language_info": {
   "codemirror_mode": {
    "name": "ipython",
    "version": 3
   },
   "file_extension": ".py",
   "mimetype": "text/x-python",
   "name": "python",
   "nbconvert_exporter": "python",
   "pygments_lexer": "ipython3",
   "version": "3.12.3"
  }
 },
 "nbformat": 4,
 "nbformat_minor": 5
}
