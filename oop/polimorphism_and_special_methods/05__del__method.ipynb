{
 "cells": [
  {
   "cell_type": "code",
   "execution_count": 1,
   "id": "f728ee3c-3722-47e9-a2a4-7d81c6a533b0",
   "metadata": {},
   "outputs": [],
   "source": [
    "import ctypes\n",
    "\n",
    "def ref_count(address):\n",
    "    \"\"\"\n",
    "        Check address reference count without creating new references to the object.\n",
    "    \"\"\"\n",
    "    return ctypes.c_long.from_address(address).value\n",
    "    "
   ]
  },
  {
   "cell_type": "code",
   "execution_count": 2,
   "id": "6a831a50-55a6-41c6-b1bd-0941b991bec0",
   "metadata": {},
   "outputs": [],
   "source": [
    "class Person:\n",
    "    def __init__(self, name):\n",
    "        self.name = name\n",
    "\n",
    "    def __repr__(self) -> str:\n",
    "        return f\"<{self.__class__.__name__} name={self.name}> @ {hex(id(self))}\"\n",
    "\n",
    "    def __del__(self):\n",
    "        print(f\"__del__ is called for {self}\")\n",
    "        "
   ]
  },
  {
   "cell_type": "code",
   "execution_count": 3,
   "id": "e998cabe-ab29-4f8e-9155-ef1f2f801cb6",
   "metadata": {},
   "outputs": [],
   "source": [
    "p = Person(\"Alex\")"
   ]
  },
  {
   "cell_type": "code",
   "execution_count": 4,
   "id": "42e0b276-db12-4d8e-a1fe-f5f2841b291f",
   "metadata": {},
   "outputs": [
    {
     "data": {
      "text/plain": [
       "1"
      ]
     },
     "execution_count": 4,
     "metadata": {},
     "output_type": "execute_result"
    }
   ],
   "source": [
    "id_p = id(p)\n",
    "ref_count(id_p)\n"
   ]
  },
  {
   "cell_type": "code",
   "execution_count": 5,
   "id": "26735b65-5383-4c2e-a238-0cd5d2d1cfb7",
   "metadata": {},
   "outputs": [
    {
     "name": "stdout",
     "output_type": "stream",
     "text": [
      "__del__ is called for <Person name=Alex> @ 0x10d257f20\n"
     ]
    },
    {
     "data": {
      "text/plain": [
       "0"
      ]
     },
     "execution_count": 5,
     "metadata": {},
     "output_type": "execute_result"
    }
   ],
   "source": [
    "p = None  # removes reference to the object, now it's 0, garbage collector detects it, calls __del__ and then removes the object\n",
    "ref_count(id_p)"
   ]
  },
  {
   "cell_type": "code",
   "execution_count": 6,
   "id": "876b03fc-eac1-4424-bc3f-7559f950749e",
   "metadata": {},
   "outputs": [
    {
     "name": "stdout",
     "output_type": "stream",
     "text": [
      "__del__ is called for <Person name=Bob> @ 0x10d2709b0\n"
     ]
    }
   ],
   "source": [
    "p = Person(\"Bob\")\n",
    "del p"
   ]
  },
  {
   "cell_type": "code",
   "execution_count": 7,
   "id": "c442f0c0-f28a-4ebc-b276-376a7cc221b0",
   "metadata": {},
   "outputs": [],
   "source": [
    "class Person:\n",
    "    def __init__(self, name):\n",
    "        self.name = name\n",
    "\n",
    "    def __repr__(self) -> str:\n",
    "        return f\"<{self.__class__.__name__} name={self.name}> @ {hex(id(self))}\"\n",
    "\n",
    "    def __del__(self):\n",
    "        print(f\"__del__ is called for {self}\")\n",
    "\n",
    "    def gen_exception(self):\n",
    "        raise ValueError(\"Something went wrong...\")\n"
   ]
  },
  {
   "cell_type": "code",
   "execution_count": 8,
   "id": "426589d3-57c4-4aed-aa97-d126535582f2",
   "metadata": {},
   "outputs": [
    {
     "data": {
      "text/plain": [
       "1"
      ]
     },
     "execution_count": 8,
     "metadata": {},
     "output_type": "execute_result"
    }
   ],
   "source": [
    "p = Person(\"Eric\")\n",
    "p_id = id(p)\n",
    "ref_count(p_id)"
   ]
  },
  {
   "cell_type": "code",
   "execution_count": 9,
   "id": "94f34143-e3b1-4b11-bd6f-68e72a4ce818",
   "metadata": {},
   "outputs": [
    {
     "name": "stdout",
     "output_type": "stream",
     "text": [
      "Something went wrong...\n"
     ]
    }
   ],
   "source": [
    "try:\n",
    "    p.gen_exception()\n",
    "except ValueError as e:\n",
    "    error = e  # creates reference to the error, which also has a __traceback__ inside, which has reference to the object!!\n",
    "    print(e)\n"
   ]
  },
  {
   "cell_type": "code",
   "execution_count": 10,
   "id": "e0d05540-be17-4849-86f7-f5a4dda02b1d",
   "metadata": {},
   "outputs": [
    {
     "data": {
      "text/plain": [
       "2"
      ]
     },
     "execution_count": 10,
     "metadata": {},
     "output_type": "execute_result"
    }
   ],
   "source": [
    "ref_count(p_id)"
   ]
  },
  {
   "cell_type": "code",
   "execution_count": 11,
   "id": "3a697e69-be7e-46cb-8e3b-fed6b1a5f066",
   "metadata": {},
   "outputs": [
    {
     "data": {
      "text/plain": [
       "['__cause__',\n",
       " '__class__',\n",
       " '__context__',\n",
       " '__delattr__',\n",
       " '__dict__',\n",
       " '__dir__',\n",
       " '__doc__',\n",
       " '__eq__',\n",
       " '__format__',\n",
       " '__ge__',\n",
       " '__getattribute__',\n",
       " '__getstate__',\n",
       " '__gt__',\n",
       " '__hash__',\n",
       " '__init__',\n",
       " '__init_subclass__',\n",
       " '__le__',\n",
       " '__lt__',\n",
       " '__ne__',\n",
       " '__new__',\n",
       " '__reduce__',\n",
       " '__reduce_ex__',\n",
       " '__repr__',\n",
       " '__setattr__',\n",
       " '__setstate__',\n",
       " '__sizeof__',\n",
       " '__str__',\n",
       " '__subclasshook__',\n",
       " '__suppress_context__',\n",
       " '__traceback__',\n",
       " 'add_note',\n",
       " 'args',\n",
       " 'with_traceback']"
      ]
     },
     "execution_count": 11,
     "metadata": {},
     "output_type": "execute_result"
    }
   ],
   "source": [
    "dir(error)"
   ]
  },
  {
   "cell_type": "code",
   "execution_count": 12,
   "id": "fd6a0c48-21fd-48f9-8371-87016b730555",
   "metadata": {},
   "outputs": [
    {
     "name": "stdout",
     "output_type": "stream",
     "text": [
      "p <Person name=Eric> @ 0x10d270380 4515627904\n"
     ]
    }
   ],
   "source": [
    "for key, value in error.__traceback__.tb_frame.f_locals.copy().items():\n",
    "    # there are references to the Person class inside\n",
    "    if isinstance(value, Person):\n",
    "        print(key, value, id(value))"
   ]
  },
  {
   "cell_type": "code",
   "execution_count": 13,
   "id": "f5eb417e-d50f-45cf-bc15-a72e1d871a7c",
   "metadata": {},
   "outputs": [
    {
     "data": {
      "text/plain": [
       "2"
      ]
     },
     "execution_count": 13,
     "metadata": {},
     "output_type": "execute_result"
    }
   ],
   "source": [
    "ref_count(p_id)"
   ]
  },
  {
   "cell_type": "code",
   "execution_count": 14,
   "id": "4f2c2e3d-0a2c-4269-b4c3-9afbaeb4ff83",
   "metadata": {},
   "outputs": [],
   "source": [
    "del p"
   ]
  },
  {
   "cell_type": "code",
   "execution_count": 15,
   "id": "190fba77-b830-4449-9926-8df2ae2f894e",
   "metadata": {},
   "outputs": [
    {
     "name": "stdout",
     "output_type": "stream",
     "text": [
      "__del__ is called for <Person name=Eric> @ 0x10d270380\n"
     ]
    }
   ],
   "source": [
    "del error"
   ]
  },
  {
   "cell_type": "code",
   "execution_count": 19,
   "id": "78bd5a2e-c457-43c6-89e8-3ab657d80160",
   "metadata": {},
   "outputs": [],
   "source": [
    "class Person:\n",
    "    def __init__(self, name):\n",
    "        self.name = name\n",
    "\n",
    "    def __repr__(self) -> str:\n",
    "        return f\"<{self.__class__.__name__} name={self.name}> @ {hex(id(self))}\"\n",
    "\n",
    "    def __del__(self):\n",
    "        print(f\"__del__ is called for {self}\")\n",
    "\n",
    "        # exceptions inside __del__ are ignored!\n",
    "        # they will be shown in stderr but won't stop the program\n",
    "        self.gen_exception()  \n",
    "\n",
    "    def gen_exception(self):\n",
    "        raise ValueError(\"Something went wrong...\")\n"
   ]
  },
  {
   "cell_type": "code",
   "execution_count": 22,
   "id": "d0ec6a50-0d0b-46a4-aea6-78c86334e9ea",
   "metadata": {},
   "outputs": [
    {
     "name": "stderr",
     "output_type": "stream",
     "text": [
      "Exception ignored in: <function Person.__del__ at 0x10d23a5c0>\n",
      "Traceback (most recent call last):\n",
      "  File \"/var/folders/54/lrgwxr353tj57qmbtt2jwqdm0000gn/T/ipykernel_1678/3727189462.py\", line 13, in __del__\n",
      "  File \"/var/folders/54/lrgwxr353tj57qmbtt2jwqdm0000gn/T/ipykernel_1678/3727189462.py\", line 16, in gen_exception\n",
      "ValueError: Something went wrong...\n"
     ]
    },
    {
     "name": "stdout",
     "output_type": "stream",
     "text": [
      "__del__ is called for <Person name=Mark> @ 0x10d271f70\n",
      "\n",
      "Program is still running!\n"
     ]
    }
   ],
   "source": [
    "p = Person(\"Mark\")\n",
    "del p\n",
    "print(\"\\nProgram is still running!\")"
   ]
  },
  {
   "cell_type": "code",
   "execution_count": 35,
   "id": "6dc283e2-efeb-4197-a4d2-9a56ce41fb44",
   "metadata": {},
   "outputs": [],
   "source": [
    "import sys\n",
    "\n",
    "\n",
    "class ErrToFile:\n",
    "\n",
    "    def __init__(self, fname):\n",
    "        self._fname = fname\n",
    "        self._current_stderr = sys.stderr\n",
    "\n",
    "    def __enter__(self):\n",
    "        self._file = open(self._fname, \"w\")\n",
    "        sys.stderr = self._file  # set standard error output to point into the file\n",
    "\n",
    "    def __exit__(self, exc_type, exc_value, exc_tb):\n",
    "        sys.stderr  = self._current_stderr\n",
    "        if self._file:\n",
    "            self._file.close()\n",
    "        return False\n",
    "    \n",
    "        "
   ]
  },
  {
   "cell_type": "code",
   "execution_count": 36,
   "id": "0a1c243b-086e-4a30-aa64-254d65260bbf",
   "metadata": {},
   "outputs": [
    {
     "name": "stdout",
     "output_type": "stream",
     "text": [
      "__del__ is called for <Person name=Andrew> @ 0x10d396f00\n",
      "100\n",
      "200\n",
      "300\n"
     ]
    }
   ],
   "source": [
    "p = Person(\"Andrew\")\n",
    "with ErrToFile(\"err.txt\"):\n",
    "    del p\n",
    "    print(100)\n",
    "print(200)\n",
    "print(300)\n"
   ]
  },
  {
   "cell_type": "code",
   "execution_count": 37,
   "id": "eacf6453-fde0-4664-ad0d-2d5a325e8b9b",
   "metadata": {},
   "outputs": [
    {
     "name": "stdout",
     "output_type": "stream",
     "text": [
      "['Exception ignored in: <function Person.__del__ at 0x10d23a5c0>\\n', 'Traceback (most recent call last):\\n', '  File \"/var/folders/54/lrgwxr353tj57qmbtt2jwqdm0000gn/T/ipykernel_1678/3727189462.py\", line 13, in __del__\\n', '  File \"/var/folders/54/lrgwxr353tj57qmbtt2jwqdm0000gn/T/ipykernel_1678/3727189462.py\", line 16, in gen_exception\\n', 'ValueError: Something went wrong...\\n']\n"
     ]
    }
   ],
   "source": [
    "with open(\"err.txt\", \"r\") as f:\n",
    "    print(f.readlines())"
   ]
  },
  {
   "cell_type": "code",
   "execution_count": null,
   "id": "c74203ed-2956-4916-bb93-8cad5fde757a",
   "metadata": {},
   "outputs": [],
   "source": []
  }
 ],
 "metadata": {
  "kernelspec": {
   "display_name": "Python 3 (ipykernel)",
   "language": "python",
   "name": "python3"
  },
  "language_info": {
   "codemirror_mode": {
    "name": "ipython",
    "version": 3
   },
   "file_extension": ".py",
   "mimetype": "text/x-python",
   "name": "python",
   "nbconvert_exporter": "python",
   "pygments_lexer": "ipython3",
   "version": "3.12.3"
  }
 },
 "nbformat": 4,
 "nbformat_minor": 5
}
