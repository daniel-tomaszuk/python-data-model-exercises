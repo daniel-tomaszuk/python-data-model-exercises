{
 "cells": [
  {
   "cell_type": "code",
   "execution_count": 1,
   "id": "05724845-9481-49dc-bd03-46695fbd96da",
   "metadata": {},
   "outputs": [],
   "source": [
    "from numbers import Real\n",
    "\n",
    "class Vector:\n",
    "    def __init__(self, *components):\n",
    "        if len(components) < 1:\n",
    "            raise ValueError(\"Cannot create an empty Vector object\")\n",
    "\n",
    "        if not all(isinstance(component, Real) for component in components):\n",
    "            raise ValueError(\"Vector components must all be a real numbers\")\n",
    "        self._components = tuple(components)\n",
    "\n",
    "    def __len__(self) -> int:\n",
    "        return len(self._components)\n",
    "\n",
    "    @property\n",
    "    def components(self) -> tuple[Real, ...]:\n",
    "        return self._components\n",
    "\n",
    "    def __repr__(self) -> str:\n",
    "        return f\"<{self.__class__.__name__} components={self.components}> @ {hex(id(self))}\"\n",
    "\n",
    "    def __add__(self, other: \"Vector\") -> \"Vector\":\n",
    "        is_valid: bool =  self.__validate_type_and_dimention(other)\n",
    "        if not is_valid:\n",
    "            return NotImplemented\n",
    "\n",
    "        components = (x + y for x, y in zip(self.components, other.components))\n",
    "        return Vector(*components)\n",
    "\n",
    "    def __sub__(self, other: \"Vector\") -> \"Vector\":\n",
    "        is_valid: bool =  self.__validate_type_and_dimention(other)\n",
    "        if not is_valid:\n",
    "            return NotImplemented\n",
    "\n",
    "        components = (x - y for x, y in zip(self.components, other.components))\n",
    "        return Vector(*components)\n",
    "\n",
    "    def __mul__(self, other: Real) -> \"Vector\":\n",
    "        if not isinstance(other, Real):\n",
    "            return NotImplemented\n",
    "\n",
    "        components = (other * c for c in self.components)\n",
    "        return Vector(*components)\n",
    "\n",
    "    def __matmul__(self, other):\n",
    "        print(\"__matmul__ called\")\n",
    "\n",
    "    def __validate_type_and_dimention(self, other_vector: \"Vector\") -> bool:\n",
    "        return isinstance(other_vector, Vector) and len(other_vector) == len(self)\n"
   ]
  },
  {
   "cell_type": "code",
   "execution_count": 2,
   "id": "b3088082-fce6-4375-bb1e-9cdc4d30d0a3",
   "metadata": {},
   "outputs": [
    {
     "data": {
      "text/plain": [
       "(2, 3)"
      ]
     },
     "execution_count": 2,
     "metadata": {},
     "output_type": "execute_result"
    }
   ],
   "source": [
    "v1 = Vector(1, 2)\n",
    "v2 = Vector(3, 4, 5)\n",
    "len(v1), len(v2)"
   ]
  },
  {
   "cell_type": "code",
   "execution_count": 3,
   "id": "9009e2e6-50b7-4a94-bb03-b15f86b3f0fd",
   "metadata": {},
   "outputs": [
    {
     "data": {
      "text/plain": [
       "(<Vector components=(1, 2)> @ 0x10af85fd0,\n",
       " <Vector components=(3, 4, 5)> @ 0x10af87230)"
      ]
     },
     "execution_count": 3,
     "metadata": {},
     "output_type": "execute_result"
    }
   ],
   "source": [
    "v1, v2"
   ]
  },
  {
   "cell_type": "code",
   "execution_count": 4,
   "id": "7f945ebf-4e61-4975-af2a-6eb83c92d62d",
   "metadata": {},
   "outputs": [
    {
     "name": "stdout",
     "output_type": "stream",
     "text": [
      "<Vector components=(5, 2, 2)> @ 0x10af87a10\n"
     ]
    }
   ],
   "source": [
    "v1 = Vector(2, 3, 5)\n",
    "v2 = Vector(3, -1, -3)\n",
    "print(v1 + v2)"
   ]
  },
  {
   "cell_type": "code",
   "execution_count": 5,
   "id": "492a657f-fc15-48ff-a3ef-edd3f577ef4e",
   "metadata": {},
   "outputs": [
    {
     "name": "stdout",
     "output_type": "stream",
     "text": [
      "<Vector components=(-1, 4, 8)> @ 0x10af57cb0\n"
     ]
    }
   ],
   "source": [
    "print(v1 - v2)"
   ]
  },
  {
   "cell_type": "code",
   "execution_count": 6,
   "id": "e95c741f-2b73-47fc-854f-a1071ca6f7f8",
   "metadata": {},
   "outputs": [
    {
     "name": "stdout",
     "output_type": "stream",
     "text": [
      "<Vector components=(10, 15, 25)> @ 0x10afa46e0\n"
     ]
    }
   ],
   "source": [
    "print(v1 * 5)"
   ]
  },
  {
   "cell_type": "code",
   "execution_count": 7,
   "id": "c5718733-39d3-4ecd-8b75-fe1d37b59d97",
   "metadata": {},
   "outputs": [],
   "source": [
    "# print(5 * v1)  # throws an error"
   ]
  },
  {
   "cell_type": "code",
   "execution_count": 8,
   "id": "e6608e3a-6ae6-4cb4-9001-d34fe93ff2f6",
   "metadata": {},
   "outputs": [
    {
     "name": "stdout",
     "output_type": "stream",
     "text": [
      "__matmul__ called\n"
     ]
    }
   ],
   "source": [
    "v1 @ v2  # __matmul__"
   ]
  },
  {
   "cell_type": "code",
   "execution_count": null,
   "id": "a3a1f794-a039-4ce4-b548-27644627b12d",
   "metadata": {},
   "outputs": [],
   "source": []
  },
  {
   "cell_type": "code",
   "execution_count": null,
   "id": "b965ffaa-fd54-42d0-97b5-d31df57300be",
   "metadata": {},
   "outputs": [],
   "source": []
  },
  {
   "cell_type": "code",
   "execution_count": null,
   "id": "0ad9d92f-5f82-4f58-8dad-e97e0e79f1c6",
   "metadata": {},
   "outputs": [],
   "source": []
  }
 ],
 "metadata": {
  "kernelspec": {
   "display_name": "Python 3 (ipykernel)",
   "language": "python",
   "name": "python3"
  },
  "language_info": {
   "codemirror_mode": {
    "name": "ipython",
    "version": 3
   },
   "file_extension": ".py",
   "mimetype": "text/x-python",
   "name": "python",
   "nbconvert_exporter": "python",
   "pygments_lexer": "ipython3",
   "version": "3.12.3"
  }
 },
 "nbformat": 4,
 "nbformat_minor": 5
}
