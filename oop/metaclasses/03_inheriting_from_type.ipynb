{
 "cells": [
  {
   "cell_type": "code",
   "execution_count": 1,
   "id": "bcbdfb9e-7a72-4212-8f99-dd1475119c9c",
   "metadata": {},
   "outputs": [],
   "source": [
    "class Test:\n",
    "    def __new__(cls, *args, **kwargs):\n",
    "        print(f\"__new__ called for {cls} with args: {args}, {kwargs}\")\n"
   ]
  },
  {
   "cell_type": "code",
   "execution_count": 2,
   "id": "b49fd910-9d71-435f-9cb0-d5f4ffa91511",
   "metadata": {},
   "outputs": [
    {
     "name": "stdout",
     "output_type": "stream",
     "text": [
      "__new__ called for <class '__main__.Test'> with args: (10, 20), {'kw': 'a'}\n"
     ]
    }
   ],
   "source": [
    "t = Test(10, 20, kw=\"a\")"
   ]
  },
  {
   "cell_type": "code",
   "execution_count": 3,
   "id": "a21565ff-f267-4457-b079-f5229a532d57",
   "metadata": {},
   "outputs": [
    {
     "name": "stdout",
     "output_type": "stream",
     "text": [
      "__new__ called for <class '__main__.Test'> with args: (10, 20), {'kw': 'a'}\n"
     ]
    }
   ],
   "source": [
    "t = Test.__new__(Test, 10, 20, kw=\"a\")"
   ]
  },
  {
   "cell_type": "code",
   "execution_count": 4,
   "id": "e11362d8-f36b-4596-a650-b6fae08e3b70",
   "metadata": {},
   "outputs": [],
   "source": [
    "import math\n",
    "\n",
    "\n",
    "class CustomType(type):\n",
    "    def __new__(cls, name, bases, class_dict):\n",
    "        print(f\"__new__ called for {cls}\")\n",
    "        cls_obj = super().__new__(cls, name, bases, class_dict)\n",
    "        cls_obj.circ = lambda self: 2 * math.pi * self.r\n",
    "        return cls_obj\n"
   ]
  },
  {
   "cell_type": "code",
   "execution_count": 5,
   "id": "282c6d3a-aeb7-4a44-9956-c60a444f8f95",
   "metadata": {},
   "outputs": [
    {
     "name": "stdout",
     "output_type": "stream",
     "text": [
      "__new__ called for <class '__main__.CustomType'>\n"
     ]
    },
    {
     "data": {
      "text/plain": [
       "(mappingproxy({'__init__': <function __main__.__init__(self, x, y, r)>,\n",
       "               'area': <function __main__.area(self)>,\n",
       "               '__module__': '__main__',\n",
       "               '__dict__': <attribute '__dict__' of 'Circle' objects>,\n",
       "               '__weakref__': <attribute '__weakref__' of 'Circle' objects>,\n",
       "               '__doc__': None,\n",
       "               'circ': <function __main__.CustomType.__new__.<locals>.<lambda>(self)>}),\n",
       " __main__.CustomType,\n",
       " True)"
      ]
     },
     "execution_count": 5,
     "metadata": {},
     "output_type": "execute_result"
    }
   ],
   "source": [
    "class_body = \"\"\"\n",
    "def __init__(self, x, y, r):\n",
    "    self.x = x\n",
    "    self.y = y\n",
    "    self.r = r\n",
    "    \n",
    "def area(self):\n",
    "    return math.pi * self.r ** 2\n",
    "\"\"\"\n",
    "\n",
    "class_dict = {}\n",
    "exec(class_body, globals(), class_dict)\n",
    "class_bases = ()\n",
    "class_name = \"Circle\"\n",
    "\n",
    "Circle = CustomType(class_name, class_bases, class_dict)\n",
    "Circle.__dict__, type(Circle), isinstance(Circle, type)"
   ]
  },
  {
   "cell_type": "code",
   "execution_count": 6,
   "id": "6e204038-3a84-4272-8b51-73892ba49215",
   "metadata": {},
   "outputs": [
    {
     "data": {
      "text/plain": [
       "(3.141592653589793, 6.283185307179586)"
      ]
     },
     "execution_count": 6,
     "metadata": {},
     "output_type": "execute_result"
    }
   ],
   "source": [
    "c = Circle(0, 0, 1)\n",
    "c.area(), c.circ()"
   ]
  },
  {
   "cell_type": "code",
   "execution_count": 7,
   "id": "b85145f7-1914-4ded-9166-7da8f2ea1595",
   "metadata": {},
   "outputs": [
    {
     "name": "stdout",
     "output_type": "stream",
     "text": [
      "__new__ called for <class '__main__.CustomType'>\n"
     ]
    },
    {
     "data": {
      "text/plain": [
       "mappingproxy({'__init__': <function __main__.__init__(self, x, y, r)>,\n",
       "              'area': <function __main__.area(self)>,\n",
       "              'circ': <function __main__.CustomType.__new__.<locals>.<lambda>(self)>,\n",
       "              '__module__': '__main__',\n",
       "              '__dict__': <attribute '__dict__' of 'Circle' objects>,\n",
       "              '__weakref__': <attribute '__weakref__' of 'Circle' objects>,\n",
       "              '__doc__': None})"
      ]
     },
     "execution_count": 7,
     "metadata": {},
     "output_type": "execute_result"
    }
   ],
   "source": [
    "\n",
    "class CustomType(type):\n",
    "    def __new__(cls, name, bases, class_dict):\n",
    "        print(f\"__new__ called for {cls}\")\n",
    "        # it's also possible to add things into class dict before super().__new__ is called\n",
    "        class_dict[\"circ\"] = lambda self: 2 * math.pi * self.r\n",
    "        cls_obj = super().__new__(cls, name, bases, class_dict)\n",
    "        return cls_obj\n",
    "\n",
    "\n",
    "class_body = \"\"\"\n",
    "def __init__(self, x, y, r):\n",
    "    self.x = x\n",
    "    self.y = y\n",
    "    self.r = r\n",
    "    \n",
    "def area(self):\n",
    "    return math.pi * self.r ** 2\n",
    "\"\"\"\n",
    "\n",
    "class_dict = {}\n",
    "exec(class_body, globals(), class_dict)\n",
    "class_bases = ()\n",
    "class_name = \"Circle\"\n",
    "\n",
    "Circle = CustomType(class_name, class_bases, class_dict)\n",
    "Circle.__dict__"
   ]
  },
  {
   "cell_type": "code",
   "execution_count": 8,
   "id": "b5b95b1f-13e7-4824-9cd1-bae0723d09ab",
   "metadata": {},
   "outputs": [
    {
     "data": {
      "text/plain": [
       "(12.566370614359172, 12.566370614359172)"
      ]
     },
     "execution_count": 8,
     "metadata": {},
     "output_type": "execute_result"
    }
   ],
   "source": [
    "c = Circle(0, 0, 2)\n",
    "c.area(), c.circ()"
   ]
  },
  {
   "cell_type": "code",
   "execution_count": null,
   "id": "79295e1a-03ad-4de7-8743-0f8e1ec3d64e",
   "metadata": {},
   "outputs": [],
   "source": []
  }
 ],
 "metadata": {
  "kernelspec": {
   "display_name": "Python 3 (ipykernel)",
   "language": "python",
   "name": "python3"
  },
  "language_info": {
   "codemirror_mode": {
    "name": "ipython",
    "version": 3
   },
   "file_extension": ".py",
   "mimetype": "text/x-python",
   "name": "python",
   "nbconvert_exporter": "python",
   "pygments_lexer": "ipython3",
   "version": "3.12.3"
  }
 },
 "nbformat": 4,
 "nbformat_minor": 5
}
