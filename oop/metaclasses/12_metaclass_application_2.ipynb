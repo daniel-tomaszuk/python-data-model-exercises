{
 "cells": [
  {
   "cell_type": "code",
   "execution_count": 1,
   "id": "8c48c663-4407-4417-9800-770156365f8e",
   "metadata": {},
   "outputs": [
    {
     "data": {
      "text/plain": [
       "(4533813248, 4533813248, True)"
      ]
     },
     "execution_count": 1,
     "metadata": {},
     "output_type": "execute_result"
    }
   ],
   "source": [
    "# singleton pattern with metaclasses\n",
    "\n",
    "\n",
    "NoneType =  type(None)\n",
    "\n",
    "n1 = NoneType()\n",
    "n2 = NoneType()\n",
    "\n",
    "id(n1), id(n2), n1 is n2"
   ]
  },
  {
   "cell_type": "code",
   "execution_count": 2,
   "id": "c0e9523d-788c-4e5c-881d-5d8e41b7f808",
   "metadata": {},
   "outputs": [],
   "source": [
    "class Hundred:\n",
    "    def __new__(cls):\n",
    "        new_instance = super().__new__(cls)\n",
    "        setattr(new_instance, \"name\", \"hundred\")\n",
    "        setattr(new_instance, \"value\", 100)\n",
    "        return new_instance\n"
   ]
  },
  {
   "cell_type": "code",
   "execution_count": 3,
   "id": "c57a7f09-d1cb-473c-8723-9bfe215c086d",
   "metadata": {},
   "outputs": [],
   "source": [
    "h1 = Hundred()\n",
    "h2 = Hundred()"
   ]
  },
  {
   "cell_type": "code",
   "execution_count": 4,
   "id": "47304e89-9e8c-483f-9acc-482b1731c467",
   "metadata": {},
   "outputs": [
    {
     "data": {
      "text/plain": [
       "({'name': 'hundred', 'value': 100}, False)"
      ]
     },
     "execution_count": 4,
     "metadata": {},
     "output_type": "execute_result"
    }
   ],
   "source": [
    "h1.__dict__, h1 is h2"
   ]
  },
  {
   "cell_type": "code",
   "execution_count": 5,
   "id": "29f0fb24-d2d1-4560-8a95-76a087afe5ce",
   "metadata": {},
   "outputs": [],
   "source": [
    "class Hundred:\n",
    "    _existing_instance = None\n",
    "    \n",
    "    def __new__(cls):\n",
    "        if not cls._existing_instance:\n",
    "            print(\"Creating new instance\")\n",
    "            new_instance = super().__new__(cls)\n",
    "            setattr(new_instance, \"name\", \"hundred\")\n",
    "            setattr(new_instance, \"value\", 100)\n",
    "            cls._existing_instance = new_instance\n",
    "            return new_instance\n",
    "\n",
    "        print(\"Returning existing instance\")\n",
    "        return cls._existing_instance"
   ]
  },
  {
   "cell_type": "code",
   "execution_count": 6,
   "id": "211c7b75-2bd7-47f6-934c-9d23a57f8324",
   "metadata": {},
   "outputs": [
    {
     "name": "stdout",
     "output_type": "stream",
     "text": [
      "Creating new instance\n"
     ]
    },
    {
     "data": {
      "text/plain": [
       "{'name': 'hundred', 'value': 100}"
      ]
     },
     "execution_count": 6,
     "metadata": {},
     "output_type": "execute_result"
    }
   ],
   "source": [
    "h1 = Hundred()\n",
    "h1.__dict__"
   ]
  },
  {
   "cell_type": "code",
   "execution_count": 7,
   "id": "21253931-855e-4174-9063-1b60b81cc784",
   "metadata": {},
   "outputs": [
    {
     "name": "stdout",
     "output_type": "stream",
     "text": [
      "Returning existing instance\n"
     ]
    }
   ],
   "source": [
    "h2  = Hundred()"
   ]
  },
  {
   "cell_type": "code",
   "execution_count": 8,
   "id": "b9b33408-ac0e-42ac-be55-f465b7b6e512",
   "metadata": {},
   "outputs": [
    {
     "data": {
      "text/plain": [
       "True"
      ]
     },
     "execution_count": 8,
     "metadata": {},
     "output_type": "execute_result"
    }
   ],
   "source": [
    "h1 is h2"
   ]
  },
  {
   "cell_type": "code",
   "execution_count": 9,
   "id": "a3ee83ff-b6c9-4311-b147-f7d371255311",
   "metadata": {},
   "outputs": [],
   "source": [
    "class Singleton(type):\n",
    "    def __call__(cls, *args, **kwargs):\n",
    "        print(f\"Singleton __call__: {cls} {args}, {kwargs}\")\n",
    "        return super().__call__(*args, **kwargs)\n"
   ]
  },
  {
   "cell_type": "code",
   "execution_count": 10,
   "id": "0304a88f-b244-4cf6-905e-9d18785da70f",
   "metadata": {},
   "outputs": [],
   "source": [
    "class Hundred(metaclass=Singleton):\n",
    "    value = 100\n"
   ]
  },
  {
   "cell_type": "code",
   "execution_count": 11,
   "id": "d2c704c2-9a0d-4b6a-92fc-1326dedd50c8",
   "metadata": {},
   "outputs": [
    {
     "name": "stdout",
     "output_type": "stream",
     "text": [
      "Singleton __call__: <class '__main__.Hundred'> (), {}\n"
     ]
    },
    {
     "data": {
      "text/plain": [
       "<__main__.Hundred at 0x1104a5d30>"
      ]
     },
     "execution_count": 11,
     "metadata": {},
     "output_type": "execute_result"
    }
   ],
   "source": [
    "Hundred()"
   ]
  },
  {
   "cell_type": "code",
   "execution_count": 12,
   "id": "4eaa9578-2fc3-4851-b3bb-e5695871504e",
   "metadata": {},
   "outputs": [],
   "source": [
    "class Singleton(type):\n",
    "    def __call__(cls, *args, **kwargs):\n",
    "        print(f\"Singleton __call__: {cls} {args}, {kwargs}\")\n",
    "        if getattr(cls, \"singleton_instance\", None) is None:\n",
    "            print(\"Creating singletone instance for the first time\")\n",
    "            new_instance = super().__call__(*args, **kwargs)\n",
    "            setattr(cls, \"singleton_instance\", new_instance)\n",
    "            return new_instance\n",
    "        print(\"Returning existing singleton instance\")\n",
    "        return getattr(cls, \"singleton_instance\")\n"
   ]
  },
  {
   "cell_type": "code",
   "execution_count": 13,
   "id": "1e0be681-c418-4b0c-9f04-b4203b6c9973",
   "metadata": {},
   "outputs": [],
   "source": [
    "class Hundred(metaclass=Singleton):\n",
    "    value = 100 "
   ]
  },
  {
   "cell_type": "code",
   "execution_count": 14,
   "id": "db2305f6-51a5-44cd-9fb1-7d2b02bc9030",
   "metadata": {},
   "outputs": [
    {
     "name": "stdout",
     "output_type": "stream",
     "text": [
      "Singleton __call__: <class '__main__.Hundred'> (), {}\n",
      "Creating singletone instance for the first time\n"
     ]
    }
   ],
   "source": [
    "h1 = Hundred()"
   ]
  },
  {
   "cell_type": "code",
   "execution_count": 15,
   "id": "3772c790-dadc-4eba-8a9a-baa266114982",
   "metadata": {},
   "outputs": [
    {
     "data": {
      "text/plain": [
       "4568096480"
      ]
     },
     "execution_count": 15,
     "metadata": {},
     "output_type": "execute_result"
    }
   ],
   "source": [
    "id(h1)"
   ]
  },
  {
   "cell_type": "code",
   "execution_count": 16,
   "id": "e5c7cc0e-7e92-490e-b501-f31b000cafa4",
   "metadata": {},
   "outputs": [
    {
     "name": "stdout",
     "output_type": "stream",
     "text": [
      "Singleton __call__: <class '__main__.Hundred'> (), {}\n",
      "Returning existing singleton instance\n"
     ]
    }
   ],
   "source": [
    "h2 = Hundred()"
   ]
  },
  {
   "cell_type": "code",
   "execution_count": 17,
   "id": "f5b3abc0-b936-49f4-a8bb-4973876c647d",
   "metadata": {},
   "outputs": [
    {
     "data": {
      "text/plain": [
       "True"
      ]
     },
     "execution_count": 17,
     "metadata": {},
     "output_type": "execute_result"
    }
   ],
   "source": [
    "h1 is h2"
   ]
  },
  {
   "cell_type": "code",
   "execution_count": 18,
   "id": "b5531832-8f7f-4957-982a-96a5de4dc492",
   "metadata": {},
   "outputs": [
    {
     "data": {
      "text/plain": [
       "mappingproxy({'__module__': '__main__',\n",
       "              'value': 100,\n",
       "              '__dict__': <attribute '__dict__' of 'Hundred' objects>,\n",
       "              '__weakref__': <attribute '__weakref__' of 'Hundred' objects>,\n",
       "              '__doc__': None,\n",
       "              'singleton_instance': <__main__.Hundred at 0x110479ee0>})"
      ]
     },
     "execution_count": 18,
     "metadata": {},
     "output_type": "execute_result"
    }
   ],
   "source": [
    "Hundred.__dict__  # holds the singleton instance"
   ]
  },
  {
   "cell_type": "code",
   "execution_count": 19,
   "id": "0be690a9-2614-4030-bbde-b515b0a26c02",
   "metadata": {},
   "outputs": [
    {
     "name": "stdout",
     "output_type": "stream",
     "text": [
      "Singleton __call__: <class '__main__.Thousand'> (), {}\n",
      "Creating singletone instance for the first time\n",
      "Singleton __call__: <class '__main__.Thousand'> (), {}\n",
      "Returning existing singleton instance\n"
     ]
    }
   ],
   "source": [
    "class Thousand(metaclass=Singleton):\n",
    "    value = 1000\n",
    "\n",
    "t1 = Thousand()\n",
    "t2 = Thousand()"
   ]
  },
  {
   "cell_type": "code",
   "execution_count": 20,
   "id": "604d01c1-6f8a-4dab-aa6d-cfbacd4aab41",
   "metadata": {},
   "outputs": [
    {
     "data": {
      "text/plain": [
       "(True, False)"
      ]
     },
     "execution_count": 20,
     "metadata": {},
     "output_type": "execute_result"
    }
   ],
   "source": [
    "t1 is t2, t1 is h1"
   ]
  },
  {
   "cell_type": "code",
   "execution_count": 21,
   "id": "4407e3a5-cab6-4b36-bef1-b58404b441f5",
   "metadata": {},
   "outputs": [],
   "source": [
    "class HundredFold(Hundred):\n",
    "    value = 100 * 100"
   ]
  },
  {
   "cell_type": "code",
   "execution_count": 22,
   "id": "bc576f8d-a9f2-4a5f-a829-69f5659f8034",
   "metadata": {},
   "outputs": [
    {
     "name": "stdout",
     "output_type": "stream",
     "text": [
      "Singleton __call__: <class '__main__.HundredFold'> (), {}\n",
      "Returning existing singleton instance\n"
     ]
    }
   ],
   "source": [
    "hf1 = HundredFold()"
   ]
  },
  {
   "cell_type": "code",
   "execution_count": 23,
   "id": "31fe7313-238d-4fe9-9450-ece469587a8e",
   "metadata": {},
   "outputs": [
    {
     "data": {
      "text/plain": [
       "(<__main__.Hundred at 0x110479ee0>, True)"
      ]
     },
     "execution_count": 23,
     "metadata": {},
     "output_type": "execute_result"
    }
   ],
   "source": [
    "hf1, hf1 is h1  # !! singleton of a hundred got returned!"
   ]
  },
  {
   "cell_type": "code",
   "execution_count": 24,
   "id": "a6a32999-14fd-44b1-8705-184e60d6f197",
   "metadata": {},
   "outputs": [],
   "source": [
    "class Singleton(type):\n",
    "    instances = {}  # consider WeakKeyDictionary / WeakValueDictionary to avoid memory leaks\n",
    "\n",
    "    def __call__(cls, *args, **kwargs):\n",
    "        print(f\"Singleton __call__: {cls} {args}, {kwargs}\")\n",
    "        existing_instance = Singleton.instances.get(cls, None)\n",
    "        if existing_instance is None:\n",
    "            print(\"Creating singletone instance for the first time\")\n",
    "            new_instance = super().__call__(*args, **kwargs)\n",
    "            Singleton.instances[cls] = super().__call__(*args, **kwargs)\n",
    "        else:\n",
    "            print(\"Returning existing singleton instance\")\n",
    "        return Singleton.instances[cls]\n",
    "\n",
    "\n",
    "class Hundred(metaclass=Singleton):\n",
    "    value = 100\n",
    "\n",
    "\n",
    "class HundredFold(Hundred):\n",
    "    value = 100 * 100\n",
    "\n"
   ]
  },
  {
   "cell_type": "code",
   "execution_count": 25,
   "id": "af763b0e-127f-4235-86e4-54e27b76a264",
   "metadata": {},
   "outputs": [
    {
     "name": "stdout",
     "output_type": "stream",
     "text": [
      "Singleton __call__: <class '__main__.Hundred'> (), {}\n",
      "Creating singletone instance for the first time\n",
      "Singleton __call__: <class '__main__.Hundred'> (), {}\n",
      "Returning existing singleton instance\n"
     ]
    }
   ],
   "source": [
    "h1 = Hundred()\n",
    "h2 = Hundred()"
   ]
  },
  {
   "cell_type": "code",
   "execution_count": 26,
   "id": "2ee7de7b-32bf-43f6-ae75-c10a9bf1a5c1",
   "metadata": {},
   "outputs": [
    {
     "data": {
      "text/plain": [
       "True"
      ]
     },
     "execution_count": 26,
     "metadata": {},
     "output_type": "execute_result"
    }
   ],
   "source": [
    "h1 is h2"
   ]
  },
  {
   "cell_type": "code",
   "execution_count": 27,
   "id": "f0cefa3e-c3b3-49ae-b23c-91b96d2d521f",
   "metadata": {},
   "outputs": [
    {
     "name": "stdout",
     "output_type": "stream",
     "text": [
      "Singleton __call__: <class '__main__.HundredFold'> (), {}\n",
      "Creating singletone instance for the first time\n",
      "Singleton __call__: <class '__main__.HundredFold'> (), {}\n",
      "Returning existing singleton instance\n"
     ]
    }
   ],
   "source": [
    "hf1 = HundredFold()\n",
    "hf2 = HundredFold()"
   ]
  },
  {
   "cell_type": "code",
   "execution_count": 28,
   "id": "f0d34282-4733-4010-8716-d743d711b38b",
   "metadata": {},
   "outputs": [
    {
     "data": {
      "text/plain": [
       "(True, False)"
      ]
     },
     "execution_count": 28,
     "metadata": {},
     "output_type": "execute_result"
    }
   ],
   "source": [
    "hf1 is hf2, hf1 is h1"
   ]
  },
  {
   "cell_type": "code",
   "execution_count": null,
   "id": "dc1fcd30-adaf-4e13-8ac6-4999bea18d7f",
   "metadata": {},
   "outputs": [],
   "source": []
  }
 ],
 "metadata": {
  "kernelspec": {
   "display_name": "Python 3 (ipykernel)",
   "language": "python",
   "name": "python3"
  },
  "language_info": {
   "codemirror_mode": {
    "name": "ipython",
    "version": 3
   },
   "file_extension": ".py",
   "mimetype": "text/x-python",
   "name": "python",
   "nbconvert_exporter": "python",
   "pygments_lexer": "ipython3",
   "version": "3.12.3"
  }
 },
 "nbformat": 4,
 "nbformat_minor": 5
}
