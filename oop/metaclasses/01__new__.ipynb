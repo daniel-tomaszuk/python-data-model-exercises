{
 "cells": [
  {
   "cell_type": "code",
   "execution_count": 1,
   "id": "0bc83658-c3bc-4e92-829b-6bd0c89b0168",
   "metadata": {},
   "outputs": [],
   "source": [
    "class Point:\n",
    "    def __init__(self, x, y):\n",
    "        self.x = x\n",
    "        self.y = y\n"
   ]
  },
  {
   "cell_type": "code",
   "execution_count": 2,
   "id": "156bb8f0-ddf8-4e76-a21c-4c6ffc1b6b56",
   "metadata": {},
   "outputs": [
    {
     "data": {
      "text/plain": [
       "(True, True)"
      ]
     },
     "execution_count": 2,
     "metadata": {},
     "output_type": "execute_result"
    }
   ],
   "source": [
    "p = Point(1, 2)\n",
    "hasattr(p, \"__new__\"), hasattr(p, \"__init__\")"
   ]
  },
  {
   "cell_type": "code",
   "execution_count": 3,
   "id": "52a03d1a-433b-4fca-bc13-624a1b602286",
   "metadata": {},
   "outputs": [],
   "source": [
    "p = object.__new__(Point)  # won't call the __init__"
   ]
  },
  {
   "cell_type": "code",
   "execution_count": 4,
   "id": "a73c7155-2523-4c01-8418-d0255aa1185e",
   "metadata": {},
   "outputs": [
    {
     "data": {
      "text/plain": [
       "(<__main__.Point at 0x10a1f2ed0>, {})"
      ]
     },
     "execution_count": 4,
     "metadata": {},
     "output_type": "execute_result"
    }
   ],
   "source": [
    "p, p.__dict__"
   ]
  },
  {
   "cell_type": "code",
   "execution_count": 5,
   "id": "b4a887c4-228c-4e35-b2b9-c59dd372a009",
   "metadata": {},
   "outputs": [
    {
     "data": {
      "text/plain": [
       "{'x': 10, 'y': 20}"
      ]
     },
     "execution_count": 5,
     "metadata": {},
     "output_type": "execute_result"
    }
   ],
   "source": [
    "p.__init__(10, 20)\n",
    "p.__dict__"
   ]
  },
  {
   "cell_type": "code",
   "execution_count": 6,
   "id": "f29c0274-3358-477e-8e24-ab6b94f8d16c",
   "metadata": {},
   "outputs": [
    {
     "data": {
      "text/plain": [
       "{}"
      ]
     },
     "execution_count": 6,
     "metadata": {},
     "output_type": "execute_result"
    }
   ],
   "source": [
    "p = object.__new__(Point, 20, 30)\n",
    "p.__dict__"
   ]
  },
  {
   "cell_type": "code",
   "execution_count": 7,
   "id": "4618f68d-f7ee-499b-bebb-b0d735fbeda7",
   "metadata": {},
   "outputs": [],
   "source": [
    "class Point:\n",
    "    # __new__ is a static method\n",
    "    def __new__(cls, x, y):\n",
    "        print(\"__new__: creating the instance\", x, y)\n",
    "        instance = object.__new__(cls)\n",
    "        return instance\n",
    "\n",
    "    def __init__(self, x, y):\n",
    "        print(\"__init__: initializing the instance\", x, y)\n",
    "        self.x = x\n",
    "        self.y = y\n"
   ]
  },
  {
   "cell_type": "code",
   "execution_count": 8,
   "id": "38e92757-bffa-4e40-96de-76625556f0fd",
   "metadata": {},
   "outputs": [
    {
     "name": "stdout",
     "output_type": "stream",
     "text": [
      "__new__: creating the instance 20 30\n",
      "__init__: initializing the instance 20 30\n"
     ]
    }
   ],
   "source": [
    "p = Point(20, 30)"
   ]
  },
  {
   "cell_type": "code",
   "execution_count": 9,
   "id": "de627306-f82f-4dce-9b3e-ff5bf4ab2dcc",
   "metadata": {},
   "outputs": [
    {
     "data": {
      "text/plain": [
       "{'x': 20, 'y': 30}"
      ]
     },
     "execution_count": 9,
     "metadata": {},
     "output_type": "execute_result"
    }
   ],
   "source": [
    "p.__dict__"
   ]
  },
  {
   "cell_type": "code",
   "execution_count": 10,
   "id": "90128f07-d6d9-4a00-92d8-c0c4440699b1",
   "metadata": {},
   "outputs": [],
   "source": [
    "class Point:\n",
    "    # __new__ is a static method\n",
    "    def __new__(cls, x, y):\n",
    "        instance = super().__new__(cls)\n",
    "        return instance\n",
    "\n",
    "    def __init__(self, x, y):\n",
    "        self.x = x\n",
    "        self.y = y"
   ]
  },
  {
   "cell_type": "code",
   "execution_count": 11,
   "id": "6670bd1b-4c9d-454a-b5fb-91e17ac5580f",
   "metadata": {},
   "outputs": [
    {
     "data": {
      "text/plain": [
       "{'x': 5, 'y': 15}"
      ]
     },
     "execution_count": 11,
     "metadata": {},
     "output_type": "execute_result"
    }
   ],
   "source": [
    "p = Point(5, 15)\n",
    "p.__dict__"
   ]
  },
  {
   "cell_type": "code",
   "execution_count": 12,
   "id": "04b8ceb8-9d17-433f-bb30-8e325b002976",
   "metadata": {},
   "outputs": [],
   "source": [
    "class Squared(int):\n",
    "    def __new__(cls, x):\n",
    "        return super().__new__(cls, x**2)\n"
   ]
  },
  {
   "cell_type": "code",
   "execution_count": 13,
   "id": "6c3f3565-404a-4ed7-bb7e-35bdc1a0aa6f",
   "metadata": {},
   "outputs": [
    {
     "data": {
      "text/plain": [
       "(16, __main__.Squared, True)"
      ]
     },
     "execution_count": 13,
     "metadata": {},
     "output_type": "execute_result"
    }
   ],
   "source": [
    "r = Squared(4)\n",
    "r, type(r), isinstance(r, int)"
   ]
  },
  {
   "cell_type": "code",
   "execution_count": 14,
   "id": "a0cd01ed-18ba-4c59-82bc-14541e5cc477",
   "metadata": {},
   "outputs": [],
   "source": [
    "class Person:\n",
    "    def __new__(cls, name):\n",
    "        print(f\"Person.__new__ with name={name}\")\n",
    "        instance = object.__new__(cls)\n",
    "        return instance\n",
    "\n",
    "    def __init__(self, name):\n",
    "        print(f\"Person.__init__ with name={name}\")\n",
    "        self.name = name\n"
   ]
  },
  {
   "cell_type": "code",
   "execution_count": 15,
   "id": "da0ec403-5951-4d4a-8ac2-952d153e5652",
   "metadata": {},
   "outputs": [
    {
     "name": "stdout",
     "output_type": "stream",
     "text": [
      "Person.__new__ with name=Bob\n",
      "Person.__init__ with name=Bob\n"
     ]
    },
    {
     "data": {
      "text/plain": [
       "{'name': 'Bob'}"
      ]
     },
     "execution_count": 15,
     "metadata": {},
     "output_type": "execute_result"
    }
   ],
   "source": [
    "p = Person(\"Bob\")\n",
    "p.__dict__"
   ]
  },
  {
   "cell_type": "code",
   "execution_count": 16,
   "id": "4b285a4a-30e8-4bff-bdd9-5826e48c982f",
   "metadata": {},
   "outputs": [],
   "source": [
    "class Student(Person):\n",
    "    def __new__(cls, name, major):\n",
    "        print(f\"Student.__new__ with name={name}, major={major}\")\n",
    "        instance = object.__new__(cls)\n",
    "        return instance\n",
    "\n",
    "    def __init__(self, name, major):\n",
    "        print(f\"Student.__init__ with name={name}, major={major}\")\n",
    "        super().__init__(name)\n",
    "        self.major = major\n"
   ]
  },
  {
   "cell_type": "code",
   "execution_count": 17,
   "id": "341ee99b-9d6c-4453-8491-73c4e67199e6",
   "metadata": {},
   "outputs": [
    {
     "name": "stdout",
     "output_type": "stream",
     "text": [
      "Student.__new__ with name=John, major=Major\n",
      "Student.__init__ with name=John, major=Major\n",
      "Person.__init__ with name=John\n"
     ]
    }
   ],
   "source": [
    "s = Student(\"John\", \"Major\")"
   ]
  },
  {
   "cell_type": "code",
   "execution_count": 18,
   "id": "e46bf245-3913-4074-a474-eb754c81dbee",
   "metadata": {},
   "outputs": [
    {
     "data": {
      "text/plain": [
       "{'name': 'John', 'major': 'Major'}"
      ]
     },
     "execution_count": 18,
     "metadata": {},
     "output_type": "execute_result"
    }
   ],
   "source": [
    "s.__dict__"
   ]
  },
  {
   "cell_type": "code",
   "execution_count": 19,
   "id": "bfba2f31-61cc-4c36-9417-27c04d2ec0d9",
   "metadata": {},
   "outputs": [],
   "source": [
    "class Student(Person):\n",
    "    def __new__(cls, name, major):\n",
    "        print(f\"Student.__new__ with name={name}, major={major}\")\n",
    "        instance = super().__new__(cls, name)  # DO NOT FORGET TO PASS THE NAME TO SUPER()\n",
    "        return instance\n",
    "\n",
    "    def __init__(self, name, major):\n",
    "        print(f\"Student.__init__ with name={name}, major={major}\")\n",
    "        super().__init__(name)\n",
    "        self.major = major"
   ]
  },
  {
   "cell_type": "code",
   "execution_count": 20,
   "id": "154418b0-7753-4eaf-a6a5-aae58e44cac0",
   "metadata": {},
   "outputs": [
    {
     "name": "stdout",
     "output_type": "stream",
     "text": [
      "Student.__new__ with name=Bob, major=Major\n",
      "Person.__new__ with name=Bob\n",
      "Student.__init__ with name=Bob, major=Major\n",
      "Person.__init__ with name=Bob\n"
     ]
    }
   ],
   "source": [
    "s = Student(\"Bob\", \"Major\")"
   ]
  },
  {
   "cell_type": "code",
   "execution_count": 21,
   "id": "33a5d620-5fd8-4c61-bc5d-12bb71549f83",
   "metadata": {},
   "outputs": [
    {
     "data": {
      "text/plain": [
       "{'name': 'Bob', 'major': 'Major'}"
      ]
     },
     "execution_count": 21,
     "metadata": {},
     "output_type": "execute_result"
    }
   ],
   "source": [
    "s.__dict__"
   ]
  },
  {
   "cell_type": "code",
   "execution_count": 22,
   "id": "798d40a6-49e3-49b2-a6e5-465babaae7b4",
   "metadata": {},
   "outputs": [],
   "source": [
    "class Square:\n",
    "    def __new__(cls, w, l):\n",
    "        cls.area = lambda self: self.w * self.l\n",
    "        instance = super().__new__(cls)\n",
    "        return instance\n",
    "\n",
    "    def __init__(self, w, l):\n",
    "        self.w = w\n",
    "        self.l = l\n"
   ]
  },
  {
   "cell_type": "code",
   "execution_count": 23,
   "id": "fdbfaf9f-d76e-417f-a14d-f764bbe101c0",
   "metadata": {},
   "outputs": [
    {
     "data": {
      "text/plain": [
       "{'w': 3, 'l': 4}"
      ]
     },
     "execution_count": 23,
     "metadata": {},
     "output_type": "execute_result"
    }
   ],
   "source": [
    "s = Square(3, 4)\n",
    "s.__dict__"
   ]
  },
  {
   "cell_type": "code",
   "execution_count": 24,
   "id": "e49124f3-6b9d-4fc5-9f79-41d6ddbffa1f",
   "metadata": {},
   "outputs": [
    {
     "data": {
      "text/plain": [
       "12"
      ]
     },
     "execution_count": 24,
     "metadata": {},
     "output_type": "execute_result"
    }
   ],
   "source": [
    "s.area()"
   ]
  },
  {
   "cell_type": "code",
   "execution_count": 25,
   "id": "08f61886-211e-4093-b857-7ebb3cc49394",
   "metadata": {},
   "outputs": [],
   "source": [
    "class Square:\n",
    "    def __new__(cls, w, l):\n",
    "        cls.area = lambda self: self.w * self.l\n",
    "        instance = super().__new__(cls)\n",
    "        instance.w = w\n",
    "        instance.l = l\n",
    "        return instance\n"
   ]
  },
  {
   "cell_type": "code",
   "execution_count": 26,
   "id": "ccab2b19-349e-42b9-a276-81434fc0a2a0",
   "metadata": {},
   "outputs": [
    {
     "data": {
      "text/plain": [
       "{'w': 3, 'l': 4}"
      ]
     },
     "execution_count": 26,
     "metadata": {},
     "output_type": "execute_result"
    }
   ],
   "source": [
    "s = Square(3, 4)\n",
    "s.__dict__"
   ]
  },
  {
   "cell_type": "code",
   "execution_count": 27,
   "id": "f87fb619-a741-44bc-b06c-268441e13069",
   "metadata": {},
   "outputs": [
    {
     "data": {
      "text/plain": [
       "(12, {'w': 3, 'l': 4})"
      ]
     },
     "execution_count": 27,
     "metadata": {},
     "output_type": "execute_result"
    }
   ],
   "source": [
    "s.area(), s.__dict__"
   ]
  },
  {
   "cell_type": "code",
   "execution_count": 28,
   "id": "58a212b2-36f7-484a-80ef-7a4eb6293512",
   "metadata": {},
   "outputs": [
    {
     "data": {
      "text/plain": [
       "({'w': 2, 'l': 8}, 16)"
      ]
     },
     "execution_count": 28,
     "metadata": {},
     "output_type": "execute_result"
    }
   ],
   "source": [
    "# since __new__ is a static method, but it won't call the __init__ automatically\n",
    "s = Square.__new__(Square, 2, 8)\n",
    "s.__dict__, s.area()"
   ]
  },
  {
   "cell_type": "code",
   "execution_count": 29,
   "id": "238bec8f-2f09-4602-974d-d5400587ec27",
   "metadata": {},
   "outputs": [],
   "source": [
    "class Square:\n",
    "    def __new__(cls, w, l):\n",
    "        print(\"__new__ called\")\n",
    "        cls.area = lambda self: self.w * self.l\n",
    "        instance = super().__new__(cls)\n",
    "        return str(w + l)  # if returned type is different than type(cls), then __init__ is not called!\n",
    "\n",
    "    def __init__(self, w, l):\n",
    "        print(\"__init__ called\")\n",
    "        self.w = w\n",
    "        self.l = l\n"
   ]
  },
  {
   "cell_type": "code",
   "execution_count": 30,
   "id": "683003fb-747e-404e-abcb-2cdd20f615cb",
   "metadata": {},
   "outputs": [
    {
     "name": "stdout",
     "output_type": "stream",
     "text": [
      "__new__ called\n"
     ]
    }
   ],
   "source": [
    "s = Square(2, 3)  # __init__ was never called"
   ]
  },
  {
   "cell_type": "code",
   "execution_count": 31,
   "id": "18d89d61-50be-4765-b2ec-df99199cef68",
   "metadata": {},
   "outputs": [
    {
     "data": {
      "text/plain": [
       "str"
      ]
     },
     "execution_count": 31,
     "metadata": {},
     "output_type": "execute_result"
    }
   ],
   "source": [
    "type(s)"
   ]
  },
  {
   "cell_type": "code",
   "execution_count": null,
   "id": "6f970551-f776-4be1-b05d-6a9d02d7d8b8",
   "metadata": {},
   "outputs": [],
   "source": []
  }
 ],
 "metadata": {
  "kernelspec": {
   "display_name": "Python 3 (ipykernel)",
   "language": "python",
   "name": "python3"
  },
  "language_info": {
   "codemirror_mode": {
    "name": "ipython",
    "version": 3
   },
   "file_extension": ".py",
   "mimetype": "text/x-python",
   "name": "python",
   "nbconvert_exporter": "python",
   "pygments_lexer": "ipython3",
   "version": "3.12.3"
  }
 },
 "nbformat": 4,
 "nbformat_minor": 5
}
