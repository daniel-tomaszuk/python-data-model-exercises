{
 "cells": [
  {
   "cell_type": "code",
   "execution_count": 1,
   "id": "6ba6d7af-ffa4-4b8a-9294-5c9a8cb51607",
   "metadata": {},
   "outputs": [],
   "source": [
    "from functools import wraps\n",
    "\n",
    "\n",
    "def func_logger(fn):\n",
    "    @wraps(fn)\n",
    "    def inner(*args, **kwargs):\n",
    "        result = fn(*args, **kwargs)\n",
    "        print(f\"LOG: {fn.__qualname__}({args}{kwargs}) = {result}\")\n",
    "        return result\n",
    "    return inner\n",
    "\n",
    "\n",
    "def class_logger(cls):\n",
    "    for name, obj in vars(cls).items():\n",
    "        if callable(obj):\n",
    "            print(\"decorating\", cls, name)\n",
    "            setattr(cls, name, func_logger(obj))\n",
    "    return cls\n"
   ]
  },
  {
   "cell_type": "code",
   "execution_count": 2,
   "id": "197d4848-32f0-4891-98a7-487e6afb6799",
   "metadata": {},
   "outputs": [
    {
     "name": "stdout",
     "output_type": "stream",
     "text": [
      "decorating <class '__main__.Person'> __init__\n",
      "decorating <class '__main__.Person'> greet\n"
     ]
    }
   ],
   "source": [
    "@class_logger\n",
    "class Person:\n",
    "    def __init__(self, name, age):\n",
    "        self.name = name\n",
    "        self.age = age\n",
    "\n",
    "    def greet(self):\n",
    "        return f\"Hi! My name is {self.name} and I'm {self.age} years old.\""
   ]
  },
  {
   "cell_type": "code",
   "execution_count": 3,
   "id": "42e806c3-fb1b-4d07-8fb3-0f3a9bc4f5ee",
   "metadata": {},
   "outputs": [
    {
     "name": "stdout",
     "output_type": "stream",
     "text": [
      "LOG: Person.__init__((<__main__.Person object at 0x105301ee0>, 'Bob', 10){}) = None\n",
      "LOG: Person.greet((<__main__.Person object at 0x105301ee0>,){}) = Hi! My name is Bob and I'm 10 years old.\n"
     ]
    },
    {
     "data": {
      "text/plain": [
       "\"Hi! My name is Bob and I'm 10 years old.\""
      ]
     },
     "execution_count": 3,
     "metadata": {},
     "output_type": "execute_result"
    }
   ],
   "source": [
    "Person(\"Bob\", 10).greet()"
   ]
  },
  {
   "cell_type": "code",
   "execution_count": 4,
   "id": "1e8dd0e9-3686-4fc4-a31d-8f55fbff73d1",
   "metadata": {},
   "outputs": [],
   "source": [
    "# let's do the same with Metaclasses\n",
    "class ClassLogger(type):\n",
    "    def __new__(mcls, name, bases, class_dict):\n",
    "        cls = super().__new__(mcls, name, bases, class_dict)\n",
    "        for name, obj in cls.__dict__.items():\n",
    "            if callable(obj):\n",
    "                print(\"decorating\", cls, name)\n",
    "                setattr(cls, name, func_logger(obj))\n",
    "        return cls"
   ]
  },
  {
   "cell_type": "code",
   "execution_count": 5,
   "id": "d3309753-b549-423b-b00e-181362b8538c",
   "metadata": {},
   "outputs": [
    {
     "name": "stdout",
     "output_type": "stream",
     "text": [
      "decorating <class '__main__.Person'> __init__\n",
      "decorating <class '__main__.Person'> greet\n"
     ]
    }
   ],
   "source": [
    "class Person(metaclass=ClassLogger):\n",
    "    def __init__(self, name, age):\n",
    "        self.name = name\n",
    "        self.age = age\n",
    "\n",
    "    def greet(self):\n",
    "        return f\"Hi! My name is {self.name} and I'm {self.age} years old.\""
   ]
  },
  {
   "cell_type": "code",
   "execution_count": 6,
   "id": "e7af8e1d-71e4-4add-b491-507b831635ae",
   "metadata": {},
   "outputs": [
    {
     "name": "stdout",
     "output_type": "stream",
     "text": [
      "LOG: Person.__init__((<__main__.Person object at 0x10532cb00>, 'Bob', 34){}) = None\n"
     ]
    }
   ],
   "source": [
    "p = Person(\"Bob\", 34)"
   ]
  },
  {
   "cell_type": "code",
   "execution_count": 7,
   "id": "a6744176-2576-4d9a-9426-10fd00e03249",
   "metadata": {},
   "outputs": [
    {
     "name": "stdout",
     "output_type": "stream",
     "text": [
      "LOG: Person.greet((<__main__.Person object at 0x10532cb00>,){}) = Hi! My name is Bob and I'm 34 years old.\n"
     ]
    },
    {
     "data": {
      "text/plain": [
       "\"Hi! My name is Bob and I'm 34 years old.\""
      ]
     },
     "execution_count": 7,
     "metadata": {},
     "output_type": "execute_result"
    }
   ],
   "source": [
    "p.greet()"
   ]
  },
  {
   "cell_type": "code",
   "execution_count": 8,
   "id": "e3361049-9836-4988-b229-997b331a67ce",
   "metadata": {},
   "outputs": [
    {
     "name": "stdout",
     "output_type": "stream",
     "text": [
      "decorating <class '__main__.Person'> __init__\n",
      "decorating <class '__main__.Person'> greet\n"
     ]
    }
   ],
   "source": [
    "@class_logger\n",
    "class Person:\n",
    "    def __init__(self, name, age):\n",
    "        self.name = name\n",
    "        self.age = age\n",
    "    \n",
    "    def greet(self):\n",
    "        return f\"Hi! My name is {self.name} and I'm {self.age} years old.\"\n",
    "\n",
    "\n",
    "class Student(Person):\n",
    "    def __init__(self, name, age, student_number):\n",
    "        super().__init__(name, age)\n",
    "        self.student_number = student_number\n",
    "\n",
    "    def study(self):\n",
    "        # new method that won't be decorated\n",
    "        return f\"{self.name} studies!\"\n"
   ]
  },
  {
   "cell_type": "code",
   "execution_count": 9,
   "id": "736551d5-ce2e-4e4c-971a-a292a7fe230a",
   "metadata": {},
   "outputs": [
    {
     "name": "stdout",
     "output_type": "stream",
     "text": [
      "LOG: Person.__init__((<__main__.Student object at 0x10532dd30>, 'Alex', 22){}) = None\n"
     ]
    }
   ],
   "source": [
    "s = Student(\"Alex\", 22, \"A12345\")"
   ]
  },
  {
   "cell_type": "code",
   "execution_count": 10,
   "id": "a0e3c10c-d3b7-4d6d-9026-adb86f238051",
   "metadata": {},
   "outputs": [
    {
     "name": "stdout",
     "output_type": "stream",
     "text": [
      "LOG: Person.greet((<__main__.Student object at 0x10532dd30>,){}) = Hi! My name is Alex and I'm 22 years old.\n"
     ]
    },
    {
     "data": {
      "text/plain": [
       "\"Hi! My name is Alex and I'm 22 years old.\""
      ]
     },
     "execution_count": 10,
     "metadata": {},
     "output_type": "execute_result"
    }
   ],
   "source": [
    "s.greet()"
   ]
  },
  {
   "cell_type": "code",
   "execution_count": 11,
   "id": "e6c126c9-1ef6-4e88-add3-ed84eefff610",
   "metadata": {},
   "outputs": [
    {
     "data": {
      "text/plain": [
       "'Alex studies!'"
      ]
     },
     "execution_count": 11,
     "metadata": {},
     "output_type": "execute_result"
    }
   ],
   "source": [
    "s.study()  # no decorator here"
   ]
  },
  {
   "cell_type": "code",
   "execution_count": 12,
   "id": "58ecb1aa-2bbb-4546-908b-3c6ae17acbd1",
   "metadata": {},
   "outputs": [],
   "source": [
    "class Student(Person):\n",
    "    def __init__(self, name, age, student_number):\n",
    "        super().__init__(name, age)\n",
    "        self.student_number = student_number\n",
    "\n",
    "    def greet(self):\n",
    "        # overwrites old `greet` - is not decorated\n",
    "        return f\"{self.name} sends greetings!\"\n"
   ]
  },
  {
   "cell_type": "code",
   "execution_count": 13,
   "id": "7c31c5e4-a290-4612-bf90-5c62e18177dd",
   "metadata": {},
   "outputs": [
    {
     "name": "stdout",
     "output_type": "stream",
     "text": [
      "LOG: Person.__init__((<__main__.Student object at 0x10532db50>, 'Bob', 52){}) = None\n"
     ]
    },
    {
     "data": {
      "text/plain": [
       "'Bob sends greetings!'"
      ]
     },
     "execution_count": 13,
     "metadata": {},
     "output_type": "execute_result"
    }
   ],
   "source": [
    "s = Student(\"Bob\", 52, \"S2132\")\n",
    "s.greet()"
   ]
  },
  {
   "cell_type": "code",
   "execution_count": 14,
   "id": "334e3fde-96e2-4114-8d88-122604f4f0e0",
   "metadata": {},
   "outputs": [
    {
     "name": "stdout",
     "output_type": "stream",
     "text": [
      "decorating <class '__main__.Person'> __init__\n",
      "decorating <class '__main__.Person'> greet\n",
      "decorating <class '__main__.Student'> __init__\n",
      "decorating <class '__main__.Student'> greet\n"
     ]
    }
   ],
   "source": [
    "class Person(metaclass=ClassLogger):\n",
    "    def __init__(self, name, age):\n",
    "        self.name = name\n",
    "        self.age = age\n",
    "\n",
    "    def greet(self):\n",
    "        return f\"Hi! My name is {self.name} and I'm {self.age} years old.\"\n",
    "\n",
    "\n",
    "# metaclass is being inherited all the way down\n",
    "class Student(Person):\n",
    "    def __init__(self, name, age, student_number):\n",
    "        super().__init__(name, age)\n",
    "        self.student_number = student_number\n",
    "\n",
    "    def greet(self):\n",
    "        return f\"{self.name} sends greetings!\"\n"
   ]
  },
  {
   "cell_type": "code",
   "execution_count": 15,
   "id": "9324a3be-7280-49bc-919e-f798243954d6",
   "metadata": {},
   "outputs": [
    {
     "name": "stdout",
     "output_type": "stream",
     "text": [
      "LOG: Person.__init__((<__main__.Student object at 0x10532f020>, 'John', 23){}) = None\n",
      "LOG: Student.__init__((<__main__.Student object at 0x10532f020>, 'John', 23, 'C9321'){}) = None\n",
      "LOG: Student.greet((<__main__.Student object at 0x10532f020>,){}) = John sends greetings!\n"
     ]
    },
    {
     "data": {
      "text/plain": [
       "'John sends greetings!'"
      ]
     },
     "execution_count": 15,
     "metadata": {},
     "output_type": "execute_result"
    }
   ],
   "source": [
    "# metaclasses \n",
    "s = Student(\"John\", 23, \"C9321\")\n",
    "s.greet()"
   ]
  },
  {
   "cell_type": "code",
   "execution_count": null,
   "id": "0ce75d2c-8297-4f1b-9646-d004a6769ad3",
   "metadata": {},
   "outputs": [],
   "source": []
  }
 ],
 "metadata": {
  "kernelspec": {
   "display_name": "Python 3 (ipykernel)",
   "language": "python",
   "name": "python3"
  },
  "language_info": {
   "codemirror_mode": {
    "name": "ipython",
    "version": 3
   },
   "file_extension": ".py",
   "mimetype": "text/x-python",
   "name": "python",
   "nbconvert_exporter": "python",
   "pygments_lexer": "ipython3",
   "version": "3.12.3"
  }
 },
 "nbformat": 4,
 "nbformat_minor": 5
}
