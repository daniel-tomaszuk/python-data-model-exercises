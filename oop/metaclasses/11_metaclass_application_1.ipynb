{
 "cells": [
  {
   "cell_type": "code",
   "execution_count": 1,
   "id": "058c633e-f085-4d87-ba27-8e22de5ef183",
   "metadata": {},
   "outputs": [],
   "source": [
    "# would like to have a way of creating __slots__, properties, additional methods for each class\n",
    "# properties and slots are will be created for fields in _fields\n",
    "\n",
    "class Point2D:\n",
    "    _fields = [\"x\", \"y\"]\n",
    "\n",
    "    def __init__(self, x, y):\n",
    "        self._x = x\n",
    "        self._y = y\n",
    "\n",
    "\n",
    "class Point3D:\n",
    "    _fields = [\"x\", \"y\", \"z\"]\n",
    "\n",
    "    def __init__(self, x, y, z):\n",
    "        self._x = x\n",
    "        self._y = y\n",
    "        self._z = z\n"
   ]
  },
  {
   "cell_type": "code",
   "execution_count": 2,
   "id": "7912a5f2-1b0b-48fb-b1ea-76665b2a2047",
   "metadata": {},
   "outputs": [],
   "source": [
    "class SlottedStruct(type):\n",
    "    def __new__(mcls, name, bases, cls_dict):\n",
    "        cls_object = super().__new__(mcls, name, bases, cls_dict)\n",
    "        # __slots__\n",
    "        setattr(cls_object, \"__slots__\", [f\"_{field}\" for field in cls_object._fields])\n",
    "\n",
    "        # read-only properties\n",
    "        for field in cls_object._fields:\n",
    "            slot = f\"_{field}\"\n",
    "            # one way of setting the properties\n",
    "            # lambda is a closure - it will share `slot` with every lambda instance\n",
    "            # and will have the same `slot` value (last slot from the loop) for each lambda \n",
    "            # setattr(cls_object, field, property(fget=lambda self: getattr(self, slot)))\n",
    "\n",
    "            # instead value of `slot` should be calculated when lambda is being created\n",
    "            # if we set a default for each lambda, it will not change later\n",
    "            setattr(cls_object, field, property(fget=lambda self, slot_name=slot: getattr(self, slot_name)))\n",
    "\n",
    "        return cls_object"
   ]
  },
  {
   "cell_type": "code",
   "execution_count": 3,
   "id": "dd8d63c5-06e0-4fce-9199-686fe71e2f0b",
   "metadata": {},
   "outputs": [],
   "source": [
    "class Person(metaclass=SlottedStruct):\n",
    "    _fields = [\"name\", \"age\"]\n",
    "    def __init__(self, name, age):\n",
    "        self._name = name\n",
    "        self._age = age\n"
   ]
  },
  {
   "cell_type": "code",
   "execution_count": 4,
   "id": "ebf317bd-cd87-4d89-bc99-9c0bc33983db",
   "metadata": {},
   "outputs": [
    {
     "data": {
      "text/plain": [
       "mappingproxy({'__module__': '__main__',\n",
       "              '_fields': ['name', 'age'],\n",
       "              '__init__': <function __main__.Person.__init__(self, name, age)>,\n",
       "              '__dict__': <attribute '__dict__' of 'Person' objects>,\n",
       "              '__weakref__': <attribute '__weakref__' of 'Person' objects>,\n",
       "              '__doc__': None,\n",
       "              '__slots__': ['_name', '_age'],\n",
       "              'name': <property at 0x1121871a0>,\n",
       "              'age': <property at 0x1121871f0>})"
      ]
     },
     "execution_count": 4,
     "metadata": {},
     "output_type": "execute_result"
    }
   ],
   "source": [
    "Person.__dict__"
   ]
  },
  {
   "cell_type": "code",
   "execution_count": 5,
   "id": "a2a557f9-2863-4e91-a73c-eacc0d7b7ed5",
   "metadata": {},
   "outputs": [
    {
     "data": {
      "text/plain": [
       "{'_name': 'Bob', '_age': 33}"
      ]
     },
     "execution_count": 5,
     "metadata": {},
     "output_type": "execute_result"
    }
   ],
   "source": [
    "p = Person(\"Bob\", 33)\n",
    "p.__dict__"
   ]
  },
  {
   "cell_type": "code",
   "execution_count": 6,
   "id": "873d7909-d876-4525-bd07-b9737593686d",
   "metadata": {},
   "outputs": [
    {
     "data": {
      "text/plain": [
       "('Bob', 33)"
      ]
     },
     "execution_count": 6,
     "metadata": {},
     "output_type": "execute_result"
    }
   ],
   "source": [
    "p.name, p.age"
   ]
  },
  {
   "cell_type": "code",
   "execution_count": 7,
   "id": "64037ccf-1b73-42d7-b044-bd03f34269a7",
   "metadata": {},
   "outputs": [
    {
     "name": "stdout",
     "output_type": "stream",
     "text": [
      "property of 'Person' object has no setter\n"
     ]
    }
   ],
   "source": [
    "try:\n",
    "    p.name = \"John\"\n",
    "except AttributeError as e:\n",
    "    print(e)"
   ]
  },
  {
   "cell_type": "code",
   "execution_count": 8,
   "id": "afa9f2b7-c922-49f2-ae5a-145612c0211b",
   "metadata": {},
   "outputs": [],
   "source": [
    "class SlottedStruct(type):\n",
    "    def __new__(mcls, name, bases, cls_dict):\n",
    "        cls_object = super().__new__(mcls, name, bases, cls_dict)\n",
    "\n",
    "        # __slots__\n",
    "        setattr(cls_object, \"__slots__\", [f\"_{field}\" for field in cls_object._fields])\n",
    "\n",
    "        # read-only properties\n",
    "        for field in cls_object._fields:\n",
    "            slot = f\"_{field}\"\n",
    "            setattr(cls_object, field, property(fget=lambda self, slot_name=slot: getattr(self, slot_name)))\n",
    "\n",
    "        # these functions below are closures!\n",
    "        \n",
    "        # __eq__\n",
    "        def eq(self, other):\n",
    "            if isinstance(other, cls_object):\n",
    "                self_fields = [getattr(self, field) for field in cls_object._fields]\n",
    "                other_fields = [getattr(other, field) for field in cls_object._fields]\n",
    "                return self_fields == other_fields\n",
    "            return False\n",
    "        setattr(cls_object, \"__eq__\", eq)\n",
    "\n",
    "        # __hash__\n",
    "        def hash_(self):\n",
    "            # using tuple, as lists are not hashable\n",
    "            self_fields = tuple(getattr(self, field) for field in cls_object._fields)\n",
    "            return hash(self_fields)\n",
    "        setattr(cls_object, \"__hash__\", hash_)\n",
    "\n",
    "        # __str__\n",
    "        def str_(self):\n",
    "            self_fields = [getattr(self, field) for field in cls_object._fields]\n",
    "            fields_values = \", \".join(str(field) for field in self_fields)\n",
    "            return f\"{cls_object.__name__}({fields_values})\"\n",
    "        setattr(cls_object, \"__str__\", str_)\n",
    "\n",
    "        # __repr__ - uses `self` instead of `cls_object` - works as well\n",
    "        def repr_(self):\n",
    "            fields_values = \", \".join(f\"{field}={getattr(self, field)}\" for field in self._fields)\n",
    "            return f\"{self.__class__.__name__}({fields_values})\"\n",
    "        setattr(cls_object, \"__repr__\", repr_)\n",
    "\n",
    "        return cls_object\n",
    "\n"
   ]
  },
  {
   "cell_type": "code",
   "execution_count": 9,
   "id": "72448ee2-e1dc-4ce8-bfd9-ea67ad1d3944",
   "metadata": {},
   "outputs": [],
   "source": [
    "class Person(metaclass=SlottedStruct):\n",
    "    _fields = [\"name\"]\n",
    "\n",
    "    def __init__(self, name):\n",
    "        self._name = name\n"
   ]
  },
  {
   "cell_type": "code",
   "execution_count": 10,
   "id": "a73d0158-ff3d-4809-aa98-cf4a52339be2",
   "metadata": {},
   "outputs": [
    {
     "data": {
      "text/plain": [
       "mappingproxy({'__module__': '__main__',\n",
       "              '_fields': ['name'],\n",
       "              '__init__': <function __main__.Person.__init__(self, name)>,\n",
       "              '__dict__': <attribute '__dict__' of 'Person' objects>,\n",
       "              '__weakref__': <attribute '__weakref__' of 'Person' objects>,\n",
       "              '__doc__': None,\n",
       "              '__slots__': ['_name'],\n",
       "              'name': <property at 0x112187330>,\n",
       "              '__eq__': <function __main__.SlottedStruct.__new__.<locals>.eq(self, other)>,\n",
       "              '__hash__': <function __main__.SlottedStruct.__new__.<locals>.hash_(self)>,\n",
       "              '__str__': <function __main__.SlottedStruct.__new__.<locals>.str_(self)>,\n",
       "              '__repr__': <function __main__.SlottedStruct.__new__.<locals>.repr_(self)>})"
      ]
     },
     "execution_count": 10,
     "metadata": {},
     "output_type": "execute_result"
    }
   ],
   "source": [
    "Person.__dict__"
   ]
  },
  {
   "cell_type": "code",
   "execution_count": 11,
   "id": "f65ff7e9-2ba5-41de-80b0-ec609874884b",
   "metadata": {},
   "outputs": [
    {
     "data": {
      "text/plain": [
       "(False, True, True, True)"
      ]
     },
     "execution_count": 11,
     "metadata": {},
     "output_type": "execute_result"
    }
   ],
   "source": [
    "p1 = Person(\"Bob\")\n",
    "p2 = Person(\"Bob\")\n",
    "p1 is p2, p1 == p2, isinstance(p1, Person), isinstance(p2, Person)"
   ]
  },
  {
   "cell_type": "code",
   "execution_count": 12,
   "id": "59d3d55d-5804-4161-9d08-f35b59ceef4f",
   "metadata": {},
   "outputs": [
    {
     "data": {
      "text/plain": [
       "True"
      ]
     },
     "execution_count": 12,
     "metadata": {},
     "output_type": "execute_result"
    }
   ],
   "source": [
    "hash(p1) == hash(p2)"
   ]
  },
  {
   "cell_type": "code",
   "execution_count": 13,
   "id": "a4ee321c-51ab-4b0d-87b0-f4182c1ddab3",
   "metadata": {},
   "outputs": [
    {
     "data": {
      "text/plain": [
       "('Person(Bob)', 'Person(name=Bob)')"
      ]
     },
     "execution_count": 13,
     "metadata": {},
     "output_type": "execute_result"
    }
   ],
   "source": [
    "str(p1), repr(p1)"
   ]
  },
  {
   "cell_type": "code",
   "execution_count": 14,
   "id": "74d9dbec-2fcd-43b2-b1a7-ed48ee7b5174",
   "metadata": {},
   "outputs": [
    {
     "data": {
      "text/plain": [
       "('Bob', 'Alex')"
      ]
     },
     "execution_count": 14,
     "metadata": {},
     "output_type": "execute_result"
    }
   ],
   "source": [
    "p3 = Person(\"Alex\")\n",
    "p2.name, p3.name"
   ]
  },
  {
   "cell_type": "code",
   "execution_count": 15,
   "id": "2b892b7f-2eba-4d22-97e6-0b1ec7501e52",
   "metadata": {},
   "outputs": [],
   "source": [
    "# now we don't need to define properties etc\n",
    "# it's also possible to inherit it\n",
    "\n",
    "class Point2D(metaclass=SlottedStruct):\n",
    "    _fields = [\"x\", \"y\"]\n",
    "\n",
    "    def __init__(self, x, y):\n",
    "        self._x = x\n",
    "        self._y = y\n",
    "\n",
    "\n",
    "class Point3D(metaclass=SlottedStruct):\n",
    "    _fields = [\"x\", \"y\", \"z\"]\n",
    "\n",
    "    def __init__(self, x, y, z):\n",
    "        self._x = x\n",
    "        self._y = y\n",
    "        self._z = z"
   ]
  },
  {
   "cell_type": "code",
   "execution_count": 16,
   "id": "387a30d3-29fd-489a-b1b6-5c06e46f5799",
   "metadata": {},
   "outputs": [
    {
     "data": {
      "text/plain": [
       "('Point2D(x=1, y=1)',\n",
       " 'Point2D(1, 1)',\n",
       " 'Point3D(x=3, y=4, z=5)',\n",
       " 'Point3D(3, 4, 5)',\n",
       " method)"
      ]
     },
     "execution_count": 16,
     "metadata": {},
     "output_type": "execute_result"
    }
   ],
   "source": [
    "p1 = Point2D(1, 1)\n",
    "p2 = Point2D(2, 3)\n",
    "p3 = Point3D(3, 4, 5)\n",
    "\n",
    "repr(p1), str(p1), repr(p3), str(p3), type(p3.__eq__)"
   ]
  },
  {
   "cell_type": "code",
   "execution_count": 17,
   "id": "ef78a9c3-66cd-421b-96b5-c113422321f2",
   "metadata": {},
   "outputs": [
    {
     "data": {
      "text/plain": [
       "(False, False)"
      ]
     },
     "execution_count": 17,
     "metadata": {},
     "output_type": "execute_result"
    }
   ],
   "source": [
    "p1 == p2, p2 == p3"
   ]
  },
  {
   "cell_type": "code",
   "execution_count": 18,
   "id": "e322b005-d0fd-4982-bdfd-4883befd9482",
   "metadata": {},
   "outputs": [
    {
     "data": {
      "text/plain": [
       "('Point2D',\n",
       " (object,),\n",
       " mappingproxy({'__module__': '__main__',\n",
       "               '_fields': ['x', 'y'],\n",
       "               '__init__': <function __main__.Point2D.__init__(self, x, y)>,\n",
       "               '__dict__': <attribute '__dict__' of 'Point2D' objects>,\n",
       "               '__weakref__': <attribute '__weakref__' of 'Point2D' objects>,\n",
       "               '__doc__': None,\n",
       "               '__slots__': ['_x', '_y'],\n",
       "               'x': <property at 0x1121b4d60>,\n",
       "               'y': <property at 0x1121b4d10>,\n",
       "               '__eq__': <function __main__.SlottedStruct.__new__.<locals>.eq(self, other)>,\n",
       "               '__hash__': <function __main__.SlottedStruct.__new__.<locals>.hash_(self)>,\n",
       "               '__str__': <function __main__.SlottedStruct.__new__.<locals>.str_(self)>,\n",
       "               '__repr__': <function __main__.SlottedStruct.__new__.<locals>.repr_(self)>}))"
      ]
     },
     "execution_count": 18,
     "metadata": {},
     "output_type": "execute_result"
    }
   ],
   "source": [
    "Point2D.__name__, Point2D.__bases__, Point2D.__dict__"
   ]
  },
  {
   "cell_type": "code",
   "execution_count": 19,
   "id": "4b28d9fd-ab03-4b1f-b81f-b8759214d986",
   "metadata": {},
   "outputs": [],
   "source": [
    "def struct(cls):\n",
    "    \"\"\"\n",
    "    Class decorator to use the metaclass.\n",
    "    Remember how decorators work:\n",
    "    cls = struct(cls)  # now cls is an instance of our metaclass, which is a regular class!\n",
    "    \"\"\"\n",
    "    return SlottedStruct(cls.__name__, cls.__bases__, dict(cls.__dict__))  # instance of a metaclass, which is a regular class!\n",
    "\n",
    "\n",
    "@struct\n",
    "class Point2D:\n",
    "    _fields = [\"x\", \"y\"]  # dataclass could be used instead\n",
    "\n",
    "    def __init__(self, x, y):\n",
    "        self._x = x\n",
    "        self._y = y\n",
    "\n",
    "\n",
    "@struct\n",
    "class Point3D:\n",
    "    _fields = [\"x\", \"y\", \"z\"]\n",
    "\n",
    "    def __init__(self, x, y, z):\n",
    "        self._x = x\n",
    "        self._y = y\n",
    "        self._z = z\n",
    "\n"
   ]
  },
  {
   "cell_type": "code",
   "execution_count": 20,
   "id": "b295af9f-849c-41fd-963c-24dffa3b1acc",
   "metadata": {},
   "outputs": [
    {
     "data": {
      "text/plain": [
       "('Point2D(x=1, y=1)',\n",
       " 'Point2D(1, 1)',\n",
       " 'Point3D(x=3, y=4, z=5)',\n",
       " 'Point3D(3, 4, 5)')"
      ]
     },
     "execution_count": 20,
     "metadata": {},
     "output_type": "execute_result"
    }
   ],
   "source": [
    "p1 = Point2D(1, 1)\n",
    "p2 = Point2D(2, 3)\n",
    "p3 = Point3D(3, 4, 5)\n",
    "\n",
    "repr(p1), str(p1), repr(p3), str(p3)"
   ]
  },
  {
   "cell_type": "code",
   "execution_count": 21,
   "id": "789dd1db-a9c0-4eaa-ac58-6d3656d96de8",
   "metadata": {},
   "outputs": [
    {
     "data": {
      "text/plain": [
       "['_x', '_y']"
      ]
     },
     "execution_count": 21,
     "metadata": {},
     "output_type": "execute_result"
    }
   ],
   "source": [
    "p1.__slots__"
   ]
  },
  {
   "cell_type": "code",
   "execution_count": 22,
   "id": "faf1fe98-1c43-4a89-b5f4-da5de279797d",
   "metadata": {},
   "outputs": [
    {
     "name": "stdout",
     "output_type": "stream",
     "text": [
      "descriptor '__dict__' for 'Point2D' objects doesn't apply to a 'Point2D' object\n"
     ]
    }
   ],
   "source": [
    "try:\n",
    "    p1.__dict__  # __slots__ are used just as defined inside the metaclass\n",
    "except TypeError as e:\n",
    "    print(e)"
   ]
  },
  {
   "cell_type": "code",
   "execution_count": null,
   "id": "3530cf7b-ea7a-4f91-a1b3-8c062f141477",
   "metadata": {},
   "outputs": [],
   "source": []
  }
 ],
 "metadata": {
  "kernelspec": {
   "display_name": "Python 3 (ipykernel)",
   "language": "python",
   "name": "python3"
  },
  "language_info": {
   "codemirror_mode": {
    "name": "ipython",
    "version": 3
   },
   "file_extension": ".py",
   "mimetype": "text/x-python",
   "name": "python",
   "nbconvert_exporter": "python",
   "pygments_lexer": "ipython3",
   "version": "3.12.3"
  }
 },
 "nbformat": 4,
 "nbformat_minor": 5
}
