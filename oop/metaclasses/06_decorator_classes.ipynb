{
 "cells": [
  {
   "cell_type": "code",
   "execution_count": 13,
   "id": "3729a486-6909-44ea-99d9-7fa27c6172b9",
   "metadata": {},
   "outputs": [],
   "source": [
    "# decorator class is a class that can be used as a decorator\n",
    "\n",
    "from functools import wraps\n",
    "\n",
    "def logger(fn):\n",
    "    @wraps(fn)\n",
    "    def inner(*args, **kwargs):\n",
    "        print(f\"log {fn.__name__} called...\")\n",
    "        return fn(*args, **kwargs)\n",
    "    return inner\n",
    "\n",
    "\n",
    "@logger\n",
    "def say_hello():\n",
    "    pass"
   ]
  },
  {
   "cell_type": "code",
   "execution_count": 14,
   "id": "b862be69-d7fe-43d5-9873-72917fcebb7c",
   "metadata": {},
   "outputs": [
    {
     "name": "stdout",
     "output_type": "stream",
     "text": [
      "log say_hello called...\n"
     ]
    }
   ],
   "source": [
    "say_hello()"
   ]
  },
  {
   "cell_type": "code",
   "execution_count": 15,
   "id": "b3cd246e-1f4e-4a87-b9b7-1dde1e378e22",
   "metadata": {},
   "outputs": [
    {
     "name": "stdout",
     "output_type": "stream",
     "text": [
      "Help on function say_hello in module __main__:\n",
      "\n",
      "say_hello()\n",
      "\n"
     ]
    }
   ],
   "source": [
    "help(say_hello)"
   ]
  },
  {
   "cell_type": "code",
   "execution_count": 22,
   "id": "55ae031f-0ad3-4031-bc3c-20308780c5d0",
   "metadata": {},
   "outputs": [],
   "source": [
    "class Logger:\n",
    "    \"\"\"\n",
    "    Class that can be used as a decorator.\n",
    "    Using it as such will cause decorated function to be an instance\n",
    "    of a decorator. That means that this instance should be in line \n",
    "    with decorators interface - should be callable and implement\n",
    "    non data descriptor interface __get__ method.\n",
    "    \"\"\"\n",
    "    def __init__(self, fn):\n",
    "        self.fn = fn\n",
    "\n",
    "    def __call__(self, *args, **kwargs):\n",
    "        print(f\"__call__ called for {self.fn}\")\n",
    "        return self.fn(*args, **kwargs)\n",
    "\n",
    "    # commented out for now\n",
    "    # def __get__(self, *args, **kwargs):\n",
    "    #     pass\n"
   ]
  },
  {
   "cell_type": "code",
   "execution_count": 23,
   "id": "5f8698e3-f5a3-46c0-8798-e57419423f85",
   "metadata": {},
   "outputs": [
    {
     "name": "stdout",
     "output_type": "stream",
     "text": [
      "__call__ called for <function say_hello at 0x105cf2020>\n"
     ]
    }
   ],
   "source": [
    "def say_hello():\n",
    "    pass\n",
    "\n",
    "f = Logger(say_hello)  # f is an instance of the Logger class\n",
    "f()"
   ]
  },
  {
   "cell_type": "code",
   "execution_count": 24,
   "id": "c149b05a-2cf1-4de7-9eaf-e97d870b622f",
   "metadata": {},
   "outputs": [
    {
     "name": "stdout",
     "output_type": "stream",
     "text": [
      "__call__ called for <function say_hello at 0x105cf1e40>\n"
     ]
    },
    {
     "data": {
      "text/plain": [
       "'hello'"
      ]
     },
     "execution_count": 24,
     "metadata": {},
     "output_type": "execute_result"
    }
   ],
   "source": [
    "@Logger\n",
    "def say_hello():\n",
    "    return \"hello\"\n",
    "\n",
    "say_hello()"
   ]
  },
  {
   "cell_type": "code",
   "execution_count": 25,
   "id": "2c1c1317-a1e9-471a-9349-26c456494793",
   "metadata": {},
   "outputs": [
    {
     "data": {
      "text/plain": [
       "(__main__.Logger, True)"
      ]
     },
     "execution_count": 25,
     "metadata": {},
     "output_type": "execute_result"
    }
   ],
   "source": [
    "type(say_hello), isinstance(say_hello, Logger)"
   ]
  },
  {
   "cell_type": "code",
   "execution_count": 26,
   "id": "07ba2a0d-b754-4ad4-b8ae-0d194e641f80",
   "metadata": {},
   "outputs": [],
   "source": [
    "class Person:\n",
    "    def __init__(self, name):\n",
    "        self.name = name\n",
    "\n",
    "    @Logger\n",
    "    def say_hello(self):\n",
    "        return f\"{self.name} says hi!\"\n"
   ]
  },
  {
   "cell_type": "code",
   "execution_count": 31,
   "id": "c0a852e5-0dcc-40f5-b800-5cea6bdf06b4",
   "metadata": {},
   "outputs": [
    {
     "name": "stdout",
     "output_type": "stream",
     "text": [
      "<class '__main__.Logger'>\n",
      "__call__ called for <function Person.say_hello at 0x105cf2340>\n",
      "Person.say_hello() missing 1 required positional argument: 'self'\n"
     ]
    }
   ],
   "source": [
    "p = Person(\"Bob\")\n",
    "print(type(p.say_hello))  # it's not a method now! so self won't be passeed\n",
    "try:\n",
    "    p.say_hello()\n",
    "except TypeError as e:\n",
    "    print(e)"
   ]
  },
  {
   "cell_type": "code",
   "execution_count": 50,
   "id": "09c6c132-3a0e-4613-a5aa-b530bcc315b5",
   "metadata": {},
   "outputs": [],
   "source": [
    "from types import MethodType\n",
    "\n",
    "\n",
    "class Logger:\n",
    "    \"\"\"\n",
    "        We need to implement __get__ method ourselfs.\n",
    "        In addition, we need to bound decorated function to an instance,\n",
    "        so we need to create a method!\n",
    "    \"\"\"\n",
    "    def __init__(self, fn):\n",
    "        self.fn = fn\n",
    "\n",
    "    def __call__(self, *args, **kwargs):\n",
    "        print(f\"Logger: __call__ called for {self.fn}\")\n",
    "        return self.fn(*args, **kwargs)\n",
    "\n",
    "    def __get__(self, instance, owner_class):\n",
    "        # implements non data descriptor\n",
    "        print(f\"__get__ called self={self}, instance={instance}\")\n",
    "        if instance is None:\n",
    "            print(\"rerturning self unbound\")\n",
    "            return self\n",
    "        print(f\"returning self as a method bound to an instance\")\n",
    "        # bounds `self` (instance of a Logger that is callable) \n",
    "        # to the class instance of a method that is being decorated\n",
    "        return MethodType(self, instance)\n"
   ]
  },
  {
   "cell_type": "code",
   "execution_count": 51,
   "id": "25356208-674b-4ca6-b77d-be79a367ffb5",
   "metadata": {},
   "outputs": [],
   "source": [
    "class Person:\n",
    "    def __init__(self, name):\n",
    "        self.name = name\n",
    "\n",
    "    @Logger\n",
    "    def say_hello(self):\n",
    "        return f\"{self.name} says hello!\"\n"
   ]
  },
  {
   "cell_type": "code",
   "execution_count": 52,
   "id": "b777d6c0-1b29-4fc6-bec0-770d8945c1b3",
   "metadata": {},
   "outputs": [
    {
     "data": {
      "text/plain": [
       "{'name': 'Bob'}"
      ]
     },
     "execution_count": 52,
     "metadata": {},
     "output_type": "execute_result"
    }
   ],
   "source": [
    "p = Person(\"Bob\")\n",
    "p.__dict__"
   ]
  },
  {
   "cell_type": "code",
   "execution_count": 53,
   "id": "a59dff74-0ca8-42cf-9438-b1d01ff32d8f",
   "metadata": {},
   "outputs": [
    {
     "name": "stdout",
     "output_type": "stream",
     "text": [
      "__get__ called self=<__main__.Logger object at 0x105867b90>, instance=None\n",
      "rerturning self unbound\n"
     ]
    },
    {
     "data": {
      "text/plain": [
       "<__main__.Logger at 0x105867b90>"
      ]
     },
     "execution_count": 53,
     "metadata": {},
     "output_type": "execute_result"
    }
   ],
   "source": [
    "Person.say_hello"
   ]
  },
  {
   "cell_type": "code",
   "execution_count": 54,
   "id": "c1bc0952-0ca2-4985-9fee-306dbe679f7f",
   "metadata": {},
   "outputs": [
    {
     "name": "stdout",
     "output_type": "stream",
     "text": [
      "__get__ called self=<__main__.Logger object at 0x105867b90>, instance=<__main__.Person object at 0x1058641d0>\n",
      "returning self as a method bound to an instance\n"
     ]
    },
    {
     "data": {
      "text/plain": [
       "<bound method ? of <__main__.Person object at 0x1058641d0>>"
      ]
     },
     "execution_count": 54,
     "metadata": {},
     "output_type": "execute_result"
    }
   ],
   "source": [
    "p.say_hello"
   ]
  },
  {
   "cell_type": "code",
   "execution_count": 55,
   "id": "3a8abf5a-a990-49d5-8a76-832f94f3c62f",
   "metadata": {},
   "outputs": [
    {
     "name": "stdout",
     "output_type": "stream",
     "text": [
      "__get__ called self=<__main__.Logger object at 0x105867b90>, instance=<__main__.Person object at 0x1058641d0>\n",
      "returning self as a method bound to an instance\n",
      "Logger: __call__ called for <function Person.say_hello at 0x105cf3380>\n"
     ]
    },
    {
     "data": {
      "text/plain": [
       "'Bob says hello!'"
      ]
     },
     "execution_count": 55,
     "metadata": {},
     "output_type": "execute_result"
    }
   ],
   "source": [
    "p.say_hello()"
   ]
  },
  {
   "cell_type": "code",
   "execution_count": 56,
   "id": "796f41d0-4349-48c2-89bd-83317b29dd6c",
   "metadata": {},
   "outputs": [],
   "source": [
    "@Logger\n",
    "def say_bye():\n",
    "    pass\n"
   ]
  },
  {
   "cell_type": "code",
   "execution_count": 57,
   "id": "b8da4209-dc2f-4e56-b533-2c93ff5b050b",
   "metadata": {},
   "outputs": [
    {
     "data": {
      "text/plain": [
       "__main__.Logger"
      ]
     },
     "execution_count": 57,
     "metadata": {},
     "output_type": "execute_result"
    }
   ],
   "source": [
    "type(say_bye)"
   ]
  },
  {
   "cell_type": "code",
   "execution_count": 59,
   "id": "14bd1811-73a8-484a-90dd-d60df2336af1",
   "metadata": {},
   "outputs": [
    {
     "name": "stdout",
     "output_type": "stream",
     "text": [
      "Logger: __call__ called for <function say_bye at 0x105cf13a0>\n"
     ]
    }
   ],
   "source": [
    "say_bye()  # also works, because Python isn't looking for a descriptor"
   ]
  },
  {
   "cell_type": "code",
   "execution_count": 62,
   "id": "5720b88b-764b-470a-a0c8-ca4a67121730",
   "metadata": {},
   "outputs": [],
   "source": [
    "class Person:\n",
    "    def __init__(self, name):\n",
    "        self._name = name\n",
    "\n",
    "    @classmethod\n",
    "    @Logger\n",
    "    def cls_method(cls):\n",
    "        return \"Hi from a classmethod!\"\n",
    "\n",
    "    @staticmethod\n",
    "    @Logger\n",
    "    def static_method():\n",
    "        return \"Hi for a staticmethod!\"\n",
    "\n",
    "\n",
    "    @property\n",
    "    @Logger\n",
    "    def name(self):\n",
    "        return self._name"
   ]
  },
  {
   "cell_type": "code",
   "execution_count": 64,
   "id": "3e8a4989-975c-49e1-a460-276fe5ccb541",
   "metadata": {},
   "outputs": [
    {
     "name": "stdout",
     "output_type": "stream",
     "text": [
      "__get__ called self=<__main__.Logger object at 0x105864fe0>, instance=<class '__main__.Person'>\n",
      "returning self as a method bound to an instance\n",
      "Logger: __call__ called for <function Person.cls_method at 0x105cf0860>\n"
     ]
    },
    {
     "data": {
      "text/plain": [
       "'Hi from a classmethod!'"
      ]
     },
     "execution_count": 64,
     "metadata": {},
     "output_type": "execute_result"
    }
   ],
   "source": [
    "p = Person(\"Bob\")\n",
    "p.cls_method()"
   ]
  },
  {
   "cell_type": "code",
   "execution_count": 65,
   "id": "9b4e953d-0e89-4d38-8bc6-887744c591ef",
   "metadata": {},
   "outputs": [
    {
     "name": "stdout",
     "output_type": "stream",
     "text": [
      "Logger: __call__ called for <function Person.static_method at 0x105cf3600>\n"
     ]
    },
    {
     "data": {
      "text/plain": [
       "'Hi for a staticmethod!'"
      ]
     },
     "execution_count": 65,
     "metadata": {},
     "output_type": "execute_result"
    }
   ],
   "source": [
    "p.static_method()"
   ]
  },
  {
   "cell_type": "code",
   "execution_count": 66,
   "id": "ac23c54e-d782-44e9-b1c1-5972b22a40b1",
   "metadata": {},
   "outputs": [
    {
     "name": "stdout",
     "output_type": "stream",
     "text": [
      "Logger: __call__ called for <function Person.name at 0x105cf0d60>\n"
     ]
    },
    {
     "data": {
      "text/plain": [
       "'Bob'"
      ]
     },
     "execution_count": 66,
     "metadata": {},
     "output_type": "execute_result"
    }
   ],
   "source": [
    "p.name"
   ]
  },
  {
   "cell_type": "code",
   "execution_count": null,
   "id": "4d69999d-fd96-4743-8054-9680d5b9f281",
   "metadata": {},
   "outputs": [],
   "source": []
  }
 ],
 "metadata": {
  "kernelspec": {
   "display_name": "Python 3 (ipykernel)",
   "language": "python",
   "name": "python3"
  },
  "language_info": {
   "codemirror_mode": {
    "name": "ipython",
    "version": 3
   },
   "file_extension": ".py",
   "mimetype": "text/x-python",
   "name": "python",
   "nbconvert_exporter": "python",
   "pygments_lexer": "ipython3",
   "version": "3.12.3"
  }
 },
 "nbformat": 4,
 "nbformat_minor": 5
}
