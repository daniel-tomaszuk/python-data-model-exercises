{
 "cells": [
  {
   "cell_type": "code",
   "execution_count": 1,
   "id": "8943634a-0e4f-4d04-951e-55345354f7eb",
   "metadata": {},
   "outputs": [],
   "source": [
    "class Person:\n",
    "    def __init__(self, name):\n",
    "        self.name = name\n",
    "\n",
    "\n",
    "class Student(Person):\n",
    "    def __init__(self, name, major):\n",
    "        super().__init__(name)\n",
    "        self._major = major\n",
    "\n",
    "    @property\n",
    "    def major(self):\n",
    "        return self._major\n"
   ]
  },
  {
   "cell_type": "code",
   "execution_count": 2,
   "id": "9ec9db98-1f10-4efa-991b-da07745be88a",
   "metadata": {},
   "outputs": [],
   "source": [
    "import math\n",
    "\n",
    "\n",
    "class Circle(metaclass=type):\n",
    "    def __init__(self, x, y, r):\n",
    "        self.x = x\n",
    "        self.y = y\n",
    "        self.r = r\n",
    "\n",
    "    def area(self):\n",
    "        return math.pi * self.r ** 2"
   ]
  },
  {
   "cell_type": "code",
   "execution_count": 3,
   "id": "77c1e54c-0701-41b7-a9a7-4d0f24f941b5",
   "metadata": {},
   "outputs": [
    {
     "data": {
      "text/plain": [
       "(type, 'Circle')"
      ]
     },
     "execution_count": 3,
     "metadata": {},
     "output_type": "execute_result"
    }
   ],
   "source": [
    "type(Circle), Circle.__name__"
   ]
  },
  {
   "cell_type": "code",
   "execution_count": 4,
   "id": "c02dac09-e52b-467d-8e56-1fc5027bdbb4",
   "metadata": {},
   "outputs": [],
   "source": [
    "class CustomType(type):\n",
    "    def __new__(mcls, name, bases, class_dict):\n",
    "        print(f\"__new__ called for {mcls}: {name}\")\n",
    "        cls_obj = super().__new__(mcls, name, bases, class_dict)\n",
    "        cls_obj.circ = lambda self: 2 * math.pi * self.r\n",
    "        return cls_obj\n"
   ]
  },
  {
   "cell_type": "code",
   "execution_count": 5,
   "id": "699c2d7a-0936-40fe-8d5e-0610286aa9d7",
   "metadata": {},
   "outputs": [
    {
     "name": "stdout",
     "output_type": "stream",
     "text": [
      "__new__ called for <class '__main__.CustomType'>: Circle\n"
     ]
    }
   ],
   "source": [
    "class Circle(metaclass=CustomType):\n",
    "    def __init__(self, x, y, r):\n",
    "        self.x = x\n",
    "        self.y = y\n",
    "        self.r = r\n",
    "\n",
    "    def area(self):\n",
    "        return math.pi * self.r ** 2"
   ]
  },
  {
   "cell_type": "code",
   "execution_count": 6,
   "id": "fe86e23d-abe7-49f7-a937-3cc6337dca14",
   "metadata": {},
   "outputs": [
    {
     "data": {
      "text/plain": [
       "mappingproxy({'__module__': '__main__',\n",
       "              '__init__': <function __main__.Circle.__init__(self, x, y, r)>,\n",
       "              'area': <function __main__.Circle.area(self)>,\n",
       "              '__dict__': <attribute '__dict__' of 'Circle' objects>,\n",
       "              '__weakref__': <attribute '__weakref__' of 'Circle' objects>,\n",
       "              '__doc__': None,\n",
       "              'circ': <function __main__.CustomType.__new__.<locals>.<lambda>(self)>})"
      ]
     },
     "execution_count": 6,
     "metadata": {},
     "output_type": "execute_result"
    }
   ],
   "source": [
    "Circle.__dict__"
   ]
  },
  {
   "cell_type": "code",
   "execution_count": 7,
   "id": "d2d81d8c-26de-479a-8f85-42976aa92a43",
   "metadata": {},
   "outputs": [
    {
     "data": {
      "text/plain": [
       "(12.566370614359172, 12.566370614359172)"
      ]
     },
     "execution_count": 7,
     "metadata": {},
     "output_type": "execute_result"
    }
   ],
   "source": [
    "c = Circle(0, 0, 2)\n",
    "c.area(), c.circ()"
   ]
  },
  {
   "cell_type": "code",
   "execution_count": null,
   "id": "0aebd1e0-4fa1-45f3-96d6-9dca602bf7e6",
   "metadata": {},
   "outputs": [],
   "source": []
  }
 ],
 "metadata": {
  "kernelspec": {
   "display_name": "Python 3 (ipykernel)",
   "language": "python",
   "name": "python3"
  },
  "language_info": {
   "codemirror_mode": {
    "name": "ipython",
    "version": 3
   },
   "file_extension": ".py",
   "mimetype": "text/x-python",
   "name": "python",
   "nbconvert_exporter": "python",
   "pygments_lexer": "ipython3",
   "version": "3.12.3"
  }
 },
 "nbformat": 4,
 "nbformat_minor": 5
}
