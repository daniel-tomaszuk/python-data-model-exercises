{
 "cells": [
  {
   "cell_type": "code",
   "execution_count": null,
   "id": "78a6b2e5-9ba8-43d2-8377-211e7628852d",
   "metadata": {},
   "outputs": [],
   "source": [
    "\"\"\"\n",
    "Order for metaclasses:\n",
    "__prepare__  -> returns initial class_dict\n",
    "__call__ -> is responsible for creation of a metaclass instance, which is a class\n",
    "    __new__ -> creates class object\n",
    "    __init__\n",
    "\"\"\""
   ]
  },
  {
   "cell_type": "code",
   "execution_count": null,
   "id": "7f23dc1b-573d-4bc8-bc01-48c8e7b2b831",
   "metadata": {},
   "outputs": [],
   "source": []
  }
 ],
 "metadata": {
  "kernelspec": {
   "display_name": "Python 3 (ipykernel)",
   "language": "python",
   "name": "python3"
  },
  "language_info": {
   "codemirror_mode": {
    "name": "ipython",
    "version": 3
   },
   "file_extension": ".py",
   "mimetype": "text/x-python",
   "name": "python",
   "nbconvert_exporter": "python",
   "pygments_lexer": "ipython3",
   "version": "3.12.3"
  }
 },
 "nbformat": 4,
 "nbformat_minor": 5
}
