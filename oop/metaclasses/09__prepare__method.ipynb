{
 "cells": [
  {
   "cell_type": "code",
   "execution_count": 1,
   "id": "4682defc-3375-44c1-8001-df829baff1e6",
   "metadata": {},
   "outputs": [],
   "source": [
    "# __prepare__ in a metaclass creates namespace dict that will be passed into the class.__new__ (cls_dict)\n",
    "# __prepare__ is a static method (just like __new__)\n",
    "# __prepare__ also receives additonal parameters\n",
    "# __prepare__ is called before __new__ and it must return a mapping type"
   ]
  },
  {
   "cell_type": "code",
   "execution_count": 2,
   "id": "e7614705-6347-4371-80d7-dbcbc987b222",
   "metadata": {},
   "outputs": [
    {
     "name": "stdout",
     "output_type": "stream",
     "text": [
      "MyMeta.__new__ called\n",
      "mcls: <class '__main__.MyMeta'> <class 'type'>\n",
      "name: MyClass <class 'str'>\n",
      "bases: () <class 'tuple'>\n",
      "cls_dict: {'__module__': '__main__', '__qualname__': 'MyClass'} <class 'dict'>\n",
      "kwargs: {} <class 'dict'>\n"
     ]
    }
   ],
   "source": [
    "class MyMeta(type):\n",
    "    def __new__(mcls, name, bases, cls_dict, **kwargs):\n",
    "        print(\"MyMeta.__new__ called\")\n",
    "        print(\"mcls:\", mcls, type(mcls))\n",
    "        print(\"name:\", name, type(name))\n",
    "        print(\"bases:\", bases, type(bases))\n",
    "        print(\"cls_dict:\", cls_dict, type(cls_dict))\n",
    "        print(\"kwargs:\", kwargs, type(kwargs))\n",
    "\n",
    "        return super().__new__(mcls, name, bases, cls_dict)\n",
    "        \n",
    "        \n",
    "class MyClass(metaclass=MyMeta):\n",
    "    pass\n"
   ]
  },
  {
   "cell_type": "code",
   "execution_count": 3,
   "id": "de838ec6-6e11-40b3-b9c6-7ea2ad259de2",
   "metadata": {},
   "outputs": [
    {
     "name": "stdout",
     "output_type": "stream",
     "text": [
      "\n",
      "MyMeta.__prepare__ called\n",
      "name: MyClass <class 'str'>\n",
      "bases: () <class 'tuple'>\n",
      "kwargs: {} <class 'dict'>\n",
      "cls_dict {'a': 100, 'b': 200}\n",
      "\n",
      "MyMeta.__new__ called\n",
      "mcls: <class '__main__.MyMeta'> <class 'type'>\n",
      "name: MyClass <class 'str'>\n",
      "bases: () <class 'tuple'>\n",
      "cls_dict: {'a': 100, 'b': 200, '__module__': '__main__', '__qualname__': 'MyClass'} <class 'dict'>\n",
      "kwargs: {} <class 'dict'>\n"
     ]
    }
   ],
   "source": [
    "class MyMeta(type):\n",
    "    def __new__(mcls, name, bases, cls_dict, **kwargs):\n",
    "        print(\"\\nMyMeta.__new__ called\")\n",
    "        print(\"mcls:\", mcls, type(mcls))\n",
    "        print(\"name:\", name, type(name))\n",
    "        print(\"bases:\", bases, type(bases))\n",
    "        print(\"cls_dict:\", cls_dict, type(cls_dict))\n",
    "        print(\"kwargs:\", kwargs, type(kwargs))\n",
    "\n",
    "        return super().__new__(mcls, name, bases, cls_dict)\n",
    "\n",
    "\n",
    "    def __prepare__(name, bases, **kwargs):\n",
    "        print(\"\\nMyMeta.__prepare__ called\")\n",
    "        print(\"name:\", name, type(name))\n",
    "        print(\"bases:\", bases, type(bases))\n",
    "        print(\"kwargs:\", kwargs, type(kwargs))\n",
    "\n",
    "        #cls_dict = super().__prepare__(name, bases)\n",
    "        cls_dict = {}\n",
    "        cls_dict[\"a\"] = 100\n",
    "        cls_dict[\"b\"] = 200\n",
    "        print(\"cls_dict\", cls_dict)\n",
    "        return cls_dict\n",
    "\n",
    "\n",
    "class MyClass(metaclass=MyMeta):\n",
    "    pass\n"
   ]
  },
  {
   "cell_type": "code",
   "execution_count": 4,
   "id": "6f8b2516-0225-4214-9512-92002e3fb9cb",
   "metadata": {},
   "outputs": [
    {
     "data": {
      "text/plain": [
       "mappingproxy({'a': 100,\n",
       "              'b': 200,\n",
       "              '__module__': '__main__',\n",
       "              '__dict__': <attribute '__dict__' of 'MyClass' objects>,\n",
       "              '__weakref__': <attribute '__weakref__' of 'MyClass' objects>,\n",
       "              '__doc__': None})"
      ]
     },
     "execution_count": 4,
     "metadata": {},
     "output_type": "execute_result"
    }
   ],
   "source": [
    "MyClass.__dict__"
   ]
  },
  {
   "cell_type": "code",
   "execution_count": 5,
   "id": "194ab90f-51e3-4d38-8272-eede3e0a0516",
   "metadata": {},
   "outputs": [
    {
     "data": {
      "text/plain": [
       "{}"
      ]
     },
     "execution_count": 5,
     "metadata": {},
     "output_type": "execute_result"
    }
   ],
   "source": [
    "type.__prepare__()  # default implementation"
   ]
  },
  {
   "cell_type": "code",
   "execution_count": null,
   "id": "f2fbe0f1-13f2-494b-83f4-0c0e2668fe04",
   "metadata": {},
   "outputs": [],
   "source": []
  }
 ],
 "metadata": {
  "kernelspec": {
   "display_name": "Python 3 (ipykernel)",
   "language": "python",
   "name": "python3"
  },
  "language_info": {
   "codemirror_mode": {
    "name": "ipython",
    "version": 3
   },
   "file_extension": ".py",
   "mimetype": "text/x-python",
   "name": "python",
   "nbconvert_exporter": "python",
   "pygments_lexer": "ipython3",
   "version": "3.12.3"
  }
 },
 "nbformat": 4,
 "nbformat_minor": 5
}
