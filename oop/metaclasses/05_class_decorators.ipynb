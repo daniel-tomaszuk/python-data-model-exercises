{
 "cells": [
  {
   "cell_type": "code",
   "execution_count": 1,
   "id": "37f678ac-519f-451c-aad6-74e21b480684",
   "metadata": {},
   "outputs": [
    {
     "data": {
      "text/plain": [
       "'\\n@my_dec\\ndef my_func():\\n    pass\\n\\nmy_func = my_dec(my_func)\\n\\n#######\\n\\n@my_dec\\nclass MyClass:\\n    pass\\n\\nMyClass = my_dec(MyClass)\\n'"
      ]
     },
     "execution_count": 1,
     "metadata": {},
     "output_type": "execute_result"
    }
   ],
   "source": [
    "\"\"\"\n",
    "@my_dec\n",
    "def my_func():\n",
    "    pass\n",
    "\n",
    "my_func = my_dec(my_func)\n",
    "\n",
    "#######\n",
    "\n",
    "@my_dec\n",
    "class MyClass:\n",
    "    pass\n",
    "\n",
    "MyClass = my_dec(MyClass)\n",
    "\"\"\"\n"
   ]
  },
  {
   "cell_type": "code",
   "execution_count": 2,
   "id": "17690302-296c-4881-9618-e978df941a34",
   "metadata": {},
   "outputs": [],
   "source": [
    "def savings(cls):\n",
    "    # class decorator example\n",
    "    cls.account_type = \"savings\"\n",
    "    return cls\n",
    "\n",
    "def checking(cls):\n",
    "    cls.account_type = \"checking\"\n",
    "    return cls\n",
    "\n",
    "\n",
    "class Account:\n",
    "    pass\n",
    "\n",
    "\n",
    "@savings\n",
    "class Bank1Savings(Account):\n",
    "    pass\n",
    "\n",
    "\n",
    "@savings\n",
    "class Bank2Savings(Account):\n",
    "    pass\n",
    "\n",
    "\n",
    "@checking\n",
    "class Bank1Checking(Account):\n",
    "    pass\n",
    "\n",
    "\n",
    "@checking\n",
    "class Bank2Checking(Account):\n",
    "    pass"
   ]
  },
  {
   "cell_type": "code",
   "execution_count": 3,
   "id": "f4d7db7c-af24-4964-939e-70b1ace50e4f",
   "metadata": {},
   "outputs": [
    {
     "data": {
      "text/plain": [
       "(mappingproxy({'__module__': '__main__',\n",
       "               '__doc__': None,\n",
       "               'account_type': 'savings'}),\n",
       " mappingproxy({'__module__': '__main__',\n",
       "               '__doc__': None,\n",
       "               'account_type': 'savings'}))"
      ]
     },
     "execution_count": 3,
     "metadata": {},
     "output_type": "execute_result"
    }
   ],
   "source": [
    "Bank1Savings.__dict__, Bank2Savings.__dict__"
   ]
  },
  {
   "cell_type": "code",
   "execution_count": 4,
   "id": "0d871cec-c2a7-4f13-a5bb-39cf10a1fd5e",
   "metadata": {},
   "outputs": [
    {
     "data": {
      "text/plain": [
       "(mappingproxy({'__module__': '__main__',\n",
       "               '__doc__': None,\n",
       "               'account_type': 'checking'}),\n",
       " mappingproxy({'__module__': '__main__',\n",
       "               '__doc__': None,\n",
       "               'account_type': 'checking'}))"
      ]
     },
     "execution_count": 4,
     "metadata": {},
     "output_type": "execute_result"
    }
   ],
   "source": [
    "Bank1Checking.__dict__, Bank2Checking.__dict__"
   ]
  },
  {
   "cell_type": "code",
   "execution_count": 5,
   "id": "dda97c8a-afe7-4438-a6c5-4ae3f7be840d",
   "metadata": {},
   "outputs": [],
   "source": [
    "def account_type(account_type):    \n",
    "    def decorator(cls):\n",
    "        cls.account_type = account_type\n",
    "        return cls\n",
    "    return decorator\n"
   ]
  },
  {
   "cell_type": "code",
   "execution_count": 6,
   "id": "dee42754-43f0-44f4-b9c4-48858aed5e81",
   "metadata": {},
   "outputs": [],
   "source": [
    "@account_type(\"savings\")\n",
    "class Bank1Savings:\n",
    "    pass\n",
    "\n",
    "\n",
    "@account_type(\"checking\")\n",
    "class Bank1Checking:\n",
    "    pass\n"
   ]
  },
  {
   "cell_type": "code",
   "execution_count": 7,
   "id": "73a936d1-68aa-4911-8bec-c10d5f721751",
   "metadata": {},
   "outputs": [
    {
     "data": {
      "text/plain": [
       "(mappingproxy({'__module__': '__main__',\n",
       "               '__dict__': <attribute '__dict__' of 'Bank1Savings' objects>,\n",
       "               '__weakref__': <attribute '__weakref__' of 'Bank1Savings' objects>,\n",
       "               '__doc__': None,\n",
       "               'account_type': 'savings'}),\n",
       " mappingproxy({'__module__': '__main__',\n",
       "               '__dict__': <attribute '__dict__' of 'Bank1Checking' objects>,\n",
       "               '__weakref__': <attribute '__weakref__' of 'Bank1Checking' objects>,\n",
       "               '__doc__': None,\n",
       "               'account_type': 'checking'}))"
      ]
     },
     "execution_count": 7,
     "metadata": {},
     "output_type": "execute_result"
    }
   ],
   "source": [
    "Bank1Savings.__dict__, Bank1Checking.__dict__"
   ]
  },
  {
   "cell_type": "code",
   "execution_count": 8,
   "id": "e007bcc5-b499-4e05-bebc-89082d9cb07a",
   "metadata": {},
   "outputs": [
    {
     "data": {
      "text/plain": [
       "mappingproxy({'__module__': '__main__',\n",
       "              '__dict__': <attribute '__dict__' of 'Person' objects>,\n",
       "              '__weakref__': <attribute '__weakref__' of 'Person' objects>,\n",
       "              '__doc__': None,\n",
       "              'hello': <function __main__.hello.<locals>.<lambda>(self)>})"
      ]
     },
     "execution_count": 8,
     "metadata": {},
     "output_type": "execute_result"
    }
   ],
   "source": [
    "def hello(cls):\n",
    "    cls.hello = lambda self: f\"Hello from {self}!\"\n",
    "    return cls\n",
    "\n",
    "\n",
    "@hello\n",
    "class Person:\n",
    "    pass\n",
    "\n",
    "\n",
    "Person.__dict__"
   ]
  },
  {
   "cell_type": "code",
   "execution_count": 9,
   "id": "59d6cd87-af5f-4068-aeff-4fd6e499bec0",
   "metadata": {},
   "outputs": [
    {
     "data": {
      "text/plain": [
       "(method, 'Hello from <__main__.Person object at 0x10f089550>!')"
      ]
     },
     "execution_count": 9,
     "metadata": {},
     "output_type": "execute_result"
    }
   ],
   "source": [
    "p = Person()\n",
    "type(p.hello), p.hello()"
   ]
  },
  {
   "cell_type": "code",
   "execution_count": 10,
   "id": "7e3473b5-9ebc-4b54-828d-776ca65000f7",
   "metadata": {},
   "outputs": [],
   "source": [
    "from functools import wraps\n",
    "\n",
    "def func_logger(fn):\n",
    "    @wraps(fn)\n",
    "    def inner(*args, **kwargs):\n",
    "        result = fn(*args, **kwargs)\n",
    "        print(f\"Log: {fn.__qualname__}({args}, {kwargs}) = {result}\")\n",
    "        return result\n",
    "    return inner\n"
   ]
  },
  {
   "cell_type": "code",
   "execution_count": 11,
   "id": "95688821-9fe3-4592-836b-e689686139cd",
   "metadata": {},
   "outputs": [],
   "source": [
    "class Person:\n",
    "\n",
    "    @func_logger\n",
    "    def __init__(self, name, age):\n",
    "        self.name = name\n",
    "        self.age = age\n",
    "\n",
    "    @func_logger\n",
    "    def greet(self):\n",
    "        return f\"Hi, my name is {self.name} and my age is {self.age} years old.\"\n"
   ]
  },
  {
   "cell_type": "code",
   "execution_count": 12,
   "id": "a2ed4fcd-80f9-4167-af3f-59b54e2852c6",
   "metadata": {},
   "outputs": [
    {
     "name": "stdout",
     "output_type": "stream",
     "text": [
      "Log: Person.__init__((<__main__.Person object at 0x10f08acc0>, 'Bob', 33), {}) = None\n"
     ]
    }
   ],
   "source": [
    "p = Person(\"Bob\", 33)\n"
   ]
  },
  {
   "cell_type": "code",
   "execution_count": 13,
   "id": "448183c8-df65-4d17-b6ed-f884fc6b7b03",
   "metadata": {},
   "outputs": [
    {
     "name": "stdout",
     "output_type": "stream",
     "text": [
      "Log: Person.greet((<__main__.Person object at 0x10f08acc0>,), {}) = Hi, my name is Bob and my age is 33 years old.\n"
     ]
    },
    {
     "data": {
      "text/plain": [
       "'Hi, my name is Bob and my age is 33 years old.'"
      ]
     },
     "execution_count": 13,
     "metadata": {},
     "output_type": "execute_result"
    }
   ],
   "source": [
    "p.greet()"
   ]
  },
  {
   "cell_type": "code",
   "execution_count": 14,
   "id": "134d18c5-9cfd-425e-85e1-3e5c35972dc9",
   "metadata": {},
   "outputs": [],
   "source": [
    "def class_logger(cls):\n",
    "    # won't work well with static and class methods!\n",
    "    for name, obj in vars(cls).items():\n",
    "        if callable(obj):\n",
    "            print(\"decorating\", cls, name, obj)\n",
    "            # decorate each callable with func_logger\n",
    "            setattr(cls, name, func_logger(obj))\n",
    "    return cls"
   ]
  },
  {
   "cell_type": "code",
   "execution_count": 15,
   "id": "834d63f4-7947-4ebe-8a56-7565c89da2d8",
   "metadata": {},
   "outputs": [
    {
     "name": "stdout",
     "output_type": "stream",
     "text": [
      "decorating <class '__main__.Person'> __init__ <function Person.__init__ at 0x10f07f880>\n",
      "decorating <class '__main__.Person'> greet <function Person.greet at 0x10f07f920>\n"
     ]
    }
   ],
   "source": [
    "@class_logger\n",
    "class Person:\n",
    "    def __init__(self, name, age):\n",
    "        self.name = name\n",
    "        self.age = age\n",
    "\n",
    "    def greet(self):\n",
    "        return f\"Hi, my name is {self.name} and my age is {self.age} years old.\" "
   ]
  },
  {
   "cell_type": "code",
   "execution_count": 16,
   "id": "1c119d4f-8d92-4630-86b3-ff20925d8c5e",
   "metadata": {},
   "outputs": [
    {
     "name": "stdout",
     "output_type": "stream",
     "text": [
      "Log: Person.__init__((<__main__.Person object at 0x10f0a8170>, 'John', 43), {}) = None\n"
     ]
    }
   ],
   "source": [
    "p = Person(\"John\", 43)"
   ]
  },
  {
   "cell_type": "code",
   "execution_count": 17,
   "id": "9cfb39ec-8c76-4bb6-928c-ff4f391f86c0",
   "metadata": {},
   "outputs": [
    {
     "name": "stdout",
     "output_type": "stream",
     "text": [
      "Log: Person.greet((<__main__.Person object at 0x10f0a8170>,), {}) = Hi, my name is John and my age is 43 years old.\n"
     ]
    },
    {
     "data": {
      "text/plain": [
       "'Hi, my name is John and my age is 43 years old.'"
      ]
     },
     "execution_count": 17,
     "metadata": {},
     "output_type": "execute_result"
    }
   ],
   "source": [
    "p.greet()"
   ]
  },
  {
   "cell_type": "code",
   "execution_count": 18,
   "id": "a0d7e518-50a4-41cc-8d60-ece8b9e5edfa",
   "metadata": {},
   "outputs": [
    {
     "name": "stdout",
     "output_type": "stream",
     "text": [
      "decorating <class '__main__.Person'> static_method <staticmethod(<function Person.static_method at 0x10f0ac400>)>\n",
      "decorating <class '__main__.Person'> instance_method <function Person.instance_method at 0x10f0ac540>\n"
     ]
    }
   ],
   "source": [
    "@class_logger\n",
    "class Person:\n",
    "    # cls_method is a descriptor, not a callable! Our `class_logger` looks for callables\n",
    "    \n",
    "    @staticmethod\n",
    "    def static_method():\n",
    "        print(\"statis_method invoked\")\n",
    "\n",
    "    @classmethod\n",
    "    def cls_method(cls):\n",
    "        print(f\"cls_method invoked for {cls}...\")\n",
    "\n",
    "    def instance_method(self):\n",
    "        print(f\"instance_method invoked for {self}...\")\n"
   ]
  },
  {
   "cell_type": "code",
   "execution_count": 19,
   "id": "9ddd7d6a-a5cd-4880-a2e1-e43999d23bc2",
   "metadata": {},
   "outputs": [
    {
     "name": "stdout",
     "output_type": "stream",
     "text": [
      "Person.static_method() takes 0 positional arguments but 1 was given\n"
     ]
    }
   ],
   "source": [
    "p = Person()\n",
    "try:\n",
    "    # doesn't work - throws an error\n",
    "    p.static_method()\n",
    "except TypeError as e:\n",
    "    print(e)"
   ]
  },
  {
   "cell_type": "code",
   "execution_count": 20,
   "id": "c9c2579f-3430-4307-a6c9-ea42690d55e5",
   "metadata": {},
   "outputs": [
    {
     "name": "stdout",
     "output_type": "stream",
     "text": [
      "cls_method invoked for <class '__main__.Person'>...\n"
     ]
    }
   ],
   "source": [
    "p.cls_method() # wasn't even decorated"
   ]
  },
  {
   "cell_type": "code",
   "execution_count": 21,
   "id": "7a75db4d-4c7a-4999-b74e-dddb5974ee54",
   "metadata": {},
   "outputs": [
    {
     "name": "stdout",
     "output_type": "stream",
     "text": [
      "instance_method invoked for <__main__.Person object at 0x10edb2630>...\n",
      "Log: Person.instance_method((<__main__.Person object at 0x10edb2630>,), {}) = None\n"
     ]
    }
   ],
   "source": [
    "p.instance_method()"
   ]
  },
  {
   "cell_type": "code",
   "execution_count": 22,
   "id": "8dafb417-c593-4715-8649-4899d3b0964f",
   "metadata": {},
   "outputs": [
    {
     "data": {
      "text/plain": [
       "mappingproxy({'__module__': '__main__',\n",
       "              'static_method': <function __main__.Person.static_method()>,\n",
       "              'cls_method': <classmethod(<function Person.cls_method at 0x10f0ac4a0>)>,\n",
       "              'instance_method': <function __main__.Person.instance_method(self)>,\n",
       "              '__dict__': <attribute '__dict__' of 'Person' objects>,\n",
       "              '__weakref__': <attribute '__weakref__' of 'Person' objects>,\n",
       "              '__doc__': None})"
      ]
     },
     "execution_count": 22,
     "metadata": {},
     "output_type": "execute_result"
    }
   ],
   "source": [
    "Person.__dict__"
   ]
  },
  {
   "cell_type": "code",
   "execution_count": 23,
   "id": "d8fe9b21-156b-4db7-a213-3abecf48f673",
   "metadata": {},
   "outputs": [
    {
     "data": {
      "text/plain": [
       "(<function __main__.Person.static_method()>, True)"
      ]
     },
     "execution_count": 23,
     "metadata": {},
     "output_type": "execute_result"
    }
   ],
   "source": [
    "Person.__dict__[\"static_method\"], callable(Person.__dict__[\"static_method\"])  # is a callable but doesn't expect any attrs"
   ]
  },
  {
   "cell_type": "code",
   "execution_count": 24,
   "id": "bcd62fc1-dd1e-4c36-9d61-60e1dcc54461",
   "metadata": {},
   "outputs": [
    {
     "data": {
      "text/plain": [
       "(<classmethod(<function Person.cls_method at 0x10f0ac4a0>)>, False)"
      ]
     },
     "execution_count": 24,
     "metadata": {},
     "output_type": "execute_result"
    }
   ],
   "source": [
    "Person.__dict__[\"cls_method\"], callable(Person.__dict__[\"cls_method\"])"
   ]
  },
  {
   "cell_type": "code",
   "execution_count": 25,
   "id": "d3b7ba80-320c-4c54-ae51-266a7a29f7e8",
   "metadata": {},
   "outputs": [],
   "source": [
    "class Person:\n",
    "    @func_logger\n",
    "    @staticmethod\n",
    "    def static_method(*args, **kwargs):  # works if we allow *args, **kwargs\n",
    "        print(f\"static_method called with: {args}, {kwargs}\")"
   ]
  },
  {
   "cell_type": "code",
   "execution_count": 26,
   "id": "38cc2ff5-8193-4048-8401-203f9b72b3bb",
   "metadata": {},
   "outputs": [],
   "source": [
    "p = Person()"
   ]
  },
  {
   "cell_type": "code",
   "execution_count": 27,
   "id": "ffb2e759-8f6c-47ca-b70f-a1d98de585e5",
   "metadata": {},
   "outputs": [
    {
     "name": "stdout",
     "output_type": "stream",
     "text": [
      "static_method called with: (<__main__.Person object at 0x10f0aac30>,), {}\n",
      "Log: Person.static_method((<__main__.Person object at 0x10f0aac30>,), {}) = None\n"
     ]
    }
   ],
   "source": [
    "p.static_method()"
   ]
  },
  {
   "cell_type": "code",
   "execution_count": 28,
   "id": "ac5776fb-0c60-4e9e-909c-74b50fc736eb",
   "metadata": {},
   "outputs": [],
   "source": [
    "class Person:\n",
    "    @staticmethod\n",
    "    @func_logger\n",
    "    def static_method():  # works if we change the decorators order\n",
    "        print(\"static_method called\")\n"
   ]
  },
  {
   "cell_type": "code",
   "execution_count": 29,
   "id": "45bcca3a-21e0-4e61-a9e9-04837378112e",
   "metadata": {},
   "outputs": [
    {
     "name": "stdout",
     "output_type": "stream",
     "text": [
      "static_method called\n",
      "Log: Person.static_method((), {}) = None\n"
     ]
    }
   ],
   "source": [
    "p = Person()\n",
    "p.static_method()"
   ]
  },
  {
   "cell_type": "code",
   "execution_count": 30,
   "id": "e59ad636-664a-4347-9ff3-02136d62d5f0",
   "metadata": {},
   "outputs": [
    {
     "data": {
      "text/plain": [
       "<function __main__.Person.static_method()>"
      ]
     },
     "execution_count": 30,
     "metadata": {},
     "output_type": "execute_result"
    }
   ],
   "source": [
    "class Person:\n",
    "    @staticmethod\n",
    "    def static_method():\n",
    "        pass\n",
    "\n",
    "    @classmethod\n",
    "    def cls_method(cls):\n",
    "        pass\n",
    "\n",
    "# it's possible to access the orginal function\n",
    "Person.__dict__[\"static_method\"].__func__"
   ]
  },
  {
   "cell_type": "code",
   "execution_count": 31,
   "id": "fc112a63-d037-422b-a577-c6c33a359ec7",
   "metadata": {},
   "outputs": [],
   "source": [
    "def class_logger(cls):\n",
    "    # improved version that handles static and class methods\n",
    "    for name, obj in vars(cls).items():\n",
    "        if isinstance(obj, staticmethod):\n",
    "            print(\"decorating staticmethod\", cls, name, obj)\n",
    "            original_func = obj.__func__\n",
    "            decorated_func = func_logger(original_func)\n",
    "            static_method = staticmethod(decorated_func)\n",
    "            setattr(cls, name, static_method)\n",
    "        elif isinstance(obj, classmethod):\n",
    "            print(\"decorating classmethod\", cls, name, obj)\n",
    "            original_func = obj.__func__\n",
    "            decorated_func = func_logger(original_func)\n",
    "            class_method = classmethod(decorated_func)\n",
    "            setattr(cls, name, class_method)\n",
    "        elif callable(obj):\n",
    "            print(\"decorating regular callable\", cls, name, obj)\n",
    "            # decorate each callable with func_logger\n",
    "            original_func = obj\n",
    "            decorated_func = func_logger(original_func)\n",
    "            setattr(cls, name, decorated_func)\n",
    "    return cls\n"
   ]
  },
  {
   "cell_type": "code",
   "execution_count": 32,
   "id": "19718536-cc51-4715-a955-2b0e62085208",
   "metadata": {},
   "outputs": [
    {
     "name": "stdout",
     "output_type": "stream",
     "text": [
      "decorating staticmethod <class '__main__.Person'> static_method <staticmethod(<function Person.static_method at 0x10f0af420>)>\n",
      "decorating classmethod <class '__main__.Person'> cls_method <classmethod(<function Person.cls_method at 0x10f0af4c0>)>\n",
      "decorating regular callable <class '__main__.Person'> instance_method <function Person.instance_method at 0x10f0af560>\n"
     ]
    }
   ],
   "source": [
    "@class_logger\n",
    "class Person:\n",
    "    @staticmethod\n",
    "    def static_method():\n",
    "        print(\"static_method called...\")\n",
    "\n",
    "    @classmethod\n",
    "    def cls_method(cls):\n",
    "        print(\"cls_method called...\")\n",
    "\n",
    "    def instance_method(self):\n",
    "        print(\"instance_method called...\")\n",
    "   "
   ]
  },
  {
   "cell_type": "code",
   "execution_count": 33,
   "id": "970e301a-d1c5-41af-aad1-8ee2e6488625",
   "metadata": {},
   "outputs": [
    {
     "name": "stdout",
     "output_type": "stream",
     "text": [
      "static_method called...\n",
      "Log: Person.static_method((), {}) = None\n"
     ]
    }
   ],
   "source": [
    "Person.static_method()"
   ]
  },
  {
   "cell_type": "code",
   "execution_count": 34,
   "id": "f99f4c90-c0d8-4513-8e50-7e71e2b7d909",
   "metadata": {},
   "outputs": [
    {
     "name": "stdout",
     "output_type": "stream",
     "text": [
      "cls_method called...\n",
      "Log: Person.cls_method((<class '__main__.Person'>,), {}) = None\n"
     ]
    }
   ],
   "source": [
    "Person.cls_method()"
   ]
  },
  {
   "cell_type": "code",
   "execution_count": 35,
   "id": "f3a0d8cf-ac96-42fe-ac52-b9b40a6823b2",
   "metadata": {},
   "outputs": [
    {
     "name": "stdout",
     "output_type": "stream",
     "text": [
      "instance_method called...\n",
      "Log: Person.instance_method((<__main__.Person object at 0x10f0bdcd0>,), {}) = None\n"
     ]
    }
   ],
   "source": [
    "p = Person()\n",
    "p.instance_method()"
   ]
  },
  {
   "cell_type": "code",
   "execution_count": 36,
   "id": "ca1e8b92-b970-4057-912d-9709a8e1c639",
   "metadata": {},
   "outputs": [
    {
     "name": "stdout",
     "output_type": "stream",
     "text": [
      "decorating regular callable <class '__main__.Person'> __init__ <function Person.__init__ at 0x10f0d04a0>\n"
     ]
    }
   ],
   "source": [
    "@class_logger\n",
    "class Person:\n",
    "    def __init__(self, name):\n",
    "        self._name = name\n",
    "\n",
    "    # property still not handled as required - decorator isn't used on it\n",
    "    @property\n",
    "    def name(self):\n",
    "        return self._name\n"
   ]
  },
  {
   "cell_type": "code",
   "execution_count": 37,
   "id": "865767d8-39b9-4096-a722-c62e1003a726",
   "metadata": {},
   "outputs": [
    {
     "data": {
      "text/plain": [
       "property"
      ]
     },
     "execution_count": 37,
     "metadata": {},
     "output_type": "execute_result"
    }
   ],
   "source": [
    "type(Person.__dict__[\"name\"])"
   ]
  },
  {
   "cell_type": "code",
   "execution_count": 38,
   "id": "194407e2-0d49-4838-a94c-b74b86c4d8b4",
   "metadata": {},
   "outputs": [
    {
     "data": {
      "text/plain": [
       "True"
      ]
     },
     "execution_count": 38,
     "metadata": {},
     "output_type": "execute_result"
    }
   ],
   "source": [
    "isinstance(Person.__dict__[\"name\"], property)"
   ]
  },
  {
   "cell_type": "code",
   "execution_count": 39,
   "id": "e6b9318c-8455-4707-89cb-f624c83de74c",
   "metadata": {},
   "outputs": [],
   "source": [
    "prop = Person.__dict__[\"name\"]"
   ]
  },
  {
   "cell_type": "code",
   "execution_count": 40,
   "id": "bd59f156-f8d1-49cd-ae18-0d862f772968",
   "metadata": {},
   "outputs": [
    {
     "data": {
      "text/plain": [
       "(<function __main__.Person.name(self)>, None, None)"
      ]
     },
     "execution_count": 40,
     "metadata": {},
     "output_type": "execute_result"
    }
   ],
   "source": [
    "prop.fget, prop.fset, prop.fdel"
   ]
  },
  {
   "cell_type": "code",
   "execution_count": 41,
   "id": "ebbae09c-6c6c-4647-889c-212ba6963c6f",
   "metadata": {},
   "outputs": [],
   "source": [
    "def class_logger(cls):\n",
    "    # improved version that handles static and class methods\n",
    "    for name, obj in vars(cls).items():\n",
    "        if isinstance(obj, staticmethod):\n",
    "            print(\"decorating staticmethod\", cls, name, obj)\n",
    "            original_func = obj.__func__\n",
    "            decorated_func = func_logger(original_func)\n",
    "            static_method = staticmethod(decorated_func)\n",
    "            setattr(cls, name, static_method)\n",
    "        elif isinstance(obj, classmethod):\n",
    "            print(\"decorating classmethod\", cls, name, obj)\n",
    "            original_func = obj.__func__\n",
    "            decorated_func = func_logger(original_func)\n",
    "            class_method = classmethod(decorated_func)\n",
    "            setattr(cls, name, class_method)\n",
    "        elif isinstance(obj, property):\n",
    "            print(\"decorating property\", cls, name, obj)\n",
    "            if obj.fget:\n",
    "                obj = obj.getter(func_logger(obj.fget))\n",
    "            if obj.fset:\n",
    "                obj = obj.setter(func_logger(obj.fset))\n",
    "            if obj.fdel:\n",
    "                obj = obj.deleter(func_logger(obj.fdel))\n",
    "            setattr(cls, name, obj)\n",
    "        elif callable(obj):\n",
    "            print(\"decorating regular callable\", cls, name, obj)\n",
    "            # decorate each callable with func_logger\n",
    "            original_func = obj\n",
    "            decorated_func = func_logger(original_func)\n",
    "            setattr(cls, name, decorated_func)\n",
    "            \n",
    "    return cls"
   ]
  },
  {
   "cell_type": "code",
   "execution_count": 42,
   "id": "22a78913-1990-49b3-b817-1f81ce8db5bd",
   "metadata": {},
   "outputs": [
    {
     "name": "stdout",
     "output_type": "stream",
     "text": [
      "decorating regular callable <class '__main__.Person'> __init__ <function Person.__init__ at 0x10f0ad6c0>\n",
      "decorating property <class '__main__.Person'> name <property object at 0x10f06c3b0>\n"
     ]
    }
   ],
   "source": [
    "@class_logger\n",
    "class Person:\n",
    "    def __init__(self, name):\n",
    "        self._name = name\n",
    "\n",
    "    @property\n",
    "    def name(self):\n",
    "        return self._name\n"
   ]
  },
  {
   "cell_type": "code",
   "execution_count": 43,
   "id": "f3a0de25-108c-446b-bc59-a4a490434ef7",
   "metadata": {},
   "outputs": [
    {
     "name": "stdout",
     "output_type": "stream",
     "text": [
      "Log: Person.__init__((<__main__.Person object at 0x10f0ab950>, 'Bob'), {}) = None\n",
      "Log: Person.name((<__main__.Person object at 0x10f0ab950>,), {}) = Bob\n"
     ]
    },
    {
     "data": {
      "text/plain": [
       "'Bob'"
      ]
     },
     "execution_count": 43,
     "metadata": {},
     "output_type": "execute_result"
    }
   ],
   "source": [
    "p = Person(\"Bob\")\n",
    "p.name"
   ]
  },
  {
   "cell_type": "code",
   "execution_count": 45,
   "id": "b706f553-db22-4e09-8423-160e62c3901b",
   "metadata": {},
   "outputs": [
    {
     "name": "stdout",
     "output_type": "stream",
     "text": [
      "decorating regular callable <class '__main__.Person'> Other <class '__main__.Person.Other'>\n",
      "decorating regular callable <class '__main__.Person'> other <__main__.Person.Other object at 0x10f0aa630>\n"
     ]
    }
   ],
   "source": [
    "# callables are not necesarly functions! They can be classes for example\n",
    "@class_logger\n",
    "class Person:\n",
    "    class Other:\n",
    "        def __call__(self):\n",
    "            print(\"called instance of Other...\")\n",
    "    other = Other()"
   ]
  },
  {
   "cell_type": "code",
   "execution_count": 47,
   "id": "fd7159a6-315a-4312-a5b5-bac5d44cc4d3",
   "metadata": {},
   "outputs": [
    {
     "data": {
      "text/plain": [
       "<function __main__.Person.Other()>"
      ]
     },
     "execution_count": 47,
     "metadata": {},
     "output_type": "execute_result"
    }
   ],
   "source": [
    "Person.Other  # now it's a function, which is a problem"
   ]
  },
  {
   "cell_type": "code",
   "execution_count": 48,
   "id": "0ed86125-03c8-4742-ba55-eaa43bdc4fb8",
   "metadata": {},
   "outputs": [
    {
     "data": {
      "text/plain": [
       "<function __main__.func_logger.<locals>.inner()>"
      ]
     },
     "execution_count": 48,
     "metadata": {},
     "output_type": "execute_result"
    }
   ],
   "source": [
    "Person.other"
   ]
  },
  {
   "cell_type": "code",
   "execution_count": 49,
   "id": "d2943f7a-7cf8-4af5-b6b0-4eed9d3fe06d",
   "metadata": {},
   "outputs": [],
   "source": [
    "import inspect\n",
    "\n",
    "\n",
    "class MyClass:\n",
    "    @staticmethod\n",
    "    def static_method():\n",
    "        pass\n",
    "\n",
    "    @classmethod\n",
    "    def cls_method(cls):\n",
    "        pass\n",
    "\n",
    "    def inst_method(self):\n",
    "        pass\n",
    "\n",
    "    @property\n",
    "    def name(self):\n",
    "        pass\n",
    "\n",
    "    def __add__(self, other):\n",
    "        pass\n",
    "\n",
    "    class Other:\n",
    "        def __call__(self):\n",
    "            pass\n",
    "\n",
    "    other = Other()\n",
    "    "
   ]
  },
  {
   "cell_type": "code",
   "execution_count": 50,
   "id": "7892e812-ce21-4954-9b0e-4a1a2459fd09",
   "metadata": {},
   "outputs": [],
   "source": [
    "keys = (\"static_method\", \"cls_method\", \"inst_method\", \"name\", \"__add__\", \"Other\", \"other\")\n",
    "inspect_funcs = (\"isroutine\", \"ismethod\", \"isfunction\", \"isbuiltin\", \"ismethoddescriptor\")\n"
   ]
  },
  {
   "cell_type": "code",
   "execution_count": 54,
   "id": "6def4db4-5e8c-4c71-9862-2b45b4e8f811",
   "metadata": {},
   "outputs": [
    {
     "name": "stdout",
     "output_type": "stream",
     "text": [
      "                   static_method\tcls_method   \tinst_method  \tname         \t__add__      \tOther        \tother        \n",
      "isroutine          True         \tTrue         \tTrue         \tFalse        \tTrue         \tFalse        \tFalse        \n",
      "ismethod           False        \tFalse        \tFalse        \tFalse        \tFalse        \tFalse        \tFalse        \n",
      "isfunction         False        \tFalse        \tTrue         \tFalse        \tTrue         \tFalse        \tFalse        \n",
      "isbuiltin          False        \tFalse        \tFalse        \tFalse        \tFalse        \tFalse        \tFalse        \n",
      "ismethoddescriptor True         \tTrue         \tFalse        \tFalse        \tFalse        \tFalse        \tFalse        \n"
     ]
    }
   ],
   "source": [
    "max_header_length = max(len(key) for key in keys)\n",
    "max_fname_length = max(len(func) for func in inspect_funcs)\n",
    "print(format(\"\", f\"{max_fname_length}s\"), \"\\t\".join(format(key, f\"{max_header_length}s\") for key in keys))\n",
    "for inspect_func in inspect_funcs:\n",
    "    fn = getattr(inspect, inspect_func)\n",
    "    inspect_results = (format(str(fn(MyClass.__dict__[key])), f\"{max_header_length}s\") for key in keys)\n",
    "    print(format(inspect_func, f\"{max_fname_length}s\"), \"\\t\".join(inspect_results))\n"
   ]
  },
  {
   "cell_type": "code",
   "execution_count": 55,
   "id": "96ebfcb1-4ff9-429f-8da5-eec56c5d6199",
   "metadata": {},
   "outputs": [
    {
     "name": "stdout",
     "output_type": "stream",
     "text": [
      "Help on function isroutine in module inspect:\n",
      "\n",
      "isroutine(object)\n",
      "    Return true if the object is any kind of function or method.\n",
      "\n"
     ]
    }
   ],
   "source": [
    "help(inspect.isroutine)"
   ]
  },
  {
   "cell_type": "code",
   "execution_count": 58,
   "id": "735349b3-7f28-413d-86b0-956f79948efe",
   "metadata": {},
   "outputs": [],
   "source": [
    "def class_logger(cls):\n",
    "    # improved version that handles static and class methods\n",
    "    for name, obj in vars(cls).items():\n",
    "        if isinstance(obj, staticmethod):\n",
    "            print(\"decorating staticmethod\", cls, name, obj)\n",
    "            original_func = obj.__func__\n",
    "            decorated_func = func_logger(original_func)\n",
    "            static_method = staticmethod(decorated_func)\n",
    "            setattr(cls, name, static_method)\n",
    "        elif isinstance(obj, classmethod):\n",
    "            print(\"decorating classmethod\", cls, name, obj)\n",
    "            original_func = obj.__func__\n",
    "            decorated_func = func_logger(original_func)\n",
    "            class_method = classmethod(decorated_func)\n",
    "            setattr(cls, name, class_method)\n",
    "        elif isinstance(obj, property):\n",
    "            print(\"decorating property\", cls, name, obj)\n",
    "            if obj.fget:\n",
    "                obj = obj.getter(func_logger(obj.fget))\n",
    "            if obj.fset:\n",
    "                obj = obj.setter(func_logger(obj.fset))\n",
    "            if obj.fdel:\n",
    "                obj = obj.deleter(func_logger(obj.fdel))\n",
    "            setattr(cls, name, obj)\n",
    "        elif inspect.isroutine(obj):\n",
    "            print(\"decorating isroutine\", cls, name, obj)\n",
    "            # decorate each callable with func_logger\n",
    "            original_func = obj\n",
    "            decorated_func = func_logger(original_func)\n",
    "            setattr(cls, name, decorated_func)\n",
    "            \n",
    "    return cls"
   ]
  },
  {
   "cell_type": "code",
   "execution_count": 60,
   "id": "cf2112d1-b5e6-4037-9c04-b41529bde06f",
   "metadata": {},
   "outputs": [
    {
     "name": "stdout",
     "output_type": "stream",
     "text": [
      "decorating isroutine <class '__main__.MyClass.Other'> __call__ <function MyClass.Other.__call__ at 0x10f18b100>\n",
      "decorating staticmethod <class '__main__.MyClass'> static_method <staticmethod(<function MyClass.static_method at 0x10f1889a0>)>\n",
      "decorating classmethod <class '__main__.MyClass'> cls_method <classmethod(<function MyClass.cls_method at 0x10f18bc40>)>\n",
      "decorating isroutine <class '__main__.MyClass'> inst_method <function MyClass.inst_method at 0x10f189b20>\n",
      "decorating property <class '__main__.MyClass'> name <property object at 0x10fb1e840>\n",
      "decorating isroutine <class '__main__.MyClass'> __add__ <function MyClass.__add__ at 0x10f18ad40>\n"
     ]
    }
   ],
   "source": [
    "@class_logger\n",
    "class MyClass:\n",
    "    @staticmethod\n",
    "    def static_method():\n",
    "        pass\n",
    "\n",
    "    @classmethod\n",
    "    def cls_method(cls):\n",
    "        pass\n",
    "\n",
    "    def inst_method(self):\n",
    "        pass\n",
    "\n",
    "    @property\n",
    "    def name(self):\n",
    "        pass\n",
    "\n",
    "    def __add__(self, other):\n",
    "        pass\n",
    "\n",
    "    @class_logger\n",
    "    class Other:\n",
    "        def __call__(self):\n",
    "            pass\n",
    "\n",
    "    other = Other()"
   ]
  },
  {
   "cell_type": "code",
   "execution_count": 65,
   "id": "c361e724-21bd-4738-b875-8486b375bb14",
   "metadata": {},
   "outputs": [],
   "source": [
    "def class_logger(cls):\n",
    "    # improved version that handles static and class methods\n",
    "    for name, obj in vars(cls).items():\n",
    "\n",
    "        if isinstance(obj, classmethod) or isinstance(obj, staticmethod):\n",
    "            print(\"decorating classmethod or staticmethod\", cls, name, obj)\n",
    "            type_ = type(obj)\n",
    "            original_func = obj.__func__\n",
    "            decorated_func = func_logger(original_func)\n",
    "            method = type_(decorated_func)\n",
    "            setattr(cls, name, method)\n",
    "        elif isinstance(obj, property):\n",
    "            print(\"decorating property\", cls, name, obj)\n",
    "            if obj.fget:\n",
    "                obj = obj.getter(func_logger(obj.fget))\n",
    "            if obj.fset:\n",
    "                obj = obj.setter(func_logger(obj.fset))\n",
    "            if obj.fdel:\n",
    "                obj = obj.deleter(func_logger(obj.fdel))\n",
    "            setattr(cls, name, obj)\n",
    "        elif inspect.isroutine(obj):\n",
    "            print(\"decorating isroutine\", cls, name, obj)\n",
    "            # decorate each callable with func_logger\n",
    "            original_func = obj\n",
    "            decorated_func = func_logger(original_func)\n",
    "            setattr(cls, name, decorated_func)\n",
    "            \n",
    "    return cls"
   ]
  },
  {
   "cell_type": "code",
   "execution_count": 66,
   "id": "16702e50-f234-4e0a-844f-21a3f6dbd5fa",
   "metadata": {},
   "outputs": [
    {
     "name": "stdout",
     "output_type": "stream",
     "text": [
      "decorating isroutine <class '__main__.MyClass.Other'> __call__ <function MyClass.Other.__call__ at 0x10f0d05e0>\n",
      "decorating classmethod or staticmethod <class '__main__.MyClass'> static_method <staticmethod(<function MyClass.static_method at 0x10f0d1760>)>\n",
      "decorating classmethod or staticmethod <class '__main__.MyClass'> cls_method <classmethod(<function MyClass.cls_method at 0x10f0d1c60>)>\n",
      "decorating isroutine <class '__main__.MyClass'> inst_method <function MyClass.inst_method at 0x10f0d2e80>\n",
      "decorating property <class '__main__.MyClass'> name <property object at 0x10fb1e840>\n",
      "decorating isroutine <class '__main__.MyClass'> __add__ <function MyClass.__add__ at 0x10f0d3ce0>\n"
     ]
    }
   ],
   "source": [
    "@class_logger\n",
    "class MyClass:\n",
    "    @staticmethod\n",
    "    def static_method():\n",
    "        pass\n",
    "\n",
    "    @classmethod\n",
    "    def cls_method(cls):\n",
    "        pass\n",
    "\n",
    "    def inst_method(self):\n",
    "        pass\n",
    "\n",
    "    @property\n",
    "    def name(self):\n",
    "        pass\n",
    "\n",
    "    def __add__(self, other):\n",
    "        pass\n",
    "\n",
    "    @class_logger\n",
    "    class Other:\n",
    "        def __call__(self):\n",
    "            pass\n",
    "\n",
    "    other = Other()"
   ]
  },
  {
   "cell_type": "code",
   "execution_count": null,
   "id": "413c63cb-2b4a-476f-9e67-6e5d5fa52d57",
   "metadata": {},
   "outputs": [],
   "source": [
    "def class_logger(cls):\n",
    "    # improved version that handles static and class methods\n",
    "    for name, obj in vars(cls).items():\n",
    "\n",
    "        if isinstance(obj, classmethod) or isinstance(obj, staticmethod):\n",
    "            print(\"decorating classmethod or staticmethod\", cls, name, obj)\n",
    "            type_ = type(obj)\n",
    "            original_func = obj.__func__\n",
    "            decorated_func = func_logger(original_func)\n",
    "            method = type_(decorated_func)\n",
    "            setattr(cls, name, method)\n",
    "        elif isinstance(obj, property):\n",
    "            print(\"decorating property\", cls, name, obj)\n",
    "            if obj.fget:\n",
    "                obj = obj.getter(func_logger(obj.fget))\n",
    "            if obj.fset:\n",
    "                obj = obj.setter(func_logger(obj.fset))\n",
    "            if obj.fdel:\n",
    "                obj = obj.deleter(func_logger(obj.fdel))\n",
    "            setattr(cls, name, obj)\n",
    "        elif inspect.isroutine(obj):\n",
    "            print(\"decorating isroutine\", cls, name, obj)\n",
    "            # decorate each callable with func_logger\n",
    "            original_func = obj\n",
    "            decorated_func = func_logger(original_func)\n",
    "            setattr(cls, name, decorated_func)\n",
    "            \n",
    "    return cls"
   ]
  }
 ],
 "metadata": {
  "kernelspec": {
   "display_name": "Python 3 (ipykernel)",
   "language": "python",
   "name": "python3"
  },
  "language_info": {
   "codemirror_mode": {
    "name": "ipython",
    "version": 3
   },
   "file_extension": ".py",
   "mimetype": "text/x-python",
   "name": "python",
   "nbconvert_exporter": "python",
   "pygments_lexer": "ipython3",
   "version": "3.12.3"
  }
 },
 "nbformat": 4,
 "nbformat_minor": 5
}
