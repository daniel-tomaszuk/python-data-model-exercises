{
 "cells": [
  {
   "cell_type": "code",
   "execution_count": 1,
   "id": "d46a2f9e-6d7f-4bf6-85b9-d8f876cc262d",
   "metadata": {},
   "outputs": [],
   "source": [
    "class Person:\n",
    "\n",
    "    def __setattr__(self, name, value):\n",
    "        print(\"__setattr__ called\")\n",
    "        super().__setattr__(name, value)\n"
   ]
  },
  {
   "cell_type": "code",
   "execution_count": 2,
   "id": "f629fe80-feab-44c4-9f4f-9fab127f637b",
   "metadata": {},
   "outputs": [
    {
     "name": "stdout",
     "output_type": "stream",
     "text": [
      "__setattr__ called\n"
     ]
    }
   ],
   "source": [
    "p = Person()\n",
    "p.name = \"Bob\""
   ]
  },
  {
   "cell_type": "code",
   "execution_count": 3,
   "id": "30c365dc-4267-4ca9-9277-60f0a79f83c0",
   "metadata": {},
   "outputs": [
    {
     "data": {
      "text/plain": [
       "{'name': 'Bob'}"
      ]
     },
     "execution_count": 3,
     "metadata": {},
     "output_type": "execute_result"
    }
   ],
   "source": [
    "p.__dict__"
   ]
  },
  {
   "cell_type": "code",
   "execution_count": 4,
   "id": "74737ff0-b682-4a2a-8db3-dcc11d045b29",
   "metadata": {},
   "outputs": [],
   "source": [
    "Person.test = \"test\""
   ]
  },
  {
   "cell_type": "code",
   "execution_count": 5,
   "id": "0cc29acd-1d4d-4cf9-8b78-0dfc1a9cd44e",
   "metadata": {},
   "outputs": [
    {
     "data": {
      "text/plain": [
       "mappingproxy({'__module__': '__main__',\n",
       "              '__setattr__': <function __main__.Person.__setattr__(self, name, value)>,\n",
       "              '__dict__': <attribute '__dict__' of 'Person' objects>,\n",
       "              '__weakref__': <attribute '__weakref__' of 'Person' objects>,\n",
       "              '__doc__': None,\n",
       "              'test': 'test'})"
      ]
     },
     "execution_count": 5,
     "metadata": {},
     "output_type": "execute_result"
    }
   ],
   "source": [
    "Person.__dict__"
   ]
  },
  {
   "cell_type": "code",
   "execution_count": 6,
   "id": "1da2a0e1-407f-4582-9b17-edc409d85973",
   "metadata": {},
   "outputs": [],
   "source": [
    "class MyMeta(type):\n",
    "    def __setattr__(self, name, value):\n",
    "        print(\"Class: __setattr__ called\")\n",
    "        super().__setattr__(name, value)\n",
    "\n",
    "\n",
    "class Person(metaclass=MyMeta):\n",
    "    def __setattr__(self, name, value):\n",
    "        print(\"Instance: __setattr__ called\")\n",
    "        super().__setattr__(name, value)"
   ]
  },
  {
   "cell_type": "code",
   "execution_count": 7,
   "id": "b97c534f-5667-4fd9-bb2a-64a39ba40584",
   "metadata": {},
   "outputs": [
    {
     "name": "stdout",
     "output_type": "stream",
     "text": [
      "Class: __setattr__ called\n"
     ]
    }
   ],
   "source": [
    "Person.test = \"test\""
   ]
  },
  {
   "cell_type": "code",
   "execution_count": 8,
   "id": "48183e53-a471-4d3e-8797-8348a1bec0c9",
   "metadata": {},
   "outputs": [],
   "source": [
    "class NonDataDescriptor:\n",
    "    def __get__(self, instance, owner_class):\n",
    "        print(f\"{type(self).__name__}.__get__ called\")\n",
    "\n",
    "\n",
    "class DataDescriptor(NonDataDescriptor):\n",
    "    def __set__(self, instance, value):\n",
    "        print(\"MyDataDescriptor.__set__ called\")\n"
   ]
  },
  {
   "cell_type": "code",
   "execution_count": 9,
   "id": "0f746ee9-2745-4852-af8d-926770d385ed",
   "metadata": {},
   "outputs": [],
   "source": [
    "class MyClass:\n",
    "    non_data_desc = NonDataDescriptor()\n",
    "    data_desc = DataDescriptor()\n",
    "\n",
    "    def __setattr__(self, name, value):\n",
    "        print(f\"{type(self).__name__}.__setattr__ called\")\n",
    "        super().__setattr__(name, value)\n"
   ]
  },
  {
   "cell_type": "code",
   "execution_count": 10,
   "id": "9d3d8ce5-ed88-43da-821a-b6e5382710cf",
   "metadata": {},
   "outputs": [
    {
     "data": {
      "text/plain": [
       "{}"
      ]
     },
     "execution_count": 10,
     "metadata": {},
     "output_type": "execute_result"
    }
   ],
   "source": [
    "m = MyClass()\n",
    "m.__dict__"
   ]
  },
  {
   "cell_type": "code",
   "execution_count": 11,
   "id": "e1911a8c-04db-4aa0-8fbc-49dfdba3b115",
   "metadata": {},
   "outputs": [
    {
     "name": "stdout",
     "output_type": "stream",
     "text": [
      "MyClass.__setattr__ called\n",
      "MyDataDescriptor.__set__ called\n"
     ]
    }
   ],
   "source": [
    "m.data_desc = 100"
   ]
  },
  {
   "cell_type": "code",
   "execution_count": 12,
   "id": "3acdd4f8-d369-43fe-a6b0-eda48aadaa45",
   "metadata": {},
   "outputs": [
    {
     "name": "stdout",
     "output_type": "stream",
     "text": [
      "MyClass.__setattr__ called\n"
     ]
    }
   ],
   "source": [
    "m.non_data_desc = 200  # data descriptor is not used, regular __setattr__ on __dict__ is used"
   ]
  },
  {
   "cell_type": "code",
   "execution_count": 13,
   "id": "975a23e2-1995-41a5-9840-5dbdbd1122ea",
   "metadata": {},
   "outputs": [
    {
     "data": {
      "text/plain": [
       "{'non_data_desc': 200}"
      ]
     },
     "execution_count": 13,
     "metadata": {},
     "output_type": "execute_result"
    }
   ],
   "source": [
    "m.__dict__"
   ]
  },
  {
   "cell_type": "code",
   "execution_count": 14,
   "id": "29c92551-4d02-465b-ba7e-0944ac1512fc",
   "metadata": {},
   "outputs": [],
   "source": [
    "class MyClass:\n",
    "\n",
    "    def __setattr__(self, name, value):\n",
    "        print(\"__setattr__\")\n",
    "        if name.startswith(\"_\") and not name.startswith(\"__\"):\n",
    "            raise AttributeError(\"Forbiden. This attr is read only\")\n",
    "        super().__setattr__(name, value)  # remember to use super() to avoid infinite recursion!"
   ]
  },
  {
   "cell_type": "code",
   "execution_count": 15,
   "id": "1c158e51-d42e-4d67-b763-76f662222af8",
   "metadata": {},
   "outputs": [
    {
     "name": "stdout",
     "output_type": "stream",
     "text": [
      "__setattr__\n",
      "<class 'AttributeError'> Forbiden. This attr is read only\n"
     ]
    }
   ],
   "source": [
    "m = MyClass()\n",
    "try:\n",
    "    m._test = 10\n",
    "except AttributeError as e:\n",
    "    print(type(e), e)"
   ]
  },
  {
   "cell_type": "code",
   "execution_count": 16,
   "id": "209d3165-9554-45a8-8540-8ecd107f3e5a",
   "metadata": {},
   "outputs": [
    {
     "name": "stdout",
     "output_type": "stream",
     "text": [
      "__setattr__\n",
      "__setattr__\n"
     ]
    }
   ],
   "source": [
    "m.test = 20\n",
    "m.__test = 21"
   ]
  },
  {
   "cell_type": "code",
   "execution_count": 17,
   "id": "f10c44ca-2b23-4109-9cb3-e791d94c03be",
   "metadata": {},
   "outputs": [
    {
     "data": {
      "text/plain": [
       "{'test': 20, '__test': 21}"
      ]
     },
     "execution_count": 17,
     "metadata": {},
     "output_type": "execute_result"
    }
   ],
   "source": [
    "m.__dict__"
   ]
  },
  {
   "cell_type": "code",
   "execution_count": null,
   "id": "4ea343af-1688-4cb5-849f-bcd54414f978",
   "metadata": {},
   "outputs": [],
   "source": []
  }
 ],
 "metadata": {
  "kernelspec": {
   "display_name": "Python 3 (ipykernel)",
   "language": "python",
   "name": "python3"
  },
  "language_info": {
   "codemirror_mode": {
    "name": "ipython",
    "version": 3
   },
   "file_extension": ".py",
   "mimetype": "text/x-python",
   "name": "python",
   "nbconvert_exporter": "python",
   "pygments_lexer": "ipython3",
   "version": "3.12.3"
  }
 },
 "nbformat": 4,
 "nbformat_minor": 5
}
