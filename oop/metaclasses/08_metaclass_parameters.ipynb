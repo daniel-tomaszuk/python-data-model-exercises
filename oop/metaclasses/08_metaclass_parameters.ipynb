{
 "cells": [
  {
   "cell_type": "code",
   "execution_count": 1,
   "id": "ec0c2fa3-e1da-47bb-8413-7dcf9018d277",
   "metadata": {},
   "outputs": [
    {
     "data": {
      "text/plain": [
       "'\\nMetaclass parameters have to be passed as kwargs.\\nArgs are reserved for parent classes.\\n'"
      ]
     },
     "execution_count": 1,
     "metadata": {},
     "output_type": "execute_result"
    }
   ],
   "source": [
    "\"\"\"\n",
    "Metaclass parameters have to be passed as kwargs.\n",
    "Args are reserved for parent classes.\n",
    "\"\"\""
   ]
  },
  {
   "cell_type": "code",
   "execution_count": 10,
   "id": "6d21787f-855d-4541-854d-587a57b62ad5",
   "metadata": {},
   "outputs": [],
   "source": [
    "class Metaclass(type):\n",
    "    def __new__(mcls, name, bases, cls_dict):\n",
    "        return super().__new__(mcls, name, bases, cls_dict)\n",
    "\n",
    "\n",
    "class MyClass(metaclass=Metaclass):\n",
    "    pass\n",
    "\n"
   ]
  },
  {
   "cell_type": "code",
   "execution_count": 8,
   "id": "68505b87-01ec-4f6a-80d9-244140bec23c",
   "metadata": {},
   "outputs": [
    {
     "data": {
      "text/plain": [
       "(__main__.Metaclass, __main__.MyClass)"
      ]
     },
     "execution_count": 8,
     "metadata": {},
     "output_type": "execute_result"
    }
   ],
   "source": [
    "type(MyClass), type(MyClass())"
   ]
  },
  {
   "cell_type": "code",
   "execution_count": 15,
   "id": "a722e93e-d0cf-4c2d-8f5a-3140738199fb",
   "metadata": {},
   "outputs": [
    {
     "name": "stdout",
     "output_type": "stream",
     "text": [
      "arg1 arg2 None\n"
     ]
    }
   ],
   "source": [
    "class Metaclass(type):\n",
    "    # additional args MUST BE passed as kwargs\n",
    "    def __new__(mcls, name, bases, cls_dict, arg1, arg2, arg3=None):\n",
    "        print(arg1, arg2, arg3)\n",
    "        return super().__new__(mcls, name, bases, cls_dict)\n",
    "\n",
    "\n",
    "class MyClass(object, metaclass=Metaclass, arg1=\"arg1\", arg2=\"arg2\"):\n",
    "    pass\n"
   ]
  },
  {
   "cell_type": "code",
   "execution_count": 17,
   "id": "4e7bfaed-d9d1-41f4-8930-80d25a184cb0",
   "metadata": {},
   "outputs": [
    {
     "name": "stdout",
     "output_type": "stream",
     "text": [
      "Creating class with some extra args: (('account_type', 'Savings'), ('apr', 0.5))\n"
     ]
    }
   ],
   "source": [
    "class AutoClassAttributes(type):\n",
    "    def __new__(mcls, name, bases, cls_dict, extra_attrs=None):\n",
    "        if extra_attrs:\n",
    "            print(f\"Creating class with some extra args: {extra_attrs}\")\n",
    "            for attr_name, attr_value in extra_attrs:\n",
    "                cls_dict[attr_name] = attr_value\n",
    "\n",
    "        obj = super().__new__(mcls, name, bases, cls_dict)\n",
    "        return obj\n",
    "\n",
    "\n",
    "class Account(metaclass=AutoClassAttributes, extra_attrs=((\"account_type\", \"Savings\"), (\"apr\", 0.5))):\n",
    "    pass\n"
   ]
  },
  {
   "cell_type": "code",
   "execution_count": 20,
   "id": "b31e1b2f-da66-4d87-9950-507d56d31feb",
   "metadata": {},
   "outputs": [
    {
     "data": {
      "text/plain": [
       "mappingproxy({'__module__': '__main__',\n",
       "              'account_type': 'Savings',\n",
       "              'apr': 0.5,\n",
       "              '__dict__': <attribute '__dict__' of 'Account' objects>,\n",
       "              '__weakref__': <attribute '__weakref__' of 'Account' objects>,\n",
       "              '__doc__': None})"
      ]
     },
     "execution_count": 20,
     "metadata": {},
     "output_type": "execute_result"
    }
   ],
   "source": [
    "Account.__dict__  # additional args passed and used as a class attributes"
   ]
  },
  {
   "cell_type": "code",
   "execution_count": 21,
   "id": "7128bda4-6683-472d-bc69-ed59681c3505",
   "metadata": {},
   "outputs": [
    {
     "name": "stdout",
     "output_type": "stream",
     "text": [
      "Creating class with some extra args: (('account_type', 'Savings'), ('apr', 0.5))\n"
     ]
    }
   ],
   "source": [
    "class AutoClassAttributes(type):\n",
    "    def __new__(mcls, name, bases, cls_dict, extra_attrs=None):\n",
    "        obj = super().__new__(mcls, name, bases, cls_dict)\n",
    "\n",
    "        if extra_attrs:\n",
    "            print(f\"Creating class with some extra args: {extra_attrs}\")\n",
    "            for attr_name, attr_value in extra_attrs:\n",
    "                setattr(obj, attr_name, attr_value)\n",
    "        return obj\n",
    "\n",
    "\n",
    "class Account(metaclass=AutoClassAttributes, extra_attrs=((\"account_type\", \"Savings\"), (\"apr\", 0.5))):\n",
    "    pass\n"
   ]
  },
  {
   "cell_type": "code",
   "execution_count": 22,
   "id": "98b4fb78-7c9c-4b85-8745-e764b8cae4cc",
   "metadata": {},
   "outputs": [
    {
     "data": {
      "text/plain": [
       "mappingproxy({'__module__': '__main__',\n",
       "              '__dict__': <attribute '__dict__' of 'Account' objects>,\n",
       "              '__weakref__': <attribute '__weakref__' of 'Account' objects>,\n",
       "              '__doc__': None,\n",
       "              'account_type': 'Savings',\n",
       "              'apr': 0.5})"
      ]
     },
     "execution_count": 22,
     "metadata": {},
     "output_type": "execute_result"
    }
   ],
   "source": [
    "Account.__dict__  # additional args passed and used as a class attributes"
   ]
  },
  {
   "cell_type": "code",
   "execution_count": null,
   "id": "1b88c3b3-e6bf-4389-a989-b0ac7f9897e1",
   "metadata": {},
   "outputs": [],
   "source": []
  }
 ],
 "metadata": {
  "kernelspec": {
   "display_name": "Python 3 (ipykernel)",
   "language": "python",
   "name": "python3"
  },
  "language_info": {
   "codemirror_mode": {
    "name": "ipython",
    "version": 3
   },
   "file_extension": ".py",
   "mimetype": "text/x-python",
   "name": "python",
   "nbconvert_exporter": "python",
   "pygments_lexer": "ipython3",
   "version": "3.12.3"
  }
 },
 "nbformat": 4,
 "nbformat_minor": 5
}
