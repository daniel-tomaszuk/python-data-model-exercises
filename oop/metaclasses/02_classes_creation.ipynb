{
 "cells": [
  {
   "cell_type": "code",
   "execution_count": 1,
   "id": "132d02a0-424c-4275-b139-f415367bc04e",
   "metadata": {},
   "outputs": [],
   "source": [
    "import math\n",
    "\n",
    "\n",
    "class Circle:\n",
    "    def __init__(self, x, y, r):\n",
    "        self.x = x\n",
    "        self.y = y\n",
    "        self.r = r\n",
    "\n",
    "    def area(self):\n",
    "        return math.pi * self.r ** 2\n",
    "\n"
   ]
  },
  {
   "cell_type": "code",
   "execution_count": 2,
   "id": "2909a5cb-c2d3-4856-8430-7498b0a85278",
   "metadata": {},
   "outputs": [
    {
     "data": {
      "text/plain": [
       "True"
      ]
     },
     "execution_count": 2,
     "metadata": {},
     "output_type": "execute_result"
    }
   ],
   "source": [
    "\"Circle\" in globals()"
   ]
  },
  {
   "cell_type": "code",
   "execution_count": 3,
   "id": "3310e4a4-fb42-4197-aaa5-c9147f85cc5d",
   "metadata": {},
   "outputs": [
    {
     "data": {
      "text/plain": [
       "(type, True, True)"
      ]
     },
     "execution_count": 3,
     "metadata": {},
     "output_type": "execute_result"
    }
   ],
   "source": [
    "type(Circle), isinstance(Circle, type), issubclass(Circle, object)"
   ]
  },
  {
   "cell_type": "code",
   "execution_count": 4,
   "id": "0bf120c7-039d-4499-b433-82f7074fd909",
   "metadata": {},
   "outputs": [
    {
     "data": {
      "text/plain": [
       "__main__.Circle"
      ]
     },
     "execution_count": 4,
     "metadata": {},
     "output_type": "execute_result"
    }
   ],
   "source": [
    "Circle"
   ]
  },
  {
   "cell_type": "code",
   "execution_count": 5,
   "id": "cbeb8777-936f-4abd-a138-80f7f93eea98",
   "metadata": {},
   "outputs": [],
   "source": [
    "namespace = {}\n",
    "exec(\"\"\"\n",
    "a = 10\n",
    "b = 20\n",
    "\n",
    "def __init__(self):\n",
    "    pass\n",
    "\"\"\", globals(), namespace)"
   ]
  },
  {
   "cell_type": "code",
   "execution_count": 6,
   "id": "d7e765e2-ff29-4613-bd79-b16e12ec9988",
   "metadata": {},
   "outputs": [
    {
     "data": {
      "text/plain": [
       "{'a': 10, 'b': 20, '__init__': <function __main__.__init__(self)>}"
      ]
     },
     "execution_count": 6,
     "metadata": {},
     "output_type": "execute_result"
    }
   ],
   "source": [
    "namespace"
   ]
  },
  {
   "cell_type": "code",
   "execution_count": 7,
   "id": "0a605b42-1889-4461-a322-1b25c4f64cc2",
   "metadata": {},
   "outputs": [],
   "source": [
    "namespace = {}\n",
    "exec(\"\"\"\n",
    "def add(a, b):\n",
    "    return a + b\n",
    "\n",
    "def mul(a, b):\n",
    "    return a * b\n",
    "\"\"\", globals(), namespace)"
   ]
  },
  {
   "cell_type": "code",
   "execution_count": 8,
   "id": "f9bedbad-91b6-4ca2-bfe2-78f7419ca55d",
   "metadata": {},
   "outputs": [
    {
     "data": {
      "text/plain": [
       "{'add': <function __main__.add(a, b)>, 'mul': <function __main__.mul(a, b)>}"
      ]
     },
     "execution_count": 8,
     "metadata": {},
     "output_type": "execute_result"
    }
   ],
   "source": [
    "namespace"
   ]
  },
  {
   "cell_type": "code",
   "execution_count": 9,
   "id": "2b681a1d-7f3f-4c50-a18e-c110858c4dfc",
   "metadata": {},
   "outputs": [
    {
     "data": {
      "text/plain": [
       "(30, 6)"
      ]
     },
     "execution_count": 9,
     "metadata": {},
     "output_type": "execute_result"
    }
   ],
   "source": [
    "namespace[\"add\"](10, 20), namespace[\"mul\"](2, 3)"
   ]
  },
  {
   "cell_type": "code",
   "execution_count": 10,
   "id": "4536280c-6823-4c95-b1e7-76e6d4117976",
   "metadata": {},
   "outputs": [],
   "source": [
    "class_name = \"Circle\"\n",
    "class_body = \"\"\"\n",
    "def __init__(self, x, y, r):\n",
    "    self.x = x\n",
    "    self.y = y\n",
    "    self.r = r\n",
    "\n",
    "def area(self):\n",
    "    return math.pi * self.r ** 2\n",
    "\"\"\"\n",
    "class_bases = ()\n",
    "class_dict = {}\n",
    "exec(class_body, globals(), class_dict)"
   ]
  },
  {
   "cell_type": "code",
   "execution_count": 11,
   "id": "35d6502d-9b0e-4692-8cce-2143211d2ac5",
   "metadata": {},
   "outputs": [
    {
     "data": {
      "text/plain": [
       "{'__init__': <function __main__.__init__(self, x, y, r)>,\n",
       " 'area': <function __main__.area(self)>}"
      ]
     },
     "execution_count": 11,
     "metadata": {},
     "output_type": "execute_result"
    }
   ],
   "source": [
    "class_dict  # now has functions defined in the class body"
   ]
  },
  {
   "cell_type": "code",
   "execution_count": 12,
   "id": "59ce6bf9-5793-4192-b329-225f54039dc8",
   "metadata": {},
   "outputs": [
    {
     "data": {
      "text/plain": [
       "mappingproxy({'__init__': <function __main__.__init__(self, x, y, r)>,\n",
       "              'area': <function __main__.area(self)>,\n",
       "              '__module__': '__main__',\n",
       "              '__dict__': <attribute '__dict__' of 'Circle' objects>,\n",
       "              '__weakref__': <attribute '__weakref__' of 'Circle' objects>,\n",
       "              '__doc__': None})"
      ]
     },
     "execution_count": 12,
     "metadata": {},
     "output_type": "execute_result"
    }
   ],
   "source": [
    "Circle = type(class_name, class_bases, class_dict)\n",
    "Circle.__dict__"
   ]
  },
  {
   "cell_type": "code",
   "execution_count": 13,
   "id": "9ebc447c-552e-4ee7-81c8-f50561b178d3",
   "metadata": {},
   "outputs": [
    {
     "data": {
      "text/plain": [
       "'Circle'"
      ]
     },
     "execution_count": 13,
     "metadata": {},
     "output_type": "execute_result"
    }
   ],
   "source": [
    "Circle.__name__"
   ]
  },
  {
   "cell_type": "code",
   "execution_count": 14,
   "id": "9e35880c-b914-4a70-bbb9-baff51eeca46",
   "metadata": {},
   "outputs": [
    {
     "data": {
      "text/plain": [
       "({'x': 0, 'y': 0, 'r': 1}, 0, 0, 1, 3.141592653589793)"
      ]
     },
     "execution_count": 14,
     "metadata": {},
     "output_type": "execute_result"
    }
   ],
   "source": [
    "c = Circle(0, 0, 1)\n",
    "c.__dict__, c.x, c.y, c.r, c.area()"
   ]
  },
  {
   "cell_type": "code",
   "execution_count": null,
   "id": "2b5a7c42-9e18-4b4e-812e-d18353d10615",
   "metadata": {},
   "outputs": [],
   "source": []
  }
 ],
 "metadata": {
  "kernelspec": {
   "display_name": "Python 3 (ipykernel)",
   "language": "python",
   "name": "python3"
  },
  "language_info": {
   "codemirror_mode": {
    "name": "ipython",
    "version": 3
   },
   "file_extension": ".py",
   "mimetype": "text/x-python",
   "name": "python",
   "nbconvert_exporter": "python",
   "pygments_lexer": "ipython3",
   "version": "3.12.3"
  }
 },
 "nbformat": 4,
 "nbformat_minor": 5
}
