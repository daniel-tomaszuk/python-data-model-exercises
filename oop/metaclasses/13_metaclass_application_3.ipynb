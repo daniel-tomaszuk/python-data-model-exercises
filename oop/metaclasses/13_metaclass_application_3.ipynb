{
 "cells": [
  {
   "cell_type": "code",
   "execution_count": 1,
   "id": "28add24d-fbff-4c64-8272-abd7fdbca9b0",
   "metadata": {},
   "outputs": [],
   "source": [
    "with open(\"prod.ini\", \"w\") as prod, open(\"dev.ini\", \"w\") as dev:\n",
    "    prod.write(\"[Database]\\n\")\n",
    "    prod.write(\"db_host=prod.mynetwork.com\\n\")\n",
    "    prod.write(\"db_name=my_database\\n\")\n",
    "    prod.write(\"\\n[Server]\\n\")\n",
    "    prod.write(\"port=8080\\n\")\n",
    "\n",
    "    dev.write(\"[Database]\\n\")\n",
    "    dev.write(\"db_host=dev.mynetwork.com\\n\")\n",
    "    dev.write(\"db_name=my_database\\n\")\n",
    "    dev.write(\"\\n[Server]\\n\")\n",
    "    dev.write(\"port=3000\\n\")\n"
   ]
  },
  {
   "cell_type": "code",
   "execution_count": 2,
   "id": "d2a96b44-49c2-426f-9505-4c3a61675ad9",
   "metadata": {},
   "outputs": [],
   "source": [
    "import configparser\n",
    "\n",
    "\n",
    "class Config:\n",
    "    def __init__(self, env=\"dev\"):\n",
    "        print(f\"Loading config from {env} file\")\n",
    "        config = configparser.ConfigParser()\n",
    "        file_name = f\"{env}.ini\"\n",
    "        config.read(file_name)\n",
    "        self.db_host = config[\"Database\"][\"db_host\"]\n",
    "        self.db_name = config[\"Database\"][\"db_name\"]\n",
    "        self.port = config[\"Server\"][\"port\"]\n"
   ]
  },
  {
   "cell_type": "code",
   "execution_count": 3,
   "id": "1cbc19bc-73a5-4f18-b1be-fa66347c275b",
   "metadata": {},
   "outputs": [
    {
     "name": "stdout",
     "output_type": "stream",
     "text": [
      "Loading config from dev file\n"
     ]
    }
   ],
   "source": [
    "config = Config(\"dev\")"
   ]
  },
  {
   "cell_type": "code",
   "execution_count": 4,
   "id": "7c4246ad-789c-4bcc-8173-a55bb10f5322",
   "metadata": {},
   "outputs": [
    {
     "data": {
      "text/plain": [
       "{'db_host': 'dev.mynetwork.com', 'db_name': 'my_database', 'port': '3000'}"
      ]
     },
     "execution_count": 4,
     "metadata": {},
     "output_type": "execute_result"
    }
   ],
   "source": [
    "config.__dict__"
   ]
  },
  {
   "cell_type": "code",
   "execution_count": 5,
   "id": "11a29abd-bab5-486e-b3a1-b76b1bfdf29b",
   "metadata": {},
   "outputs": [
    {
     "name": "stdout",
     "output_type": "stream",
     "text": [
      "Help on Config in module __main__ object:\n",
      "\n",
      "class Config(builtins.object)\n",
      " |  Config(env='dev')\n",
      " |\n",
      " |  Methods defined here:\n",
      " |\n",
      " |  __init__(self, env='dev')\n",
      " |      Initialize self.  See help(type(self)) for accurate signature.\n",
      " |\n",
      " |  ----------------------------------------------------------------------\n",
      " |  Data descriptors defined here:\n",
      " |\n",
      " |  __dict__\n",
      " |      dictionary for instance variables\n",
      " |\n",
      " |  __weakref__\n",
      " |      list of weak references to the object\n",
      "\n"
     ]
    }
   ],
   "source": [
    "help(config)  # no info about available attrs"
   ]
  },
  {
   "cell_type": "code",
   "execution_count": 6,
   "id": "b7ec6a8f-39ec-41ea-881d-9ce680fad03d",
   "metadata": {},
   "outputs": [],
   "source": [
    "import configparser\n",
    "\n",
    "\n",
    "class Config:\n",
    "    def __init__(self, env=\"dev\"):\n",
    "        print(f\"Loading config from {env} file\")\n",
    "        config = configparser.ConfigParser()\n",
    "        file_name = f\"{env}.ini\"\n",
    "        config.read(file_name)\n",
    "\n",
    "        for section_name in config.sections():\n",
    "            for key, value in config[section_name].items():\n",
    "                setattr(self, key, value)\n"
   ]
  },
  {
   "cell_type": "code",
   "execution_count": 7,
   "id": "73098d2f-d846-4d3c-90b5-2352121376cd",
   "metadata": {},
   "outputs": [
    {
     "name": "stdout",
     "output_type": "stream",
     "text": [
      "Loading config from prod file\n"
     ]
    },
    {
     "data": {
      "text/plain": [
       "{'db_host': 'prod.mynetwork.com', 'db_name': 'my_database', 'port': '8080'}"
      ]
     },
     "execution_count": 7,
     "metadata": {},
     "output_type": "execute_result"
    }
   ],
   "source": [
    "c = Config(\"prod\")\n",
    "c.__dict__"
   ]
  },
  {
   "cell_type": "code",
   "execution_count": 8,
   "id": "79f0f2c3-b189-4910-affb-afa883bae762",
   "metadata": {},
   "outputs": [],
   "source": [
    "class Section:\n",
    "    def __init__(self, name, item_dict):\n",
    "        \"\"\"\n",
    "        name: str\n",
    "            name of the section\n",
    "        item_dictL dict\n",
    "            dictionary of named (key) config values (value)\n",
    "        \"\"\"\n",
    "        self.name = name\n",
    "        for key, value in item_dict.items():\n",
    "            setattr(self, key, value)"
   ]
  },
  {
   "cell_type": "code",
   "execution_count": 9,
   "id": "d3c2c232-99be-4401-9408-61adfb8e513e",
   "metadata": {},
   "outputs": [],
   "source": [
    "class Config:\n",
    "    def __init__(self, env=\"dev\"):\n",
    "        print(f\"Loading config from {env} file\")\n",
    "        config = configparser.ConfigParser()\n",
    "        file_name = f\"{env}.ini\"\n",
    "        config.read(file_name)\n",
    "\n",
    "        for section_name in config.sections():\n",
    "            section = Section(section_name, config[section_name])\n",
    "            setattr(self, section_name.casefold(), section)\n"
   ]
  },
  {
   "cell_type": "code",
   "execution_count": 10,
   "id": "a8314283-4545-488d-847a-bffd0ec4957f",
   "metadata": {},
   "outputs": [
    {
     "name": "stdout",
     "output_type": "stream",
     "text": [
      "Loading config from dev file\n"
     ]
    }
   ],
   "source": [
    "config = Config()"
   ]
  },
  {
   "cell_type": "code",
   "execution_count": 11,
   "id": "64e38084-35dd-4607-9521-1c85e35c4060",
   "metadata": {},
   "outputs": [
    {
     "data": {
      "text/plain": [
       "{'database': <__main__.Section at 0x10d439010>,\n",
       " 'server': <__main__.Section at 0x10d438fe0>}"
      ]
     },
     "execution_count": 11,
     "metadata": {},
     "output_type": "execute_result"
    }
   ],
   "source": [
    "config.__dict__"
   ]
  },
  {
   "cell_type": "code",
   "execution_count": 12,
   "id": "6c9846b8-a6d8-43b8-8726-7b2fa79a66ba",
   "metadata": {},
   "outputs": [
    {
     "name": "stdout",
     "output_type": "stream",
     "text": [
      "Help on class Config in module __main__:\n",
      "\n",
      "class Config(builtins.object)\n",
      " |  Config(env='dev')\n",
      " |\n",
      " |  Methods defined here:\n",
      " |\n",
      " |  __init__(self, env='dev')\n",
      " |      Initialize self.  See help(type(self)) for accurate signature.\n",
      " |\n",
      " |  ----------------------------------------------------------------------\n",
      " |  Data descriptors defined here:\n",
      " |\n",
      " |  __dict__\n",
      " |      dictionary for instance variables\n",
      " |\n",
      " |  __weakref__\n",
      " |      list of weak references to the object\n",
      "\n"
     ]
    }
   ],
   "source": [
    "help(Config)"
   ]
  },
  {
   "cell_type": "code",
   "execution_count": 13,
   "id": "8665bc3a-2a81-4452-b8de-16987c47b024",
   "metadata": {},
   "outputs": [],
   "source": [
    "class SectionType(type):\n",
    "    def __new__(cls, name, bases, cls_dict, section_name, item_dict):\n",
    "        cls_dict[\"__doc__\"] = f\"Configs for {section_name} section\"\n",
    "        cls_dict[\"section_name\"] = section_name\n",
    "        for key, value in item_dict.items():\n",
    "            cls_dict[key] = value\n",
    "        return super().__new__(cls, name, bases, cls_dict)"
   ]
  },
  {
   "cell_type": "code",
   "execution_count": 14,
   "id": "18b7065e-c2cb-4d8a-8364-51de33f3eec4",
   "metadata": {},
   "outputs": [],
   "source": [
    "class DatabaseSection(metaclass=SectionType, section_name=\"database\", item_dict={\"db_host\": \"db-host\", \"db_name\": \"test\"}):\n",
    "    pass\n"
   ]
  },
  {
   "cell_type": "code",
   "execution_count": 15,
   "id": "4db059b6-04ea-45f9-bf49-13725bfe61fe",
   "metadata": {},
   "outputs": [
    {
     "data": {
      "text/plain": [
       "mappingproxy({'__module__': '__main__',\n",
       "              '__doc__': 'Configs for database section',\n",
       "              'section_name': 'database',\n",
       "              'db_host': 'db-host',\n",
       "              'db_name': 'test',\n",
       "              '__dict__': <attribute '__dict__' of 'DatabaseSection' objects>,\n",
       "              '__weakref__': <attribute '__weakref__' of 'DatabaseSection' objects>})"
      ]
     },
     "execution_count": 15,
     "metadata": {},
     "output_type": "execute_result"
    }
   ],
   "source": [
    "DatabaseSection.__dict__"
   ]
  },
  {
   "cell_type": "code",
   "execution_count": 16,
   "id": "641f6577-c948-4101-9f32-f9e1a52fd861",
   "metadata": {},
   "outputs": [
    {
     "name": "stdout",
     "output_type": "stream",
     "text": [
      "Help on class DatabaseSection in module __main__:\n",
      "\n",
      "class DatabaseSection(builtins.object)\n",
      " |  Configs for database section\n",
      " |\n",
      " |  Data descriptors defined here:\n",
      " |\n",
      " |  __dict__\n",
      " |      dictionary for instance variables\n",
      " |\n",
      " |  __weakref__\n",
      " |      list of weak references to the object\n",
      " |\n",
      " |  ----------------------------------------------------------------------\n",
      " |  Data and other attributes defined here:\n",
      " |\n",
      " |  db_host = 'db-host'\n",
      " |\n",
      " |  db_name = 'test'\n",
      " |\n",
      " |  section_name = 'database'\n",
      "\n"
     ]
    }
   ],
   "source": [
    "help(DatabaseSection)  # now docs works as expected"
   ]
  },
  {
   "cell_type": "code",
   "execution_count": 17,
   "id": "1723b643-9277-4537-ac2e-be1bf0418a44",
   "metadata": {},
   "outputs": [],
   "source": [
    "class ConfigType(type):\n",
    "\n",
    "    def __new__(cls, name, bases, cls_dict, env):\n",
    "        \"\"\"\n",
    "        env: str\n",
    "            The env we are loading for the config (eg. prod, dev, stg)\n",
    "        \"\"\"\n",
    "        cls_dict[\"__doc__\"] = f\"Config for {env}\"\n",
    "        cls_dict[\"env\"] = env\n",
    "        config = configparser.ConfigParser()\n",
    "        file_name = f\"{env}.ini\"\n",
    "        config.read(file_name)\n",
    "        for section_name in config.sections():\n",
    "            class_name = section_name.capitalize()\n",
    "            class_attribute_name = section_name.casefold()\n",
    "            section_items = config[section_name]\n",
    "            bases = (object,)  # same as (,)\n",
    "            section_cls_dict = {}\n",
    "            Section = SectionType(\n",
    "                class_name, \n",
    "                bases, \n",
    "                section_cls_dict, \n",
    "                section_name=section_name, \n",
    "                item_dict=section_items,\n",
    "            )\n",
    "            cls_dict[class_attribute_name] = Section\n",
    "        return super().__new__(cls, name, bases, cls_dict)\n",
    "        "
   ]
  },
  {
   "cell_type": "code",
   "execution_count": 18,
   "id": "056c8514-77d8-4f42-bc96-cbc3f626a93e",
   "metadata": {},
   "outputs": [],
   "source": [
    "class DevConfig(metaclass=ConfigType, env=\"dev\"):\n",
    "    \"\"\"Dev config class\"\"\"\n",
    "\n",
    "\n",
    "class ProdConfig(metaclass=ConfigType, env=\"prod\"):\n",
    "    \"\"\"Prod config class\"\"\"\n"
   ]
  },
  {
   "cell_type": "code",
   "execution_count": 19,
   "id": "8f60b890-985b-407e-88d0-9f859783feae",
   "metadata": {},
   "outputs": [
    {
     "name": "stdout",
     "output_type": "stream",
     "text": [
      "Help on class DevConfig in module __main__:\n",
      "\n",
      "class DevConfig(builtins.object)\n",
      " |  Config for dev\n",
      " |\n",
      " |  Data descriptors defined here:\n",
      " |\n",
      " |  __dict__\n",
      " |      dictionary for instance variables\n",
      " |\n",
      " |  __weakref__\n",
      " |      list of weak references to the object\n",
      " |\n",
      " |  ----------------------------------------------------------------------\n",
      " |  Data and other attributes defined here:\n",
      " |\n",
      " |  database = <class '__main__.Database'>\n",
      " |      Configs for Database section\n",
      " |\n",
      " |\n",
      " |  env = 'dev'\n",
      " |\n",
      " |  server = <class '__main__.Server'>\n",
      " |      Configs for Server section\n",
      "\n"
     ]
    }
   ],
   "source": [
    "help(DevConfig)  # everything is filled in as expected"
   ]
  },
  {
   "cell_type": "code",
   "execution_count": 20,
   "id": "cf0601a8-0e94-440a-8da8-7c7001587a28",
   "metadata": {},
   "outputs": [
    {
     "data": {
      "text/plain": [
       "'dev.mynetwork.com'"
      ]
     },
     "execution_count": 20,
     "metadata": {},
     "output_type": "execute_result"
    }
   ],
   "source": [
    "DevConfig.database.db_host  # autocomplition works!"
   ]
  },
  {
   "cell_type": "code",
   "execution_count": 21,
   "id": "b0f45f78-8e58-4f21-8e0f-08e4236de0f1",
   "metadata": {},
   "outputs": [
    {
     "data": {
      "text/plain": [
       "mappingproxy({'__module__': '__main__',\n",
       "              '__doc__': 'Config for prod',\n",
       "              'env': 'prod',\n",
       "              'database': __main__.Database,\n",
       "              'server': __main__.Server,\n",
       "              '__dict__': <attribute '__dict__' of 'ProdConfig' objects>,\n",
       "              '__weakref__': <attribute '__weakref__' of 'ProdConfig' objects>})"
      ]
     },
     "execution_count": 21,
     "metadata": {},
     "output_type": "execute_result"
    }
   ],
   "source": [
    "ProdConfig.__dict__"
   ]
  },
  {
   "cell_type": "code",
   "execution_count": 22,
   "id": "5fe6f623-c736-43af-81ae-e1595721c799",
   "metadata": {},
   "outputs": [
    {
     "data": {
      "text/plain": [
       "'8080'"
      ]
     },
     "execution_count": 22,
     "metadata": {},
     "output_type": "execute_result"
    }
   ],
   "source": [
    "ProdConfig.server.port"
   ]
  },
  {
   "cell_type": "code",
   "execution_count": 23,
   "id": "e6bb65e1-9102-4f63-87e2-fa5b569dc6c7",
   "metadata": {},
   "outputs": [
    {
     "name": "stdout",
     "output_type": "stream",
     "text": [
      "Help on class ProdConfig in module __main__:\n",
      "\n",
      "class ProdConfig(builtins.object)\n",
      " |  Config for prod\n",
      " |\n",
      " |  Data descriptors defined here:\n",
      " |\n",
      " |  __dict__\n",
      " |      dictionary for instance variables\n",
      " |\n",
      " |  __weakref__\n",
      " |      list of weak references to the object\n",
      " |\n",
      " |  ----------------------------------------------------------------------\n",
      " |  Data and other attributes defined here:\n",
      " |\n",
      " |  database = <class '__main__.Database'>\n",
      " |      Configs for Database section\n",
      " |\n",
      " |\n",
      " |  env = 'prod'\n",
      " |\n",
      " |  server = <class '__main__.Server'>\n",
      " |      Configs for Server section\n",
      "\n"
     ]
    }
   ],
   "source": [
    "help(ProdConfig)"
   ]
  },
  {
   "cell_type": "code",
   "execution_count": 24,
   "id": "745dc01e-2f3a-4b4f-88e3-ee8aa59dc46d",
   "metadata": {},
   "outputs": [
    {
     "name": "stdout",
     "output_type": "stream",
     "text": [
      "Help on class Database in module __main__:\n",
      "\n",
      "class Database(builtins.object)\n",
      " |  Configs for Database section\n",
      " |\n",
      " |  Data descriptors defined here:\n",
      " |\n",
      " |  __dict__\n",
      " |      dictionary for instance variables\n",
      " |\n",
      " |  __weakref__\n",
      " |      list of weak references to the object\n",
      " |\n",
      " |  ----------------------------------------------------------------------\n",
      " |  Data and other attributes defined here:\n",
      " |\n",
      " |  db_host = 'prod.mynetwork.com'\n",
      " |\n",
      " |  db_name = 'my_database'\n",
      " |\n",
      " |  section_name = 'Database'\n",
      "\n"
     ]
    }
   ],
   "source": [
    "help(ProdConfig.database)"
   ]
  },
  {
   "cell_type": "code",
   "execution_count": null,
   "id": "075f4e97-c499-46a1-bd83-99490d35ca81",
   "metadata": {},
   "outputs": [],
   "source": []
  }
 ],
 "metadata": {
  "kernelspec": {
   "display_name": "Python 3 (ipykernel)",
   "language": "python",
   "name": "python3"
  },
  "language_info": {
   "codemirror_mode": {
    "name": "ipython",
    "version": 3
   },
   "file_extension": ".py",
   "mimetype": "text/x-python",
   "name": "python",
   "nbconvert_exporter": "python",
   "pygments_lexer": "ipython3",
   "version": "3.12.3"
  }
 },
 "nbformat": 4,
 "nbformat_minor": 5
}
