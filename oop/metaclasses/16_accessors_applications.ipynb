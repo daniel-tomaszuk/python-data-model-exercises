{
 "cells": [
  {
   "cell_type": "code",
   "execution_count": 1,
   "id": "955fa82b-1f2e-4cad-aefe-f94ae69f6443",
   "metadata": {},
   "outputs": [],
   "source": [
    "DB = {\n",
    "    'Person': {\n",
    "        1: {'first_name': 'Isaac', 'last_name': 'Newton', 'born': 1642, 'country_id': 1},\n",
    "        2: {'first_name': 'Gottfried', 'last_name': 'von Leibniz', 'born': 1646, 'country_id': 5},\n",
    "        3: {'first_name': 'Joseph', 'last_name': 'Fourier', 'born': 1768, 'country_id': 3},\n",
    "        4: {'first_name': 'Bernhard', 'last_name': 'Riemann', 'born': 1826, 'country_id': 5},\n",
    "        5: {'first_name': 'David', 'last_name': 'Hilbert', 'born': 1862 , 'country_id': 5},\n",
    "        6: {'first_name': 'Srinivasa', 'last_name': 'Ramanujan', 'born': 1887, 'country_id': 4},\n",
    "        7: {'first_name': 'John', 'last_name': 'von Neumann', 'born': 1903, 'country_id': 2},\n",
    "        8: {'first_name': 'Andrew', 'last_name': 'Wiles', 'born': 1928, 'country_id': 6}\n",
    "    },\n",
    "    'Country': {\n",
    "        1: {'name': 'United Kingdom', 'capital': 'London', 'continent': 'Europe'},\n",
    "        2 :{'name': 'Hungary', 'capital': 'Budapest', 'continent': 'Europe'},\n",
    "        3: {'name': 'France', 'capital': 'Paris', 'continent': 'Europe'},\n",
    "        4: {'name': 'India', 'capital': 'New Delhi', 'continent': 'Asia'},\n",
    "        5: {'name': 'Germany', 'capital': 'Berlin', 'continent': 'Europe'},\n",
    "        6: {'name': 'USA', 'capital': 'Washington DC', 'continent': 'North America'}\n",
    "        }\n",
    "}"
   ]
  },
  {
   "cell_type": "code",
   "execution_count": 2,
   "id": "f83e940e-d53a-4986-9a85-27abf2f84762",
   "metadata": {},
   "outputs": [],
   "source": [
    "class Country:\n",
    "    # not a very good example on how to get data from DB, if DB changes, we would need to update this as well\n",
    "    def __init__(self, id_):\n",
    "        if _id in DB['Country']:\n",
    "            self._db_record = DB['Country'][id_]\n",
    "        else:\n",
    "            raise ValueError(f'Record not found (Country.id={id_})')\n",
    "\n",
    "    @property\n",
    "    def name(self):\n",
    "        return self._db_record['name']\n",
    "    \n",
    "    @property\n",
    "    def capital(self):\n",
    "        return self._db_record['capital']\n",
    "    \n",
    "    @property\n",
    "    def continent(self):\n",
    "        return self._db_record['continent']"
   ]
  },
  {
   "cell_type": "code",
   "execution_count": 3,
   "id": "4bbfe5b2-7079-45f4-94f1-1cdb8bd83193",
   "metadata": {},
   "outputs": [],
   "source": [
    "class DBRecord:\n",
    "    def __init__(self, db_record_dict):\n",
    "        # again, careful how you set a property on instances of this class\n",
    "        # because we are overriding __setattr__ we cannot just use \n",
    "        # self._record = db_record_dict\n",
    "        # this will call OUR version of `__setattr__`, which attempts to \n",
    "        # see if name is in _record - but _record does not exist yet, so it will\n",
    "        # call __getattr__, which in turn tries to check if that is contained in _record\n",
    "        # so, infinite recursion.\n",
    "        # What we want to here is BYPASS our custom __setattr__ - so we'll use\n",
    "        # the one in the superclass.\n",
    "        super().__setattr__('_record', db_record_dict)    \n",
    "        \n",
    "    def __getattr__(self, name):\n",
    "        # here we could write\n",
    "        #     if name in self._record \n",
    "        # since this method should not get called\n",
    "        # before _record as been created.\n",
    "        # But just to be on the safe side, I'm still going to use super\n",
    "        \n",
    "        if name in super().__getattribute__('_record'):\n",
    "            return self._record[name]\n",
    "        else:\n",
    "            raise AttributeError(f'Field name {name} does not exist.')\n",
    "\n",
    "    def __setattr__(self, name, value):\n",
    "        # and again here, we could write\n",
    "        # if name in self._record, but I'm still going to use super\n",
    "        if name in super().__getattribute__('_record'):\n",
    "            super().__setattr__(name, value)\n",
    "            # self._record[name] = value\n",
    "        else:\n",
    "            raise AttributeError(f'Field name {name} does not exist.')"
   ]
  },
  {
   "cell_type": "code",
   "execution_count": 4,
   "id": "dbef65ba-93ca-4d00-b257-4c7e27588807",
   "metadata": {},
   "outputs": [],
   "source": [
    "class DBTable:\n",
    "    def __init__(self, db, table_name):\n",
    "        if table_name not in db:\n",
    "            raise ValueError(f\"The table {table_name} does not exist in the DB.\")\n",
    "        self._table_name = table_name\n",
    "        self._table = db[table_name]\n",
    "\n",
    "    @property\n",
    "    def table_name(self):\n",
    "        return self._table_name\n",
    "\n",
    "    def __call__(self, record_id):\n",
    "        if record_id not in self._table:\n",
    "            raise ValueError(f\"Specified if {record_id} does not exist in table {self.table_name}\")\n",
    "        return DBRecord(self._table[record_id])\n",
    "        "
   ]
  },
  {
   "cell_type": "code",
   "execution_count": 5,
   "id": "7ab33091-5990-48e2-9422-20f8e4795dbe",
   "metadata": {},
   "outputs": [],
   "source": [
    "table_person = DBTable(DB, \"Person\")\n",
    "table_country = DBTable(DB, \"Country\")\n",
    "p1 = table_person(1)"
   ]
  },
  {
   "cell_type": "code",
   "execution_count": 6,
   "id": "77eb3908-b161-44df-9ab6-baf7e45345e1",
   "metadata": {},
   "outputs": [
    {
     "data": {
      "text/plain": [
       "{'_record': {'first_name': 'Isaac',\n",
       "  'last_name': 'Newton',\n",
       "  'born': 1642,\n",
       "  'country_id': 1}}"
      ]
     },
     "execution_count": 6,
     "metadata": {},
     "output_type": "execute_result"
    }
   ],
   "source": [
    "p1.__dict__"
   ]
  },
  {
   "cell_type": "code",
   "execution_count": 7,
   "id": "84ef00e0-516f-4350-8c5b-81b7814282b3",
   "metadata": {},
   "outputs": [
    {
     "data": {
      "text/plain": [
       "('Isaac', 'Newton')"
      ]
     },
     "execution_count": 7,
     "metadata": {},
     "output_type": "execute_result"
    }
   ],
   "source": [
    "p1.first_name, p1.last_name"
   ]
  },
  {
   "cell_type": "code",
   "execution_count": 8,
   "id": "89b467da-3eab-4554-bcd2-dd253cf676c6",
   "metadata": {},
   "outputs": [],
   "source": [
    "c1 = table_country(p1.country_id)"
   ]
  },
  {
   "cell_type": "code",
   "execution_count": 9,
   "id": "2083ac72-b329-429b-b7f7-1b2fc1030130",
   "metadata": {},
   "outputs": [
    {
     "data": {
      "text/plain": [
       "{'_record': {'name': 'United Kingdom',\n",
       "  'capital': 'London',\n",
       "  'continent': 'Europe'}}"
      ]
     },
     "execution_count": 9,
     "metadata": {},
     "output_type": "execute_result"
    }
   ],
   "source": [
    "c1.__dict__"
   ]
  },
  {
   "cell_type": "code",
   "execution_count": 10,
   "id": "fee727db-f869-463e-880e-5ac53a19c7dd",
   "metadata": {},
   "outputs": [],
   "source": [
    "class DBRecord:\n",
    "    def __init__(self, db_record_dict):\n",
    "        super().__setattr__('_record', db_record_dict)    \n",
    "        \n",
    "    def __getattr__(self, name):\n",
    "        if name in super().__getattribute__('_record'):\n",
    "            return self._record[name]\n",
    "        else:\n",
    "            raise AttributeError(f'Field name {name} does not exist.')\n",
    "\n",
    "    def __setattr__(self, name, value):\n",
    "        if name in super().__getattribute__('_record'):\n",
    "            super().__setattr__(name, value)\n",
    "        else:\n",
    "            raise AttributeError(f'Field name {name} does not exist.')\n",
    "\n",
    "    @property\n",
    "    def fields(self):\n",
    "        record = super().__getattribute__(\"_record\")  # use __getattribure__ to avoid error at __getattr__\n",
    "        return tuple(record.keys())\n"
   ]
  },
  {
   "cell_type": "code",
   "execution_count": 11,
   "id": "c7472c29-cc8f-453a-a3c7-3898744c09ef",
   "metadata": {},
   "outputs": [
    {
     "data": {
      "text/plain": [
       "__main__.DBRecord"
      ]
     },
     "execution_count": 11,
     "metadata": {},
     "output_type": "execute_result"
    }
   ],
   "source": [
    "t_person = DBTable(DB, \"Person\")\n",
    "p1 = t_person(2)\n",
    "type(p1)"
   ]
  },
  {
   "cell_type": "code",
   "execution_count": 12,
   "id": "a3b54368-9b07-4ff4-9962-a186fe20fdba",
   "metadata": {},
   "outputs": [
    {
     "data": {
      "text/plain": [
       "('first_name', 'last_name', 'born', 'country_id')"
      ]
     },
     "execution_count": 12,
     "metadata": {},
     "output_type": "execute_result"
    }
   ],
   "source": [
    "p1.fields"
   ]
  },
  {
   "cell_type": "code",
   "execution_count": 13,
   "id": "ee5bdc1c-69b2-47bd-b7a1-2ed29f6dfea8",
   "metadata": {},
   "outputs": [
    {
     "data": {
      "text/plain": [
       "'Gottfried'"
      ]
     },
     "execution_count": 13,
     "metadata": {},
     "output_type": "execute_result"
    }
   ],
   "source": [
    "p1.first_name"
   ]
  },
  {
   "cell_type": "code",
   "execution_count": 14,
   "id": "badcd5f2-0122-40db-b41e-3ca70031b35c",
   "metadata": {},
   "outputs": [],
   "source": [
    "p1.first_name = \"Gottfried van der Hoven\""
   ]
  },
  {
   "cell_type": "code",
   "execution_count": 15,
   "id": "2a23de01-889e-4d36-81b3-cb3ae04e7ac5",
   "metadata": {},
   "outputs": [
    {
     "data": {
      "text/plain": [
       "{'_record': {'first_name': 'Gottfried',\n",
       "  'last_name': 'von Leibniz',\n",
       "  'born': 1646,\n",
       "  'country_id': 5},\n",
       " 'first_name': 'Gottfried van der Hoven'}"
      ]
     },
     "execution_count": 15,
     "metadata": {},
     "output_type": "execute_result"
    }
   ],
   "source": [
    "p1.__dict__"
   ]
  },
  {
   "cell_type": "code",
   "execution_count": null,
   "id": "15955832-08b3-410c-84bb-7c5438f86e84",
   "metadata": {},
   "outputs": [],
   "source": []
  }
 ],
 "metadata": {
  "kernelspec": {
   "display_name": "Python 3 (ipykernel)",
   "language": "python",
   "name": "python3"
  },
  "language_info": {
   "codemirror_mode": {
    "name": "ipython",
    "version": 3
   },
   "file_extension": ".py",
   "mimetype": "text/x-python",
   "name": "python",
   "nbconvert_exporter": "python",
   "pygments_lexer": "ipython3",
   "version": "3.12.3"
  }
 },
 "nbformat": 4,
 "nbformat_minor": 5
}
