{
 "cells": [
  {
   "cell_type": "code",
   "execution_count": 1,
   "id": "871f0b02-e795-4948-b8fc-40d95c8f2c29",
   "metadata": {},
   "outputs": [],
   "source": [
    "# __getattribute__(self, name)  -> it's a method bound to the instance\n",
    "# check https://blog.ionelmc.ro/2015/02/09/understanding-python-metaclasses/ for a flow graph, it's a bit simplitied but it shows what's what\n",
    "\n",
    "\n",
    "class Person:\n",
    "    pass"
   ]
  },
  {
   "cell_type": "code",
   "execution_count": 2,
   "id": "5f020832-0faf-4088-8522-beeeac284510",
   "metadata": {},
   "outputs": [
    {
     "name": "stdout",
     "output_type": "stream",
     "text": [
      "<class 'AttributeError'> 'Person' object has no attribute 'name'\n"
     ]
    }
   ],
   "source": [
    "p = Person()\n",
    "\n",
    "try:\n",
    "    p.name()\n",
    "except AttributeError as e:\n",
    "    print(type(e), e)\n"
   ]
  },
  {
   "cell_type": "code",
   "execution_count": 3,
   "id": "3f02bf13-abdd-4c88-9588-383fa89eac7b",
   "metadata": {},
   "outputs": [
    {
     "name": "stdout",
     "output_type": "stream",
     "text": [
      "Called __getattr__ with: first_name\n"
     ]
    },
    {
     "data": {
      "text/plain": [
       "'Not Found'"
      ]
     },
     "execution_count": 3,
     "metadata": {},
     "output_type": "execute_result"
    }
   ],
   "source": [
    "class Person:\n",
    "    def __getattr__(self, name):\n",
    "        print(\"Called __getattr__ with:\", name)\n",
    "        return \"Not Found\"\n",
    "\n",
    "p = Person()\n",
    "p.first_name"
   ]
  },
  {
   "cell_type": "code",
   "execution_count": 4,
   "id": "9681ee08-f27d-4774-ae13-8c6c6616d7cb",
   "metadata": {},
   "outputs": [
    {
     "name": "stdout",
     "output_type": "stream",
     "text": [
      "Called __getattr__ with:"
     ]
    },
    {
     "name": "stderr",
     "output_type": "stream",
     "text": [
      "IOPub data rate exceeded.\n",
      "The Jupyter server will temporarily stop sending output\n",
      "to the client in order to avoid crashing it.\n",
      "To change this limit, set the config variable\n",
      "`--ServerApp.iopub_data_rate_limit`.\n",
      "\n",
      "Current values:\n",
      "ServerApp.iopub_data_rate_limit=1000000.0 (bytes/sec)\n",
      "ServerApp.rate_limit_window=3.0 (secs)\n",
      "\n"
     ]
    }
   ],
   "source": [
    "class Person:\n",
    "    def __getattr__(self, name):\n",
    "        print(\"Called __getattr__ with:\", name)\n",
    "        alt_name = \"_\" + name\n",
    "        if getattr(self, alt_name, None) is not None:  # causes recursion error\n",
    "            return getattr(self, alt_name)\n",
    "        raise AttributeError(f\"Could not find `{name}` or `{alt_name}`\")\n",
    "\n",
    "\n",
    "p = Person()\n",
    "try:\n",
    "    p.age  # causes infinite recursion error caused by calling getattr inside `__getattr__` \n",
    "except Exception as e:\n",
    "    print(type(e), e)"
   ]
  },
  {
   "cell_type": "code",
   "execution_count": 5,
   "id": "bfe5e545-1bbf-4d0c-adb1-a93206bf15fa",
   "metadata": {},
   "outputs": [
    {
     "name": "stdout",
     "output_type": "stream",
     "text": [
      "Called __getattr__ with: age _age\n",
      "<class 'AttributeError'> Could not find age or _age\n"
     ]
    }
   ],
   "source": [
    "class Person:\n",
    "    def __getattr__(self, name):\n",
    "        alt_name = \"_\" + name\n",
    "        print(\"Called __getattr__ with:\", name, alt_name)\n",
    "        try:\n",
    "            return super().__getattribute__(alt_name)  # ask super() if attr exists, will not cause recursion error\n",
    "        except AttributeError as e:\n",
    "            raise AttributeError(f\"Could not find {name} or {alt_name}\")\n",
    "\n",
    "\n",
    "p = Person()\n",
    "try:\n",
    "    p.age\n",
    "except AttributeError as e:\n",
    "    print(type(e), e)\n"
   ]
  },
  {
   "cell_type": "code",
   "execution_count": 6,
   "id": "b19f16a9-5384-45f8-bacf-4df8f6226916",
   "metadata": {},
   "outputs": [
    {
     "name": "stdout",
     "output_type": "stream",
     "text": [
      "Called __getattr__ with: age _age\n"
     ]
    },
    {
     "data": {
      "text/plain": [
       "33"
      ]
     },
     "execution_count": 6,
     "metadata": {},
     "output_type": "execute_result"
    }
   ],
   "source": [
    "p.__dict__[\"_age\"] = 33\n",
    "p.age\n"
   ]
  },
  {
   "cell_type": "code",
   "execution_count": 7,
   "id": "74c5fb13-72c3-4c80-8fed-b7fbd2b084d3",
   "metadata": {},
   "outputs": [],
   "source": [
    "class DefaultClass:\n",
    "    \"\"\"Set attribute name with default value if requested attr does not exists.\"\"\"\n",
    "    def __init__(self, attribute_default=None):\n",
    "        self._attribute_default = attribute_default\n",
    "\n",
    "    def __getattr__(self, name):\n",
    "        print(f\"`{name}` not found, creating it and setting it to default: `{self._attribute_default}`\")\n",
    "        setattr(self, name, self._attribute_default)\n",
    "        return self._attribute_default\n",
    "        "
   ]
  },
  {
   "cell_type": "code",
   "execution_count": 8,
   "id": "88e1cc7d-fa24-4074-99c3-01e118ccc6e9",
   "metadata": {},
   "outputs": [
    {
     "name": "stdout",
     "output_type": "stream",
     "text": [
      "`test` not found, creating it and setting it to default: `NotAvailable`\n"
     ]
    },
    {
     "data": {
      "text/plain": [
       "'NotAvailable'"
      ]
     },
     "execution_count": 8,
     "metadata": {},
     "output_type": "execute_result"
    }
   ],
   "source": [
    "d = DefaultClass(\"NotAvailable\")\n",
    "d.test"
   ]
  },
  {
   "cell_type": "code",
   "execution_count": 9,
   "id": "7751130b-8dcf-4259-a83e-e7e804e09253",
   "metadata": {},
   "outputs": [
    {
     "data": {
      "text/plain": [
       "{'_attribute_default': 'NotAvailable', 'test': 'NotAvailable'}"
      ]
     },
     "execution_count": 9,
     "metadata": {},
     "output_type": "execute_result"
    }
   ],
   "source": [
    "d.__dict__"
   ]
  },
  {
   "cell_type": "code",
   "execution_count": 10,
   "id": "133e4a02-7680-4958-bad6-f306e71ddaef",
   "metadata": {},
   "outputs": [
    {
     "name": "stdout",
     "output_type": "stream",
     "text": [
      "`age` not found, creating it and setting it to default: `NotAvailable`\n"
     ]
    },
    {
     "data": {
      "text/plain": [
       "'NotAvailable'"
      ]
     },
     "execution_count": 10,
     "metadata": {},
     "output_type": "execute_result"
    }
   ],
   "source": [
    "d.age"
   ]
  },
  {
   "cell_type": "code",
   "execution_count": 11,
   "id": "1a34e13e-04a4-45ea-82fc-f7fcbde280b1",
   "metadata": {},
   "outputs": [
    {
     "data": {
      "text/plain": [
       "{'_attribute_default': 'NotAvailable',\n",
       " 'test': 'NotAvailable',\n",
       " 'age': 'NotAvailable'}"
      ]
     },
     "execution_count": 11,
     "metadata": {},
     "output_type": "execute_result"
    }
   ],
   "source": [
    "d.__dict__"
   ]
  },
  {
   "cell_type": "code",
   "execution_count": 12,
   "id": "4e3e52a3-f63e-4294-a3ba-612bd61b34de",
   "metadata": {},
   "outputs": [],
   "source": [
    "class Person(DefaultClass):\n",
    "    def __init__(self, name):\n",
    "        super().__init__(attribute_default=\"Attr not found\")\n",
    "        self.name = name\n",
    "        "
   ]
  },
  {
   "cell_type": "code",
   "execution_count": 13,
   "id": "4dbda87f-a21b-4b25-870f-f67626be446d",
   "metadata": {},
   "outputs": [
    {
     "name": "stdout",
     "output_type": "stream",
     "text": [
      "`age` not found, creating it and setting it to default: `Attr not found`\n"
     ]
    },
    {
     "data": {
      "text/plain": [
       "'Attr not found'"
      ]
     },
     "execution_count": 13,
     "metadata": {},
     "output_type": "execute_result"
    }
   ],
   "source": [
    "p = Person(\"Bob\")\n",
    "p.age"
   ]
  },
  {
   "cell_type": "code",
   "execution_count": 14,
   "id": "45a16904-8a52-48af-a35d-8c1a132638d4",
   "metadata": {},
   "outputs": [
    {
     "data": {
      "text/plain": [
       "{'_attribute_default': 'Attr not found',\n",
       " 'name': 'Bob',\n",
       " 'age': 'Attr not found'}"
      ]
     },
     "execution_count": 14,
     "metadata": {},
     "output_type": "execute_result"
    }
   ],
   "source": [
    "p.__dict__"
   ]
  },
  {
   "cell_type": "code",
   "execution_count": 15,
   "id": "9e98c95f-25e0-44ef-bc28-9858ceebd93f",
   "metadata": {},
   "outputs": [],
   "source": [
    "class AttributeNotFoundLogger:\n",
    "    def __getattr__(self, name):\n",
    "        error_message = f\"{type(self).__name__} object has no attribure {name}\"\n",
    "        print(f\"Log: {error_message}\")\n",
    "        raise AttributeError(error_message)\n",
    "\n",
    "\n",
    "class Person(AttributeNotFoundLogger):\n",
    "    def __init__(self, name):\n",
    "        self.name = name\n"
   ]
  },
  {
   "cell_type": "code",
   "execution_count": 16,
   "id": "5cda237f-fa28-40c7-8de8-4062dd2dca2b",
   "metadata": {},
   "outputs": [
    {
     "data": {
      "text/plain": [
       "'Alex'"
      ]
     },
     "execution_count": 16,
     "metadata": {},
     "output_type": "execute_result"
    }
   ],
   "source": [
    "p = Person(\"Alex\")\n",
    "p.name"
   ]
  },
  {
   "cell_type": "code",
   "execution_count": 17,
   "id": "dd1d7966-d0d7-46b2-b5b4-6d4428fa9cac",
   "metadata": {},
   "outputs": [
    {
     "name": "stdout",
     "output_type": "stream",
     "text": [
      "Log: Person object has no attribure age\n",
      "<class 'AttributeError'> Person object has no attribure age\n"
     ]
    }
   ],
   "source": [
    "try:\n",
    "    p.age\n",
    "except AttributeError as e:\n",
    "    # error gets \"logged\"\n",
    "    print(type(e), e)"
   ]
  },
  {
   "cell_type": "code",
   "execution_count": 18,
   "id": "409bfd3d-48cc-4634-8877-0a9f8596f814",
   "metadata": {},
   "outputs": [],
   "source": [
    "class Person:\n",
    "    def __init__(self, name, age):\n",
    "        self._name = name\n",
    "        self._age = age\n",
    "\n",
    "    def __getattr__(self, name):\n",
    "        # we would expect it to throw the error, but please remember the attribute lookup order!\n",
    "        # __dict__ will be checked before __getattr__\n",
    "        if name.startswith(\"_\"):\n",
    "            raise AttributeError(f\"Access to private attribute {name} is forbidden! Use public names instead.\")\n",
    "        return super().__getattribute__(name)"
   ]
  },
  {
   "cell_type": "code",
   "execution_count": 19,
   "id": "17db4560-89a8-472b-8894-3c361c5a3745",
   "metadata": {},
   "outputs": [
    {
     "name": "stdout",
     "output_type": "stream",
     "text": [
      "<class 'AttributeError'> 'Person' object has no attribute 'name'\n"
     ]
    }
   ],
   "source": [
    "p = Person(\"Bob\", 33)\n",
    "try:\n",
    "    p.name\n",
    "except AttributeError as e:  # expected\n",
    "    print(type(e), e)\n"
   ]
  },
  {
   "cell_type": "code",
   "execution_count": 20,
   "id": "32f8a8f6-7e39-4666-a9e0-3ac3ca7878dc",
   "metadata": {},
   "outputs": [
    {
     "name": "stdout",
     "output_type": "stream",
     "text": [
      "{'_name': 'Bob', '_age': 33}\n"
     ]
    }
   ],
   "source": [
    "# but now\n",
    "print(p.__dict__)\n",
    "try:\n",
    "    p._name\n",
    "except AttributeError as e:  # will this throw an error? -> NO, instance.__dict__ is checked before calling __getattr__\n",
    "    print(type(e), e)"
   ]
  },
  {
   "cell_type": "code",
   "execution_count": 21,
   "id": "eeafdc5c-f42f-4064-9c6a-f17a4fadd88f",
   "metadata": {},
   "outputs": [],
   "source": [
    "class Person:\n",
    "    def __init__(self, name, age):\n",
    "        self._name = name\n",
    "        self._age = age\n",
    "\n",
    "    def __getattribute__(self, name):\n",
    "        # this will in fact throw the error as expected\n",
    "        if name.startswith(\"_\"):\n",
    "            raise AttributeError(f\"Access to private attribute {name} is forbidden! Use public names instead.\")\n",
    "        return super().__getattribute__(name)"
   ]
  },
  {
   "cell_type": "code",
   "execution_count": 22,
   "id": "1dcaa066-774d-4513-b8a1-4096ea94601c",
   "metadata": {},
   "outputs": [
    {
     "name": "stdout",
     "output_type": "stream",
     "text": [
      "<class 'AttributeError'> Access to private attribute _name is forbidden! Use public names instead.\n"
     ]
    }
   ],
   "source": [
    "p = Person(\"Bob\", 35)\n",
    "try:\n",
    "    p._name\n",
    "except AttributeError as e:\n",
    "    print(type(e), e)"
   ]
  },
  {
   "cell_type": "code",
   "execution_count": 23,
   "id": "99ed7f97-270a-4938-aace-6712db3ea7ab",
   "metadata": {},
   "outputs": [
    {
     "name": "stdout",
     "output_type": "stream",
     "text": [
      "<class 'AttributeError'> Access to private attribute __dict__ is forbidden! Use public names instead.\n"
     ]
    }
   ],
   "source": [
    "# but also\n",
    "try:\n",
    "    p.__dict__\n",
    "except AttributeError as e:\n",
    "    print(type(e), e)"
   ]
  },
  {
   "cell_type": "code",
   "execution_count": 24,
   "id": "f6b9fa16-329a-4d9e-9092-4a4d2a412a38",
   "metadata": {},
   "outputs": [],
   "source": [
    "class Person:\n",
    "    def __init__(self, name, age):\n",
    "        self._name = name\n",
    "        self._age = age\n",
    "\n",
    "    def __getattribute__(self, name):\n",
    "        # this will in fact throw the error as expected\n",
    "        if name.startswith(\"_\") and not name.startswith(\"__\"):\n",
    "            raise AttributeError(f\"Access to private attribute {name} is forbidden! Use public names instead.\")\n",
    "        return super().__getattribute__(name)"
   ]
  },
  {
   "cell_type": "code",
   "execution_count": 25,
   "id": "b84c80c6-129d-49a7-9e47-e9c4538fd5c7",
   "metadata": {},
   "outputs": [
    {
     "data": {
      "text/plain": [
       "{'_name': 'John', '_age': 52}"
      ]
     },
     "execution_count": 25,
     "metadata": {},
     "output_type": "execute_result"
    }
   ],
   "source": [
    "p = Person(\"John\", 52)\n",
    "p.__dict__  # now works fine"
   ]
  },
  {
   "cell_type": "code",
   "execution_count": 26,
   "id": "98582f60-9afc-418d-be8c-fbe731fc72c5",
   "metadata": {},
   "outputs": [],
   "source": [
    "class Person:\n",
    "    def __init__(self, name, age):\n",
    "        self._name = name\n",
    "        self._age = age\n",
    "\n",
    "    def __getattribute__(self, name):\n",
    "        # this will in fact throw the error as expected\n",
    "        if name.startswith(\"_\") and not name.startswith(\"__\"):\n",
    "            raise AttributeError(f\"Access to private attribute {name} is forbidden! Use public names instead.\")\n",
    "        return super().__getattribute__(name)\n",
    "\n",
    "    @property\n",
    "    def name(self):\n",
    "        # so now we want to accecss the \"protected\" attr that is guarded in our __getattribure__ ;) Will it work?\n",
    "        return self._name\n",
    "\n",
    "    @property\n",
    "    def age(self):\n",
    "        return self._age\n"
   ]
  },
  {
   "cell_type": "code",
   "execution_count": 27,
   "id": "f44f56b7-0cb1-4218-bae1-56171156d17f",
   "metadata": {},
   "outputs": [
    {
     "name": "stdout",
     "output_type": "stream",
     "text": [
      "<class 'AttributeError'> Access to private attribute _name is forbidden! Use public names instead.\n"
     ]
    }
   ],
   "source": [
    "p = Person(\"Bob\", 33)\n",
    "try:\n",
    "    p.name\n",
    "except AttributeError as e:\n",
    "    print(type(e), e)"
   ]
  },
  {
   "cell_type": "code",
   "execution_count": 28,
   "id": "8a353589-9833-489d-9c5f-7b052bb5aef7",
   "metadata": {},
   "outputs": [],
   "source": [
    "class Person:\n",
    "    def __init__(self, name, age):\n",
    "        self._name = name\n",
    "        self._age = age\n",
    "\n",
    "    def __getattribute__(self, name):\n",
    "        # this will in fact throw the error as expected\n",
    "        if name.startswith(\"_\") and not name.startswith(\"__\"):\n",
    "            raise AttributeError(f\"Access to private attribute {name} is forbidden! Use public names instead.\")\n",
    "        return super().__getattribute__(name)\n",
    "\n",
    "    @property\n",
    "    def name(self):\n",
    "        print(\"super().__getattribute__('_name')\")\n",
    "        return super().__getattribute__(\"_name\")\n",
    "\n",
    "    @property\n",
    "    def age(self):\n",
    "        print(\"super().__getattribute__('_age')\")\n",
    "        return super().__getattribute__(\"_age\")\n"
   ]
  },
  {
   "cell_type": "code",
   "execution_count": 29,
   "id": "97c743ad-d010-448f-bc8a-64684a2dc6cd",
   "metadata": {},
   "outputs": [
    {
     "name": "stdout",
     "output_type": "stream",
     "text": [
      "super().__getattribute__('_name')\n",
      "super().__getattribute__('_age')\n"
     ]
    },
    {
     "data": {
      "text/plain": [
       "('Mike', 43)"
      ]
     },
     "execution_count": 29,
     "metadata": {},
     "output_type": "execute_result"
    }
   ],
   "source": [
    "p = Person(\"Mike\", 43)\n",
    "p.name, p.age"
   ]
  },
  {
   "cell_type": "code",
   "execution_count": 30,
   "id": "9789c0a4-eaa6-4db4-8999-3b58b7138550",
   "metadata": {},
   "outputs": [
    {
     "data": {
      "text/plain": [
       "{'_name': 'Mike', '_age': 43, '_test': 'test'}"
      ]
     },
     "execution_count": 30,
     "metadata": {},
     "output_type": "execute_result"
    }
   ],
   "source": [
    "p._test = \"test\"  # setting works without problems\n",
    "p.__dict__"
   ]
  },
  {
   "cell_type": "code",
   "execution_count": 31,
   "id": "1a3b7abb-715e-4fe0-9626-bc7b5d086187",
   "metadata": {},
   "outputs": [],
   "source": [
    "class DefaultClass:\n",
    "    \"\"\"Set attribute name with default value if requested attr does not exists.\"\"\"\n",
    "    def __init__(self, attribute_default=None):\n",
    "        self._attribute_default = attribute_default\n",
    "\n",
    "    def __getattr__(self, name):\n",
    "        default_value = super().__getattribute__(\"_attribute_default\")\n",
    "        print(f\"`{name}` not found, creating it and setting it to default: `{default_value}`\")\n",
    "        setattr(self, name, default_value)\n",
    "        return default_value"
   ]
  },
  {
   "cell_type": "code",
   "execution_count": 32,
   "id": "876e3e75-3656-4ab9-822b-cda607cecce9",
   "metadata": {},
   "outputs": [],
   "source": [
    "class Person(DefaultClass):\n",
    "    def __init__(self, name, age):\n",
    "        super().__init__(attribute_default=\"Not found!\")\n",
    "        if name:\n",
    "            self._name = name\n",
    "        if age:\n",
    "            self._age = age\n",
    "\n",
    "    def __getattribute__(self, name):\n",
    "        # this will in fact throw the error as expected\n",
    "        if name.startswith(\"_\") and not name.startswith(\"__\"):\n",
    "            raise AttributeError(f\"Access to private attribute {name} is forbidden! Use public names instead.\")\n",
    "        return super().__getattribute__(name)\n",
    "\n",
    "    @property\n",
    "    def name(self):\n",
    "        print(\"super().__getattribute__('_name')\")\n",
    "        return super().__getattribute__(\"_name\")\n",
    "\n",
    "    @property\n",
    "    def age(self):\n",
    "        print(\"super().__getattribute__('_age')\")\n",
    "        return super().__getattribute__(\"_age\")"
   ]
  },
  {
   "cell_type": "code",
   "execution_count": 33,
   "id": "8a63439c-57f3-439b-82b0-479761bf3b90",
   "metadata": {},
   "outputs": [
    {
     "name": "stdout",
     "output_type": "stream",
     "text": [
      "super().__getattribute__('_age')\n",
      "super().__getattribute__('_name')\n"
     ]
    },
    {
     "data": {
      "text/plain": [
       "(33, 'Bob')"
      ]
     },
     "execution_count": 33,
     "metadata": {},
     "output_type": "execute_result"
    }
   ],
   "source": [
    "p = Person(\"Bob\", 33)\n",
    "p.age, p.name"
   ]
  },
  {
   "cell_type": "code",
   "execution_count": 34,
   "id": "4db5a8fb-e25f-48f1-a904-c41315a721fe",
   "metadata": {},
   "outputs": [
    {
     "name": "stdout",
     "output_type": "stream",
     "text": [
      "`first_name` not found, creating it and setting it to default: `Not found!`\n"
     ]
    },
    {
     "data": {
      "text/plain": [
       "'Not found!'"
      ]
     },
     "execution_count": 34,
     "metadata": {},
     "output_type": "execute_result"
    }
   ],
   "source": [
    "p.first_name"
   ]
  },
  {
   "cell_type": "code",
   "execution_count": 35,
   "id": "bc47882a-edf0-4add-9fc0-c7f4f15c183e",
   "metadata": {},
   "outputs": [
    {
     "data": {
      "text/plain": [
       "{'_attribute_default': 'Not found!',\n",
       " '_name': 'Bob',\n",
       " '_age': 33,\n",
       " 'first_name': 'Not found!'}"
      ]
     },
     "execution_count": 35,
     "metadata": {},
     "output_type": "execute_result"
    }
   ],
   "source": [
    "p.__dict__"
   ]
  },
  {
   "cell_type": "code",
   "execution_count": 36,
   "id": "4f006f20-5726-4f1f-a41e-a1286fb59849",
   "metadata": {},
   "outputs": [],
   "source": [
    "class MetaLogger(type):\n",
    "    def __getattribute__(self, name):\n",
    "        print(f\"Log {type(self).__name__} __getattribure__ name=`{name}`\")\n",
    "        return super().__getattribute__(name)\n",
    "\n",
    "    def __getattr__(self, name):\n",
    "        print(f\"Log {type(self).__name__} __getattr__ name=`{name}`\")\n",
    "        return \"Default value\"\n",
    "        "
   ]
  },
  {
   "cell_type": "code",
   "execution_count": 37,
   "id": "a6fcd01d-eb28-456f-804b-7a2bf0f8a858",
   "metadata": {},
   "outputs": [],
   "source": [
    "class Account(metaclass=MetaLogger):\n",
    "    apr = 10\n"
   ]
  },
  {
   "cell_type": "code",
   "execution_count": 38,
   "id": "6209f874-0b3e-4d4f-8033-62c44b3feccb",
   "metadata": {},
   "outputs": [
    {
     "name": "stdout",
     "output_type": "stream",
     "text": [
      "Log MetaLogger __getattribure__ name=`apr`\n"
     ]
    },
    {
     "data": {
      "text/plain": [
       "10"
      ]
     },
     "execution_count": 38,
     "metadata": {},
     "output_type": "execute_result"
    }
   ],
   "source": [
    "Account.apr"
   ]
  },
  {
   "cell_type": "code",
   "execution_count": 39,
   "id": "3fda6303-e3b6-4112-b559-721ee990526e",
   "metadata": {},
   "outputs": [
    {
     "name": "stdout",
     "output_type": "stream",
     "text": [
      "Log MetaLogger __getattribure__ name=`number`\n",
      "Log MetaLogger __getattr__ name=`number`\n"
     ]
    },
    {
     "data": {
      "text/plain": [
       "'Default value'"
      ]
     },
     "execution_count": 39,
     "metadata": {},
     "output_type": "execute_result"
    }
   ],
   "source": [
    "Account.number"
   ]
  },
  {
   "cell_type": "code",
   "execution_count": 40,
   "id": "fe4f80f3-207f-43c5-8d03-58a521a68cb0",
   "metadata": {},
   "outputs": [
    {
     "data": {
      "text/plain": [
       "10"
      ]
     },
     "execution_count": 40,
     "metadata": {},
     "output_type": "execute_result"
    }
   ],
   "source": [
    "a = Account()\n",
    "a.apr"
   ]
  },
  {
   "cell_type": "code",
   "execution_count": 41,
   "id": "9ea1c81b-c3a1-42ae-9965-7ddc67a001c0",
   "metadata": {},
   "outputs": [
    {
     "name": "stdout",
     "output_type": "stream",
     "text": [
      "<class 'AttributeError'> 'Account' object has no attribute 'xyz'\n"
     ]
    }
   ],
   "source": [
    "try:\n",
    "    a.xyz\n",
    "except AttributeError as e:\n",
    "    print(type(e), e)"
   ]
  },
  {
   "cell_type": "code",
   "execution_count": 42,
   "id": "d0d0bc08-2137-4138-a36e-d8072bd49e5c",
   "metadata": {},
   "outputs": [],
   "source": [
    "class MyClass:\n",
    "    def __getattribute__(self, name):\n",
    "        print(f\"MyClass.__getattribure__ name={name}\")\n",
    "        return super().__getattribute__(name)\n",
    "\n",
    "    def __getattr__(self, name):\n",
    "        print(f\"MyClass.__getattr__ name={name}\")\n",
    "        raise AttributeError(\"MyClass.__getattr__\")\n",
    "\n",
    "    def say_hello(self):\n",
    "        return \"Hello\""
   ]
  },
  {
   "cell_type": "code",
   "execution_count": 43,
   "id": "3623a8b7-d6e1-4aff-ad89-0160c98ba4e8",
   "metadata": {},
   "outputs": [
    {
     "name": "stdout",
     "output_type": "stream",
     "text": [
      "MyClass.__getattribure__ name=say_hello\n"
     ]
    },
    {
     "data": {
      "text/plain": [
       "'Hello'"
      ]
     },
     "execution_count": 43,
     "metadata": {},
     "output_type": "execute_result"
    }
   ],
   "source": [
    "m = MyClass()\n",
    "m.say_hello()"
   ]
  },
  {
   "cell_type": "code",
   "execution_count": null,
   "id": "548c8b3b-ac8f-4cc1-9583-5d43c7f9055a",
   "metadata": {},
   "outputs": [],
   "source": []
  }
 ],
 "metadata": {
  "kernelspec": {
   "display_name": "Python 3 (ipykernel)",
   "language": "python",
   "name": "python3"
  },
  "language_info": {
   "codemirror_mode": {
    "name": "ipython",
    "version": 3
   },
   "file_extension": ".py",
   "mimetype": "text/x-python",
   "name": "python",
   "nbconvert_exporter": "python",
   "pygments_lexer": "ipython3",
   "version": "3.12.3"
  }
 },
 "nbformat": 4,
 "nbformat_minor": 5
}
